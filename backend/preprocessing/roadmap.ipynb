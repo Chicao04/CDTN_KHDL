{
 "cells": [
  {
   "cell_type": "code",
   "execution_count": null,
   "id": "06ba7477",
   "metadata": {},
   "outputs": [],
   "source": [
    "# 1. Nạp dữ liệu (Load Data)\n",
    "# Đọc tất cả file âm thanh từ dataset Kaggle (thường dạng .wav, .mp3).\n",
    "# Gắn nhãn cảm xúc từ tên file hoặc metadata (ví dụ: 03-01-05-01-01-01-01.wav → Emotion: Angry).\n",
    "# Bắt đầu : Làm trên vicode: \n",
    "# Nạp dữ liệu \n",
    "# Phân loại dữ liệu\n",
    "\n",
    "# 2. Chuẩn hóa định dạng (Standardization)\n",
    "# Convert về mono (1 kênh) nếu file gốc là stereo.\n",
    "# Chọn sample rate chuẩn (thường 16kHz hoặc 22.05kHz).\n",
    "# Lý do: giúp thống nhất tần số lấy mẫu, tránh dữ liệu không đồng nhất.\n",
    "# Dùng librosa.load(path, sr=16000, mono=True) để thực hiện.\n",
    "\n",
    "# 3. Làm sạch tín hiệu (Noise Reduction)\n",
    "# Cắt đoạn im lặng ở đầu/cuối (silence trimming).\n",
    "# Loại bỏ nhiễu:\n",
    "# Filter (high-pass, low-pass).\n",
    "# Hoặc thêm bước spectral gating nếu cần.\n",
    "\n",
    "# 4. Chuẩn hóa thời lượng (Duration Normalization)\n",
    "# Các file thường có độ dài khác nhau → cần đồng nhất.\n",
    "# Hai cách thường làm:\n",
    "# Padding: nếu file ngắn hơn chuẩn (ví dụ 3s) → thêm 0 cho đủ.\n",
    "# Truncate: nếu file dài hơn → cắt bớt.\n",
    "\n",
    "# Mục tiêu: tất cả file có cùng số frame để dễ batch training.\n",
    "\n",
    "\n",
    "# 5. Chuẩn hóa biên độ (Amplitude Normalization)\n",
    "# Scale tín hiệu về cùng mức cường độ.\n",
    "# Ví dụ: chuẩn hóa dữ liệu về [-1, 1].\n",
    "# Tránh việc file có âm lượng quá to/nhỏ làm sai lệch đặc trưng.\n",
    "\n",
    "# 6. Data Augmentation (Tăng dữ liệu ảo)\n",
    "# (không bắt buộc nhưng rất thường dùng)\n",
    "# Thêm biến thể để mô hình học tốt hơn:\n",
    "# Time-stretching (nói nhanh/chậm).\n",
    "# Pitch-shifting (tăng/giảm cao độ).\n",
    "# Add background noise (âm quán cà phê, văn phòng).\n",
    "# Random crop (cắt đoạn bất kỳ trong file dài).\n",
    "\n",
    "\n",
    "\n",
    "# 7. Lưu trữ & Quản lý (Save Processed Data)\n",
    "# Lưu các file đã tiền xử lý để không phải xử lý lại nhiều lần.cd\n",
    "# Có thể lưu dưới dạng:\n",
    "# MFCC arrays (numpy .npy).\n",
    "# Spectrogram images (PNG/JPG để huấn luyện CNN).\n",
    "# Hoặc giữ file .wav đã chuẩn hóa.\n",
    "\n",
    "\n",
    "# 📊 Sơ đồ tóm tắt workflow\n",
    "# Nạp dữ liệu → Chuẩn hóa định dạng → Làm sạch tín hiệu → Chuẩn hóa thời lượng → Chuẩn hóa biên độ → (Tăng dữ liệu ảo) → Lưu trữ đặc trưng\n"
   ]
  },
  {
   "cell_type": "code",
   "execution_count": null,
   "id": "9274b05a",
   "metadata": {},
   "outputs": [],
   "source": [
    "# This code includes all the necessary methods for audio preprocessing:\n",
    "\n",
    "# Loading and standardizing audio files\n",
    "# Noise reduction\n",
    "# Duration normalization\n",
    "# Amplitude normalization\n",
    "# Data augmentation\n",
    "# File processing\n",
    "# Directory processing"
   ]
  },
  {
   "cell_type": "code",
   "execution_count": null,
   "id": "8b55372e",
   "metadata": {},
   "outputs": [],
   "source": [
    "# Cấu trúc thư mục đề xuất:\n",
    "# code_speech/\n",
    "# ├── data/\n",
    "# │   ├── angry/\n",
    "# │   ├── happy/\n",
    "# │   ├── neutral/\n",
    "# │   ├── sad/\n",
    "# │   ├── surprise/\n",
    "# │   ├── fear/\n",
    "# │   └── disgust/\n",
    "# └── backend/\n",
    "#     └── preprocessing/\n",
    "#         └── roadmap.ipynb"
   ]
  },
  {
   "cell_type": "code",
   "execution_count": null,
   "id": "196311c2",
   "metadata": {},
   "outputs": [],
   "source": [
    "# pip install numpy librosa soundfile"
   ]
  },
  {
   "cell_type": "code",
   "execution_count": null,
   "id": "c7b7c819",
   "metadata": {},
   "outputs": [
    {
     "name": "stdout",
     "output_type": "stream",
     "text": [
      "Input directory: D:\\filebailam\\CD3_Giongnoi\\code_speech\\data\\Emotion\n",
      "Output directory: D:\\filebailam\\CD3_Giongnoi\\code_speech\\data\\processed\n",
      "Total files to process: 19777\n"
     ]
    },
    {
     "name": "stderr",
     "output_type": "stream",
     "text": [
      "Processing files:   0%|          | 0/19777 [00:00<?, ?it/s]"
     ]
    },
    {
     "name": "stdout",
     "output_type": "stream",
     "text": [
      "\n",
      "Processing angry files: 3495 files found\n"
     ]
    },
    {
     "name": "stderr",
     "output_type": "stream",
     "text": [
      "Processing files:   0%|          | 4/19777 [00:07<8:19:56,  1.52s/it] "
     ]
    },
    {
     "name": "stdout",
     "output_type": "stream",
     "text": [
      "✓ Processed: 0001_000352.wav\n",
      "✓ Processed: 0001_000353.wav\n",
      "✓ Processed: 0001_000354.wav\n",
      "✓ Processed: 0001_000355.wav\n",
      "✓ Processed: 0001_000358.wav\n"
     ]
    },
    {
     "name": "stderr",
     "output_type": "stream",
     "text": [
      "Processing files:   0%|          | 9/19777 [00:08<2:36:46,  2.10it/s]"
     ]
    },
    {
     "name": "stdout",
     "output_type": "stream",
     "text": [
      "✓ Processed: 0001_000359.wav\n",
      "✓ Processed: 0001_000361.wav\n",
      "✓ Processed: 0001_000364.wav\n",
      "✓ Processed: 0001_000366.wav\n",
      "✓ Processed: 0001_000367.wav\n"
     ]
    },
    {
     "name": "stderr",
     "output_type": "stream",
     "text": [
      "Processing files:   0%|          | 14/19777 [00:08<1:13:30,  4.48it/s]"
     ]
    },
    {
     "name": "stdout",
     "output_type": "stream",
     "text": [
      "✓ Processed: 0001_000370.wav\n",
      "✓ Processed: 0001_000373.wav\n",
      "✓ Processed: 0001_000374.wav\n",
      "✓ Processed: 0001_000375.wav\n",
      "✓ Processed: 0001_000376.wav\n"
     ]
    },
    {
     "name": "stderr",
     "output_type": "stream",
     "text": [
      "Processing files:   0%|          | 17/19777 [00:08<52:22,  6.29it/s]  "
     ]
    },
    {
     "name": "stdout",
     "output_type": "stream",
     "text": [
      "✓ Processed: 0001_000377.wav\n",
      "✓ Processed: 0001_000378.wav\n",
      "✓ Processed: 0001_000380.wav\n",
      "✓ Processed: 0001_000384.wav\n"
     ]
    },
    {
     "name": "stderr",
     "output_type": "stream",
     "text": [
      "Processing files:   0%|          | 22/19777 [00:08<35:01,  9.40it/s]"
     ]
    },
    {
     "name": "stdout",
     "output_type": "stream",
     "text": [
      "✓ Processed: 0001_000385.wav\n",
      "✓ Processed: 0001_000387.wav\n",
      "✓ Processed: 0001_000389.wav\n",
      "✓ Processed: 0001_000391.wav\n",
      "✓ Processed: 0001_000392.wav\n"
     ]
    },
    {
     "name": "stderr",
     "output_type": "stream",
     "text": [
      "Processing files:   0%|          | 28/19777 [00:09<23:39, 13.91it/s]"
     ]
    },
    {
     "name": "stdout",
     "output_type": "stream",
     "text": [
      "✓ Processed: 0001_000394.wav\n",
      "✓ Processed: 0001_000395.wav\n",
      "✓ Processed: 0001_000397.wav\n",
      "✓ Processed: 0001_000398.wav\n",
      "✓ Processed: 0001_000399.wav\n"
     ]
    },
    {
     "name": "stderr",
     "output_type": "stream",
     "text": [
      "Processing files:   0%|          | 34/19777 [00:09<19:32, 16.84it/s]"
     ]
    },
    {
     "name": "stdout",
     "output_type": "stream",
     "text": [
      "✓ Processed: 0001_000400.wav\n",
      "✓ Processed: 0001_000401.wav\n",
      "✓ Processed: 0001_000403.wav\n",
      "✓ Processed: 0001_000404.wav\n"
     ]
    },
    {
     "name": "stderr",
     "output_type": "stream",
     "text": [
      "Processing files:   0%|          | 37/19777 [00:09<18:13, 18.05it/s]"
     ]
    },
    {
     "name": "stdout",
     "output_type": "stream",
     "text": [
      "✓ Processed: 0001_000405.wav\n",
      "✓ Processed: 0001_000406.wav\n",
      "✓ Processed: 0001_000408.wav\n",
      "✓ Processed: 0001_000409.wav\n",
      "✓ Processed: 0001_000411.wav\n"
     ]
    },
    {
     "name": "stderr",
     "output_type": "stream",
     "text": [
      "Processing files:   0%|          | 40/19777 [00:09<17:45, 18.52it/s]"
     ]
    },
    {
     "name": "stdout",
     "output_type": "stream",
     "text": [
      "✓ Processed: 0001_000412.wav\n",
      "✓ Processed: 0001_000413.wav\n",
      "✓ Processed: 0001_000414.wav\n",
      "✓ Processed: 0001_000415.wav\n"
     ]
    },
    {
     "name": "stderr",
     "output_type": "stream",
     "text": [
      "Processing files:   0%|          | 46/19777 [00:10<16:48, 19.56it/s]"
     ]
    },
    {
     "name": "stdout",
     "output_type": "stream",
     "text": [
      "✓ Processed: 0001_000416.wav\n",
      "✓ Processed: 0001_000417.wav\n",
      "✓ Processed: 0001_000419.wav\n",
      "✓ Processed: 0001_000422.wav\n",
      "✓ Processed: 0001_000423.wav\n"
     ]
    },
    {
     "name": "stderr",
     "output_type": "stream",
     "text": [
      "Processing files:   0%|          | 52/19777 [00:10<16:05, 20.43it/s]"
     ]
    },
    {
     "name": "stdout",
     "output_type": "stream",
     "text": [
      "✓ Processed: 0001_000424.wav\n",
      "✓ Processed: 0001_000428.wav\n",
      "✓ Processed: 0001_000434.wav\n",
      "✓ Processed: 0001_000436.wav\n"
     ]
    },
    {
     "name": "stderr",
     "output_type": "stream",
     "text": [
      "Processing files:   0%|          | 55/19777 [00:10<15:31, 21.17it/s]"
     ]
    },
    {
     "name": "stdout",
     "output_type": "stream",
     "text": [
      "✓ Processed: 0001_000437.wav\n",
      "✓ Processed: 0001_000439.wav\n",
      "✓ Processed: 0001_000440.wav\n",
      "✓ Processed: 0001_000442.wav\n",
      "✓ Processed: 0001_000443.wav\n"
     ]
    },
    {
     "name": "stderr",
     "output_type": "stream",
     "text": [
      "Processing files:   0%|          | 58/19777 [00:10<15:49, 20.77it/s]"
     ]
    },
    {
     "name": "stdout",
     "output_type": "stream",
     "text": [
      "✓ Processed: 0001_000444.wav\n",
      "✓ Processed: 0001_000446.wav\n",
      "✓ Processed: 0001_000448.wav\n",
      "✓ Processed: 0001_000450.wav\n"
     ]
    },
    {
     "name": "stderr",
     "output_type": "stream",
     "text": [
      "Processing files:   0%|          | 64/19777 [00:10<15:34, 21.10it/s]"
     ]
    },
    {
     "name": "stdout",
     "output_type": "stream",
     "text": [
      "✓ Processed: 0001_000452.wav\n",
      "✓ Processed: 0001_000453.wav\n",
      "✓ Processed: 0001_000454.wav\n",
      "✓ Processed: 0001_000457.wav\n",
      "✓ Processed: 0001_000458.wav\n"
     ]
    },
    {
     "name": "stderr",
     "output_type": "stream",
     "text": [
      "Processing files:   0%|          | 67/19777 [00:10<15:46, 20.82it/s]"
     ]
    },
    {
     "name": "stdout",
     "output_type": "stream",
     "text": [
      "✓ Processed: 0001_000460.wav\n",
      "✓ Processed: 0001_000461.wav\n",
      "✓ Processed: 0001_000463.wav\n",
      "✓ Processed: 0001_000465.wav\n"
     ]
    },
    {
     "name": "stderr",
     "output_type": "stream",
     "text": [
      "Processing files:   0%|          | 73/19777 [00:11<15:23, 21.34it/s]"
     ]
    },
    {
     "name": "stdout",
     "output_type": "stream",
     "text": [
      "✓ Processed: 0001_000466.wav\n",
      "✓ Processed: 0001_000467.wav\n",
      "✓ Processed: 0001_000470.wav\n",
      "✓ Processed: 0001_000471.wav\n",
      "✓ Processed: 0001_000472.wav\n"
     ]
    },
    {
     "name": "stderr",
     "output_type": "stream",
     "text": [
      "Processing files:   0%|          | 79/19777 [00:11<15:40, 20.95it/s]"
     ]
    },
    {
     "name": "stdout",
     "output_type": "stream",
     "text": [
      "✓ Processed: 0001_000475.wav\n",
      "✓ Processed: 0001_000479.wav\n",
      "✓ Processed: 0001_000481.wav\n",
      "✓ Processed: 0001_000483.wav\n"
     ]
    },
    {
     "name": "stderr",
     "output_type": "stream",
     "text": [
      "Processing files:   0%|          | 82/19777 [00:11<16:54, 19.42it/s]"
     ]
    },
    {
     "name": "stdout",
     "output_type": "stream",
     "text": [
      "✓ Processed: 0001_000484.wav\n",
      "✓ Processed: 0001_000485.wav\n",
      "✓ Processed: 0001_000486.wav\n",
      "✓ Processed: 0001_000487.wav\n"
     ]
    },
    {
     "name": "stderr",
     "output_type": "stream",
     "text": [
      "Processing files:   0%|          | 87/19777 [00:11<16:23, 20.03it/s]"
     ]
    },
    {
     "name": "stdout",
     "output_type": "stream",
     "text": [
      "✓ Processed: 0001_000491.wav\n",
      "✓ Processed: 0001_000492.wav\n",
      "✓ Processed: 0001_000497.wav\n",
      "✓ Processed: 0001_000501.wav\n"
     ]
    },
    {
     "name": "stderr",
     "output_type": "stream",
     "text": [
      "Processing files:   0%|          | 90/19777 [00:12<15:20, 21.40it/s]"
     ]
    },
    {
     "name": "stdout",
     "output_type": "stream",
     "text": [
      "✓ Processed: 0001_000502.wav\n",
      "✓ Processed: 0001_000505.wav\n",
      "✓ Processed: 0001_000506.wav\n",
      "✓ Processed: 0001_000507.wav\n",
      "✓ Processed: 0001_000508.wav\n"
     ]
    },
    {
     "name": "stderr",
     "output_type": "stream",
     "text": [
      "Processing files:   0%|          | 93/19777 [00:12<16:07, 20.35it/s]"
     ]
    },
    {
     "name": "stdout",
     "output_type": "stream",
     "text": [
      "✓ Processed: 0001_000509.wav\n",
      "✓ Processed: 0001_000512.wav\n",
      "✓ Processed: 0001_000513.wav\n",
      "✓ Processed: 0001_000514.wav\n"
     ]
    },
    {
     "name": "stderr",
     "output_type": "stream",
     "text": [
      "Processing files:   1%|          | 99/19777 [00:12<15:28, 21.19it/s]"
     ]
    },
    {
     "name": "stdout",
     "output_type": "stream",
     "text": [
      "✓ Processed: 0001_000515.wav\n",
      "✓ Processed: 0001_000517.wav\n",
      "✓ Processed: 0001_000519.wav\n",
      "✓ Processed: 0001_000520.wav\n",
      "✓ Processed: 0001_000521.wav\n"
     ]
    },
    {
     "name": "stderr",
     "output_type": "stream",
     "text": [
      "Processing files:   1%|          | 105/19777 [00:12<15:14, 21.50it/s]"
     ]
    },
    {
     "name": "stdout",
     "output_type": "stream",
     "text": [
      "✓ Processed: 0001_000523.wav\n",
      "✓ Processed: 0001_000524.wav\n",
      "✓ Processed: 0001_000525.wav\n",
      "✓ Processed: 0001_000526.wav\n",
      "✓ Processed: 0001_000528.wav\n"
     ]
    },
    {
     "name": "stderr",
     "output_type": "stream",
     "text": [
      "Processing files:   1%|          | 108/19777 [00:12<15:25, 21.26it/s]"
     ]
    },
    {
     "name": "stdout",
     "output_type": "stream",
     "text": [
      "✓ Processed: 0001_000534.wav\n",
      "✓ Processed: 0001_000536.wav\n",
      "✓ Processed: 0001_000538.wav\n",
      "✓ Processed: 0001_000540.wav\n",
      "✓ Processed: 0001_000542.wav\n"
     ]
    },
    {
     "name": "stderr",
     "output_type": "stream",
     "text": [
      "Processing files:   1%|          | 114/19777 [00:13<15:18, 21.42it/s]"
     ]
    },
    {
     "name": "stdout",
     "output_type": "stream",
     "text": [
      "✓ Processed: 0001_000545.wav\n",
      "✓ Processed: 0001_000546.wav\n",
      "✓ Processed: 0001_000550.wav\n",
      "✓ Processed: 0001_000551.wav\n",
      "✓ Processed: 0001_000552.wav\n"
     ]
    },
    {
     "name": "stderr",
     "output_type": "stream",
     "text": [
      "Processing files:   1%|          | 117/19777 [00:13<16:12, 20.22it/s]"
     ]
    },
    {
     "name": "stdout",
     "output_type": "stream",
     "text": [
      "✓ Processed: 0001_000554.wav\n",
      "✓ Processed: 0001_000555.wav\n",
      "✓ Processed: 0001_000556.wav\n",
      "✓ Processed: 0001_000558.wav\n"
     ]
    },
    {
     "name": "stderr",
     "output_type": "stream",
     "text": [
      "Processing files:   1%|          | 123/19777 [00:13<15:22, 21.31it/s]"
     ]
    },
    {
     "name": "stdout",
     "output_type": "stream",
     "text": [
      "✓ Processed: 0001_000561.wav\n",
      "✓ Processed: 0001_000562.wav\n",
      "✓ Processed: 0001_000563.wav\n",
      "✓ Processed: 0001_000564.wav\n",
      "✓ Processed: 0001_000566.wav\n"
     ]
    },
    {
     "name": "stderr",
     "output_type": "stream",
     "text": [
      "Processing files:   1%|          | 129/19777 [00:13<15:05, 21.71it/s]"
     ]
    },
    {
     "name": "stdout",
     "output_type": "stream",
     "text": [
      "✓ Processed: 0001_000567.wav\n",
      "✓ Processed: 0001_000568.wav\n",
      "✓ Processed: 0001_000570.wav\n",
      "✓ Processed: 0001_000571.wav\n",
      "✓ Processed: 0001_000573.wav\n"
     ]
    },
    {
     "name": "stderr",
     "output_type": "stream",
     "text": [
      "Processing files:   1%|          | 132/19777 [00:14<15:04, 21.72it/s]"
     ]
    },
    {
     "name": "stdout",
     "output_type": "stream",
     "text": [
      "✓ Processed: 0001_000574.wav\n",
      "✓ Processed: 0001_000577.wav\n",
      "✓ Processed: 0001_000578.wav\n",
      "✓ Processed: 0001_000579.wav\n",
      "✓ Processed: 0001_000581.wav\n"
     ]
    },
    {
     "name": "stderr",
     "output_type": "stream",
     "text": [
      "Processing files:   1%|          | 138/19777 [00:14<15:19, 21.37it/s]"
     ]
    },
    {
     "name": "stdout",
     "output_type": "stream",
     "text": [
      "✓ Processed: 0001_000583.wav\n",
      "✓ Processed: 0001_000584.wav\n",
      "✓ Processed: 0001_000585.wav\n",
      "✓ Processed: 0001_000589.wav\n",
      "✓ Processed: 0001_000590.wav\n"
     ]
    },
    {
     "name": "stderr",
     "output_type": "stream",
     "text": [
      "Processing files:   1%|          | 144/19777 [00:14<15:24, 21.24it/s]"
     ]
    },
    {
     "name": "stdout",
     "output_type": "stream",
     "text": [
      "✓ Processed: 0001_000592.wav\n",
      "✓ Processed: 0001_000593.wav\n",
      "✓ Processed: 0001_000594.wav\n",
      "✓ Processed: 0001_000597.wav\n"
     ]
    },
    {
     "name": "stderr",
     "output_type": "stream",
     "text": [
      "Processing files:   1%|          | 147/19777 [00:14<14:57, 21.88it/s]"
     ]
    },
    {
     "name": "stdout",
     "output_type": "stream",
     "text": [
      "✓ Processed: 0001_000600.wav\n",
      "✓ Processed: 0001_000602.wav\n",
      "✓ Processed: 0001_000603.wav\n",
      "✓ Processed: 0001_000605.wav\n",
      "✓ Processed: 0001_000606.wav\n"
     ]
    },
    {
     "name": "stderr",
     "output_type": "stream",
     "text": [
      "Processing files:   1%|          | 153/19777 [00:15<14:36, 22.38it/s]"
     ]
    },
    {
     "name": "stdout",
     "output_type": "stream",
     "text": [
      "✓ Processed: 0001_000608.wav\n",
      "✓ Processed: 0001_000609.wav\n",
      "✓ Processed: 0001_000610.wav\n",
      "✓ Processed: 0001_000612.wav\n"
     ]
    },
    {
     "name": "stderr",
     "output_type": "stream",
     "text": [
      "Processing files:   1%|          | 156/19777 [00:15<14:35, 22.42it/s]"
     ]
    },
    {
     "name": "stdout",
     "output_type": "stream",
     "text": [
      "✓ Processed: 0001_000614.wav\n",
      "✓ Processed: 0001_000616.wav\n",
      "✓ Processed: 0001_000618.wav\n",
      "✓ Processed: 0001_000619.wav\n",
      "✓ Processed: 0001_000620.wav\n"
     ]
    },
    {
     "name": "stderr",
     "output_type": "stream",
     "text": [
      "Processing files:   1%|          | 162/19777 [00:15<15:16, 21.41it/s]"
     ]
    },
    {
     "name": "stdout",
     "output_type": "stream",
     "text": [
      "✓ Processed: 0001_000621.wav\n",
      "✓ Processed: 0001_000623.wav\n",
      "✓ Processed: 0001_000625.wav\n",
      "✓ Processed: 0001_000630.wav\n",
      "✓ Processed: 0001_000631.wav\n"
     ]
    },
    {
     "name": "stderr",
     "output_type": "stream",
     "text": [
      "Processing files:   1%|          | 165/19777 [00:15<14:59, 21.81it/s]"
     ]
    },
    {
     "name": "stdout",
     "output_type": "stream",
     "text": [
      "✓ Processed: 0001_000632.wav\n",
      "✓ Processed: 0001_000635.wav\n",
      "✓ Processed: 0001_000640.wav\n",
      "✓ Processed: 0001_000641.wav\n",
      "✓ Processed: 0001_000644.wav\n"
     ]
    },
    {
     "name": "stderr",
     "output_type": "stream",
     "text": [
      "Processing files:   1%|          | 171/19777 [00:15<14:53, 21.95it/s]"
     ]
    },
    {
     "name": "stdout",
     "output_type": "stream",
     "text": [
      "✓ Processed: 0001_000645.wav\n",
      "✓ Processed: 0001_000646.wav\n",
      "✓ Processed: 0001_000647.wav\n",
      "✓ Processed: 0001_000653.wav\n",
      "✓ Processed: 0001_000657.wav\n"
     ]
    },
    {
     "name": "stderr",
     "output_type": "stream",
     "text": [
      "Processing files:   1%|          | 177/19777 [00:16<14:48, 22.07it/s]"
     ]
    },
    {
     "name": "stdout",
     "output_type": "stream",
     "text": [
      "✓ Processed: 0001_000661.wav\n",
      "✓ Processed: 0001_000664.wav\n",
      "✓ Processed: 0001_000666.wav\n",
      "✓ Processed: 0001_000667.wav\n"
     ]
    },
    {
     "name": "stderr",
     "output_type": "stream",
     "text": [
      "Processing files:   1%|          | 180/19777 [00:16<14:58, 21.81it/s]"
     ]
    },
    {
     "name": "stdout",
     "output_type": "stream",
     "text": [
      "✓ Processed: 0001_000669.wav\n",
      "✓ Processed: 0001_000672.wav\n",
      "✓ Processed: 0001_000673.wav\n",
      "✓ Processed: 0001_000679.wav\n",
      "✓ Processed: 0001_000681.wav\n"
     ]
    },
    {
     "name": "stderr",
     "output_type": "stream",
     "text": [
      "Processing files:   1%|          | 186/19777 [00:16<14:47, 22.08it/s]"
     ]
    },
    {
     "name": "stdout",
     "output_type": "stream",
     "text": [
      "✓ Processed: 0001_000683.wav\n",
      "✓ Processed: 0001_000684.wav\n",
      "✓ Processed: 0001_000685.wav\n",
      "✓ Processed: 0001_000686.wav\n",
      "✓ Processed: 0001_000688.wav\n"
     ]
    },
    {
     "name": "stderr",
     "output_type": "stream",
     "text": [
      "Processing files:   1%|          | 189/19777 [00:16<14:46, 22.10it/s]"
     ]
    },
    {
     "name": "stdout",
     "output_type": "stream",
     "text": [
      "✓ Processed: 0001_000689.wav\n",
      "✓ Processed: 0001_000690.wav\n",
      "✓ Processed: 0001_000691.wav\n",
      "✓ Processed: 0001_000692.wav\n",
      "✓ Processed: 0001_000693.wav\n"
     ]
    },
    {
     "name": "stderr",
     "output_type": "stream",
     "text": [
      "Processing files:   1%|          | 195/19777 [00:17<15:19, 21.31it/s]"
     ]
    },
    {
     "name": "stdout",
     "output_type": "stream",
     "text": [
      "✓ Processed: 0001_000694.wav\n",
      "✓ Processed: 0001_000696.wav\n",
      "✓ Processed: 0001_000698.wav\n",
      "✓ Processed: 0001_000700.wav\n",
      "✓ Processed: 0002_000351.wav\n"
     ]
    },
    {
     "name": "stderr",
     "output_type": "stream",
     "text": [
      "Processing files:   1%|          | 198/19777 [00:17<15:57, 20.44it/s]"
     ]
    },
    {
     "name": "stdout",
     "output_type": "stream",
     "text": [
      "✓ Processed: 0002_000353.wav\n",
      "✓ Processed: 0002_000354.wav\n",
      "✓ Processed: 0002_000355.wav\n",
      "✓ Processed: 0002_000360.wav\n"
     ]
    },
    {
     "name": "stderr",
     "output_type": "stream",
     "text": [
      "Processing files:   1%|          | 201/19777 [00:17<15:56, 20.46it/s]"
     ]
    },
    {
     "name": "stdout",
     "output_type": "stream",
     "text": [
      "✓ Processed: 0002_000362.wav\n",
      "✓ Processed: 0002_000363.wav\n",
      "✓ Processed: 0002_000365.wav\n"
     ]
    },
    {
     "name": "stderr",
     "output_type": "stream",
     "text": [
      "Processing files:   1%|          | 207/19777 [00:17<17:30, 18.64it/s]"
     ]
    },
    {
     "name": "stdout",
     "output_type": "stream",
     "text": [
      "✓ Processed: 0002_000366.wav\n",
      "✓ Processed: 0002_000367.wav\n",
      "✓ Processed: 0002_000368.wav\n",
      "✓ Processed: 0002_000369.wav\n",
      "✓ Processed: 0002_000371.wav\n"
     ]
    },
    {
     "name": "stderr",
     "output_type": "stream",
     "text": [
      "Processing files:   1%|          | 211/19777 [00:17<17:20, 18.80it/s]"
     ]
    },
    {
     "name": "stdout",
     "output_type": "stream",
     "text": [
      "✓ Processed: 0002_000373.wav\n",
      "✓ Processed: 0002_000374.wav\n",
      "✓ Processed: 0002_000376.wav\n",
      "✓ Processed: 0002_000377.wav\n",
      "✓ Processed: 0002_000379.wav\n"
     ]
    },
    {
     "name": "stderr",
     "output_type": "stream",
     "text": [
      "Processing files:   1%|          | 216/19777 [00:18<16:37, 19.62it/s]"
     ]
    },
    {
     "name": "stdout",
     "output_type": "stream",
     "text": [
      "✓ Processed: 0002_000381.wav\n",
      "✓ Processed: 0002_000382.wav\n",
      "✓ Processed: 0002_000384.wav\n",
      "✓ Processed: 0002_000386.wav\n",
      "✓ Processed: 0002_000387.wav\n"
     ]
    },
    {
     "name": "stderr",
     "output_type": "stream",
     "text": [
      "Processing files:   1%|          | 222/19777 [00:18<16:22, 19.91it/s]"
     ]
    },
    {
     "name": "stdout",
     "output_type": "stream",
     "text": [
      "✓ Processed: 0002_000390.wav\n",
      "✓ Processed: 0002_000391.wav\n",
      "✓ Processed: 0002_000394.wav\n",
      "✓ Processed: 0002_000395.wav\n"
     ]
    },
    {
     "name": "stderr",
     "output_type": "stream",
     "text": [
      "Processing files:   1%|          | 225/19777 [00:18<16:03, 20.29it/s]"
     ]
    },
    {
     "name": "stdout",
     "output_type": "stream",
     "text": [
      "✓ Processed: 0002_000396.wav\n",
      "✓ Processed: 0002_000398.wav\n",
      "✓ Processed: 0002_000399.wav\n",
      "✓ Processed: 0002_000400.wav\n",
      "✓ Processed: 0002_000401.wav\n"
     ]
    },
    {
     "name": "stderr",
     "output_type": "stream",
     "text": [
      "Processing files:   1%|          | 231/19777 [00:18<16:09, 20.17it/s]"
     ]
    },
    {
     "name": "stdout",
     "output_type": "stream",
     "text": [
      "✓ Processed: 0002_000404.wav\n",
      "✓ Processed: 0002_000405.wav\n",
      "✓ Processed: 0002_000406.wav\n",
      "✓ Processed: 0002_000407.wav\n",
      "✓ Processed: 0002_000411.wav\n"
     ]
    },
    {
     "name": "stderr",
     "output_type": "stream",
     "text": [
      "Processing files:   1%|          | 234/19777 [00:19<16:14, 20.05it/s]"
     ]
    },
    {
     "name": "stdout",
     "output_type": "stream",
     "text": [
      "✓ Processed: 0002_000412.wav\n",
      "✓ Processed: 0002_000414.wav\n",
      "✓ Processed: 0002_000419.wav\n",
      "✓ Processed: 0002_000424.wav\n"
     ]
    },
    {
     "name": "stderr",
     "output_type": "stream",
     "text": [
      "Processing files:   1%|          | 240/19777 [00:19<16:06, 20.21it/s]"
     ]
    },
    {
     "name": "stdout",
     "output_type": "stream",
     "text": [
      "✓ Processed: 0002_000426.wav\n",
      "✓ Processed: 0002_000429.wav\n",
      "✓ Processed: 0002_000430.wav\n",
      "✓ Processed: 0002_000432.wav\n"
     ]
    },
    {
     "name": "stderr",
     "output_type": "stream",
     "text": [
      "Processing files:   1%|          | 243/19777 [00:19<16:04, 20.26it/s]"
     ]
    },
    {
     "name": "stdout",
     "output_type": "stream",
     "text": [
      "✓ Processed: 0002_000434.wav\n",
      "✓ Processed: 0002_000436.wav\n",
      "✓ Processed: 0002_000438.wav\n",
      "✓ Processed: 0002_000439.wav\n",
      "✓ Processed: 0002_000442.wav\n"
     ]
    },
    {
     "name": "stderr",
     "output_type": "stream",
     "text": [
      "Processing files:   1%|▏         | 249/19777 [00:19<16:12, 20.07it/s]"
     ]
    },
    {
     "name": "stdout",
     "output_type": "stream",
     "text": [
      "✓ Processed: 0002_000443.wav\n",
      "✓ Processed: 0002_000446.wav\n",
      "✓ Processed: 0002_000448.wav\n",
      "✓ Processed: 0002_000449.wav\n",
      "✓ Processed: 0002_000450.wav\n"
     ]
    },
    {
     "name": "stderr",
     "output_type": "stream",
     "text": [
      "Processing files:   1%|▏         | 254/19777 [00:20<16:51, 19.31it/s]"
     ]
    },
    {
     "name": "stdout",
     "output_type": "stream",
     "text": [
      "✓ Processed: 0002_000452.wav\n",
      "✓ Processed: 0002_000453.wav\n",
      "✓ Processed: 0002_000454.wav\n",
      "✓ Processed: 0002_000456.wav\n"
     ]
    },
    {
     "name": "stderr",
     "output_type": "stream",
     "text": [
      "Processing files:   1%|▏         | 258/19777 [00:20<17:15, 18.85it/s]"
     ]
    },
    {
     "name": "stdout",
     "output_type": "stream",
     "text": [
      "✓ Processed: 0002_000457.wav\n",
      "✓ Processed: 0002_000459.wav\n",
      "✓ Processed: 0002_000461.wav\n",
      "✓ Processed: 0002_000463.wav\n"
     ]
    },
    {
     "name": "stderr",
     "output_type": "stream",
     "text": [
      "Processing files:   1%|▏         | 262/19777 [00:20<17:04, 19.05it/s]"
     ]
    },
    {
     "name": "stdout",
     "output_type": "stream",
     "text": [
      "✓ Processed: 0002_000464.wav\n",
      "✓ Processed: 0002_000465.wav\n",
      "✓ Processed: 0002_000467.wav\n",
      "✓ Processed: 0002_000471.wav\n",
      "✓ Processed: 0002_000472.wav\n"
     ]
    },
    {
     "name": "stderr",
     "output_type": "stream",
     "text": [
      "Processing files:   1%|▏         | 267/19777 [00:20<16:31, 19.67it/s]"
     ]
    },
    {
     "name": "stdout",
     "output_type": "stream",
     "text": [
      "✓ Processed: 0002_000474.wav\n",
      "✓ Processed: 0002_000475.wav\n",
      "✓ Processed: 0002_000478.wav\n",
      "✓ Processed: 0002_000479.wav\n",
      "✓ Processed: 0002_000480.wav\n"
     ]
    },
    {
     "name": "stderr",
     "output_type": "stream",
     "text": [
      "Processing files:   1%|▏         | 272/19777 [00:20<16:26, 19.76it/s]"
     ]
    },
    {
     "name": "stdout",
     "output_type": "stream",
     "text": [
      "✓ Processed: 0002_000481.wav\n",
      "✓ Processed: 0002_000482.wav\n",
      "✓ Processed: 0002_000483.wav\n",
      "✓ Processed: 0002_000485.wav\n",
      "✓ Processed: 0002_000489.wav\n"
     ]
    },
    {
     "name": "stderr",
     "output_type": "stream",
     "text": [
      "Processing files:   1%|▏         | 275/19777 [00:21<16:06, 20.19it/s]"
     ]
    },
    {
     "name": "stdout",
     "output_type": "stream",
     "text": [
      "✓ Processed: 0002_000490.wav\n",
      "✓ Processed: 0002_000491.wav\n",
      "✓ Processed: 0002_000494.wav\n",
      "✓ Processed: 0002_000496.wav\n"
     ]
    },
    {
     "name": "stderr",
     "output_type": "stream",
     "text": [
      "Processing files:   1%|▏         | 281/19777 [00:21<16:21, 19.87it/s]"
     ]
    },
    {
     "name": "stdout",
     "output_type": "stream",
     "text": [
      "✓ Processed: 0002_000497.wav\n",
      "✓ Processed: 0002_000498.wav\n",
      "✓ Processed: 0002_000499.wav\n",
      "✓ Processed: 0002_000501.wav\n",
      "✓ Processed: 0002_000502.wav\n"
     ]
    },
    {
     "name": "stderr",
     "output_type": "stream",
     "text": [
      "Processing files:   1%|▏         | 285/19777 [00:21<16:41, 19.47it/s]"
     ]
    },
    {
     "name": "stdout",
     "output_type": "stream",
     "text": [
      "✓ Processed: 0002_000504.wav\n",
      "✓ Processed: 0002_000508.wav\n",
      "✓ Processed: 0002_000509.wav\n",
      "✓ Processed: 0002_000510.wav\n",
      "✓ Processed: 0002_000511.wav\n"
     ]
    },
    {
     "name": "stderr",
     "output_type": "stream",
     "text": [
      "Processing files:   1%|▏         | 290/19777 [00:21<16:29, 19.68it/s]"
     ]
    },
    {
     "name": "stdout",
     "output_type": "stream",
     "text": [
      "✓ Processed: 0002_000514.wav\n",
      "✓ Processed: 0002_000516.wav\n",
      "✓ Processed: 0002_000517.wav\n",
      "✓ Processed: 0002_000519.wav\n",
      "✓ Processed: 0002_000524.wav\n"
     ]
    },
    {
     "name": "stderr",
     "output_type": "stream",
     "text": [
      "Processing files:   1%|▏         | 295/19777 [00:22<16:42, 19.43it/s]"
     ]
    },
    {
     "name": "stdout",
     "output_type": "stream",
     "text": [
      "✓ Processed: 0002_000525.wav\n",
      "✓ Processed: 0002_000526.wav\n",
      "✓ Processed: 0002_000527.wav\n",
      "✓ Processed: 0002_000531.wav\n"
     ]
    },
    {
     "name": "stderr",
     "output_type": "stream",
     "text": [
      "Processing files:   2%|▏         | 300/19777 [00:22<16:30, 19.66it/s]"
     ]
    },
    {
     "name": "stdout",
     "output_type": "stream",
     "text": [
      "✓ Processed: 0002_000532.wav\n",
      "✓ Processed: 0002_000533.wav\n",
      "✓ Processed: 0002_000534.wav\n",
      "✓ Processed: 0002_000535.wav\n",
      "✓ Processed: 0002_000536.wav\n"
     ]
    },
    {
     "name": "stderr",
     "output_type": "stream",
     "text": [
      "Processing files:   2%|▏         | 305/19777 [00:22<16:13, 20.01it/s]"
     ]
    },
    {
     "name": "stdout",
     "output_type": "stream",
     "text": [
      "✓ Processed: 0002_000537.wav\n",
      "✓ Processed: 0002_000538.wav\n",
      "✓ Processed: 0002_000541.wav\n",
      "✓ Processed: 0002_000542.wav\n",
      "✓ Processed: 0002_000544.wav\n"
     ]
    },
    {
     "name": "stderr",
     "output_type": "stream",
     "text": [
      "Processing files:   2%|▏         | 311/19777 [00:22<15:20, 21.14it/s]"
     ]
    },
    {
     "name": "stdout",
     "output_type": "stream",
     "text": [
      "✓ Processed: 0002_000545.wav\n",
      "✓ Processed: 0002_000547.wav\n",
      "✓ Processed: 0002_000549.wav\n",
      "✓ Processed: 0002_000551.wav\n"
     ]
    },
    {
     "name": "stderr",
     "output_type": "stream",
     "text": [
      "Processing files:   2%|▏         | 314/19777 [00:23<16:09, 20.08it/s]"
     ]
    },
    {
     "name": "stdout",
     "output_type": "stream",
     "text": [
      "✓ Processed: 0002_000553.wav\n",
      "✓ Processed: 0002_000554.wav\n",
      "✓ Processed: 0002_000555.wav\n",
      "✓ Processed: 0002_000557.wav\n"
     ]
    },
    {
     "name": "stderr",
     "output_type": "stream",
     "text": [
      "Processing files:   2%|▏         | 317/19777 [00:23<15:43, 20.63it/s]"
     ]
    },
    {
     "name": "stdout",
     "output_type": "stream",
     "text": [
      "✓ Processed: 0002_000559.wav\n",
      "✓ Processed: 0002_000560.wav\n",
      "✓ Processed: 0002_000561.wav\n",
      "✓ Processed: 0002_000564.wav\n",
      "✓ Processed: 0002_000566.wav\n"
     ]
    },
    {
     "name": "stderr",
     "output_type": "stream",
     "text": [
      "Processing files:   2%|▏         | 323/19777 [00:23<15:53, 20.41it/s]"
     ]
    },
    {
     "name": "stdout",
     "output_type": "stream",
     "text": [
      "✓ Processed: 0002_000567.wav\n",
      "✓ Processed: 0002_000568.wav\n",
      "✓ Processed: 0002_000569.wav\n",
      "✓ Processed: 0002_000571.wav\n",
      "✓ Processed: 0002_000573.wav\n"
     ]
    },
    {
     "name": "stderr",
     "output_type": "stream",
     "text": [
      "Processing files:   2%|▏         | 326/19777 [00:23<16:01, 20.23it/s]"
     ]
    },
    {
     "name": "stdout",
     "output_type": "stream",
     "text": [
      "✓ Processed: 0002_000574.wav\n",
      "✓ Processed: 0002_000577.wav\n",
      "✓ Processed: 0002_000578.wav\n",
      "✓ Processed: 0002_000583.wav\n"
     ]
    },
    {
     "name": "stderr",
     "output_type": "stream",
     "text": [
      "Processing files:   2%|▏         | 332/19777 [00:23<16:04, 20.16it/s]"
     ]
    },
    {
     "name": "stdout",
     "output_type": "stream",
     "text": [
      "✓ Processed: 0002_000586.wav\n",
      "✓ Processed: 0002_000587.wav\n",
      "✓ Processed: 0002_000588.wav\n",
      "✓ Processed: 0002_000589.wav\n"
     ]
    },
    {
     "name": "stderr",
     "output_type": "stream",
     "text": [
      "Processing files:   2%|▏         | 335/19777 [00:24<15:52, 20.42it/s]"
     ]
    },
    {
     "name": "stdout",
     "output_type": "stream",
     "text": [
      "✓ Processed: 0002_000591.wav\n",
      "✓ Processed: 0002_000593.wav\n",
      "✓ Processed: 0002_000598.wav\n",
      "✓ Processed: 0002_000600.wav\n",
      "✓ Processed: 0002_000601.wav\n"
     ]
    },
    {
     "name": "stderr",
     "output_type": "stream",
     "text": [
      "Processing files:   2%|▏         | 341/19777 [00:24<16:11, 20.01it/s]"
     ]
    },
    {
     "name": "stdout",
     "output_type": "stream",
     "text": [
      "✓ Processed: 0002_000602.wav\n",
      "✓ Processed: 0002_000603.wav\n",
      "✓ Processed: 0002_000604.wav\n",
      "✓ Processed: 0002_000607.wav\n"
     ]
    },
    {
     "name": "stderr",
     "output_type": "stream",
     "text": [
      "Processing files:   2%|▏         | 344/19777 [00:24<16:09, 20.04it/s]"
     ]
    },
    {
     "name": "stdout",
     "output_type": "stream",
     "text": [
      "✓ Processed: 0002_000609.wav\n",
      "✓ Processed: 0002_000614.wav\n",
      "✓ Processed: 0002_000615.wav\n",
      "✓ Processed: 0002_000616.wav\n",
      "✓ Processed: 0002_000617.wav\n"
     ]
    },
    {
     "name": "stderr",
     "output_type": "stream",
     "text": [
      "Processing files:   2%|▏         | 350/19777 [00:24<16:08, 20.05it/s]"
     ]
    },
    {
     "name": "stdout",
     "output_type": "stream",
     "text": [
      "✓ Processed: 0002_000618.wav\n",
      "✓ Processed: 0002_000623.wav\n",
      "✓ Processed: 0002_000626.wav\n",
      "✓ Processed: 0002_000628.wav\n"
     ]
    },
    {
     "name": "stderr",
     "output_type": "stream",
     "text": [
      "Processing files:   2%|▏         | 353/19777 [00:24<15:55, 20.33it/s]"
     ]
    },
    {
     "name": "stdout",
     "output_type": "stream",
     "text": [
      "✓ Processed: 0002_000630.wav\n",
      "✓ Processed: 0002_000631.wav\n",
      "✓ Processed: 0002_000634.wav\n",
      "✓ Processed: 0002_000636.wav\n",
      "✓ Processed: 0002_000639.wav\n"
     ]
    },
    {
     "name": "stderr",
     "output_type": "stream",
     "text": [
      "Processing files:   2%|▏         | 359/19777 [00:25<16:27, 19.67it/s]"
     ]
    },
    {
     "name": "stdout",
     "output_type": "stream",
     "text": [
      "✓ Processed: 0002_000640.wav\n",
      "✓ Processed: 0002_000641.wav\n",
      "✓ Processed: 0002_000642.wav\n",
      "✓ Processed: 0002_000643.wav\n"
     ]
    },
    {
     "name": "stderr",
     "output_type": "stream",
     "text": [
      "Processing files:   2%|▏         | 363/19777 [00:25<16:55, 19.12it/s]"
     ]
    },
    {
     "name": "stdout",
     "output_type": "stream",
     "text": [
      "✓ Processed: 0002_000644.wav\n",
      "✓ Processed: 0002_000645.wav\n",
      "✓ Processed: 0002_000648.wav\n",
      "✓ Processed: 0002_000653.wav\n"
     ]
    },
    {
     "name": "stderr",
     "output_type": "stream",
     "text": [
      "Processing files:   2%|▏         | 367/19777 [00:25<16:44, 19.32it/s]"
     ]
    },
    {
     "name": "stdout",
     "output_type": "stream",
     "text": [
      "✓ Processed: 0002_000657.wav\n",
      "✓ Processed: 0002_000658.wav\n",
      "✓ Processed: 0002_000660.wav\n",
      "✓ Processed: 0002_000661.wav\n"
     ]
    },
    {
     "name": "stderr",
     "output_type": "stream",
     "text": [
      "Processing files:   2%|▏         | 369/19777 [00:25<19:30, 16.57it/s]"
     ]
    },
    {
     "name": "stdout",
     "output_type": "stream",
     "text": [
      "✓ Processed: 0002_000663.wav\n",
      "✓ Processed: 0002_000665.wav\n",
      "✓ Processed: 0002_000668.wav\n"
     ]
    },
    {
     "name": "stderr",
     "output_type": "stream",
     "text": [
      "Processing files:   2%|▏         | 373/19777 [00:26<22:47, 14.19it/s]"
     ]
    },
    {
     "name": "stdout",
     "output_type": "stream",
     "text": [
      "✓ Processed: 0002_000671.wav\n",
      "✓ Processed: 0002_000675.wav\n",
      "✓ Processed: 0002_000676.wav\n"
     ]
    },
    {
     "name": "stderr",
     "output_type": "stream",
     "text": [
      "Processing files:   2%|▏         | 375/19777 [00:26<21:37, 14.96it/s]"
     ]
    },
    {
     "name": "stdout",
     "output_type": "stream",
     "text": [
      "✓ Processed: 0002_000678.wav\n",
      "✓ Processed: 0002_000679.wav\n",
      "✓ Processed: 0002_000683.wav\n",
      "✓ Processed: 0002_000684.wav\n"
     ]
    },
    {
     "name": "stderr",
     "output_type": "stream",
     "text": [
      "Processing files:   2%|▏         | 380/19777 [00:26<19:04, 16.94it/s]"
     ]
    },
    {
     "name": "stdout",
     "output_type": "stream",
     "text": [
      "✓ Processed: 0002_000685.wav\n",
      "✓ Processed: 0002_000687.wav\n",
      "✓ Processed: 0002_000690.wav\n",
      "✓ Processed: 0002_000693.wav\n"
     ]
    },
    {
     "name": "stderr",
     "output_type": "stream",
     "text": [
      "Processing files:   2%|▏         | 385/19777 [00:26<18:11, 17.77it/s]"
     ]
    },
    {
     "name": "stdout",
     "output_type": "stream",
     "text": [
      "✓ Processed: 0002_000694.wav\n",
      "✓ Processed: 0002_000696.wav\n",
      "✓ Processed: 0002_000698.wav\n",
      "✓ Processed: 0002_000699.wav\n"
     ]
    },
    {
     "name": "stderr",
     "output_type": "stream",
     "text": [
      "Processing files:   2%|▏         | 390/19777 [00:27<16:40, 19.37it/s]"
     ]
    },
    {
     "name": "stdout",
     "output_type": "stream",
     "text": [
      "✓ Processed: 0002_000700.wav\n",
      "✓ Processed: 0003_000353.wav\n",
      "✓ Processed: 0003_000354.wav\n",
      "✓ Processed: 0003_000357.wav\n"
     ]
    },
    {
     "name": "stderr",
     "output_type": "stream",
     "text": [
      "Processing files:   2%|▏         | 393/19777 [00:27<15:59, 20.20it/s]"
     ]
    },
    {
     "name": "stdout",
     "output_type": "stream",
     "text": [
      "✓ Processed: 0003_000358.wav\n",
      "✓ Processed: 0003_000359.wav\n",
      "✓ Processed: 0003_000362.wav\n",
      "✓ Processed: 0003_000365.wav\n",
      "✓ Processed: 0003_000366.wav\n"
     ]
    },
    {
     "name": "stderr",
     "output_type": "stream",
     "text": [
      "Processing files:   2%|▏         | 399/19777 [00:27<15:10, 21.28it/s]"
     ]
    },
    {
     "name": "stdout",
     "output_type": "stream",
     "text": [
      "✓ Processed: 0003_000368.wav\n",
      "✓ Processed: 0003_000369.wav\n",
      "✓ Processed: 0003_000370.wav\n",
      "✓ Processed: 0003_000372.wav\n",
      "✓ Processed: 0003_000375.wav\n"
     ]
    },
    {
     "name": "stderr",
     "output_type": "stream",
     "text": [
      "Processing files:   2%|▏         | 402/19777 [00:27<15:10, 21.28it/s]"
     ]
    },
    {
     "name": "stdout",
     "output_type": "stream",
     "text": [
      "✓ Processed: 0003_000380.wav\n",
      "✓ Processed: 0003_000383.wav\n",
      "✓ Processed: 0003_000384.wav\n",
      "✓ Processed: 0003_000385.wav\n",
      "✓ Processed: 0003_000386.wav\n"
     ]
    },
    {
     "name": "stderr",
     "output_type": "stream",
     "text": [
      "Processing files:   2%|▏         | 408/19777 [00:27<14:30, 22.25it/s]"
     ]
    },
    {
     "name": "stdout",
     "output_type": "stream",
     "text": [
      "✓ Processed: 0003_000392.wav\n",
      "✓ Processed: 0003_000393.wav\n",
      "✓ Processed: 0003_000394.wav\n",
      "✓ Processed: 0003_000396.wav\n",
      "✓ Processed: 0003_000397.wav\n"
     ]
    },
    {
     "name": "stderr",
     "output_type": "stream",
     "text": [
      "Processing files:   2%|▏         | 414/19777 [00:28<14:47, 21.82it/s]"
     ]
    },
    {
     "name": "stdout",
     "output_type": "stream",
     "text": [
      "✓ Processed: 0003_000398.wav\n",
      "✓ Processed: 0003_000404.wav\n",
      "✓ Processed: 0003_000406.wav\n",
      "✓ Processed: 0003_000407.wav\n"
     ]
    },
    {
     "name": "stderr",
     "output_type": "stream",
     "text": [
      "Processing files:   2%|▏         | 417/19777 [00:28<14:22, 22.44it/s]"
     ]
    },
    {
     "name": "stdout",
     "output_type": "stream",
     "text": [
      "✓ Processed: 0003_000408.wav\n",
      "✓ Processed: 0003_000411.wav\n",
      "✓ Processed: 0003_000416.wav\n",
      "✓ Processed: 0003_000417.wav\n",
      "✓ Processed: 0003_000418.wav\n"
     ]
    },
    {
     "name": "stderr",
     "output_type": "stream",
     "text": [
      "Processing files:   2%|▏         | 423/19777 [00:28<14:34, 22.14it/s]"
     ]
    },
    {
     "name": "stdout",
     "output_type": "stream",
     "text": [
      "✓ Processed: 0003_000421.wav\n",
      "✓ Processed: 0003_000422.wav\n",
      "✓ Processed: 0003_000426.wav\n",
      "✓ Processed: 0003_000427.wav\n",
      "✓ Processed: 0003_000429.wav\n"
     ]
    },
    {
     "name": "stderr",
     "output_type": "stream",
     "text": [
      "Processing files:   2%|▏         | 426/19777 [00:28<14:39, 22.00it/s]"
     ]
    },
    {
     "name": "stdout",
     "output_type": "stream",
     "text": [
      "✓ Processed: 0003_000432.wav\n",
      "✓ Processed: 0003_000433.wav\n",
      "✓ Processed: 0003_000434.wav\n",
      "✓ Processed: 0003_000435.wav\n",
      "✓ Processed: 0003_000437.wav\n"
     ]
    },
    {
     "name": "stderr",
     "output_type": "stream",
     "text": [
      "Processing files:   2%|▏         | 432/19777 [00:28<14:37, 22.04it/s]"
     ]
    },
    {
     "name": "stdout",
     "output_type": "stream",
     "text": [
      "✓ Processed: 0003_000439.wav\n",
      "✓ Processed: 0003_000441.wav\n",
      "✓ Processed: 0003_000443.wav\n",
      "✓ Processed: 0003_000444.wav\n",
      "✓ Processed: 0003_000446.wav\n"
     ]
    },
    {
     "name": "stderr",
     "output_type": "stream",
     "text": [
      "Processing files:   2%|▏         | 438/19777 [00:29<14:23, 22.40it/s]"
     ]
    },
    {
     "name": "stdout",
     "output_type": "stream",
     "text": [
      "✓ Processed: 0003_000447.wav\n",
      "✓ Processed: 0003_000448.wav\n",
      "✓ Processed: 0003_000451.wav\n",
      "✓ Processed: 0003_000452.wav\n",
      "✓ Processed: 0003_000453.wav\n"
     ]
    },
    {
     "name": "stderr",
     "output_type": "stream",
     "text": [
      "Processing files:   2%|▏         | 441/19777 [00:29<14:11, 22.70it/s]"
     ]
    },
    {
     "name": "stdout",
     "output_type": "stream",
     "text": [
      "✓ Processed: 0003_000454.wav\n",
      "✓ Processed: 0003_000456.wav\n",
      "✓ Processed: 0003_000458.wav\n",
      "✓ Processed: 0003_000459.wav\n",
      "✓ Processed: 0003_000460.wav\n"
     ]
    },
    {
     "name": "stderr",
     "output_type": "stream",
     "text": [
      "Processing files:   2%|▏         | 447/19777 [00:29<14:34, 22.12it/s]"
     ]
    },
    {
     "name": "stdout",
     "output_type": "stream",
     "text": [
      "✓ Processed: 0003_000461.wav\n",
      "✓ Processed: 0003_000462.wav\n",
      "✓ Processed: 0003_000466.wav\n",
      "✓ Processed: 0003_000469.wav\n",
      "✓ Processed: 0003_000470.wav\n"
     ]
    },
    {
     "name": "stderr",
     "output_type": "stream",
     "text": [
      "Processing files:   2%|▏         | 453/19777 [00:29<14:37, 22.03it/s]"
     ]
    },
    {
     "name": "stdout",
     "output_type": "stream",
     "text": [
      "✓ Processed: 0003_000476.wav\n",
      "✓ Processed: 0003_000478.wav\n",
      "✓ Processed: 0003_000480.wav\n",
      "✓ Processed: 0003_000486.wav\n"
     ]
    },
    {
     "name": "stderr",
     "output_type": "stream",
     "text": [
      "Processing files:   2%|▏         | 456/19777 [00:30<14:34, 22.09it/s]"
     ]
    },
    {
     "name": "stdout",
     "output_type": "stream",
     "text": [
      "✓ Processed: 0003_000487.wav\n",
      "✓ Processed: 0003_000488.wav\n",
      "✓ Processed: 0003_000489.wav\n",
      "✓ Processed: 0003_000490.wav\n",
      "✓ Processed: 0003_000492.wav\n"
     ]
    },
    {
     "name": "stderr",
     "output_type": "stream",
     "text": [
      "Processing files:   2%|▏         | 462/19777 [00:30<14:35, 22.07it/s]"
     ]
    },
    {
     "name": "stdout",
     "output_type": "stream",
     "text": [
      "✓ Processed: 0003_000496.wav\n",
      "✓ Processed: 0003_000498.wav\n",
      "✓ Processed: 0003_000499.wav\n",
      "✓ Processed: 0003_000500.wav\n"
     ]
    },
    {
     "name": "stderr",
     "output_type": "stream",
     "text": [
      "Processing files:   2%|▏         | 465/19777 [00:30<14:27, 22.27it/s]"
     ]
    },
    {
     "name": "stdout",
     "output_type": "stream",
     "text": [
      "✓ Processed: 0003_000501.wav\n",
      "✓ Processed: 0003_000502.wav\n",
      "✓ Processed: 0003_000503.wav\n",
      "✓ Processed: 0003_000505.wav\n",
      "✓ Processed: 0003_000506.wav\n"
     ]
    },
    {
     "name": "stderr",
     "output_type": "stream",
     "text": [
      "Processing files:   2%|▏         | 471/19777 [00:30<14:24, 22.34it/s]"
     ]
    },
    {
     "name": "stdout",
     "output_type": "stream",
     "text": [
      "✓ Processed: 0003_000507.wav\n",
      "✓ Processed: 0003_000509.wav\n",
      "✓ Processed: 0003_000511.wav\n",
      "✓ Processed: 0003_000513.wav\n"
     ]
    },
    {
     "name": "stderr",
     "output_type": "stream",
     "text": [
      "Processing files:   2%|▏         | 474/19777 [00:30<15:28, 20.78it/s]"
     ]
    },
    {
     "name": "stdout",
     "output_type": "stream",
     "text": [
      "✓ Processed: 0003_000515.wav\n",
      "✓ Processed: 0003_000517.wav\n",
      "✓ Processed: 0003_000518.wav\n",
      "✓ Processed: 0003_000519.wav\n"
     ]
    },
    {
     "name": "stderr",
     "output_type": "stream",
     "text": [
      "Processing files:   2%|▏         | 477/19777 [00:31<16:25, 19.59it/s]"
     ]
    },
    {
     "name": "stdout",
     "output_type": "stream",
     "text": [
      "✓ Processed: 0003_000520.wav\n",
      "✓ Processed: 0003_000521.wav\n",
      "✓ Processed: 0003_000522.wav\n",
      "✓ Processed: 0003_000524.wav\n"
     ]
    },
    {
     "name": "stderr",
     "output_type": "stream",
     "text": [
      "Processing files:   2%|▏         | 480/19777 [00:31<16:22, 19.64it/s]"
     ]
    },
    {
     "name": "stdout",
     "output_type": "stream",
     "text": [
      "✓ Processed: 0003_000525.wav\n",
      "✓ Processed: 0003_000526.wav\n",
      "✓ Processed: 0003_000527.wav\n",
      "✓ Processed: 0003_000529.wav\n"
     ]
    },
    {
     "name": "stderr",
     "output_type": "stream",
     "text": [
      "Processing files:   2%|▏         | 486/19777 [00:31<15:22, 20.91it/s]"
     ]
    },
    {
     "name": "stdout",
     "output_type": "stream",
     "text": [
      "✓ Processed: 0003_000530.wav\n",
      "✓ Processed: 0003_000532.wav\n",
      "✓ Processed: 0003_000533.wav\n",
      "✓ Processed: 0003_000534.wav\n",
      "✓ Processed: 0003_000539.wav\n"
     ]
    },
    {
     "name": "stderr",
     "output_type": "stream",
     "text": [
      "Processing files:   2%|▏         | 492/19777 [00:31<14:43, 21.83it/s]"
     ]
    },
    {
     "name": "stdout",
     "output_type": "stream",
     "text": [
      "✓ Processed: 0003_000544.wav\n",
      "✓ Processed: 0003_000545.wav\n",
      "✓ Processed: 0003_000546.wav\n",
      "✓ Processed: 0003_000549.wav\n",
      "✓ Processed: 0003_000550.wav\n"
     ]
    },
    {
     "name": "stderr",
     "output_type": "stream",
     "text": [
      "Processing files:   3%|▎         | 495/19777 [00:31<14:34, 22.06it/s]"
     ]
    },
    {
     "name": "stdout",
     "output_type": "stream",
     "text": [
      "✓ Processed: 0003_000551.wav\n",
      "✓ Processed: 0003_000552.wav\n",
      "✓ Processed: 0003_000553.wav\n",
      "✓ Processed: 0003_000555.wav\n",
      "✓ Processed: 0003_000557.wav\n"
     ]
    },
    {
     "name": "stderr",
     "output_type": "stream",
     "text": [
      "Processing files:   3%|▎         | 501/19777 [00:32<14:31, 22.13it/s]"
     ]
    },
    {
     "name": "stdout",
     "output_type": "stream",
     "text": [
      "✓ Processed: 0003_000559.wav\n",
      "✓ Processed: 0003_000560.wav\n",
      "✓ Processed: 0003_000562.wav\n",
      "✓ Processed: 0003_000565.wav\n",
      "✓ Processed: 0003_000567.wav\n"
     ]
    },
    {
     "name": "stderr",
     "output_type": "stream",
     "text": [
      "Processing files:   3%|▎         | 507/19777 [00:32<14:48, 21.69it/s]"
     ]
    },
    {
     "name": "stdout",
     "output_type": "stream",
     "text": [
      "✓ Processed: 0003_000568.wav\n",
      "✓ Processed: 0003_000569.wav\n",
      "✓ Processed: 0003_000570.wav\n",
      "✓ Processed: 0003_000572.wav\n",
      "✓ Processed: 0003_000573.wav\n"
     ]
    },
    {
     "name": "stderr",
     "output_type": "stream",
     "text": [
      "Processing files:   3%|▎         | 510/19777 [00:32<14:29, 22.17it/s]"
     ]
    },
    {
     "name": "stdout",
     "output_type": "stream",
     "text": [
      "✓ Processed: 0003_000574.wav\n",
      "✓ Processed: 0003_000577.wav\n",
      "✓ Processed: 0003_000579.wav\n",
      "✓ Processed: 0003_000580.wav\n",
      "✓ Processed: 0003_000581.wav\n"
     ]
    },
    {
     "name": "stderr",
     "output_type": "stream",
     "text": [
      "Processing files:   3%|▎         | 516/19777 [00:32<14:03, 22.83it/s]"
     ]
    },
    {
     "name": "stdout",
     "output_type": "stream",
     "text": [
      "✓ Processed: 0003_000583.wav\n",
      "✓ Processed: 0003_000584.wav\n",
      "✓ Processed: 0003_000585.wav\n",
      "✓ Processed: 0003_000588.wav\n",
      "✓ Processed: 0003_000592.wav\n",
      "✓ Processed: 0003_000593.wav\n"
     ]
    },
    {
     "name": "stderr",
     "output_type": "stream",
     "text": [
      "Processing files:   3%|▎         | 522/19777 [00:33<13:47, 23.28it/s]"
     ]
    },
    {
     "name": "stdout",
     "output_type": "stream",
     "text": [
      "✓ Processed: 0003_000594.wav\n",
      "✓ Processed: 0003_000596.wav\n",
      "✓ Processed: 0003_000597.wav\n",
      "✓ Processed: 0003_000598.wav\n",
      "✓ Processed: 0003_000601.wav\n"
     ]
    },
    {
     "name": "stderr",
     "output_type": "stream",
     "text": [
      "Processing files:   3%|▎         | 528/19777 [00:33<13:57, 22.97it/s]"
     ]
    },
    {
     "name": "stdout",
     "output_type": "stream",
     "text": [
      "✓ Processed: 0003_000603.wav\n",
      "✓ Processed: 0003_000604.wav\n",
      "✓ Processed: 0003_000609.wav\n",
      "✓ Processed: 0003_000610.wav\n",
      "✓ Processed: 0003_000612.wav\n",
      "✓ Processed: 0003_000614.wav\n"
     ]
    },
    {
     "name": "stderr",
     "output_type": "stream",
     "text": [
      "Processing files:   3%|▎         | 534/19777 [00:33<13:37, 23.53it/s]"
     ]
    },
    {
     "name": "stdout",
     "output_type": "stream",
     "text": [
      "✓ Processed: 0003_000615.wav\n",
      "✓ Processed: 0003_000618.wav\n",
      "✓ Processed: 0003_000619.wav\n",
      "✓ Processed: 0003_000620.wav\n",
      "✓ Processed: 0003_000624.wav\n"
     ]
    },
    {
     "name": "stderr",
     "output_type": "stream",
     "text": [
      "Processing files:   3%|▎         | 537/19777 [00:33<13:39, 23.48it/s]"
     ]
    },
    {
     "name": "stdout",
     "output_type": "stream",
     "text": [
      "✓ Processed: 0003_000625.wav\n",
      "✓ Processed: 0003_000626.wav\n",
      "✓ Processed: 0003_000629.wav\n",
      "✓ Processed: 0003_000633.wav\n",
      "✓ Processed: 0003_000634.wav\n"
     ]
    },
    {
     "name": "stderr",
     "output_type": "stream",
     "text": [
      "Processing files:   3%|▎         | 543/19777 [00:33<13:55, 23.01it/s]"
     ]
    },
    {
     "name": "stdout",
     "output_type": "stream",
     "text": [
      "✓ Processed: 0003_000636.wav\n",
      "✓ Processed: 0003_000637.wav\n",
      "✓ Processed: 0003_000638.wav\n",
      "✓ Processed: 0003_000639.wav\n",
      "✓ Processed: 0003_000641.wav\n"
     ]
    },
    {
     "name": "stderr",
     "output_type": "stream",
     "text": [
      "Processing files:   3%|▎         | 549/19777 [00:34<14:14, 22.52it/s]"
     ]
    },
    {
     "name": "stdout",
     "output_type": "stream",
     "text": [
      "✓ Processed: 0003_000642.wav\n",
      "✓ Processed: 0003_000643.wav\n",
      "✓ Processed: 0003_000644.wav\n",
      "✓ Processed: 0003_000649.wav\n",
      "✓ Processed: 0003_000651.wav\n"
     ]
    },
    {
     "name": "stderr",
     "output_type": "stream",
     "text": [
      "Processing files:   3%|▎         | 555/19777 [00:34<13:55, 23.00it/s]"
     ]
    },
    {
     "name": "stdout",
     "output_type": "stream",
     "text": [
      "✓ Processed: 0003_000652.wav\n",
      "✓ Processed: 0003_000654.wav\n",
      "✓ Processed: 0003_000657.wav\n",
      "✓ Processed: 0003_000659.wav\n",
      "✓ Processed: 0003_000660.wav\n"
     ]
    },
    {
     "name": "stderr",
     "output_type": "stream",
     "text": [
      "Processing files:   3%|▎         | 558/19777 [00:34<13:46, 23.26it/s]"
     ]
    },
    {
     "name": "stdout",
     "output_type": "stream",
     "text": [
      "✓ Processed: 0003_000664.wav\n",
      "✓ Processed: 0003_000666.wav\n",
      "✓ Processed: 0003_000667.wav\n",
      "✓ Processed: 0003_000668.wav\n",
      "✓ Processed: 0003_000669.wav\n",
      "✓ Processed: 0003_000670.wav\n"
     ]
    },
    {
     "name": "stderr",
     "output_type": "stream",
     "text": [
      "Processing files:   3%|▎         | 564/19777 [00:34<13:50, 23.14it/s]"
     ]
    },
    {
     "name": "stdout",
     "output_type": "stream",
     "text": [
      "✓ Processed: 0003_000673.wav\n",
      "✓ Processed: 0003_000675.wav\n",
      "✓ Processed: 0003_000678.wav\n",
      "✓ Processed: 0003_000679.wav\n",
      "✓ Processed: 0003_000684.wav\n"
     ]
    },
    {
     "name": "stderr",
     "output_type": "stream",
     "text": [
      "Processing files:   3%|▎         | 570/19777 [00:35<13:33, 23.62it/s]"
     ]
    },
    {
     "name": "stdout",
     "output_type": "stream",
     "text": [
      "✓ Processed: 0003_000686.wav\n",
      "✓ Processed: 0003_000687.wav\n",
      "✓ Processed: 0003_000688.wav\n",
      "✓ Processed: 0003_000689.wav\n",
      "✓ Processed: 0003_000690.wav\n"
     ]
    },
    {
     "name": "stderr",
     "output_type": "stream",
     "text": [
      "Processing files:   3%|▎         | 573/19777 [00:35<13:38, 23.45it/s]"
     ]
    },
    {
     "name": "stdout",
     "output_type": "stream",
     "text": [
      "✓ Processed: 0003_000691.wav\n",
      "✓ Processed: 0003_000692.wav\n",
      "✓ Processed: 0003_000694.wav\n",
      "✓ Processed: 0003_000695.wav\n",
      "✓ Processed: 0003_000696.wav\n"
     ]
    },
    {
     "name": "stderr",
     "output_type": "stream",
     "text": [
      "Processing files:   3%|▎         | 579/19777 [00:35<14:25, 22.18it/s]"
     ]
    },
    {
     "name": "stdout",
     "output_type": "stream",
     "text": [
      "✓ Processed: 0003_000700.wav\n",
      "✓ Processed: 0004_000351.wav\n",
      "✓ Processed: 0004_000354.wav\n",
      "✓ Processed: 0004_000356.wav\n",
      "✓ Processed: 0004_000363.wav\n"
     ]
    },
    {
     "name": "stderr",
     "output_type": "stream",
     "text": [
      "Processing files:   3%|▎         | 582/19777 [00:35<14:14, 22.46it/s]"
     ]
    },
    {
     "name": "stdout",
     "output_type": "stream",
     "text": [
      "✓ Processed: 0004_000365.wav\n",
      "✓ Processed: 0004_000367.wav\n",
      "✓ Processed: 0004_000371.wav\n",
      "✓ Processed: 0004_000373.wav\n"
     ]
    },
    {
     "name": "stderr",
     "output_type": "stream",
     "text": [
      "Processing files:   3%|▎         | 588/19777 [00:35<14:32, 22.00it/s]"
     ]
    },
    {
     "name": "stdout",
     "output_type": "stream",
     "text": [
      "✓ Processed: 0004_000374.wav\n",
      "✓ Processed: 0004_000375.wav\n",
      "✓ Processed: 0004_000376.wav\n",
      "✓ Processed: 0004_000381.wav\n",
      "✓ Processed: 0004_000384.wav\n",
      "✓ Processed: 0004_000387.wav\n"
     ]
    },
    {
     "name": "stderr",
     "output_type": "stream",
     "text": [
      "Processing files:   3%|▎         | 594/19777 [00:36<14:28, 22.08it/s]"
     ]
    },
    {
     "name": "stdout",
     "output_type": "stream",
     "text": [
      "✓ Processed: 0004_000388.wav\n",
      "✓ Processed: 0004_000390.wav\n",
      "✓ Processed: 0004_000391.wav\n",
      "✓ Processed: 0004_000395.wav\n",
      "✓ Processed: 0004_000397.wav\n"
     ]
    },
    {
     "name": "stderr",
     "output_type": "stream",
     "text": [
      "Processing files:   3%|▎         | 600/19777 [00:36<14:31, 22.00it/s]"
     ]
    },
    {
     "name": "stdout",
     "output_type": "stream",
     "text": [
      "✓ Processed: 0004_000399.wav\n",
      "✓ Processed: 0004_000400.wav\n",
      "✓ Processed: 0004_000401.wav\n",
      "✓ Processed: 0004_000402.wav\n"
     ]
    },
    {
     "name": "stderr",
     "output_type": "stream",
     "text": [
      "Processing files:   3%|▎         | 603/19777 [00:36<14:33, 21.95it/s]"
     ]
    },
    {
     "name": "stdout",
     "output_type": "stream",
     "text": [
      "✓ Processed: 0004_000404.wav\n",
      "✓ Processed: 0004_000405.wav\n",
      "✓ Processed: 0004_000406.wav\n",
      "✓ Processed: 0004_000407.wav\n",
      "✓ Processed: 0004_000408.wav\n"
     ]
    },
    {
     "name": "stderr",
     "output_type": "stream",
     "text": [
      "Processing files:   3%|▎         | 609/19777 [00:36<14:19, 22.31it/s]"
     ]
    },
    {
     "name": "stdout",
     "output_type": "stream",
     "text": [
      "✓ Processed: 0004_000412.wav\n",
      "✓ Processed: 0004_000413.wav\n",
      "✓ Processed: 0004_000416.wav\n",
      "✓ Processed: 0004_000418.wav\n",
      "✓ Processed: 0004_000422.wav\n"
     ]
    },
    {
     "name": "stderr",
     "output_type": "stream",
     "text": [
      "Processing files:   3%|▎         | 612/19777 [00:37<14:31, 21.99it/s]"
     ]
    },
    {
     "name": "stdout",
     "output_type": "stream",
     "text": [
      "✓ Processed: 0004_000424.wav\n",
      "✓ Processed: 0004_000425.wav\n",
      "✓ Processed: 0004_000428.wav\n",
      "✓ Processed: 0004_000429.wav\n",
      "✓ Processed: 0004_000430.wav\n"
     ]
    },
    {
     "name": "stderr",
     "output_type": "stream",
     "text": [
      "Processing files:   3%|▎         | 618/19777 [00:37<14:54, 21.41it/s]"
     ]
    },
    {
     "name": "stdout",
     "output_type": "stream",
     "text": [
      "✓ Processed: 0004_000431.wav\n",
      "✓ Processed: 0004_000432.wav\n",
      "✓ Processed: 0004_000433.wav\n",
      "✓ Processed: 0004_000434.wav\n",
      "✓ Processed: 0004_000436.wav\n"
     ]
    },
    {
     "name": "stderr",
     "output_type": "stream",
     "text": [
      "Processing files:   3%|▎         | 624/19777 [00:37<15:00, 21.27it/s]"
     ]
    },
    {
     "name": "stdout",
     "output_type": "stream",
     "text": [
      "✓ Processed: 0004_000437.wav\n",
      "✓ Processed: 0004_000440.wav\n",
      "✓ Processed: 0004_000443.wav\n",
      "✓ Processed: 0004_000445.wav\n"
     ]
    },
    {
     "name": "stderr",
     "output_type": "stream",
     "text": [
      "Processing files:   3%|▎         | 627/19777 [00:37<14:42, 21.70it/s]"
     ]
    },
    {
     "name": "stdout",
     "output_type": "stream",
     "text": [
      "✓ Processed: 0004_000446.wav\n",
      "✓ Processed: 0004_000448.wav\n",
      "✓ Processed: 0004_000453.wav\n",
      "✓ Processed: 0004_000459.wav\n",
      "✓ Processed: 0004_000466.wav\n"
     ]
    },
    {
     "name": "stderr",
     "output_type": "stream",
     "text": [
      "Processing files:   3%|▎         | 633/19777 [00:38<14:38, 21.79it/s]"
     ]
    },
    {
     "name": "stdout",
     "output_type": "stream",
     "text": [
      "✓ Processed: 0004_000467.wav\n",
      "✓ Processed: 0004_000468.wav\n",
      "✓ Processed: 0004_000469.wav\n",
      "✓ Processed: 0004_000471.wav\n"
     ]
    },
    {
     "name": "stderr",
     "output_type": "stream",
     "text": [
      "Processing files:   3%|▎         | 636/19777 [00:38<14:28, 22.05it/s]"
     ]
    },
    {
     "name": "stdout",
     "output_type": "stream",
     "text": [
      "✓ Processed: 0004_000476.wav\n",
      "✓ Processed: 0004_000479.wav\n",
      "✓ Processed: 0004_000480.wav\n",
      "✓ Processed: 0004_000481.wav\n",
      "✓ Processed: 0004_000483.wav\n"
     ]
    },
    {
     "name": "stderr",
     "output_type": "stream",
     "text": [
      "Processing files:   3%|▎         | 642/19777 [00:38<14:17, 22.32it/s]"
     ]
    },
    {
     "name": "stdout",
     "output_type": "stream",
     "text": [
      "✓ Processed: 0004_000484.wav\n",
      "✓ Processed: 0004_000486.wav\n",
      "✓ Processed: 0004_000487.wav\n",
      "✓ Processed: 0004_000488.wav\n",
      "✓ Processed: 0004_000490.wav\n"
     ]
    },
    {
     "name": "stderr",
     "output_type": "stream",
     "text": [
      "Processing files:   3%|▎         | 645/19777 [00:38<14:14, 22.40it/s]"
     ]
    },
    {
     "name": "stdout",
     "output_type": "stream",
     "text": [
      "✓ Processed: 0004_000493.wav\n",
      "✓ Processed: 0004_000494.wav\n",
      "✓ Processed: 0004_000495.wav\n",
      "✓ Processed: 0004_000496.wav\n",
      "✓ Processed: 0004_000499.wav\n"
     ]
    },
    {
     "name": "stderr",
     "output_type": "stream",
     "text": [
      "Processing files:   3%|▎         | 651/19777 [00:38<14:01, 22.74it/s]"
     ]
    },
    {
     "name": "stdout",
     "output_type": "stream",
     "text": [
      "✓ Processed: 0004_000501.wav\n",
      "✓ Processed: 0004_000503.wav\n",
      "✓ Processed: 0004_000504.wav\n",
      "✓ Processed: 0004_000505.wav\n",
      "✓ Processed: 0004_000506.wav\n"
     ]
    },
    {
     "name": "stderr",
     "output_type": "stream",
     "text": [
      "Processing files:   3%|▎         | 657/19777 [00:39<13:33, 23.50it/s]"
     ]
    },
    {
     "name": "stdout",
     "output_type": "stream",
     "text": [
      "✓ Processed: 0004_000508.wav\n",
      "✓ Processed: 0004_000512.wav\n",
      "✓ Processed: 0004_000513.wav\n",
      "✓ Processed: 0004_000514.wav\n",
      "✓ Processed: 0004_000516.wav\n"
     ]
    },
    {
     "name": "stderr",
     "output_type": "stream",
     "text": [
      "Processing files:   3%|▎         | 660/19777 [00:39<13:49, 23.06it/s]"
     ]
    },
    {
     "name": "stdout",
     "output_type": "stream",
     "text": [
      "✓ Processed: 0004_000517.wav\n",
      "✓ Processed: 0004_000518.wav\n",
      "✓ Processed: 0004_000519.wav\n",
      "✓ Processed: 0004_000521.wav\n",
      "✓ Processed: 0004_000522.wav\n"
     ]
    },
    {
     "name": "stderr",
     "output_type": "stream",
     "text": [
      "Processing files:   3%|▎         | 666/19777 [00:39<14:34, 21.84it/s]"
     ]
    },
    {
     "name": "stdout",
     "output_type": "stream",
     "text": [
      "✓ Processed: 0004_000523.wav\n",
      "✓ Processed: 0004_000525.wav\n",
      "✓ Processed: 0004_000528.wav\n",
      "✓ Processed: 0004_000529.wav\n",
      "✓ Processed: 0004_000531.wav\n"
     ]
    },
    {
     "name": "stderr",
     "output_type": "stream",
     "text": [
      "Processing files:   3%|▎         | 669/19777 [00:39<14:47, 21.53it/s]"
     ]
    },
    {
     "name": "stdout",
     "output_type": "stream",
     "text": [
      "✓ Processed: 0004_000532.wav\n",
      "✓ Processed: 0004_000534.wav\n",
      "✓ Processed: 0004_000535.wav\n",
      "✓ Processed: 0004_000537.wav\n"
     ]
    },
    {
     "name": "stderr",
     "output_type": "stream",
     "text": [
      "Processing files:   3%|▎         | 675/19777 [00:39<14:32, 21.89it/s]"
     ]
    },
    {
     "name": "stdout",
     "output_type": "stream",
     "text": [
      "✓ Processed: 0004_000538.wav\n",
      "✓ Processed: 0004_000539.wav\n",
      "✓ Processed: 0004_000540.wav\n",
      "✓ Processed: 0004_000543.wav\n",
      "✓ Processed: 0004_000545.wav\n"
     ]
    },
    {
     "name": "stderr",
     "output_type": "stream",
     "text": [
      "Processing files:   3%|▎         | 678/19777 [00:40<14:41, 21.67it/s]"
     ]
    },
    {
     "name": "stdout",
     "output_type": "stream",
     "text": [
      "✓ Processed: 0004_000546.wav\n",
      "✓ Processed: 0004_000548.wav\n",
      "✓ Processed: 0004_000549.wav\n",
      "✓ Processed: 0004_000550.wav\n"
     ]
    },
    {
     "name": "stderr",
     "output_type": "stream",
     "text": [
      "Processing files:   3%|▎         | 684/19777 [00:40<14:21, 22.16it/s]"
     ]
    },
    {
     "name": "stdout",
     "output_type": "stream",
     "text": [
      "✓ Processed: 0004_000552.wav\n",
      "✓ Processed: 0004_000553.wav\n",
      "✓ Processed: 0004_000558.wav\n",
      "✓ Processed: 0004_000560.wav\n",
      "✓ Processed: 0004_000562.wav\n"
     ]
    },
    {
     "name": "stderr",
     "output_type": "stream",
     "text": [
      "Processing files:   3%|▎         | 690/19777 [00:40<14:21, 22.15it/s]"
     ]
    },
    {
     "name": "stdout",
     "output_type": "stream",
     "text": [
      "✓ Processed: 0004_000563.wav\n",
      "✓ Processed: 0004_000564.wav\n",
      "✓ Processed: 0004_000565.wav\n",
      "✓ Processed: 0004_000566.wav\n"
     ]
    },
    {
     "name": "stderr",
     "output_type": "stream",
     "text": [
      "Processing files:   4%|▎         | 693/19777 [00:40<14:06, 22.55it/s]"
     ]
    },
    {
     "name": "stdout",
     "output_type": "stream",
     "text": [
      "✓ Processed: 0004_000572.wav\n",
      "✓ Processed: 0004_000573.wav\n",
      "✓ Processed: 0004_000578.wav\n",
      "✓ Processed: 0004_000581.wav\n",
      "✓ Processed: 0004_000583.wav\n"
     ]
    },
    {
     "name": "stderr",
     "output_type": "stream",
     "text": [
      "Processing files:   4%|▎         | 696/19777 [00:40<14:33, 21.83it/s]"
     ]
    },
    {
     "name": "stdout",
     "output_type": "stream",
     "text": [
      "✓ Processed: 0004_000584.wav\n",
      "✓ Processed: 0004_000586.wav\n",
      "✓ Processed: 0004_000587.wav\n",
      "✓ Processed: 0004_000588.wav\n"
     ]
    },
    {
     "name": "stderr",
     "output_type": "stream",
     "text": [
      "Processing files:   4%|▎         | 702/19777 [00:41<14:34, 21.82it/s]"
     ]
    },
    {
     "name": "stdout",
     "output_type": "stream",
     "text": [
      "✓ Processed: 0004_000589.wav\n",
      "✓ Processed: 0004_000591.wav\n",
      "✓ Processed: 0004_000593.wav\n",
      "✓ Processed: 0004_000594.wav\n",
      "✓ Processed: 0004_000596.wav\n"
     ]
    },
    {
     "name": "stderr",
     "output_type": "stream",
     "text": [
      "Processing files:   4%|▎         | 708/19777 [00:41<14:46, 21.50it/s]"
     ]
    },
    {
     "name": "stdout",
     "output_type": "stream",
     "text": [
      "✓ Processed: 0004_000599.wav\n",
      "✓ Processed: 0004_000600.wav\n",
      "✓ Processed: 0004_000603.wav\n",
      "✓ Processed: 0004_000605.wav\n"
     ]
    },
    {
     "name": "stderr",
     "output_type": "stream",
     "text": [
      "Processing files:   4%|▎         | 711/19777 [00:41<14:33, 21.83it/s]"
     ]
    },
    {
     "name": "stdout",
     "output_type": "stream",
     "text": [
      "✓ Processed: 0004_000606.wav\n",
      "✓ Processed: 0004_000608.wav\n",
      "✓ Processed: 0004_000610.wav\n",
      "✓ Processed: 0004_000613.wav\n",
      "✓ Processed: 0004_000615.wav\n"
     ]
    },
    {
     "name": "stderr",
     "output_type": "stream",
     "text": [
      "Processing files:   4%|▎         | 714/19777 [00:41<14:21, 22.13it/s]"
     ]
    },
    {
     "name": "stdout",
     "output_type": "stream",
     "text": [
      "✓ Processed: 0004_000616.wav\n",
      "✓ Processed: 0004_000617.wav\n",
      "✓ Processed: 0004_000619.wav\n",
      "✓ Processed: 0004_000620.wav\n"
     ]
    },
    {
     "name": "stderr",
     "output_type": "stream",
     "text": [
      "Processing files:   4%|▎         | 720/19777 [00:41<14:08, 22.47it/s]"
     ]
    },
    {
     "name": "stdout",
     "output_type": "stream",
     "text": [
      "✓ Processed: 0004_000622.wav\n",
      "✓ Processed: 0004_000625.wav\n",
      "✓ Processed: 0004_000629.wav\n",
      "✓ Processed: 0004_000631.wav\n",
      "✓ Processed: 0004_000632.wav\n"
     ]
    },
    {
     "name": "stderr",
     "output_type": "stream",
     "text": [
      "Processing files:   4%|▎         | 723/19777 [00:42<14:37, 21.71it/s]"
     ]
    },
    {
     "name": "stdout",
     "output_type": "stream",
     "text": [
      "✓ Processed: 0004_000637.wav\n",
      "✓ Processed: 0004_000641.wav\n",
      "✓ Processed: 0004_000643.wav\n",
      "✓ Processed: 0004_000644.wav\n"
     ]
    },
    {
     "name": "stderr",
     "output_type": "stream",
     "text": [
      "Processing files:   4%|▎         | 729/19777 [00:42<14:40, 21.62it/s]"
     ]
    },
    {
     "name": "stdout",
     "output_type": "stream",
     "text": [
      "✓ Processed: 0004_000645.wav\n",
      "✓ Processed: 0004_000649.wav\n",
      "✓ Processed: 0004_000651.wav\n",
      "✓ Processed: 0004_000652.wav\n",
      "✓ Processed: 0004_000653.wav\n"
     ]
    },
    {
     "name": "stderr",
     "output_type": "stream",
     "text": [
      "Processing files:   4%|▎         | 735/19777 [00:42<14:26, 21.98it/s]"
     ]
    },
    {
     "name": "stdout",
     "output_type": "stream",
     "text": [
      "✓ Processed: 0004_000654.wav\n",
      "✓ Processed: 0004_000655.wav\n",
      "✓ Processed: 0004_000656.wav\n",
      "✓ Processed: 0004_000657.wav\n",
      "✓ Processed: 0004_000660.wav\n"
     ]
    },
    {
     "name": "stderr",
     "output_type": "stream",
     "text": [
      "Processing files:   4%|▎         | 741/19777 [00:42<13:58, 22.69it/s]"
     ]
    },
    {
     "name": "stdout",
     "output_type": "stream",
     "text": [
      "✓ Processed: 0004_000661.wav\n",
      "✓ Processed: 0004_000662.wav\n",
      "✓ Processed: 0004_000663.wav\n",
      "✓ Processed: 0004_000665.wav\n",
      "✓ Processed: 0004_000666.wav\n"
     ]
    },
    {
     "name": "stderr",
     "output_type": "stream",
     "text": [
      "Processing files:   4%|▍         | 744/19777 [00:43<13:50, 22.92it/s]"
     ]
    },
    {
     "name": "stdout",
     "output_type": "stream",
     "text": [
      "✓ Processed: 0004_000671.wav\n",
      "✓ Processed: 0004_000672.wav\n",
      "✓ Processed: 0004_000673.wav\n",
      "✓ Processed: 0004_000676.wav\n",
      "✓ Processed: 0004_000678.wav\n"
     ]
    },
    {
     "name": "stderr",
     "output_type": "stream",
     "text": [
      "Processing files:   4%|▍         | 750/19777 [00:43<13:55, 22.77it/s]"
     ]
    },
    {
     "name": "stdout",
     "output_type": "stream",
     "text": [
      "✓ Processed: 0004_000679.wav\n",
      "✓ Processed: 0004_000681.wav\n",
      "✓ Processed: 0004_000683.wav\n",
      "✓ Processed: 0004_000684.wav\n",
      "✓ Processed: 0004_000685.wav\n"
     ]
    },
    {
     "name": "stderr",
     "output_type": "stream",
     "text": [
      "Processing files:   4%|▍         | 753/19777 [00:43<14:11, 22.35it/s]"
     ]
    },
    {
     "name": "stdout",
     "output_type": "stream",
     "text": [
      "✓ Processed: 0004_000686.wav\n",
      "✓ Processed: 0004_000687.wav\n",
      "✓ Processed: 0004_000689.wav\n",
      "✓ Processed: 0004_000691.wav\n",
      "✓ Processed: 0004_000693.wav\n"
     ]
    },
    {
     "name": "stderr",
     "output_type": "stream",
     "text": [
      "Processing files:   4%|▍         | 759/19777 [00:43<14:07, 22.45it/s]"
     ]
    },
    {
     "name": "stdout",
     "output_type": "stream",
     "text": [
      "✓ Processed: 0004_000694.wav\n",
      "✓ Processed: 0004_000695.wav\n",
      "✓ Processed: 0004_000696.wav\n",
      "✓ Processed: 0004_000699.wav\n",
      "✓ Processed: 0004_000700.wav\n"
     ]
    },
    {
     "name": "stderr",
     "output_type": "stream",
     "text": [
      "Processing files:   4%|▍         | 765/19777 [00:43<13:45, 23.02it/s]"
     ]
    },
    {
     "name": "stdout",
     "output_type": "stream",
     "text": [
      "✓ Processed: 0005_000351.wav\n",
      "✓ Processed: 0005_000353.wav\n",
      "✓ Processed: 0005_000355.wav\n",
      "✓ Processed: 0005_000358.wav\n",
      "✓ Processed: 0005_000359.wav\n"
     ]
    },
    {
     "name": "stderr",
     "output_type": "stream",
     "text": [
      "Processing files:   4%|▍         | 768/19777 [00:44<14:01, 22.59it/s]"
     ]
    },
    {
     "name": "stdout",
     "output_type": "stream",
     "text": [
      "✓ Processed: 0005_000360.wav\n",
      "✓ Processed: 0005_000366.wav\n",
      "✓ Processed: 0005_000367.wav\n",
      "✓ Processed: 0005_000368.wav\n",
      "✓ Processed: 0005_000371.wav\n"
     ]
    },
    {
     "name": "stderr",
     "output_type": "stream",
     "text": [
      "Processing files:   4%|▍         | 774/19777 [00:44<15:18, 20.69it/s]"
     ]
    },
    {
     "name": "stdout",
     "output_type": "stream",
     "text": [
      "✓ Processed: 0005_000372.wav\n",
      "✓ Processed: 0005_000373.wav\n",
      "✓ Processed: 0005_000374.wav\n",
      "✓ Processed: 0005_000377.wav\n"
     ]
    },
    {
     "name": "stderr",
     "output_type": "stream",
     "text": [
      "Processing files:   4%|▍         | 777/19777 [00:44<15:11, 20.84it/s]"
     ]
    },
    {
     "name": "stdout",
     "output_type": "stream",
     "text": [
      "✓ Processed: 0005_000380.wav\n",
      "✓ Processed: 0005_000382.wav\n",
      "✓ Processed: 0005_000383.wav\n",
      "✓ Processed: 0005_000386.wav\n",
      "✓ Processed: 0005_000388.wav\n"
     ]
    },
    {
     "name": "stderr",
     "output_type": "stream",
     "text": [
      "Processing files:   4%|▍         | 783/19777 [00:44<14:37, 21.65it/s]"
     ]
    },
    {
     "name": "stdout",
     "output_type": "stream",
     "text": [
      "✓ Processed: 0005_000389.wav\n",
      "✓ Processed: 0005_000396.wav\n",
      "✓ Processed: 0005_000399.wav\n",
      "✓ Processed: 0005_000401.wav\n",
      "✓ Processed: 0005_000404.wav\n",
      "✓ Processed: 0005_000405.wav\n"
     ]
    },
    {
     "name": "stderr",
     "output_type": "stream",
     "text": [
      "Processing files:   4%|▍         | 789/19777 [00:45<13:43, 23.05it/s]"
     ]
    },
    {
     "name": "stdout",
     "output_type": "stream",
     "text": [
      "✓ Processed: 0005_000406.wav\n",
      "✓ Processed: 0005_000407.wav\n",
      "✓ Processed: 0005_000410.wav\n",
      "✓ Processed: 0005_000417.wav\n",
      "✓ Processed: 0005_000418.wav\n",
      "✓ Processed: 0005_000419.wav\n"
     ]
    },
    {
     "name": "stderr",
     "output_type": "stream",
     "text": [
      "Processing files:   4%|▍         | 795/19777 [00:45<13:37, 23.21it/s]"
     ]
    },
    {
     "name": "stdout",
     "output_type": "stream",
     "text": [
      "✓ Processed: 0005_000420.wav\n",
      "✓ Processed: 0005_000424.wav\n",
      "✓ Processed: 0005_000426.wav\n",
      "✓ Processed: 0005_000434.wav\n",
      "✓ Processed: 0005_000435.wav\n"
     ]
    },
    {
     "name": "stderr",
     "output_type": "stream",
     "text": [
      "Processing files:   4%|▍         | 801/19777 [00:45<13:46, 22.95it/s]"
     ]
    },
    {
     "name": "stdout",
     "output_type": "stream",
     "text": [
      "✓ Processed: 0005_000443.wav\n",
      "✓ Processed: 0005_000447.wav\n",
      "✓ Processed: 0005_000448.wav\n",
      "✓ Processed: 0005_000450.wav\n",
      "✓ Processed: 0005_000451.wav\n"
     ]
    },
    {
     "name": "stderr",
     "output_type": "stream",
     "text": [
      "Processing files:   4%|▍         | 804/19777 [00:45<13:59, 22.61it/s]"
     ]
    },
    {
     "name": "stdout",
     "output_type": "stream",
     "text": [
      "✓ Processed: 0005_000452.wav\n",
      "✓ Processed: 0005_000453.wav\n",
      "✓ Processed: 0005_000454.wav\n",
      "✓ Processed: 0005_000456.wav\n",
      "✓ Processed: 0005_000457.wav\n"
     ]
    },
    {
     "name": "stderr",
     "output_type": "stream",
     "text": [
      "Processing files:   4%|▍         | 810/19777 [00:45<13:38, 23.19it/s]"
     ]
    },
    {
     "name": "stdout",
     "output_type": "stream",
     "text": [
      "✓ Processed: 0005_000458.wav\n",
      "✓ Processed: 0005_000459.wav\n",
      "✓ Processed: 0005_000462.wav\n",
      "✓ Processed: 0005_000463.wav\n",
      "✓ Processed: 0005_000464.wav\n",
      "✓ Processed: 0005_000465.wav\n"
     ]
    },
    {
     "name": "stderr",
     "output_type": "stream",
     "text": [
      "Processing files:   4%|▍         | 816/19777 [00:46<13:44, 22.99it/s]"
     ]
    },
    {
     "name": "stdout",
     "output_type": "stream",
     "text": [
      "✓ Processed: 0005_000467.wav\n",
      "✓ Processed: 0005_000468.wav\n",
      "✓ Processed: 0005_000469.wav\n",
      "✓ Processed: 0005_000470.wav\n",
      "✓ Processed: 0005_000473.wav\n"
     ]
    },
    {
     "name": "stderr",
     "output_type": "stream",
     "text": [
      "Processing files:   4%|▍         | 822/19777 [00:46<14:24, 21.94it/s]"
     ]
    },
    {
     "name": "stdout",
     "output_type": "stream",
     "text": [
      "✓ Processed: 0005_000477.wav\n",
      "✓ Processed: 0005_000478.wav\n",
      "✓ Processed: 0005_000480.wav\n",
      "✓ Processed: 0005_000481.wav\n"
     ]
    },
    {
     "name": "stderr",
     "output_type": "stream",
     "text": [
      "Processing files:   4%|▍         | 825/19777 [00:46<15:18, 20.64it/s]"
     ]
    },
    {
     "name": "stdout",
     "output_type": "stream",
     "text": [
      "✓ Processed: 0005_000482.wav\n",
      "✓ Processed: 0005_000486.wav\n",
      "✓ Processed: 0005_000487.wav\n",
      "✓ Processed: 0005_000488.wav\n"
     ]
    },
    {
     "name": "stderr",
     "output_type": "stream",
     "text": [
      "Processing files:   4%|▍         | 831/19777 [00:46<14:29, 21.79it/s]"
     ]
    },
    {
     "name": "stdout",
     "output_type": "stream",
     "text": [
      "✓ Processed: 0005_000492.wav\n",
      "✓ Processed: 0005_000494.wav\n",
      "✓ Processed: 0005_000497.wav\n",
      "✓ Processed: 0005_000502.wav\n",
      "✓ Processed: 0005_000507.wav\n"
     ]
    },
    {
     "name": "stderr",
     "output_type": "stream",
     "text": [
      "Processing files:   4%|▍         | 834/19777 [00:47<14:01, 22.50it/s]"
     ]
    },
    {
     "name": "stdout",
     "output_type": "stream",
     "text": [
      "✓ Processed: 0005_000508.wav\n",
      "✓ Processed: 0005_000510.wav\n",
      "✓ Processed: 0005_000511.wav\n",
      "✓ Processed: 0005_000512.wav\n",
      "✓ Processed: 0005_000513.wav\n",
      "✓ Processed: 0005_000516.wav\n"
     ]
    },
    {
     "name": "stderr",
     "output_type": "stream",
     "text": [
      "Processing files:   4%|▍         | 840/19777 [00:47<13:49, 22.82it/s]"
     ]
    },
    {
     "name": "stdout",
     "output_type": "stream",
     "text": [
      "✓ Processed: 0005_000517.wav\n",
      "✓ Processed: 0005_000518.wav\n",
      "✓ Processed: 0005_000519.wav\n",
      "✓ Processed: 0005_000523.wav\n",
      "✓ Processed: 0005_000524.wav\n",
      "✓ Processed: 0005_000528.wav\n"
     ]
    },
    {
     "name": "stderr",
     "output_type": "stream",
     "text": [
      "Processing files:   4%|▍         | 846/19777 [00:47<13:45, 22.94it/s]"
     ]
    },
    {
     "name": "stdout",
     "output_type": "stream",
     "text": [
      "✓ Processed: 0005_000531.wav\n",
      "✓ Processed: 0005_000532.wav\n",
      "✓ Processed: 0005_000533.wav\n",
      "✓ Processed: 0005_000538.wav\n",
      "✓ Processed: 0005_000542.wav\n"
     ]
    },
    {
     "name": "stderr",
     "output_type": "stream",
     "text": [
      "Processing files:   4%|▍         | 852/19777 [00:47<13:41, 23.05it/s]"
     ]
    },
    {
     "name": "stdout",
     "output_type": "stream",
     "text": [
      "✓ Processed: 0005_000544.wav\n",
      "✓ Processed: 0005_000545.wav\n",
      "✓ Processed: 0005_000546.wav\n",
      "✓ Processed: 0005_000550.wav\n",
      "✓ Processed: 0005_000552.wav\n",
      "✓ Processed: 0005_000553.wav\n"
     ]
    },
    {
     "name": "stderr",
     "output_type": "stream",
     "text": [
      "Processing files:   4%|▍         | 858/19777 [00:48<13:33, 23.24it/s]"
     ]
    },
    {
     "name": "stdout",
     "output_type": "stream",
     "text": [
      "✓ Processed: 0005_000554.wav\n",
      "✓ Processed: 0005_000556.wav\n",
      "✓ Processed: 0005_000557.wav\n",
      "✓ Processed: 0005_000560.wav\n",
      "✓ Processed: 0005_000561.wav\n"
     ]
    },
    {
     "name": "stderr",
     "output_type": "stream",
     "text": [
      "Processing files:   4%|▍         | 861/19777 [00:48<13:35, 23.20it/s]"
     ]
    },
    {
     "name": "stdout",
     "output_type": "stream",
     "text": [
      "✓ Processed: 0005_000562.wav\n",
      "✓ Processed: 0005_000565.wav\n",
      "✓ Processed: 0005_000566.wav\n",
      "✓ Processed: 0005_000569.wav\n",
      "✓ Processed: 0005_000572.wav\n"
     ]
    },
    {
     "name": "stderr",
     "output_type": "stream",
     "text": [
      "Processing files:   4%|▍         | 867/19777 [00:48<13:42, 22.99it/s]"
     ]
    },
    {
     "name": "stdout",
     "output_type": "stream",
     "text": [
      "✓ Processed: 0005_000574.wav\n",
      "✓ Processed: 0005_000575.wav\n",
      "✓ Processed: 0005_000576.wav\n",
      "✓ Processed: 0005_000578.wav\n",
      "✓ Processed: 0005_000581.wav\n"
     ]
    },
    {
     "name": "stderr",
     "output_type": "stream",
     "text": [
      "Processing files:   4%|▍         | 873/19777 [00:48<13:53, 22.67it/s]"
     ]
    },
    {
     "name": "stdout",
     "output_type": "stream",
     "text": [
      "✓ Processed: 0005_000582.wav\n",
      "✓ Processed: 0005_000583.wav\n",
      "✓ Processed: 0005_000584.wav\n",
      "✓ Processed: 0005_000587.wav\n",
      "✓ Processed: 0005_000588.wav\n"
     ]
    },
    {
     "name": "stderr",
     "output_type": "stream",
     "text": [
      "Processing files:   4%|▍         | 876/19777 [00:48<14:08, 22.28it/s]"
     ]
    },
    {
     "name": "stdout",
     "output_type": "stream",
     "text": [
      "✓ Processed: 0005_000589.wav\n",
      "✓ Processed: 0005_000592.wav\n",
      "✓ Processed: 0005_000593.wav\n",
      "✓ Processed: 0005_000594.wav\n",
      "✓ Processed: 0005_000595.wav\n"
     ]
    },
    {
     "name": "stderr",
     "output_type": "stream",
     "text": [
      "Processing files:   4%|▍         | 882/19777 [00:49<13:58, 22.54it/s]"
     ]
    },
    {
     "name": "stdout",
     "output_type": "stream",
     "text": [
      "✓ Processed: 0005_000597.wav\n",
      "✓ Processed: 0005_000598.wav\n",
      "✓ Processed: 0005_000599.wav\n",
      "✓ Processed: 0005_000600.wav\n",
      "✓ Processed: 0005_000601.wav\n"
     ]
    },
    {
     "name": "stderr",
     "output_type": "stream",
     "text": [
      "Processing files:   4%|▍         | 888/19777 [00:49<14:03, 22.39it/s]"
     ]
    },
    {
     "name": "stdout",
     "output_type": "stream",
     "text": [
      "✓ Processed: 0005_000607.wav\n",
      "✓ Processed: 0005_000612.wav\n",
      "✓ Processed: 0005_000613.wav\n",
      "✓ Processed: 0005_000615.wav\n",
      "✓ Processed: 0005_000616.wav\n"
     ]
    },
    {
     "name": "stderr",
     "output_type": "stream",
     "text": [
      "Processing files:   5%|▍         | 891/19777 [00:49<14:32, 21.64it/s]"
     ]
    },
    {
     "name": "stdout",
     "output_type": "stream",
     "text": [
      "✓ Processed: 0005_000618.wav\n",
      "✓ Processed: 0005_000623.wav\n",
      "✓ Processed: 0005_000628.wav\n",
      "✓ Processed: 0005_000629.wav\n",
      "✓ Processed: 0005_000630.wav\n"
     ]
    },
    {
     "name": "stderr",
     "output_type": "stream",
     "text": [
      "Processing files:   5%|▍         | 897/19777 [00:49<14:10, 22.21it/s]"
     ]
    },
    {
     "name": "stdout",
     "output_type": "stream",
     "text": [
      "✓ Processed: 0005_000633.wav\n",
      "✓ Processed: 0005_000636.wav\n",
      "✓ Processed: 0005_000637.wav\n",
      "✓ Processed: 0005_000642.wav\n",
      "✓ Processed: 0005_000645.wav\n"
     ]
    },
    {
     "name": "stderr",
     "output_type": "stream",
     "text": [
      "Processing files:   5%|▍         | 903/19777 [00:50<13:53, 22.65it/s]"
     ]
    },
    {
     "name": "stdout",
     "output_type": "stream",
     "text": [
      "✓ Processed: 0005_000646.wav\n",
      "✓ Processed: 0005_000650.wav\n",
      "✓ Processed: 0005_000651.wav\n",
      "✓ Processed: 0005_000655.wav\n",
      "✓ Processed: 0005_000656.wav\n"
     ]
    },
    {
     "name": "stderr",
     "output_type": "stream",
     "text": [
      "Processing files:   5%|▍         | 906/19777 [00:50<13:54, 22.62it/s]"
     ]
    },
    {
     "name": "stdout",
     "output_type": "stream",
     "text": [
      "✓ Processed: 0005_000657.wav\n",
      "✓ Processed: 0005_000660.wav\n",
      "✓ Processed: 0005_000661.wav\n",
      "✓ Processed: 0005_000663.wav\n",
      "✓ Processed: 0005_000664.wav\n"
     ]
    },
    {
     "name": "stderr",
     "output_type": "stream",
     "text": [
      "Processing files:   5%|▍         | 912/19777 [00:50<13:50, 22.72it/s]"
     ]
    },
    {
     "name": "stdout",
     "output_type": "stream",
     "text": [
      "✓ Processed: 0005_000666.wav\n",
      "✓ Processed: 0005_000667.wav\n",
      "✓ Processed: 0005_000668.wav\n",
      "✓ Processed: 0005_000669.wav\n",
      "✓ Processed: 0005_000672.wav\n"
     ]
    },
    {
     "name": "stderr",
     "output_type": "stream",
     "text": [
      "Processing files:   5%|▍         | 918/19777 [00:50<14:19, 21.94it/s]"
     ]
    },
    {
     "name": "stdout",
     "output_type": "stream",
     "text": [
      "✓ Processed: 0005_000674.wav\n",
      "✓ Processed: 0005_000676.wav\n",
      "✓ Processed: 0005_000677.wav\n",
      "✓ Processed: 0005_000678.wav\n"
     ]
    },
    {
     "name": "stderr",
     "output_type": "stream",
     "text": [
      "Processing files:   5%|▍         | 921/19777 [00:50<14:16, 22.02it/s]"
     ]
    },
    {
     "name": "stdout",
     "output_type": "stream",
     "text": [
      "✓ Processed: 0005_000679.wav\n",
      "✓ Processed: 0005_000682.wav\n",
      "✓ Processed: 0005_000683.wav\n",
      "✓ Processed: 0005_000684.wav\n",
      "✓ Processed: 0005_000685.wav\n"
     ]
    },
    {
     "name": "stderr",
     "output_type": "stream",
     "text": [
      "Processing files:   5%|▍         | 927/19777 [00:51<14:15, 22.04it/s]"
     ]
    },
    {
     "name": "stdout",
     "output_type": "stream",
     "text": [
      "✓ Processed: 0005_000687.wav\n",
      "✓ Processed: 0005_000688.wav\n",
      "✓ Processed: 0005_000690.wav\n",
      "✓ Processed: 0005_000694.wav\n",
      "✓ Processed: 0005_000695.wav\n"
     ]
    },
    {
     "name": "stderr",
     "output_type": "stream",
     "text": [
      "Processing files:   5%|▍         | 930/19777 [00:51<14:19, 21.92it/s]"
     ]
    },
    {
     "name": "stdout",
     "output_type": "stream",
     "text": [
      "✓ Processed: 0005_000698.wav\n",
      "✓ Processed: 0005_000699.wav\n",
      "✓ Processed: 0005_000700.wav\n",
      "✓ Processed: 0006_000352.wav\n",
      "✓ Processed: 0006_000353.wav\n"
     ]
    },
    {
     "name": "stderr",
     "output_type": "stream",
     "text": [
      "Processing files:   5%|▍         | 936/19777 [00:51<14:06, 22.26it/s]"
     ]
    },
    {
     "name": "stdout",
     "output_type": "stream",
     "text": [
      "✓ Processed: 0006_000354.wav\n",
      "✓ Processed: 0006_000356.wav\n",
      "✓ Processed: 0006_000357.wav\n",
      "✓ Processed: 0006_000358.wav\n",
      "✓ Processed: 0006_000359.wav\n"
     ]
    },
    {
     "name": "stderr",
     "output_type": "stream",
     "text": [
      "Processing files:   5%|▍         | 942/19777 [00:51<14:12, 22.09it/s]"
     ]
    },
    {
     "name": "stdout",
     "output_type": "stream",
     "text": [
      "✓ Processed: 0006_000361.wav\n",
      "✓ Processed: 0006_000363.wav\n",
      "✓ Processed: 0006_000367.wav\n",
      "✓ Processed: 0006_000369.wav\n"
     ]
    },
    {
     "name": "stderr",
     "output_type": "stream",
     "text": [
      "Processing files:   5%|▍         | 945/19777 [00:52<14:08, 22.21it/s]"
     ]
    },
    {
     "name": "stdout",
     "output_type": "stream",
     "text": [
      "✓ Processed: 0006_000375.wav\n",
      "✓ Processed: 0006_000377.wav\n",
      "✓ Processed: 0006_000380.wav\n",
      "✓ Processed: 0006_000382.wav\n",
      "✓ Processed: 0006_000384.wav\n"
     ]
    },
    {
     "name": "stderr",
     "output_type": "stream",
     "text": [
      "Processing files:   5%|▍         | 951/19777 [00:52<14:19, 21.90it/s]"
     ]
    },
    {
     "name": "stdout",
     "output_type": "stream",
     "text": [
      "✓ Processed: 0006_000385.wav\n",
      "✓ Processed: 0006_000387.wav\n",
      "✓ Processed: 0006_000388.wav\n",
      "✓ Processed: 0006_000390.wav\n",
      "✓ Processed: 0006_000392.wav\n"
     ]
    },
    {
     "name": "stderr",
     "output_type": "stream",
     "text": [
      "Processing files:   5%|▍         | 954/19777 [00:52<14:42, 21.33it/s]"
     ]
    },
    {
     "name": "stdout",
     "output_type": "stream",
     "text": [
      "✓ Processed: 0006_000393.wav\n",
      "✓ Processed: 0006_000394.wav\n",
      "✓ Processed: 0006_000395.wav\n",
      "✓ Processed: 0006_000396.wav\n",
      "✓ Processed: 0006_000397.wav\n"
     ]
    },
    {
     "name": "stderr",
     "output_type": "stream",
     "text": [
      "Processing files:   5%|▍         | 960/19777 [00:52<15:03, 20.84it/s]"
     ]
    },
    {
     "name": "stdout",
     "output_type": "stream",
     "text": [
      "✓ Processed: 0006_000398.wav\n",
      "✓ Processed: 0006_000402.wav\n",
      "✓ Processed: 0006_000404.wav\n",
      "✓ Processed: 0006_000407.wav\n"
     ]
    },
    {
     "name": "stderr",
     "output_type": "stream",
     "text": [
      "Processing files:   5%|▍         | 963/19777 [00:52<14:52, 21.08it/s]"
     ]
    },
    {
     "name": "stdout",
     "output_type": "stream",
     "text": [
      "✓ Processed: 0006_000408.wav\n",
      "✓ Processed: 0006_000411.wav\n",
      "✓ Processed: 0006_000413.wav\n",
      "✓ Processed: 0006_000415.wav\n",
      "✓ Processed: 0006_000416.wav\n"
     ]
    },
    {
     "name": "stderr",
     "output_type": "stream",
     "text": [
      "Processing files:   5%|▍         | 969/19777 [00:53<14:07, 22.20it/s]"
     ]
    },
    {
     "name": "stdout",
     "output_type": "stream",
     "text": [
      "✓ Processed: 0006_000417.wav\n",
      "✓ Processed: 0006_000418.wav\n",
      "✓ Processed: 0006_000421.wav\n",
      "✓ Processed: 0006_000422.wav\n",
      "✓ Processed: 0006_000425.wav\n"
     ]
    },
    {
     "name": "stderr",
     "output_type": "stream",
     "text": [
      "Processing files:   5%|▍         | 972/19777 [00:53<14:00, 22.37it/s]"
     ]
    },
    {
     "name": "stdout",
     "output_type": "stream",
     "text": [
      "✓ Processed: 0006_000427.wav\n",
      "✓ Processed: 0006_000429.wav\n",
      "✓ Processed: 0006_000431.wav\n",
      "✓ Processed: 0006_000433.wav\n"
     ]
    },
    {
     "name": "stderr",
     "output_type": "stream",
     "text": [
      "Processing files:   5%|▍         | 978/19777 [00:53<14:31, 21.56it/s]"
     ]
    },
    {
     "name": "stdout",
     "output_type": "stream",
     "text": [
      "✓ Processed: 0006_000435.wav\n",
      "✓ Processed: 0006_000436.wav\n",
      "✓ Processed: 0006_000438.wav\n",
      "✓ Processed: 0006_000444.wav\n",
      "✓ Processed: 0006_000445.wav\n"
     ]
    },
    {
     "name": "stderr",
     "output_type": "stream",
     "text": [
      "Processing files:   5%|▍         | 981/19777 [00:53<14:40, 21.34it/s]"
     ]
    },
    {
     "name": "stdout",
     "output_type": "stream",
     "text": [
      "✓ Processed: 0006_000448.wav\n",
      "✓ Processed: 0006_000453.wav\n",
      "✓ Processed: 0006_000454.wav\n",
      "✓ Processed: 0006_000455.wav\n"
     ]
    },
    {
     "name": "stderr",
     "output_type": "stream",
     "text": [
      "Processing files:   5%|▍         | 987/19777 [00:53<14:41, 21.32it/s]"
     ]
    },
    {
     "name": "stdout",
     "output_type": "stream",
     "text": [
      "✓ Processed: 0006_000457.wav\n",
      "✓ Processed: 0006_000459.wav\n",
      "✓ Processed: 0006_000461.wav\n",
      "✓ Processed: 0006_000464.wav\n",
      "✓ Processed: 0006_000467.wav\n"
     ]
    },
    {
     "name": "stderr",
     "output_type": "stream",
     "text": [
      "Processing files:   5%|▌         | 993/19777 [00:54<13:55, 22.47it/s]"
     ]
    },
    {
     "name": "stdout",
     "output_type": "stream",
     "text": [
      "✓ Processed: 0006_000468.wav\n",
      "✓ Processed: 0006_000469.wav\n",
      "✓ Processed: 0006_000470.wav\n",
      "✓ Processed: 0006_000471.wav\n",
      "✓ Processed: 0006_000473.wav\n"
     ]
    },
    {
     "name": "stderr",
     "output_type": "stream",
     "text": [
      "Processing files:   5%|▌         | 996/19777 [00:54<14:21, 21.80it/s]"
     ]
    },
    {
     "name": "stdout",
     "output_type": "stream",
     "text": [
      "✓ Processed: 0006_000474.wav\n",
      "✓ Processed: 0006_000476.wav\n",
      "✓ Processed: 0006_000477.wav\n",
      "✓ Processed: 0006_000485.wav\n",
      "✓ Processed: 0006_000487.wav\n"
     ]
    },
    {
     "name": "stderr",
     "output_type": "stream",
     "text": [
      "Processing files:   5%|▌         | 1002/19777 [00:54<14:28, 21.61it/s]"
     ]
    },
    {
     "name": "stdout",
     "output_type": "stream",
     "text": [
      "✓ Processed: 0006_000489.wav\n",
      "✓ Processed: 0006_000491.wav\n",
      "✓ Processed: 0006_000492.wav\n",
      "✓ Processed: 0006_000494.wav\n",
      "✓ Processed: 0006_000495.wav\n"
     ]
    },
    {
     "name": "stderr",
     "output_type": "stream",
     "text": [
      "Processing files:   5%|▌         | 1005/19777 [00:54<14:23, 21.73it/s]"
     ]
    },
    {
     "name": "stdout",
     "output_type": "stream",
     "text": [
      "✓ Processed: 0006_000496.wav\n",
      "✓ Processed: 0006_000497.wav\n",
      "✓ Processed: 0006_000498.wav\n",
      "✓ Processed: 0006_000502.wav\n"
     ]
    },
    {
     "name": "stderr",
     "output_type": "stream",
     "text": [
      "Processing files:   5%|▌         | 1011/19777 [00:55<13:38, 22.94it/s]"
     ]
    },
    {
     "name": "stdout",
     "output_type": "stream",
     "text": [
      "✓ Processed: 0006_000503.wav\n",
      "✓ Processed: 0006_000504.wav\n",
      "✓ Processed: 0006_000505.wav\n",
      "✓ Processed: 0006_000506.wav\n",
      "✓ Processed: 0006_000510.wav\n",
      "✓ Processed: 0006_000511.wav\n"
     ]
    },
    {
     "name": "stderr",
     "output_type": "stream",
     "text": [
      "Processing files:   5%|▌         | 1017/19777 [00:55<13:47, 22.66it/s]"
     ]
    },
    {
     "name": "stdout",
     "output_type": "stream",
     "text": [
      "✓ Processed: 0006_000516.wav\n",
      "✓ Processed: 0006_000518.wav\n",
      "✓ Processed: 0006_000520.wav\n",
      "✓ Processed: 0006_000522.wav\n",
      "✓ Processed: 0006_000524.wav\n"
     ]
    },
    {
     "name": "stderr",
     "output_type": "stream",
     "text": [
      "Processing files:   5%|▌         | 1020/19777 [00:55<13:50, 22.58it/s]"
     ]
    },
    {
     "name": "stdout",
     "output_type": "stream",
     "text": [
      "✓ Processed: 0006_000525.wav\n",
      "✓ Processed: 0006_000526.wav\n",
      "✓ Processed: 0006_000528.wav\n",
      "✓ Processed: 0006_000529.wav\n"
     ]
    },
    {
     "name": "stderr",
     "output_type": "stream",
     "text": [
      "Processing files:   5%|▌         | 1026/19777 [00:55<14:24, 21.68it/s]"
     ]
    },
    {
     "name": "stdout",
     "output_type": "stream",
     "text": [
      "✓ Processed: 0006_000534.wav\n",
      "✓ Processed: 0006_000535.wav\n",
      "✓ Processed: 0006_000538.wav\n",
      "✓ Processed: 0006_000540.wav\n",
      "✓ Processed: 0006_000541.wav\n"
     ]
    },
    {
     "name": "stderr",
     "output_type": "stream",
     "text": [
      "Processing files:   5%|▌         | 1032/19777 [00:56<14:10, 22.05it/s]"
     ]
    },
    {
     "name": "stdout",
     "output_type": "stream",
     "text": [
      "✓ Processed: 0006_000543.wav\n",
      "✓ Processed: 0006_000544.wav\n",
      "✓ Processed: 0006_000549.wav\n",
      "✓ Processed: 0006_000551.wav\n"
     ]
    },
    {
     "name": "stderr",
     "output_type": "stream",
     "text": [
      "Processing files:   5%|▌         | 1035/19777 [00:56<13:59, 22.34it/s]"
     ]
    },
    {
     "name": "stdout",
     "output_type": "stream",
     "text": [
      "✓ Processed: 0006_000552.wav\n",
      "✓ Processed: 0006_000553.wav\n",
      "✓ Processed: 0006_000555.wav\n",
      "✓ Processed: 0006_000558.wav\n",
      "✓ Processed: 0006_000559.wav\n"
     ]
    },
    {
     "name": "stderr",
     "output_type": "stream",
     "text": [
      "Processing files:   5%|▌         | 1041/19777 [00:56<13:51, 22.53it/s]"
     ]
    },
    {
     "name": "stdout",
     "output_type": "stream",
     "text": [
      "✓ Processed: 0006_000560.wav\n",
      "✓ Processed: 0006_000561.wav\n",
      "✓ Processed: 0006_000562.wav\n",
      "✓ Processed: 0006_000563.wav\n",
      "✓ Processed: 0006_000565.wav\n"
     ]
    },
    {
     "name": "stderr",
     "output_type": "stream",
     "text": [
      "Processing files:   5%|▌         | 1044/19777 [00:56<13:58, 22.35it/s]"
     ]
    },
    {
     "name": "stdout",
     "output_type": "stream",
     "text": [
      "✓ Processed: 0006_000566.wav\n",
      "✓ Processed: 0006_000568.wav\n",
      "✓ Processed: 0006_000569.wav\n",
      "✓ Processed: 0006_000570.wav\n",
      "✓ Processed: 0006_000572.wav\n"
     ]
    },
    {
     "name": "stderr",
     "output_type": "stream",
     "text": [
      "Processing files:   5%|▌         | 1050/19777 [00:56<14:21, 21.73it/s]"
     ]
    },
    {
     "name": "stdout",
     "output_type": "stream",
     "text": [
      "✓ Processed: 0006_000573.wav\n",
      "✓ Processed: 0006_000576.wav\n",
      "✓ Processed: 0006_000577.wav\n",
      "✓ Processed: 0006_000580.wav\n"
     ]
    },
    {
     "name": "stderr",
     "output_type": "stream",
     "text": [
      "Processing files:   5%|▌         | 1053/19777 [00:56<14:13, 21.95it/s]"
     ]
    },
    {
     "name": "stdout",
     "output_type": "stream",
     "text": [
      "✓ Processed: 0006_000581.wav\n",
      "✓ Processed: 0006_000582.wav\n",
      "✓ Processed: 0006_000584.wav\n",
      "✓ Processed: 0006_000591.wav\n",
      "✓ Processed: 0006_000592.wav\n"
     ]
    },
    {
     "name": "stderr",
     "output_type": "stream",
     "text": [
      "Processing files:   5%|▌         | 1059/19777 [00:57<14:09, 22.04it/s]"
     ]
    },
    {
     "name": "stdout",
     "output_type": "stream",
     "text": [
      "✓ Processed: 0006_000594.wav\n",
      "✓ Processed: 0006_000595.wav\n",
      "✓ Processed: 0006_000600.wav\n",
      "✓ Processed: 0006_000601.wav\n",
      "✓ Processed: 0006_000602.wav\n"
     ]
    },
    {
     "name": "stderr",
     "output_type": "stream",
     "text": [
      "Processing files:   5%|▌         | 1065/19777 [00:57<13:52, 22.48it/s]"
     ]
    },
    {
     "name": "stdout",
     "output_type": "stream",
     "text": [
      "✓ Processed: 0006_000603.wav\n",
      "✓ Processed: 0006_000611.wav\n",
      "✓ Processed: 0006_000612.wav\n",
      "✓ Processed: 0006_000616.wav\n"
     ]
    },
    {
     "name": "stderr",
     "output_type": "stream",
     "text": [
      "Processing files:   5%|▌         | 1068/19777 [00:57<13:49, 22.55it/s]"
     ]
    },
    {
     "name": "stdout",
     "output_type": "stream",
     "text": [
      "✓ Processed: 0006_000619.wav\n",
      "✓ Processed: 0006_000621.wav\n",
      "✓ Processed: 0006_000622.wav\n",
      "✓ Processed: 0006_000624.wav\n",
      "✓ Processed: 0006_000625.wav\n"
     ]
    },
    {
     "name": "stderr",
     "output_type": "stream",
     "text": [
      "Processing files:   5%|▌         | 1074/19777 [00:57<14:13, 21.92it/s]"
     ]
    },
    {
     "name": "stdout",
     "output_type": "stream",
     "text": [
      "✓ Processed: 0006_000627.wav\n",
      "✓ Processed: 0006_000629.wav\n",
      "✓ Processed: 0006_000630.wav\n",
      "✓ Processed: 0006_000632.wav\n"
     ]
    },
    {
     "name": "stderr",
     "output_type": "stream",
     "text": [
      "Processing files:   5%|▌         | 1077/19777 [00:58<14:18, 21.78it/s]"
     ]
    },
    {
     "name": "stdout",
     "output_type": "stream",
     "text": [
      "✓ Processed: 0006_000633.wav\n",
      "✓ Processed: 0006_000635.wav\n",
      "✓ Processed: 0006_000636.wav\n",
      "✓ Processed: 0006_000637.wav\n",
      "✓ Processed: 0006_000638.wav\n"
     ]
    },
    {
     "name": "stderr",
     "output_type": "stream",
     "text": [
      "Processing files:   5%|▌         | 1083/19777 [00:58<14:03, 22.16it/s]"
     ]
    },
    {
     "name": "stdout",
     "output_type": "stream",
     "text": [
      "✓ Processed: 0006_000641.wav\n",
      "✓ Processed: 0006_000642.wav\n",
      "✓ Processed: 0006_000645.wav\n",
      "✓ Processed: 0006_000646.wav\n",
      "✓ Processed: 0006_000648.wav\n"
     ]
    },
    {
     "name": "stderr",
     "output_type": "stream",
     "text": [
      "Processing files:   5%|▌         | 1086/19777 [00:58<14:09, 22.00it/s]"
     ]
    },
    {
     "name": "stdout",
     "output_type": "stream",
     "text": [
      "✓ Processed: 0006_000649.wav\n",
      "✓ Processed: 0006_000651.wav\n",
      "✓ Processed: 0006_000654.wav\n",
      "✓ Processed: 0006_000657.wav\n",
      "✓ Processed: 0006_000660.wav\n"
     ]
    },
    {
     "name": "stderr",
     "output_type": "stream",
     "text": [
      "Processing files:   6%|▌         | 1092/19777 [00:58<14:18, 21.77it/s]"
     ]
    },
    {
     "name": "stdout",
     "output_type": "stream",
     "text": [
      "✓ Processed: 0006_000664.wav\n",
      "✓ Processed: 0006_000665.wav\n",
      "✓ Processed: 0006_000666.wav\n",
      "✓ Processed: 0006_000668.wav\n",
      "✓ Processed: 0006_000677.wav\n"
     ]
    },
    {
     "name": "stderr",
     "output_type": "stream",
     "text": [
      "Processing files:   6%|▌         | 1098/19777 [00:59<14:25, 21.58it/s]"
     ]
    },
    {
     "name": "stdout",
     "output_type": "stream",
     "text": [
      "✓ Processed: 0006_000678.wav\n",
      "✓ Processed: 0006_000681.wav\n",
      "✓ Processed: 0006_000682.wav\n",
      "✓ Processed: 0006_000683.wav\n"
     ]
    },
    {
     "name": "stderr",
     "output_type": "stream",
     "text": [
      "Processing files:   6%|▌         | 1101/19777 [00:59<14:16, 21.80it/s]"
     ]
    },
    {
     "name": "stdout",
     "output_type": "stream",
     "text": [
      "✓ Processed: 0006_000684.wav\n",
      "✓ Processed: 0006_000686.wav\n",
      "✓ Processed: 0006_000688.wav\n",
      "✓ Processed: 0006_000689.wav\n",
      "✓ Processed: 0006_000692.wav\n"
     ]
    },
    {
     "name": "stderr",
     "output_type": "stream",
     "text": [
      "Processing files:   6%|▌         | 1107/19777 [00:59<13:30, 23.04it/s]"
     ]
    },
    {
     "name": "stdout",
     "output_type": "stream",
     "text": [
      "✓ Processed: 0006_000693.wav\n",
      "✓ Processed: 0006_000694.wav\n",
      "✓ Processed: 0006_000695.wav\n",
      "✓ Processed: 0006_000696.wav\n",
      "✓ Processed: 0006_000700.wav\n"
     ]
    },
    {
     "name": "stderr",
     "output_type": "stream",
     "text": [
      "Processing files:   6%|▌         | 1110/19777 [00:59<15:24, 20.19it/s]"
     ]
    },
    {
     "name": "stdout",
     "output_type": "stream",
     "text": [
      "✓ Processed: 0007_000352.wav\n",
      "✓ Processed: 0007_000354.wav\n",
      "✓ Processed: 0007_000356.wav\n",
      "✓ Processed: 0007_000357.wav\n"
     ]
    },
    {
     "name": "stderr",
     "output_type": "stream",
     "text": [
      "Processing files:   6%|▌         | 1113/19777 [00:59<14:56, 20.82it/s]"
     ]
    },
    {
     "name": "stdout",
     "output_type": "stream",
     "text": [
      "✓ Processed: 0007_000358.wav\n",
      "✓ Processed: 0007_000359.wav\n",
      "✓ Processed: 0007_000360.wav\n",
      "✓ Processed: 0007_000361.wav\n"
     ]
    },
    {
     "name": "stderr",
     "output_type": "stream",
     "text": [
      "Processing files:   6%|▌         | 1119/19777 [01:00<14:42, 21.15it/s]"
     ]
    },
    {
     "name": "stdout",
     "output_type": "stream",
     "text": [
      "✓ Processed: 0007_000362.wav\n",
      "✓ Processed: 0007_000364.wav\n",
      "✓ Processed: 0007_000365.wav\n",
      "✓ Processed: 0007_000366.wav\n",
      "✓ Processed: 0007_000367.wav\n"
     ]
    },
    {
     "name": "stderr",
     "output_type": "stream",
     "text": [
      "Processing files:   6%|▌         | 1125/19777 [01:00<14:15, 21.81it/s]"
     ]
    },
    {
     "name": "stdout",
     "output_type": "stream",
     "text": [
      "✓ Processed: 0007_000368.wav\n",
      "✓ Processed: 0007_000369.wav\n",
      "✓ Processed: 0007_000372.wav\n",
      "✓ Processed: 0007_000373.wav\n",
      "✓ Processed: 0007_000375.wav\n"
     ]
    },
    {
     "name": "stderr",
     "output_type": "stream",
     "text": [
      "Processing files:   6%|▌         | 1128/19777 [01:00<14:11, 21.91it/s]"
     ]
    },
    {
     "name": "stdout",
     "output_type": "stream",
     "text": [
      "✓ Processed: 0007_000378.wav\n",
      "✓ Processed: 0007_000379.wav\n",
      "✓ Processed: 0007_000380.wav\n",
      "✓ Processed: 0007_000381.wav\n",
      "✓ Processed: 0007_000383.wav\n"
     ]
    },
    {
     "name": "stderr",
     "output_type": "stream",
     "text": [
      "Processing files:   6%|▌         | 1134/19777 [01:00<13:39, 22.75it/s]"
     ]
    },
    {
     "name": "stdout",
     "output_type": "stream",
     "text": [
      "✓ Processed: 0007_000384.wav\n",
      "✓ Processed: 0007_000385.wav\n",
      "✓ Processed: 0007_000388.wav\n",
      "✓ Processed: 0007_000389.wav\n",
      "✓ Processed: 0007_000390.wav\n"
     ]
    },
    {
     "name": "stderr",
     "output_type": "stream",
     "text": [
      "Processing files:   6%|▌         | 1140/19777 [01:00<13:41, 22.69it/s]"
     ]
    },
    {
     "name": "stdout",
     "output_type": "stream",
     "text": [
      "✓ Processed: 0007_000392.wav\n",
      "✓ Processed: 0007_000393.wav\n",
      "✓ Processed: 0007_000394.wav\n",
      "✓ Processed: 0007_000396.wav\n",
      "✓ Processed: 0007_000397.wav\n"
     ]
    },
    {
     "name": "stderr",
     "output_type": "stream",
     "text": [
      "Processing files:   6%|▌         | 1143/19777 [01:01<13:32, 22.93it/s]"
     ]
    },
    {
     "name": "stdout",
     "output_type": "stream",
     "text": [
      "✓ Processed: 0007_000398.wav\n",
      "✓ Processed: 0007_000400.wav\n",
      "✓ Processed: 0007_000401.wav\n",
      "✓ Processed: 0007_000403.wav\n",
      "✓ Processed: 0007_000404.wav\n"
     ]
    },
    {
     "name": "stderr",
     "output_type": "stream",
     "text": [
      "Processing files:   6%|▌         | 1149/19777 [01:01<13:56, 22.26it/s]"
     ]
    },
    {
     "name": "stdout",
     "output_type": "stream",
     "text": [
      "✓ Processed: 0007_000406.wav\n",
      "✓ Processed: 0007_000407.wav\n",
      "✓ Processed: 0007_000408.wav\n",
      "✓ Processed: 0007_000410.wav\n",
      "✓ Processed: 0007_000411.wav\n"
     ]
    },
    {
     "name": "stderr",
     "output_type": "stream",
     "text": [
      "Processing files:   6%|▌         | 1155/19777 [01:01<13:43, 22.60it/s]"
     ]
    },
    {
     "name": "stdout",
     "output_type": "stream",
     "text": [
      "✓ Processed: 0007_000413.wav\n",
      "✓ Processed: 0007_000415.wav\n",
      "✓ Processed: 0007_000419.wav\n",
      "✓ Processed: 0007_000422.wav\n",
      "✓ Processed: 0007_000423.wav\n"
     ]
    },
    {
     "name": "stderr",
     "output_type": "stream",
     "text": [
      "Processing files:   6%|▌         | 1161/19777 [01:01<13:30, 22.96it/s]"
     ]
    },
    {
     "name": "stdout",
     "output_type": "stream",
     "text": [
      "✓ Processed: 0007_000426.wav\n",
      "✓ Processed: 0007_000427.wav\n",
      "✓ Processed: 0007_000428.wav\n",
      "✓ Processed: 0007_000429.wav\n",
      "✓ Processed: 0007_000432.wav\n"
     ]
    },
    {
     "name": "stderr",
     "output_type": "stream",
     "text": [
      "Processing files:   6%|▌         | 1164/19777 [01:02<13:42, 22.63it/s]"
     ]
    },
    {
     "name": "stdout",
     "output_type": "stream",
     "text": [
      "✓ Processed: 0007_000434.wav\n",
      "✓ Processed: 0007_000436.wav\n",
      "✓ Processed: 0007_000437.wav\n",
      "✓ Processed: 0007_000438.wav\n",
      "✓ Processed: 0007_000439.wav\n"
     ]
    },
    {
     "name": "stderr",
     "output_type": "stream",
     "text": [
      "Processing files:   6%|▌         | 1170/19777 [01:02<14:13, 21.79it/s]"
     ]
    },
    {
     "name": "stdout",
     "output_type": "stream",
     "text": [
      "✓ Processed: 0007_000440.wav\n",
      "✓ Processed: 0007_000443.wav\n",
      "✓ Processed: 0007_000445.wav\n",
      "✓ Processed: 0007_000446.wav\n",
      "✓ Processed: 0007_000447.wav\n"
     ]
    },
    {
     "name": "stderr",
     "output_type": "stream",
     "text": [
      "Processing files:   6%|▌         | 1173/19777 [01:02<14:36, 21.23it/s]"
     ]
    },
    {
     "name": "stdout",
     "output_type": "stream",
     "text": [
      "✓ Processed: 0007_000448.wav\n",
      "✓ Processed: 0007_000449.wav\n",
      "✓ Processed: 0007_000450.wav\n",
      "✓ Processed: 0007_000451.wav\n",
      "✓ Processed: 0007_000458.wav\n"
     ]
    },
    {
     "name": "stderr",
     "output_type": "stream",
     "text": [
      "Processing files:   6%|▌         | 1179/19777 [01:02<14:14, 21.76it/s]"
     ]
    },
    {
     "name": "stdout",
     "output_type": "stream",
     "text": [
      "✓ Processed: 0007_000460.wav\n",
      "✓ Processed: 0007_000461.wav\n",
      "✓ Processed: 0007_000465.wav\n",
      "✓ Processed: 0007_000466.wav\n",
      "✓ Processed: 0007_000468.wav\n",
      "✓ Processed: 0007_000469.wav\n"
     ]
    },
    {
     "name": "stderr",
     "output_type": "stream",
     "text": [
      "Processing files:   6%|▌         | 1185/19777 [01:02<14:02, 22.07it/s]"
     ]
    },
    {
     "name": "stdout",
     "output_type": "stream",
     "text": [
      "✓ Processed: 0007_000472.wav\n",
      "✓ Processed: 0007_000473.wav\n",
      "✓ Processed: 0007_000475.wav\n",
      "✓ Processed: 0007_000477.wav\n",
      "✓ Processed: 0007_000480.wav\n"
     ]
    },
    {
     "name": "stderr",
     "output_type": "stream",
     "text": [
      "Processing files:   6%|▌         | 1191/19777 [01:03<13:33, 22.85it/s]"
     ]
    },
    {
     "name": "stdout",
     "output_type": "stream",
     "text": [
      "✓ Processed: 0007_000483.wav\n",
      "✓ Processed: 0007_000484.wav\n",
      "✓ Processed: 0007_000485.wav\n",
      "✓ Processed: 0007_000486.wav\n",
      "✓ Processed: 0007_000490.wav\n",
      "✓ Processed: 0007_000495.wav\n"
     ]
    },
    {
     "name": "stderr",
     "output_type": "stream",
     "text": [
      "Processing files:   6%|▌         | 1197/19777 [01:03<13:04, 23.68it/s]"
     ]
    },
    {
     "name": "stdout",
     "output_type": "stream",
     "text": [
      "✓ Processed: 0007_000497.wav\n",
      "✓ Processed: 0007_000500.wav\n",
      "✓ Processed: 0007_000502.wav\n",
      "✓ Processed: 0007_000503.wav\n",
      "✓ Processed: 0007_000504.wav\n",
      "✓ Processed: 0007_000505.wav\n"
     ]
    },
    {
     "name": "stderr",
     "output_type": "stream",
     "text": [
      "Processing files:   6%|▌         | 1203/19777 [01:03<13:01, 23.78it/s]"
     ]
    },
    {
     "name": "stdout",
     "output_type": "stream",
     "text": [
      "✓ Processed: 0007_000507.wav\n",
      "✓ Processed: 0007_000509.wav\n",
      "✓ Processed: 0007_000510.wav\n",
      "✓ Processed: 0007_000514.wav\n",
      "✓ Processed: 0007_000515.wav\n"
     ]
    },
    {
     "name": "stderr",
     "output_type": "stream",
     "text": [
      "Processing files:   6%|▌         | 1206/19777 [01:03<13:13, 23.39it/s]"
     ]
    },
    {
     "name": "stdout",
     "output_type": "stream",
     "text": [
      "✓ Processed: 0007_000519.wav\n",
      "✓ Processed: 0007_000521.wav\n",
      "✓ Processed: 0007_000524.wav\n",
      "✓ Processed: 0007_000525.wav\n",
      "✓ Processed: 0007_000526.wav\n"
     ]
    },
    {
     "name": "stderr",
     "output_type": "stream",
     "text": [
      "Processing files:   6%|▌         | 1212/19777 [01:04<13:45, 22.48it/s]"
     ]
    },
    {
     "name": "stdout",
     "output_type": "stream",
     "text": [
      "✓ Processed: 0007_000527.wav\n",
      "✓ Processed: 0007_000528.wav\n",
      "✓ Processed: 0007_000530.wav\n",
      "✓ Processed: 0007_000531.wav\n",
      "✓ Processed: 0007_000534.wav\n"
     ]
    },
    {
     "name": "stderr",
     "output_type": "stream",
     "text": [
      "Processing files:   6%|▌         | 1218/19777 [01:04<13:41, 22.59it/s]"
     ]
    },
    {
     "name": "stdout",
     "output_type": "stream",
     "text": [
      "✓ Processed: 0007_000535.wav\n",
      "✓ Processed: 0007_000536.wav\n",
      "✓ Processed: 0007_000542.wav\n",
      "✓ Processed: 0007_000544.wav\n",
      "✓ Processed: 0007_000545.wav\n"
     ]
    },
    {
     "name": "stderr",
     "output_type": "stream",
     "text": [
      "Processing files:   6%|▌         | 1221/19777 [01:04<13:25, 23.04it/s]"
     ]
    },
    {
     "name": "stdout",
     "output_type": "stream",
     "text": [
      "✓ Processed: 0007_000547.wav\n",
      "✓ Processed: 0007_000548.wav\n",
      "✓ Processed: 0007_000550.wav\n",
      "✓ Processed: 0007_000553.wav\n",
      "✓ Processed: 0007_000555.wav\n"
     ]
    },
    {
     "name": "stderr",
     "output_type": "stream",
     "text": [
      "Processing files:   6%|▌         | 1227/19777 [01:04<13:31, 22.86it/s]"
     ]
    },
    {
     "name": "stdout",
     "output_type": "stream",
     "text": [
      "✓ Processed: 0007_000558.wav\n",
      "✓ Processed: 0007_000561.wav\n",
      "✓ Processed: 0007_000563.wav\n",
      "✓ Processed: 0007_000565.wav\n",
      "✓ Processed: 0007_000566.wav\n",
      "✓ Processed: 0007_000567.wav\n"
     ]
    },
    {
     "name": "stderr",
     "output_type": "stream",
     "text": [
      "Processing files:   6%|▌         | 1233/19777 [01:05<13:04, 23.64it/s]"
     ]
    },
    {
     "name": "stdout",
     "output_type": "stream",
     "text": [
      "✓ Processed: 0007_000568.wav\n",
      "✓ Processed: 0007_000569.wav\n",
      "✓ Processed: 0007_000575.wav\n",
      "✓ Processed: 0007_000576.wav\n",
      "✓ Processed: 0007_000577.wav\n"
     ]
    },
    {
     "name": "stderr",
     "output_type": "stream",
     "text": [
      "Processing files:   6%|▋         | 1239/19777 [01:05<13:22, 23.09it/s]"
     ]
    },
    {
     "name": "stdout",
     "output_type": "stream",
     "text": [
      "✓ Processed: 0007_000580.wav\n",
      "✓ Processed: 0007_000583.wav\n",
      "✓ Processed: 0007_000584.wav\n",
      "✓ Processed: 0007_000585.wav\n",
      "✓ Processed: 0007_000586.wav\n"
     ]
    },
    {
     "name": "stderr",
     "output_type": "stream",
     "text": [
      "Processing files:   6%|▋         | 1242/19777 [01:05<13:37, 22.67it/s]"
     ]
    },
    {
     "name": "stdout",
     "output_type": "stream",
     "text": [
      "✓ Processed: 0007_000588.wav\n",
      "✓ Processed: 0007_000589.wav\n",
      "✓ Processed: 0007_000590.wav\n",
      "✓ Processed: 0007_000592.wav\n",
      "✓ Processed: 0007_000593.wav\n"
     ]
    },
    {
     "name": "stderr",
     "output_type": "stream",
     "text": [
      "Processing files:   6%|▋         | 1248/19777 [01:05<13:36, 22.70it/s]"
     ]
    },
    {
     "name": "stdout",
     "output_type": "stream",
     "text": [
      "✓ Processed: 0007_000595.wav\n",
      "✓ Processed: 0007_000597.wav\n",
      "✓ Processed: 0007_000599.wav\n",
      "✓ Processed: 0007_000601.wav\n",
      "✓ Processed: 0007_000602.wav\n"
     ]
    },
    {
     "name": "stderr",
     "output_type": "stream",
     "text": [
      "Processing files:   6%|▋         | 1254/19777 [01:05<13:32, 22.80it/s]"
     ]
    },
    {
     "name": "stdout",
     "output_type": "stream",
     "text": [
      "✓ Processed: 0007_000604.wav\n",
      "✓ Processed: 0007_000605.wav\n",
      "✓ Processed: 0007_000606.wav\n",
      "✓ Processed: 0007_000608.wav\n",
      "✓ Processed: 0007_000609.wav\n"
     ]
    },
    {
     "name": "stderr",
     "output_type": "stream",
     "text": [
      "Processing files:   6%|▋         | 1257/19777 [01:06<13:38, 22.62it/s]"
     ]
    },
    {
     "name": "stdout",
     "output_type": "stream",
     "text": [
      "✓ Processed: 0007_000610.wav\n",
      "✓ Processed: 0007_000611.wav\n",
      "✓ Processed: 0007_000612.wav\n",
      "✓ Processed: 0007_000613.wav\n",
      "✓ Processed: 0007_000614.wav\n"
     ]
    },
    {
     "name": "stderr",
     "output_type": "stream",
     "text": [
      "Processing files:   6%|▋         | 1263/19777 [01:06<13:27, 22.94it/s]"
     ]
    },
    {
     "name": "stdout",
     "output_type": "stream",
     "text": [
      "✓ Processed: 0007_000616.wav\n",
      "✓ Processed: 0007_000620.wav\n",
      "✓ Processed: 0007_000621.wav\n",
      "✓ Processed: 0007_000624.wav\n",
      "✓ Processed: 0007_000629.wav\n"
     ]
    },
    {
     "name": "stderr",
     "output_type": "stream",
     "text": [
      "Processing files:   6%|▋         | 1269/19777 [01:06<13:27, 22.93it/s]"
     ]
    },
    {
     "name": "stdout",
     "output_type": "stream",
     "text": [
      "✓ Processed: 0007_000632.wav\n",
      "✓ Processed: 0007_000634.wav\n",
      "✓ Processed: 0007_000641.wav\n",
      "✓ Processed: 0007_000642.wav\n",
      "✓ Processed: 0007_000645.wav\n"
     ]
    },
    {
     "name": "stderr",
     "output_type": "stream",
     "text": [
      "Processing files:   6%|▋         | 1272/19777 [01:06<13:56, 22.12it/s]"
     ]
    },
    {
     "name": "stdout",
     "output_type": "stream",
     "text": [
      "✓ Processed: 0007_000646.wav\n",
      "✓ Processed: 0007_000648.wav\n",
      "✓ Processed: 0007_000650.wav\n",
      "✓ Processed: 0007_000653.wav\n",
      "✓ Processed: 0007_000654.wav\n"
     ]
    },
    {
     "name": "stderr",
     "output_type": "stream",
     "text": [
      "Processing files:   6%|▋         | 1278/19777 [01:07<13:50, 22.28it/s]"
     ]
    },
    {
     "name": "stdout",
     "output_type": "stream",
     "text": [
      "✓ Processed: 0007_000655.wav\n",
      "✓ Processed: 0007_000656.wav\n",
      "✓ Processed: 0007_000657.wav\n",
      "✓ Processed: 0007_000660.wav\n",
      "✓ Processed: 0007_000661.wav\n"
     ]
    },
    {
     "name": "stderr",
     "output_type": "stream",
     "text": [
      "Processing files:   6%|▋         | 1284/19777 [01:07<13:39, 22.56it/s]"
     ]
    },
    {
     "name": "stdout",
     "output_type": "stream",
     "text": [
      "✓ Processed: 0007_000666.wav\n",
      "✓ Processed: 0007_000667.wav\n",
      "✓ Processed: 0007_000668.wav\n",
      "✓ Processed: 0007_000669.wav\n",
      "✓ Processed: 0007_000670.wav\n"
     ]
    },
    {
     "name": "stderr",
     "output_type": "stream",
     "text": [
      "Processing files:   7%|▋         | 1287/19777 [01:07<13:47, 22.33it/s]"
     ]
    },
    {
     "name": "stdout",
     "output_type": "stream",
     "text": [
      "✓ Processed: 0007_000671.wav\n",
      "✓ Processed: 0007_000672.wav\n",
      "✓ Processed: 0007_000673.wav\n",
      "✓ Processed: 0007_000674.wav\n",
      "✓ Processed: 0007_000678.wav\n"
     ]
    },
    {
     "name": "stderr",
     "output_type": "stream",
     "text": [
      "Processing files:   7%|▋         | 1293/19777 [01:07<13:39, 22.55it/s]"
     ]
    },
    {
     "name": "stdout",
     "output_type": "stream",
     "text": [
      "✓ Processed: 0007_000679.wav\n",
      "✓ Processed: 0007_000680.wav\n",
      "✓ Processed: 0007_000681.wav\n",
      "✓ Processed: 0007_000684.wav\n",
      "✓ Processed: 0007_000685.wav\n"
     ]
    },
    {
     "name": "stderr",
     "output_type": "stream",
     "text": [
      "Processing files:   7%|▋         | 1299/19777 [01:07<12:58, 23.72it/s]"
     ]
    },
    {
     "name": "stdout",
     "output_type": "stream",
     "text": [
      "✓ Processed: 0007_000686.wav\n",
      "✓ Processed: 0007_000687.wav\n",
      "✓ Processed: 0007_000688.wav\n",
      "✓ Processed: 0007_000692.wav\n",
      "✓ Processed: 0007_000695.wav\n"
     ]
    },
    {
     "name": "stderr",
     "output_type": "stream",
     "text": [
      "Processing files:   7%|▋         | 1302/19777 [01:08<13:16, 23.18it/s]"
     ]
    },
    {
     "name": "stdout",
     "output_type": "stream",
     "text": [
      "✓ Processed: 0007_000696.wav\n",
      "✓ Processed: 0007_000697.wav\n",
      "✓ Processed: 0007_000698.wav\n",
      "✓ Processed: 0007_000699.wav\n",
      "✓ Processed: 0007_000700.wav\n"
     ]
    },
    {
     "name": "stderr",
     "output_type": "stream",
     "text": [
      "Processing files:   7%|▋         | 1308/19777 [01:08<13:24, 22.96it/s]"
     ]
    },
    {
     "name": "stdout",
     "output_type": "stream",
     "text": [
      "✓ Processed: 0008_000352.wav\n",
      "✓ Processed: 0008_000353.wav\n",
      "✓ Processed: 0008_000355.wav\n",
      "✓ Processed: 0008_000356.wav\n",
      "✓ Processed: 0008_000361.wav\n"
     ]
    },
    {
     "name": "stderr",
     "output_type": "stream",
     "text": [
      "Processing files:   7%|▋         | 1314/19777 [01:08<13:50, 22.23it/s]"
     ]
    },
    {
     "name": "stdout",
     "output_type": "stream",
     "text": [
      "✓ Processed: 0008_000365.wav\n",
      "✓ Processed: 0008_000367.wav\n",
      "✓ Processed: 0008_000368.wav\n",
      "✓ Processed: 0008_000369.wav\n"
     ]
    },
    {
     "name": "stderr",
     "output_type": "stream",
     "text": [
      "Processing files:   7%|▋         | 1317/19777 [01:08<13:58, 22.01it/s]"
     ]
    },
    {
     "name": "stdout",
     "output_type": "stream",
     "text": [
      "✓ Processed: 0008_000373.wav\n",
      "✓ Processed: 0008_000375.wav\n",
      "✓ Processed: 0008_000377.wav\n",
      "✓ Processed: 0008_000378.wav\n",
      "✓ Processed: 0008_000388.wav\n"
     ]
    },
    {
     "name": "stderr",
     "output_type": "stream",
     "text": [
      "Processing files:   7%|▋         | 1323/19777 [01:09<13:49, 22.25it/s]"
     ]
    },
    {
     "name": "stdout",
     "output_type": "stream",
     "text": [
      "✓ Processed: 0008_000391.wav\n",
      "✓ Processed: 0008_000395.wav\n",
      "✓ Processed: 0008_000397.wav\n",
      "✓ Processed: 0008_000401.wav\n",
      "✓ Processed: 0008_000403.wav\n"
     ]
    },
    {
     "name": "stderr",
     "output_type": "stream",
     "text": [
      "Processing files:   7%|▋         | 1326/19777 [01:09<13:58, 22.00it/s]"
     ]
    },
    {
     "name": "stdout",
     "output_type": "stream",
     "text": [
      "✓ Processed: 0008_000404.wav\n",
      "✓ Processed: 0008_000406.wav\n",
      "✓ Processed: 0008_000407.wav\n",
      "✓ Processed: 0008_000410.wav\n",
      "✓ Processed: 0008_000411.wav\n"
     ]
    },
    {
     "name": "stderr",
     "output_type": "stream",
     "text": [
      "Processing files:   7%|▋         | 1332/19777 [01:09<13:39, 22.52it/s]"
     ]
    },
    {
     "name": "stdout",
     "output_type": "stream",
     "text": [
      "✓ Processed: 0008_000413.wav\n",
      "✓ Processed: 0008_000414.wav\n",
      "✓ Processed: 0008_000415.wav\n",
      "✓ Processed: 0008_000416.wav\n",
      "✓ Processed: 0008_000421.wav\n"
     ]
    },
    {
     "name": "stderr",
     "output_type": "stream",
     "text": [
      "Processing files:   7%|▋         | 1338/19777 [01:09<13:28, 22.80it/s]"
     ]
    },
    {
     "name": "stdout",
     "output_type": "stream",
     "text": [
      "✓ Processed: 0008_000422.wav\n",
      "✓ Processed: 0008_000428.wav\n",
      "✓ Processed: 0008_000429.wav\n",
      "✓ Processed: 0008_000432.wav\n",
      "✓ Processed: 0008_000433.wav\n",
      "✓ Processed: 0008_000436.wav\n"
     ]
    },
    {
     "name": "stderr",
     "output_type": "stream",
     "text": [
      "Processing files:   7%|▋         | 1344/19777 [01:09<13:32, 22.70it/s]"
     ]
    },
    {
     "name": "stdout",
     "output_type": "stream",
     "text": [
      "✓ Processed: 0008_000438.wav\n",
      "✓ Processed: 0008_000441.wav\n",
      "✓ Processed: 0008_000442.wav\n",
      "✓ Processed: 0008_000445.wav\n",
      "✓ Processed: 0008_000446.wav\n"
     ]
    },
    {
     "name": "stderr",
     "output_type": "stream",
     "text": [
      "Processing files:   7%|▋         | 1347/19777 [01:10<13:34, 22.62it/s]"
     ]
    },
    {
     "name": "stdout",
     "output_type": "stream",
     "text": [
      "✓ Processed: 0008_000447.wav\n",
      "✓ Processed: 0008_000449.wav\n",
      "✓ Processed: 0008_000452.wav\n",
      "✓ Processed: 0008_000454.wav\n",
      "✓ Processed: 0008_000455.wav\n"
     ]
    },
    {
     "name": "stderr",
     "output_type": "stream",
     "text": [
      "Processing files:   7%|▋         | 1353/19777 [01:10<13:44, 22.36it/s]"
     ]
    },
    {
     "name": "stdout",
     "output_type": "stream",
     "text": [
      "✓ Processed: 0008_000457.wav\n",
      "✓ Processed: 0008_000458.wav\n",
      "✓ Processed: 0008_000459.wav\n",
      "✓ Processed: 0008_000462.wav\n",
      "✓ Processed: 0008_000463.wav\n"
     ]
    },
    {
     "name": "stderr",
     "output_type": "stream",
     "text": [
      "Processing files:   7%|▋         | 1359/19777 [01:10<13:24, 22.89it/s]"
     ]
    },
    {
     "name": "stdout",
     "output_type": "stream",
     "text": [
      "✓ Processed: 0008_000464.wav\n",
      "✓ Processed: 0008_000465.wav\n",
      "✓ Processed: 0008_000474.wav\n",
      "✓ Processed: 0008_000475.wav\n",
      "✓ Processed: 0008_000478.wav\n"
     ]
    },
    {
     "name": "stderr",
     "output_type": "stream",
     "text": [
      "Processing files:   7%|▋         | 1362/19777 [01:10<13:28, 22.77it/s]"
     ]
    },
    {
     "name": "stdout",
     "output_type": "stream",
     "text": [
      "✓ Processed: 0008_000479.wav\n",
      "✓ Processed: 0008_000480.wav\n",
      "✓ Processed: 0008_000481.wav\n",
      "✓ Processed: 0008_000484.wav\n",
      "✓ Processed: 0008_000485.wav\n"
     ]
    },
    {
     "name": "stderr",
     "output_type": "stream",
     "text": [
      "Processing files:   7%|▋         | 1368/19777 [01:10<13:04, 23.46it/s]"
     ]
    },
    {
     "name": "stdout",
     "output_type": "stream",
     "text": [
      "✓ Processed: 0008_000486.wav\n",
      "✓ Processed: 0008_000487.wav\n",
      "✓ Processed: 0008_000488.wav\n",
      "✓ Processed: 0008_000490.wav\n",
      "✓ Processed: 0008_000491.wav\n"
     ]
    },
    {
     "name": "stderr",
     "output_type": "stream",
     "text": [
      "Processing files:   7%|▋         | 1374/19777 [01:11<13:54, 22.06it/s]"
     ]
    },
    {
     "name": "stdout",
     "output_type": "stream",
     "text": [
      "✓ Processed: 0008_000492.wav\n",
      "✓ Processed: 0008_000493.wav\n",
      "✓ Processed: 0008_000496.wav\n",
      "✓ Processed: 0008_000500.wav\n"
     ]
    },
    {
     "name": "stderr",
     "output_type": "stream",
     "text": [
      "Processing files:   7%|▋         | 1377/19777 [01:11<14:07, 21.72it/s]"
     ]
    },
    {
     "name": "stdout",
     "output_type": "stream",
     "text": [
      "✓ Processed: 0008_000501.wav\n",
      "✓ Processed: 0008_000503.wav\n",
      "✓ Processed: 0008_000507.wav\n",
      "✓ Processed: 0008_000509.wav\n",
      "✓ Processed: 0008_000510.wav\n"
     ]
    },
    {
     "name": "stderr",
     "output_type": "stream",
     "text": [
      "Processing files:   7%|▋         | 1383/19777 [01:11<13:46, 22.25it/s]"
     ]
    },
    {
     "name": "stdout",
     "output_type": "stream",
     "text": [
      "✓ Processed: 0008_000511.wav\n",
      "✓ Processed: 0008_000512.wav\n",
      "✓ Processed: 0008_000513.wav\n",
      "✓ Processed: 0008_000519.wav\n",
      "✓ Processed: 0008_000520.wav\n"
     ]
    },
    {
     "name": "stderr",
     "output_type": "stream",
     "text": [
      "Processing files:   7%|▋         | 1386/19777 [01:11<13:45, 22.27it/s]"
     ]
    },
    {
     "name": "stdout",
     "output_type": "stream",
     "text": [
      "✓ Processed: 0008_000521.wav\n",
      "✓ Processed: 0008_000523.wav\n",
      "✓ Processed: 0008_000524.wav\n",
      "✓ Processed: 0008_000525.wav\n",
      "✓ Processed: 0008_000526.wav\n"
     ]
    },
    {
     "name": "stderr",
     "output_type": "stream",
     "text": [
      "Processing files:   7%|▋         | 1392/19777 [01:12<13:57, 21.96it/s]"
     ]
    },
    {
     "name": "stdout",
     "output_type": "stream",
     "text": [
      "✓ Processed: 0008_000528.wav\n",
      "✓ Processed: 0008_000533.wav\n",
      "✓ Processed: 0008_000535.wav\n",
      "✓ Processed: 0008_000536.wav\n",
      "✓ Processed: 0008_000538.wav\n"
     ]
    },
    {
     "name": "stderr",
     "output_type": "stream",
     "text": [
      "Processing files:   7%|▋         | 1398/19777 [01:12<14:04, 21.77it/s]"
     ]
    },
    {
     "name": "stdout",
     "output_type": "stream",
     "text": [
      "✓ Processed: 0008_000539.wav\n",
      "✓ Processed: 0008_000540.wav\n",
      "✓ Processed: 0008_000541.wav\n",
      "✓ Processed: 0008_000546.wav\n",
      "✓ Processed: 0008_000547.wav\n"
     ]
    },
    {
     "name": "stderr",
     "output_type": "stream",
     "text": [
      "Processing files:   7%|▋         | 1401/19777 [01:12<14:08, 21.67it/s]"
     ]
    },
    {
     "name": "stdout",
     "output_type": "stream",
     "text": [
      "✓ Processed: 0008_000549.wav\n",
      "✓ Processed: 0008_000550.wav\n",
      "✓ Processed: 0008_000551.wav\n",
      "✓ Processed: 0008_000552.wav\n",
      "✓ Processed: 0008_000553.wav\n"
     ]
    },
    {
     "name": "stderr",
     "output_type": "stream",
     "text": [
      "Processing files:   7%|▋         | 1407/19777 [01:12<13:34, 22.56it/s]"
     ]
    },
    {
     "name": "stdout",
     "output_type": "stream",
     "text": [
      "✓ Processed: 0008_000554.wav\n",
      "✓ Processed: 0008_000557.wav\n",
      "✓ Processed: 0008_000558.wav\n",
      "✓ Processed: 0008_000560.wav\n",
      "✓ Processed: 0008_000562.wav\n"
     ]
    },
    {
     "name": "stderr",
     "output_type": "stream",
     "text": [
      "Processing files:   7%|▋         | 1413/19777 [01:13<13:26, 22.76it/s]"
     ]
    },
    {
     "name": "stdout",
     "output_type": "stream",
     "text": [
      "✓ Processed: 0008_000566.wav\n",
      "✓ Processed: 0008_000569.wav\n",
      "✓ Processed: 0008_000571.wav\n",
      "✓ Processed: 0008_000572.wav\n",
      "✓ Processed: 0008_000573.wav\n"
     ]
    },
    {
     "name": "stderr",
     "output_type": "stream",
     "text": [
      "Processing files:   7%|▋         | 1416/19777 [01:13<13:28, 22.70it/s]"
     ]
    },
    {
     "name": "stdout",
     "output_type": "stream",
     "text": [
      "✓ Processed: 0008_000575.wav\n",
      "✓ Processed: 0008_000576.wav\n",
      "✓ Processed: 0008_000582.wav\n",
      "✓ Processed: 0008_000583.wav\n",
      "✓ Processed: 0008_000584.wav\n"
     ]
    },
    {
     "name": "stderr",
     "output_type": "stream",
     "text": [
      "Processing files:   7%|▋         | 1422/19777 [01:13<13:36, 22.47it/s]"
     ]
    },
    {
     "name": "stdout",
     "output_type": "stream",
     "text": [
      "✓ Processed: 0008_000586.wav\n",
      "✓ Processed: 0008_000587.wav\n",
      "✓ Processed: 0008_000591.wav\n",
      "✓ Processed: 0008_000592.wav\n",
      "✓ Processed: 0008_000593.wav\n"
     ]
    },
    {
     "name": "stderr",
     "output_type": "stream",
     "text": [
      "Processing files:   7%|▋         | 1428/19777 [01:13<13:59, 21.87it/s]"
     ]
    },
    {
     "name": "stdout",
     "output_type": "stream",
     "text": [
      "✓ Processed: 0008_000595.wav\n",
      "✓ Processed: 0008_000599.wav\n",
      "✓ Processed: 0008_000600.wav\n",
      "✓ Processed: 0008_000602.wav\n"
     ]
    },
    {
     "name": "stderr",
     "output_type": "stream",
     "text": [
      "Processing files:   7%|▋         | 1431/19777 [01:13<13:39, 22.38it/s]"
     ]
    },
    {
     "name": "stdout",
     "output_type": "stream",
     "text": [
      "✓ Processed: 0008_000604.wav\n",
      "✓ Processed: 0008_000605.wav\n",
      "✓ Processed: 0008_000608.wav\n",
      "✓ Processed: 0008_000612.wav\n",
      "✓ Processed: 0008_000614.wav\n"
     ]
    },
    {
     "name": "stderr",
     "output_type": "stream",
     "text": [
      "Processing files:   7%|▋         | 1437/19777 [01:14<13:37, 22.44it/s]"
     ]
    },
    {
     "name": "stdout",
     "output_type": "stream",
     "text": [
      "✓ Processed: 0008_000617.wav\n",
      "✓ Processed: 0008_000619.wav\n",
      "✓ Processed: 0008_000620.wav\n",
      "✓ Processed: 0008_000621.wav\n",
      "✓ Processed: 0008_000622.wav\n"
     ]
    },
    {
     "name": "stderr",
     "output_type": "stream",
     "text": [
      "Processing files:   7%|▋         | 1440/19777 [01:14<13:40, 22.36it/s]"
     ]
    },
    {
     "name": "stdout",
     "output_type": "stream",
     "text": [
      "✓ Processed: 0008_000623.wav\n",
      "✓ Processed: 0008_000624.wav\n",
      "✓ Processed: 0008_000625.wav\n",
      "✓ Processed: 0008_000627.wav\n",
      "✓ Processed: 0008_000628.wav\n"
     ]
    },
    {
     "name": "stderr",
     "output_type": "stream",
     "text": [
      "Processing files:   7%|▋         | 1446/19777 [01:14<13:45, 22.22it/s]"
     ]
    },
    {
     "name": "stdout",
     "output_type": "stream",
     "text": [
      "✓ Processed: 0008_000633.wav\n",
      "✓ Processed: 0008_000637.wav\n",
      "✓ Processed: 0008_000639.wav\n",
      "✓ Processed: 0008_000640.wav\n",
      "✓ Processed: 0008_000643.wav\n"
     ]
    },
    {
     "name": "stderr",
     "output_type": "stream",
     "text": [
      "Processing files:   7%|▋         | 1452/19777 [01:14<14:08, 21.59it/s]"
     ]
    },
    {
     "name": "stdout",
     "output_type": "stream",
     "text": [
      "✓ Processed: 0008_000644.wav\n",
      "✓ Processed: 0008_000647.wav\n",
      "✓ Processed: 0008_000648.wav\n",
      "✓ Processed: 0008_000650.wav\n"
     ]
    },
    {
     "name": "stderr",
     "output_type": "stream",
     "text": [
      "Processing files:   7%|▋         | 1455/19777 [01:14<14:01, 21.77it/s]"
     ]
    },
    {
     "name": "stdout",
     "output_type": "stream",
     "text": [
      "✓ Processed: 0008_000652.wav\n",
      "✓ Processed: 0008_000653.wav\n",
      "✓ Processed: 0008_000656.wav\n",
      "✓ Processed: 0008_000657.wav\n",
      "✓ Processed: 0008_000660.wav\n"
     ]
    },
    {
     "name": "stderr",
     "output_type": "stream",
     "text": [
      "Processing files:   7%|▋         | 1461/19777 [01:15<13:42, 22.26it/s]"
     ]
    },
    {
     "name": "stdout",
     "output_type": "stream",
     "text": [
      "✓ Processed: 0008_000664.wav\n",
      "✓ Processed: 0008_000666.wav\n",
      "✓ Processed: 0008_000669.wav\n",
      "✓ Processed: 0008_000672.wav\n",
      "✓ Processed: 0008_000674.wav\n"
     ]
    },
    {
     "name": "stderr",
     "output_type": "stream",
     "text": [
      "Processing files:   7%|▋         | 1464/19777 [01:15<13:25, 22.74it/s]"
     ]
    },
    {
     "name": "stdout",
     "output_type": "stream",
     "text": [
      "✓ Processed: 0008_000676.wav\n",
      "✓ Processed: 0008_000678.wav\n",
      "✓ Processed: 0008_000679.wav\n",
      "✓ Processed: 0008_000680.wav\n",
      "✓ Processed: 0008_000681.wav\n"
     ]
    },
    {
     "name": "stderr",
     "output_type": "stream",
     "text": [
      "Processing files:   7%|▋         | 1470/19777 [01:15<13:29, 22.61it/s]"
     ]
    },
    {
     "name": "stdout",
     "output_type": "stream",
     "text": [
      "✓ Processed: 0008_000685.wav\n",
      "✓ Processed: 0008_000687.wav\n",
      "✓ Processed: 0008_000689.wav\n",
      "✓ Processed: 0008_000690.wav\n",
      "✓ Processed: 0008_000693.wav\n"
     ]
    },
    {
     "name": "stderr",
     "output_type": "stream",
     "text": [
      "Processing files:   7%|▋         | 1476/19777 [01:15<13:46, 22.16it/s]"
     ]
    },
    {
     "name": "stdout",
     "output_type": "stream",
     "text": [
      "✓ Processed: 0008_000699.wav\n",
      "✓ Processed: 0008_000700.wav\n",
      "✓ Processed: 0009_000351.wav\n",
      "✓ Processed: 0009_000353.wav\n",
      "✓ Processed: 0009_000357.wav\n"
     ]
    },
    {
     "name": "stderr",
     "output_type": "stream",
     "text": [
      "Processing files:   7%|▋         | 1479/19777 [01:16<13:40, 22.29it/s]"
     ]
    },
    {
     "name": "stdout",
     "output_type": "stream",
     "text": [
      "✓ Processed: 0009_000361.wav\n",
      "✓ Processed: 0009_000362.wav\n",
      "✓ Processed: 0009_000366.wav\n",
      "✓ Processed: 0009_000367.wav\n",
      "✓ Processed: 0009_000368.wav\n"
     ]
    },
    {
     "name": "stderr",
     "output_type": "stream",
     "text": [
      "Processing files:   8%|▊         | 1485/19777 [01:16<13:39, 22.33it/s]"
     ]
    },
    {
     "name": "stdout",
     "output_type": "stream",
     "text": [
      "✓ Processed: 0009_000369.wav\n",
      "✓ Processed: 0009_000370.wav\n",
      "✓ Processed: 0009_000371.wav\n",
      "✓ Processed: 0009_000375.wav\n",
      "✓ Processed: 0009_000376.wav\n"
     ]
    },
    {
     "name": "stderr",
     "output_type": "stream",
     "text": [
      "Processing files:   8%|▊         | 1491/19777 [01:16<13:42, 22.22it/s]"
     ]
    },
    {
     "name": "stdout",
     "output_type": "stream",
     "text": [
      "✓ Processed: 0009_000377.wav\n",
      "✓ Processed: 0009_000380.wav\n",
      "✓ Processed: 0009_000383.wav\n",
      "✓ Processed: 0009_000384.wav\n"
     ]
    },
    {
     "name": "stderr",
     "output_type": "stream",
     "text": [
      "Processing files:   8%|▊         | 1494/19777 [01:16<13:34, 22.46it/s]"
     ]
    },
    {
     "name": "stdout",
     "output_type": "stream",
     "text": [
      "✓ Processed: 0009_000386.wav\n",
      "✓ Processed: 0009_000390.wav\n",
      "✓ Processed: 0009_000391.wav\n",
      "✓ Processed: 0009_000392.wav\n",
      "✓ Processed: 0009_000395.wav\n"
     ]
    },
    {
     "name": "stderr",
     "output_type": "stream",
     "text": [
      "Processing files:   8%|▊         | 1500/19777 [01:16<13:32, 22.51it/s]"
     ]
    },
    {
     "name": "stdout",
     "output_type": "stream",
     "text": [
      "✓ Processed: 0009_000396.wav\n",
      "✓ Processed: 0009_000397.wav\n",
      "✓ Processed: 0009_000398.wav\n",
      "✓ Processed: 0009_000401.wav\n",
      "✓ Processed: 0009_000403.wav\n"
     ]
    },
    {
     "name": "stderr",
     "output_type": "stream",
     "text": [
      "Processing files:   8%|▊         | 1503/19777 [01:17<13:32, 22.49it/s]"
     ]
    },
    {
     "name": "stdout",
     "output_type": "stream",
     "text": [
      "✓ Processed: 0009_000404.wav\n",
      "✓ Processed: 0009_000407.wav\n",
      "✓ Processed: 0009_000411.wav\n",
      "✓ Processed: 0009_000412.wav\n",
      "✓ Processed: 0009_000413.wav\n"
     ]
    },
    {
     "name": "stderr",
     "output_type": "stream",
     "text": [
      "Processing files:   8%|▊         | 1509/19777 [01:17<13:52, 21.95it/s]"
     ]
    },
    {
     "name": "stdout",
     "output_type": "stream",
     "text": [
      "✓ Processed: 0009_000414.wav\n",
      "✓ Processed: 0009_000415.wav\n",
      "✓ Processed: 0009_000424.wav\n",
      "✓ Processed: 0009_000425.wav\n",
      "✓ Processed: 0009_000426.wav\n"
     ]
    },
    {
     "name": "stderr",
     "output_type": "stream",
     "text": [
      "Processing files:   8%|▊         | 1515/19777 [01:17<13:51, 21.96it/s]"
     ]
    },
    {
     "name": "stdout",
     "output_type": "stream",
     "text": [
      "✓ Processed: 0009_000427.wav\n",
      "✓ Processed: 0009_000429.wav\n",
      "✓ Processed: 0009_000431.wav\n",
      "✓ Processed: 0009_000433.wav\n"
     ]
    },
    {
     "name": "stderr",
     "output_type": "stream",
     "text": [
      "Processing files:   8%|▊         | 1518/19777 [01:17<13:53, 21.92it/s]"
     ]
    },
    {
     "name": "stdout",
     "output_type": "stream",
     "text": [
      "✓ Processed: 0009_000434.wav\n",
      "✓ Processed: 0009_000435.wav\n",
      "✓ Processed: 0009_000436.wav\n",
      "✓ Processed: 0009_000440.wav\n",
      "✓ Processed: 0009_000441.wav\n"
     ]
    },
    {
     "name": "stderr",
     "output_type": "stream",
     "text": [
      "Processing files:   8%|▊         | 1524/19777 [01:18<13:31, 22.48it/s]"
     ]
    },
    {
     "name": "stdout",
     "output_type": "stream",
     "text": [
      "✓ Processed: 0009_000444.wav\n",
      "✓ Processed: 0009_000446.wav\n",
      "✓ Processed: 0009_000450.wav\n",
      "✓ Processed: 0009_000451.wav\n",
      "✓ Processed: 0009_000453.wav\n"
     ]
    },
    {
     "name": "stderr",
     "output_type": "stream",
     "text": [
      "Processing files:   8%|▊         | 1527/19777 [01:18<13:27, 22.61it/s]"
     ]
    },
    {
     "name": "stdout",
     "output_type": "stream",
     "text": [
      "✓ Processed: 0009_000454.wav\n",
      "✓ Processed: 0009_000455.wav\n",
      "✓ Processed: 0009_000457.wav\n",
      "✓ Processed: 0009_000462.wav\n",
      "✓ Processed: 0009_000463.wav\n"
     ]
    },
    {
     "name": "stderr",
     "output_type": "stream",
     "text": [
      "Processing files:   8%|▊         | 1533/19777 [01:18<13:37, 22.31it/s]"
     ]
    },
    {
     "name": "stdout",
     "output_type": "stream",
     "text": [
      "✓ Processed: 0009_000468.wav\n",
      "✓ Processed: 0009_000469.wav\n",
      "✓ Processed: 0009_000471.wav\n",
      "✓ Processed: 0009_000472.wav\n",
      "✓ Processed: 0009_000473.wav\n"
     ]
    },
    {
     "name": "stderr",
     "output_type": "stream",
     "text": [
      "Processing files:   8%|▊         | 1536/19777 [01:18<13:32, 22.46it/s]"
     ]
    },
    {
     "name": "stdout",
     "output_type": "stream",
     "text": [
      "✓ Processed: 0009_000475.wav\n",
      "✓ Processed: 0009_000476.wav\n",
      "✓ Processed: 0009_000482.wav\n",
      "✓ Processed: 0009_000484.wav\n"
     ]
    },
    {
     "name": "stderr",
     "output_type": "stream",
     "text": [
      "Processing files:   8%|▊         | 1542/19777 [01:18<13:10, 23.08it/s]"
     ]
    },
    {
     "name": "stdout",
     "output_type": "stream",
     "text": [
      "✓ Processed: 0009_000488.wav\n",
      "✓ Processed: 0009_000489.wav\n",
      "✓ Processed: 0009_000490.wav\n",
      "✓ Processed: 0009_000491.wav\n",
      "✓ Processed: 0009_000492.wav\n"
     ]
    },
    {
     "name": "stderr",
     "output_type": "stream",
     "text": [
      "Processing files:   8%|▊         | 1548/19777 [01:19<13:10, 23.06it/s]"
     ]
    },
    {
     "name": "stdout",
     "output_type": "stream",
     "text": [
      "✓ Processed: 0009_000495.wav\n",
      "✓ Processed: 0009_000496.wav\n",
      "✓ Processed: 0009_000499.wav\n",
      "✓ Processed: 0009_000500.wav\n",
      "✓ Processed: 0009_000501.wav\n"
     ]
    },
    {
     "name": "stderr",
     "output_type": "stream",
     "text": [
      "Processing files:   8%|▊         | 1551/19777 [01:19<12:59, 23.38it/s]"
     ]
    },
    {
     "name": "stdout",
     "output_type": "stream",
     "text": [
      "✓ Processed: 0009_000504.wav\n",
      "✓ Processed: 0009_000505.wav\n",
      "✓ Processed: 0009_000506.wav\n",
      "✓ Processed: 0009_000511.wav\n",
      "✓ Processed: 0009_000513.wav\n"
     ]
    },
    {
     "name": "stderr",
     "output_type": "stream",
     "text": [
      "Processing files:   8%|▊         | 1557/19777 [01:19<13:19, 22.78it/s]"
     ]
    },
    {
     "name": "stdout",
     "output_type": "stream",
     "text": [
      "✓ Processed: 0009_000514.wav\n",
      "✓ Processed: 0009_000516.wav\n",
      "✓ Processed: 0009_000519.wav\n",
      "✓ Processed: 0009_000521.wav\n",
      "✓ Processed: 0009_000524.wav\n"
     ]
    },
    {
     "name": "stderr",
     "output_type": "stream",
     "text": [
      "Processing files:   8%|▊         | 1560/19777 [01:19<13:38, 22.26it/s]"
     ]
    },
    {
     "name": "stdout",
     "output_type": "stream",
     "text": [
      "✓ Processed: 0009_000525.wav\n",
      "✓ Processed: 0009_000528.wav\n",
      "✓ Processed: 0009_000529.wav\n",
      "✓ Processed: 0009_000530.wav\n"
     ]
    },
    {
     "name": "stderr",
     "output_type": "stream",
     "text": [
      "Processing files:   8%|▊         | 1566/19777 [01:19<13:16, 22.87it/s]"
     ]
    },
    {
     "name": "stdout",
     "output_type": "stream",
     "text": [
      "✓ Processed: 0009_000531.wav\n",
      "✓ Processed: 0009_000532.wav\n",
      "✓ Processed: 0009_000536.wav\n",
      "✓ Processed: 0009_000537.wav\n",
      "✓ Processed: 0009_000543.wav\n"
     ]
    },
    {
     "name": "stderr",
     "output_type": "stream",
     "text": [
      "Processing files:   8%|▊         | 1572/19777 [01:20<13:22, 22.69it/s]"
     ]
    },
    {
     "name": "stdout",
     "output_type": "stream",
     "text": [
      "✓ Processed: 0009_000544.wav\n",
      "✓ Processed: 0009_000545.wav\n",
      "✓ Processed: 0009_000546.wav\n",
      "✓ Processed: 0009_000547.wav\n",
      "✓ Processed: 0009_000549.wav\n"
     ]
    },
    {
     "name": "stderr",
     "output_type": "stream",
     "text": [
      "Processing files:   8%|▊         | 1575/19777 [01:20<13:18, 22.79it/s]"
     ]
    },
    {
     "name": "stdout",
     "output_type": "stream",
     "text": [
      "✓ Processed: 0009_000550.wav\n",
      "✓ Processed: 0009_000551.wav\n",
      "✓ Processed: 0009_000553.wav\n",
      "✓ Processed: 0009_000558.wav\n",
      "✓ Processed: 0009_000560.wav\n"
     ]
    },
    {
     "name": "stderr",
     "output_type": "stream",
     "text": [
      "Processing files:   8%|▊         | 1581/19777 [01:20<13:38, 22.24it/s]"
     ]
    },
    {
     "name": "stdout",
     "output_type": "stream",
     "text": [
      "✓ Processed: 0009_000562.wav\n",
      "✓ Processed: 0009_000563.wav\n",
      "✓ Processed: 0009_000564.wav\n",
      "✓ Processed: 0009_000569.wav\n",
      "✓ Processed: 0009_000572.wav\n"
     ]
    },
    {
     "name": "stderr",
     "output_type": "stream",
     "text": [
      "Processing files:   8%|▊         | 1587/19777 [01:20<14:08, 21.43it/s]"
     ]
    },
    {
     "name": "stdout",
     "output_type": "stream",
     "text": [
      "✓ Processed: 0009_000575.wav\n",
      "✓ Processed: 0009_000577.wav\n",
      "✓ Processed: 0009_000578.wav\n",
      "✓ Processed: 0009_000579.wav\n"
     ]
    },
    {
     "name": "stderr",
     "output_type": "stream",
     "text": [
      "Processing files:   8%|▊         | 1590/19777 [01:20<13:49, 21.93it/s]"
     ]
    },
    {
     "name": "stdout",
     "output_type": "stream",
     "text": [
      "✓ Processed: 0009_000580.wav\n",
      "✓ Processed: 0009_000582.wav\n",
      "✓ Processed: 0009_000583.wav\n",
      "✓ Processed: 0009_000585.wav\n",
      "✓ Processed: 0009_000587.wav\n"
     ]
    },
    {
     "name": "stderr",
     "output_type": "stream",
     "text": [
      "Processing files:   8%|▊         | 1596/19777 [01:21<13:32, 22.37it/s]"
     ]
    },
    {
     "name": "stdout",
     "output_type": "stream",
     "text": [
      "✓ Processed: 0009_000588.wav\n",
      "✓ Processed: 0009_000589.wav\n",
      "✓ Processed: 0009_000590.wav\n",
      "✓ Processed: 0009_000591.wav\n"
     ]
    },
    {
     "name": "stderr",
     "output_type": "stream",
     "text": [
      "Processing files:   8%|▊         | 1599/19777 [01:21<13:31, 22.41it/s]"
     ]
    },
    {
     "name": "stdout",
     "output_type": "stream",
     "text": [
      "✓ Processed: 0009_000594.wav\n",
      "✓ Processed: 0009_000596.wav\n",
      "✓ Processed: 0009_000597.wav\n",
      "✓ Processed: 0009_000598.wav\n",
      "✓ Processed: 0009_000600.wav\n"
     ]
    },
    {
     "name": "stderr",
     "output_type": "stream",
     "text": [
      "Processing files:   8%|▊         | 1602/19777 [01:21<14:23, 21.05it/s]"
     ]
    },
    {
     "name": "stdout",
     "output_type": "stream",
     "text": [
      "✓ Processed: 0009_000601.wav\n",
      "✓ Processed: 0009_000603.wav\n",
      "✓ Processed: 0009_000604.wav\n",
      "✓ Processed: 0009_000605.wav\n"
     ]
    },
    {
     "name": "stderr",
     "output_type": "stream",
     "text": [
      "Processing files:   8%|▊         | 1608/19777 [01:21<14:06, 21.47it/s]"
     ]
    },
    {
     "name": "stdout",
     "output_type": "stream",
     "text": [
      "✓ Processed: 0009_000606.wav\n",
      "✓ Processed: 0009_000609.wav\n",
      "✓ Processed: 0009_000610.wav\n",
      "✓ Processed: 0009_000611.wav\n",
      "✓ Processed: 0009_000616.wav\n"
     ]
    },
    {
     "name": "stderr",
     "output_type": "stream",
     "text": [
      "Processing files:   8%|▊         | 1614/19777 [01:22<14:10, 21.36it/s]"
     ]
    },
    {
     "name": "stdout",
     "output_type": "stream",
     "text": [
      "✓ Processed: 0009_000617.wav\n",
      "✓ Processed: 0009_000621.wav\n",
      "✓ Processed: 0009_000622.wav\n",
      "✓ Processed: 0009_000623.wav\n"
     ]
    },
    {
     "name": "stderr",
     "output_type": "stream",
     "text": [
      "Processing files:   8%|▊         | 1617/19777 [01:22<13:55, 21.73it/s]"
     ]
    },
    {
     "name": "stdout",
     "output_type": "stream",
     "text": [
      "✓ Processed: 0009_000624.wav\n",
      "✓ Processed: 0009_000626.wav\n",
      "✓ Processed: 0009_000627.wav\n",
      "✓ Processed: 0009_000628.wav\n",
      "✓ Processed: 0009_000631.wav\n"
     ]
    },
    {
     "name": "stderr",
     "output_type": "stream",
     "text": [
      "Processing files:   8%|▊         | 1623/19777 [01:22<13:26, 22.51it/s]"
     ]
    },
    {
     "name": "stdout",
     "output_type": "stream",
     "text": [
      "✓ Processed: 0009_000632.wav\n",
      "✓ Processed: 0009_000633.wav\n",
      "✓ Processed: 0009_000636.wav\n",
      "✓ Processed: 0009_000640.wav\n",
      "✓ Processed: 0009_000647.wav\n"
     ]
    },
    {
     "name": "stderr",
     "output_type": "stream",
     "text": [
      "Processing files:   8%|▊         | 1626/19777 [01:22<13:27, 22.48it/s]"
     ]
    },
    {
     "name": "stdout",
     "output_type": "stream",
     "text": [
      "✓ Processed: 0009_000650.wav\n",
      "✓ Processed: 0009_000652.wav\n",
      "✓ Processed: 0009_000653.wav\n",
      "✓ Processed: 0009_000655.wav\n",
      "✓ Processed: 0009_000657.wav\n"
     ]
    },
    {
     "name": "stderr",
     "output_type": "stream",
     "text": [
      "Processing files:   8%|▊         | 1632/19777 [01:22<13:00, 23.24it/s]"
     ]
    },
    {
     "name": "stdout",
     "output_type": "stream",
     "text": [
      "✓ Processed: 0009_000658.wav\n",
      "✓ Processed: 0009_000662.wav\n",
      "✓ Processed: 0009_000663.wav\n",
      "✓ Processed: 0009_000676.wav\n",
      "✓ Processed: 0009_000680.wav\n"
     ]
    },
    {
     "name": "stderr",
     "output_type": "stream",
     "text": [
      "Processing files:   8%|▊         | 1635/19777 [01:22<13:11, 22.91it/s]"
     ]
    },
    {
     "name": "stdout",
     "output_type": "stream",
     "text": [
      "✓ Processed: 0009_000682.wav\n",
      "✓ Processed: 0009_000683.wav\n",
      "✓ Processed: 0009_000685.wav\n",
      "✓ Processed: 0009_000687.wav\n"
     ]
    },
    {
     "name": "stderr",
     "output_type": "stream",
     "text": [
      "Processing files:   8%|▊         | 1641/19777 [01:23<13:25, 22.52it/s]"
     ]
    },
    {
     "name": "stdout",
     "output_type": "stream",
     "text": [
      "✓ Processed: 0009_000688.wav\n",
      "✓ Processed: 0009_000689.wav\n",
      "✓ Processed: 0009_000690.wav\n",
      "✓ Processed: 0009_000691.wav\n",
      "✓ Processed: 0009_000693.wav\n"
     ]
    },
    {
     "name": "stderr",
     "output_type": "stream",
     "text": [
      "Processing files:   8%|▊         | 1647/19777 [01:23<13:25, 22.51it/s]"
     ]
    },
    {
     "name": "stdout",
     "output_type": "stream",
     "text": [
      "✓ Processed: 0009_000695.wav\n",
      "✓ Processed: 0009_000697.wav\n",
      "✓ Processed: 0009_000699.wav\n",
      "✓ Processed: 0009_000700.wav\n"
     ]
    },
    {
     "name": "stderr",
     "output_type": "stream",
     "text": [
      "Processing files:   8%|▊         | 1650/19777 [01:23<13:22, 22.60it/s]"
     ]
    },
    {
     "name": "stdout",
     "output_type": "stream",
     "text": [
      "✓ Processed: 0010_000352.wav\n",
      "✓ Processed: 0010_000354.wav\n",
      "✓ Processed: 0010_000356.wav\n",
      "✓ Processed: 0010_000359.wav\n",
      "✓ Processed: 0010_000360.wav\n",
      "✓ Processed: 0010_000363.wav\n"
     ]
    },
    {
     "name": "stderr",
     "output_type": "stream",
     "text": [
      "Processing files:   8%|▊         | 1656/19777 [01:23<13:17, 22.71it/s]"
     ]
    },
    {
     "name": "stdout",
     "output_type": "stream",
     "text": [
      "✓ Processed: 0010_000365.wav\n",
      "✓ Processed: 0010_000367.wav\n",
      "✓ Processed: 0010_000368.wav\n",
      "✓ Processed: 0010_000370.wav\n",
      "✓ Processed: 0010_000372.wav\n"
     ]
    },
    {
     "name": "stderr",
     "output_type": "stream",
     "text": [
      "Processing files:   8%|▊         | 1662/19777 [01:24<13:12, 22.87it/s]"
     ]
    },
    {
     "name": "stdout",
     "output_type": "stream",
     "text": [
      "✓ Processed: 0010_000375.wav\n",
      "✓ Processed: 0010_000383.wav\n",
      "✓ Processed: 0010_000386.wav\n",
      "✓ Processed: 0010_000387.wav\n",
      "✓ Processed: 0010_000389.wav\n"
     ]
    },
    {
     "name": "stderr",
     "output_type": "stream",
     "text": [
      "Processing files:   8%|▊         | 1665/19777 [01:24<13:26, 22.45it/s]"
     ]
    },
    {
     "name": "stdout",
     "output_type": "stream",
     "text": [
      "✓ Processed: 0010_000391.wav\n",
      "✓ Processed: 0010_000392.wav\n",
      "✓ Processed: 0010_000394.wav\n",
      "✓ Processed: 0010_000398.wav\n",
      "✓ Processed: 0010_000399.wav\n"
     ]
    },
    {
     "name": "stderr",
     "output_type": "stream",
     "text": [
      "Processing files:   8%|▊         | 1671/19777 [01:24<14:15, 21.16it/s]"
     ]
    },
    {
     "name": "stdout",
     "output_type": "stream",
     "text": [
      "✓ Processed: 0010_000401.wav\n",
      "✓ Processed: 0010_000403.wav\n",
      "✓ Processed: 0010_000404.wav\n",
      "✓ Processed: 0010_000406.wav\n"
     ]
    },
    {
     "name": "stderr",
     "output_type": "stream",
     "text": [
      "Processing files:   8%|▊         | 1674/19777 [01:24<13:59, 21.56it/s]"
     ]
    },
    {
     "name": "stdout",
     "output_type": "stream",
     "text": [
      "✓ Processed: 0010_000407.wav\n",
      "✓ Processed: 0010_000408.wav\n",
      "✓ Processed: 0010_000410.wav\n",
      "✓ Processed: 0010_000414.wav\n",
      "✓ Processed: 0010_000415.wav\n"
     ]
    },
    {
     "name": "stderr",
     "output_type": "stream",
     "text": [
      "Processing files:   8%|▊         | 1680/19777 [01:25<13:41, 22.02it/s]"
     ]
    },
    {
     "name": "stdout",
     "output_type": "stream",
     "text": [
      "✓ Processed: 0010_000417.wav\n",
      "✓ Processed: 0010_000418.wav\n",
      "✓ Processed: 0010_000421.wav\n",
      "✓ Processed: 0010_000424.wav\n",
      "✓ Processed: 0010_000425.wav\n"
     ]
    },
    {
     "name": "stderr",
     "output_type": "stream",
     "text": [
      "Processing files:   9%|▊         | 1683/19777 [01:25<13:42, 22.00it/s]"
     ]
    },
    {
     "name": "stdout",
     "output_type": "stream",
     "text": [
      "✓ Processed: 0010_000426.wav\n",
      "✓ Processed: 0010_000428.wav\n",
      "✓ Processed: 0010_000431.wav\n",
      "✓ Processed: 0010_000432.wav\n"
     ]
    },
    {
     "name": "stderr",
     "output_type": "stream",
     "text": [
      "Processing files:   9%|▊         | 1689/19777 [01:25<13:32, 22.27it/s]"
     ]
    },
    {
     "name": "stdout",
     "output_type": "stream",
     "text": [
      "✓ Processed: 0010_000435.wav\n",
      "✓ Processed: 0010_000440.wav\n",
      "✓ Processed: 0010_000442.wav\n",
      "✓ Processed: 0010_000443.wav\n",
      "✓ Processed: 0010_000450.wav\n"
     ]
    },
    {
     "name": "stderr",
     "output_type": "stream",
     "text": [
      "Processing files:   9%|▊         | 1692/19777 [01:25<13:55, 21.64it/s]"
     ]
    },
    {
     "name": "stdout",
     "output_type": "stream",
     "text": [
      "✓ Processed: 0010_000454.wav\n",
      "✓ Processed: 0010_000456.wav\n",
      "✓ Processed: 0010_000460.wav\n",
      "✓ Processed: 0010_000461.wav\n"
     ]
    },
    {
     "name": "stderr",
     "output_type": "stream",
     "text": [
      "Processing files:   9%|▊         | 1698/19777 [01:25<13:54, 21.66it/s]"
     ]
    },
    {
     "name": "stdout",
     "output_type": "stream",
     "text": [
      "✓ Processed: 0010_000462.wav\n",
      "✓ Processed: 0010_000463.wav\n",
      "✓ Processed: 0010_000470.wav\n",
      "✓ Processed: 0010_000472.wav\n",
      "✓ Processed: 0010_000475.wav\n"
     ]
    },
    {
     "name": "stderr",
     "output_type": "stream",
     "text": [
      "Processing files:   9%|▊         | 1704/19777 [01:26<13:16, 22.69it/s]"
     ]
    },
    {
     "name": "stdout",
     "output_type": "stream",
     "text": [
      "✓ Processed: 0010_000479.wav\n",
      "✓ Processed: 0010_000483.wav\n",
      "✓ Processed: 0010_000484.wav\n",
      "✓ Processed: 0010_000487.wav\n",
      "✓ Processed: 0010_000488.wav\n"
     ]
    },
    {
     "name": "stderr",
     "output_type": "stream",
     "text": [
      "Processing files:   9%|▊         | 1707/19777 [01:26<13:24, 22.45it/s]"
     ]
    },
    {
     "name": "stdout",
     "output_type": "stream",
     "text": [
      "✓ Processed: 0010_000490.wav\n",
      "✓ Processed: 0010_000493.wav\n",
      "✓ Processed: 0010_000495.wav\n",
      "✓ Processed: 0010_000498.wav\n",
      "✓ Processed: 0010_000502.wav\n"
     ]
    },
    {
     "name": "stderr",
     "output_type": "stream",
     "text": [
      "Processing files:   9%|▊         | 1713/19777 [01:26<13:27, 22.38it/s]"
     ]
    },
    {
     "name": "stdout",
     "output_type": "stream",
     "text": [
      "✓ Processed: 0010_000503.wav\n",
      "✓ Processed: 0010_000504.wav\n",
      "✓ Processed: 0010_000505.wav\n",
      "✓ Processed: 0010_000506.wav\n",
      "✓ Processed: 0010_000508.wav\n"
     ]
    },
    {
     "name": "stderr",
     "output_type": "stream",
     "text": [
      "Processing files:   9%|▊         | 1719/19777 [01:26<13:48, 21.79it/s]"
     ]
    },
    {
     "name": "stdout",
     "output_type": "stream",
     "text": [
      "✓ Processed: 0010_000509.wav\n",
      "✓ Processed: 0010_000511.wav\n",
      "✓ Processed: 0010_000512.wav\n",
      "✓ Processed: 0010_000513.wav\n",
      "✓ Processed: 0010_000514.wav\n"
     ]
    },
    {
     "name": "stderr",
     "output_type": "stream",
     "text": [
      "Processing files:   9%|▊         | 1722/19777 [01:26<13:46, 21.84it/s]"
     ]
    },
    {
     "name": "stdout",
     "output_type": "stream",
     "text": [
      "✓ Processed: 0010_000516.wav\n",
      "✓ Processed: 0010_000520.wav\n",
      "✓ Processed: 0010_000521.wav\n",
      "✓ Processed: 0010_000522.wav\n",
      "✓ Processed: 0010_000523.wav\n"
     ]
    },
    {
     "name": "stderr",
     "output_type": "stream",
     "text": [
      "Processing files:   9%|▊         | 1728/19777 [01:27<13:40, 22.00it/s]"
     ]
    },
    {
     "name": "stdout",
     "output_type": "stream",
     "text": [
      "✓ Processed: 0010_000524.wav\n",
      "✓ Processed: 0010_000526.wav\n",
      "✓ Processed: 0010_000527.wav\n",
      "✓ Processed: 0010_000528.wav\n",
      "✓ Processed: 0010_000532.wav\n"
     ]
    },
    {
     "name": "stderr",
     "output_type": "stream",
     "text": [
      "Processing files:   9%|▉         | 1734/19777 [01:27<13:16, 22.64it/s]"
     ]
    },
    {
     "name": "stdout",
     "output_type": "stream",
     "text": [
      "✓ Processed: 0010_000534.wav\n",
      "✓ Processed: 0010_000538.wav\n",
      "✓ Processed: 0010_000539.wav\n",
      "✓ Processed: 0010_000541.wav\n",
      "✓ Processed: 0010_000542.wav\n"
     ]
    },
    {
     "name": "stderr",
     "output_type": "stream",
     "text": [
      "Processing files:   9%|▉         | 1737/19777 [01:27<13:40, 21.99it/s]"
     ]
    },
    {
     "name": "stdout",
     "output_type": "stream",
     "text": [
      "✓ Processed: 0010_000543.wav\n",
      "✓ Processed: 0010_000545.wav\n",
      "✓ Processed: 0010_000548.wav\n",
      "✓ Processed: 0010_000549.wav\n",
      "✓ Processed: 0010_000551.wav\n"
     ]
    },
    {
     "name": "stderr",
     "output_type": "stream",
     "text": [
      "Processing files:   9%|▉         | 1743/19777 [01:27<13:55, 21.58it/s]"
     ]
    },
    {
     "name": "stdout",
     "output_type": "stream",
     "text": [
      "✓ Processed: 0010_000552.wav\n",
      "✓ Processed: 0010_000554.wav\n",
      "✓ Processed: 0010_000555.wav\n",
      "✓ Processed: 0010_000556.wav\n",
      "✓ Processed: 0010_000557.wav\n"
     ]
    },
    {
     "name": "stderr",
     "output_type": "stream",
     "text": [
      "Processing files:   9%|▉         | 1749/19777 [01:28<13:52, 21.65it/s]"
     ]
    },
    {
     "name": "stdout",
     "output_type": "stream",
     "text": [
      "✓ Processed: 0010_000558.wav\n",
      "✓ Processed: 0010_000559.wav\n",
      "✓ Processed: 0010_000560.wav\n",
      "✓ Processed: 0010_000565.wav\n"
     ]
    },
    {
     "name": "stderr",
     "output_type": "stream",
     "text": [
      "Processing files:   9%|▉         | 1752/19777 [01:28<13:51, 21.67it/s]"
     ]
    },
    {
     "name": "stdout",
     "output_type": "stream",
     "text": [
      "✓ Processed: 0010_000566.wav\n",
      "✓ Processed: 0010_000568.wav\n",
      "✓ Processed: 0010_000569.wav\n",
      "✓ Processed: 0010_000570.wav\n",
      "✓ Processed: 0010_000571.wav\n"
     ]
    },
    {
     "name": "stderr",
     "output_type": "stream",
     "text": [
      "Processing files:   9%|▉         | 1758/19777 [01:28<13:39, 21.98it/s]"
     ]
    },
    {
     "name": "stdout",
     "output_type": "stream",
     "text": [
      "✓ Processed: 0010_000574.wav\n",
      "✓ Processed: 0010_000575.wav\n",
      "✓ Processed: 0010_000579.wav\n",
      "✓ Processed: 0010_000580.wav\n",
      "✓ Processed: 0010_000583.wav\n"
     ]
    },
    {
     "name": "stderr",
     "output_type": "stream",
     "text": [
      "Processing files:   9%|▉         | 1761/19777 [01:28<13:36, 22.07it/s]"
     ]
    },
    {
     "name": "stdout",
     "output_type": "stream",
     "text": [
      "✓ Processed: 0010_000584.wav\n",
      "✓ Processed: 0010_000586.wav\n",
      "✓ Processed: 0010_000587.wav\n",
      "✓ Processed: 0010_000589.wav\n",
      "✓ Processed: 0010_000590.wav\n"
     ]
    },
    {
     "name": "stderr",
     "output_type": "stream",
     "text": [
      "Processing files:   9%|▉         | 1767/19777 [01:28<13:07, 22.86it/s]"
     ]
    },
    {
     "name": "stdout",
     "output_type": "stream",
     "text": [
      "✓ Processed: 0010_000591.wav\n",
      "✓ Processed: 0010_000597.wav\n",
      "✓ Processed: 0010_000598.wav\n",
      "✓ Processed: 0010_000600.wav\n",
      "✓ Processed: 0010_000601.wav\n"
     ]
    },
    {
     "name": "stderr",
     "output_type": "stream",
     "text": [
      "Processing files:   9%|▉         | 1773/19777 [01:29<13:38, 22.00it/s]"
     ]
    },
    {
     "name": "stdout",
     "output_type": "stream",
     "text": [
      "✓ Processed: 0010_000602.wav\n",
      "✓ Processed: 0010_000603.wav\n",
      "✓ Processed: 0010_000604.wav\n",
      "✓ Processed: 0010_000611.wav\n"
     ]
    },
    {
     "name": "stderr",
     "output_type": "stream",
     "text": [
      "Processing files:   9%|▉         | 1776/19777 [01:29<13:39, 21.96it/s]"
     ]
    },
    {
     "name": "stdout",
     "output_type": "stream",
     "text": [
      "✓ Processed: 0010_000612.wav\n",
      "✓ Processed: 0010_000614.wav\n",
      "✓ Processed: 0010_000616.wav\n",
      "✓ Processed: 0010_000617.wav\n",
      "✓ Processed: 0010_000619.wav\n"
     ]
    },
    {
     "name": "stderr",
     "output_type": "stream",
     "text": [
      "Processing files:   9%|▉         | 1779/19777 [01:29<13:48, 21.72it/s]"
     ]
    },
    {
     "name": "stdout",
     "output_type": "stream",
     "text": [
      "✓ Processed: 0010_000621.wav\n",
      "✓ Processed: 0010_000622.wav\n",
      "✓ Processed: 0010_000624.wav\n",
      "✓ Processed: 0010_000625.wav\n"
     ]
    },
    {
     "name": "stderr",
     "output_type": "stream",
     "text": [
      "Processing files:   9%|▉         | 1785/19777 [01:29<13:42, 21.87it/s]"
     ]
    },
    {
     "name": "stdout",
     "output_type": "stream",
     "text": [
      "✓ Processed: 0010_000628.wav\n",
      "✓ Processed: 0010_000634.wav\n",
      "✓ Processed: 0010_000636.wav\n",
      "✓ Processed: 0010_000641.wav\n",
      "✓ Processed: 0010_000644.wav\n"
     ]
    },
    {
     "name": "stderr",
     "output_type": "stream",
     "text": [
      "Processing files:   9%|▉         | 1791/19777 [01:30<13:28, 22.25it/s]"
     ]
    },
    {
     "name": "stdout",
     "output_type": "stream",
     "text": [
      "✓ Processed: 0010_000646.wav\n",
      "✓ Processed: 0010_000647.wav\n",
      "✓ Processed: 0010_000649.wav\n",
      "✓ Processed: 0010_000650.wav\n",
      "✓ Processed: 0010_000651.wav\n"
     ]
    },
    {
     "name": "stderr",
     "output_type": "stream",
     "text": [
      "Processing files:   9%|▉         | 1794/19777 [01:30<13:30, 22.20it/s]"
     ]
    },
    {
     "name": "stdout",
     "output_type": "stream",
     "text": [
      "✓ Processed: 0010_000652.wav\n",
      "✓ Processed: 0010_000653.wav\n",
      "✓ Processed: 0010_000654.wav\n",
      "✓ Processed: 0010_000655.wav\n",
      "✓ Processed: 0010_000656.wav\n"
     ]
    },
    {
     "name": "stderr",
     "output_type": "stream",
     "text": [
      "Processing files:   9%|▉         | 1800/19777 [01:30<13:14, 22.63it/s]"
     ]
    },
    {
     "name": "stdout",
     "output_type": "stream",
     "text": [
      "✓ Processed: 0010_000659.wav\n",
      "✓ Processed: 0010_000660.wav\n",
      "✓ Processed: 0010_000663.wav\n",
      "✓ Processed: 0010_000664.wav\n",
      "✓ Processed: 0010_000668.wav\n"
     ]
    },
    {
     "name": "stderr",
     "output_type": "stream",
     "text": [
      "Processing files:   9%|▉         | 1806/19777 [01:30<13:22, 22.39it/s]"
     ]
    },
    {
     "name": "stdout",
     "output_type": "stream",
     "text": [
      "✓ Processed: 0010_000672.wav\n",
      "✓ Processed: 0010_000677.wav\n",
      "✓ Processed: 0010_000678.wav\n",
      "✓ Processed: 0010_000681.wav\n"
     ]
    },
    {
     "name": "stderr",
     "output_type": "stream",
     "text": [
      "Processing files:   9%|▉         | 1809/19777 [01:30<13:38, 21.95it/s]"
     ]
    },
    {
     "name": "stdout",
     "output_type": "stream",
     "text": [
      "✓ Processed: 0010_000687.wav\n",
      "✓ Processed: 0010_000689.wav\n",
      "✓ Processed: 0010_000690.wav\n",
      "✓ Processed: 0010_000691.wav\n",
      "✓ Processed: 0010_000692.wav\n"
     ]
    },
    {
     "name": "stderr",
     "output_type": "stream",
     "text": [
      "Processing files:   9%|▉         | 1815/19777 [01:31<13:46, 21.73it/s]"
     ]
    },
    {
     "name": "stdout",
     "output_type": "stream",
     "text": [
      "✓ Processed: 0010_000693.wav\n",
      "✓ Processed: 0010_000698.wav\n",
      "✓ Processed: 0011_000351.wav\n",
      "✓ Processed: 0011_000352.wav\n"
     ]
    },
    {
     "name": "stderr",
     "output_type": "stream",
     "text": [
      "Processing files:   9%|▉         | 1818/19777 [01:31<13:49, 21.66it/s]"
     ]
    },
    {
     "name": "stdout",
     "output_type": "stream",
     "text": [
      "✓ Processed: 0011_000353.wav\n",
      "✓ Processed: 0011_000354.wav\n",
      "✓ Processed: 0011_000355.wav\n",
      "✓ Processed: 0011_000356.wav\n",
      "✓ Processed: 0011_000358.wav\n"
     ]
    },
    {
     "name": "stderr",
     "output_type": "stream",
     "text": [
      "Processing files:   9%|▉         | 1824/19777 [01:31<13:38, 21.94it/s]"
     ]
    },
    {
     "name": "stdout",
     "output_type": "stream",
     "text": [
      "✓ Processed: 0011_000359.wav\n",
      "✓ Processed: 0011_000360.wav\n",
      "✓ Processed: 0011_000362.wav\n",
      "✓ Processed: 0011_000364.wav\n",
      "✓ Processed: 0011_000365.wav\n"
     ]
    },
    {
     "name": "stderr",
     "output_type": "stream",
     "text": [
      "Processing files:   9%|▉         | 1827/19777 [01:31<13:31, 22.13it/s]"
     ]
    },
    {
     "name": "stdout",
     "output_type": "stream",
     "text": [
      "✓ Processed: 0011_000368.wav\n",
      "✓ Processed: 0011_000370.wav\n",
      "✓ Processed: 0011_000371.wav\n",
      "✓ Processed: 0011_000372.wav\n",
      "✓ Processed: 0011_000373.wav\n"
     ]
    },
    {
     "name": "stderr",
     "output_type": "stream",
     "text": [
      "Processing files:   9%|▉         | 1833/19777 [01:31<13:39, 21.90it/s]"
     ]
    },
    {
     "name": "stdout",
     "output_type": "stream",
     "text": [
      "✓ Processed: 0011_000377.wav\n",
      "✓ Processed: 0011_000378.wav\n",
      "✓ Processed: 0011_000380.wav\n",
      "✓ Processed: 0011_000381.wav\n",
      "✓ Processed: 0011_000383.wav\n"
     ]
    },
    {
     "name": "stderr",
     "output_type": "stream",
     "text": [
      "Processing files:   9%|▉         | 1839/19777 [01:32<13:23, 22.33it/s]"
     ]
    },
    {
     "name": "stdout",
     "output_type": "stream",
     "text": [
      "✓ Processed: 0011_000385.wav\n",
      "✓ Processed: 0011_000386.wav\n",
      "✓ Processed: 0011_000387.wav\n",
      "✓ Processed: 0011_000388.wav\n"
     ]
    },
    {
     "name": "stderr",
     "output_type": "stream",
     "text": [
      "Processing files:   9%|▉         | 1842/19777 [01:32<13:49, 21.63it/s]"
     ]
    },
    {
     "name": "stdout",
     "output_type": "stream",
     "text": [
      "✓ Processed: 0011_000389.wav\n",
      "✓ Processed: 0011_000390.wav\n",
      "✓ Processed: 0011_000392.wav\n",
      "✓ Processed: 0011_000394.wav\n"
     ]
    },
    {
     "name": "stderr",
     "output_type": "stream",
     "text": [
      "Processing files:   9%|▉         | 1845/19777 [01:32<14:07, 21.16it/s]"
     ]
    },
    {
     "name": "stdout",
     "output_type": "stream",
     "text": [
      "✓ Processed: 0011_000396.wav\n",
      "✓ Processed: 0011_000398.wav\n",
      "✓ Processed: 0011_000402.wav\n",
      "✓ Processed: 0011_000403.wav\n",
      "✓ Processed: 0011_000405.wav\n"
     ]
    },
    {
     "name": "stderr",
     "output_type": "stream",
     "text": [
      "Processing files:   9%|▉         | 1851/19777 [01:32<13:41, 21.83it/s]"
     ]
    },
    {
     "name": "stdout",
     "output_type": "stream",
     "text": [
      "✓ Processed: 0011_000406.wav\n",
      "✓ Processed: 0011_000407.wav\n",
      "✓ Processed: 0011_000408.wav\n",
      "✓ Processed: 0011_000412.wav\n",
      "✓ Processed: 0011_000413.wav\n"
     ]
    },
    {
     "name": "stderr",
     "output_type": "stream",
     "text": [
      "Processing files:   9%|▉         | 1857/19777 [01:33<13:38, 21.90it/s]"
     ]
    },
    {
     "name": "stdout",
     "output_type": "stream",
     "text": [
      "✓ Processed: 0011_000414.wav\n",
      "✓ Processed: 0011_000419.wav\n",
      "✓ Processed: 0011_000420.wav\n",
      "✓ Processed: 0011_000421.wav\n"
     ]
    },
    {
     "name": "stderr",
     "output_type": "stream",
     "text": [
      "Processing files:   9%|▉         | 1860/19777 [01:33<13:29, 22.14it/s]"
     ]
    },
    {
     "name": "stdout",
     "output_type": "stream",
     "text": [
      "✓ Processed: 0011_000423.wav\n",
      "✓ Processed: 0011_000425.wav\n",
      "✓ Processed: 0011_000426.wav\n",
      "✓ Processed: 0011_000427.wav\n",
      "✓ Processed: 0011_000428.wav\n"
     ]
    },
    {
     "name": "stderr",
     "output_type": "stream",
     "text": [
      "Processing files:   9%|▉         | 1866/19777 [01:33<13:11, 22.64it/s]"
     ]
    },
    {
     "name": "stdout",
     "output_type": "stream",
     "text": [
      "✓ Processed: 0011_000431.wav\n",
      "✓ Processed: 0011_000432.wav\n",
      "✓ Processed: 0011_000433.wav\n",
      "✓ Processed: 0011_000434.wav\n",
      "✓ Processed: 0011_000437.wav\n"
     ]
    },
    {
     "name": "stderr",
     "output_type": "stream",
     "text": [
      "Processing files:   9%|▉         | 1869/19777 [01:33<13:02, 22.88it/s]"
     ]
    },
    {
     "name": "stdout",
     "output_type": "stream",
     "text": [
      "✓ Processed: 0011_000439.wav\n",
      "✓ Processed: 0011_000441.wav\n",
      "✓ Processed: 0011_000444.wav\n",
      "✓ Processed: 0011_000446.wav\n",
      "✓ Processed: 0011_000450.wav\n"
     ]
    },
    {
     "name": "stderr",
     "output_type": "stream",
     "text": [
      "Processing files:   9%|▉         | 1875/19777 [01:33<13:29, 22.13it/s]"
     ]
    },
    {
     "name": "stdout",
     "output_type": "stream",
     "text": [
      "✓ Processed: 0011_000451.wav\n",
      "✓ Processed: 0011_000452.wav\n",
      "✓ Processed: 0011_000453.wav\n",
      "✓ Processed: 0011_000454.wav\n",
      "✓ Processed: 0011_000455.wav\n"
     ]
    },
    {
     "name": "stderr",
     "output_type": "stream",
     "text": [
      "Processing files:   9%|▉         | 1878/19777 [01:34<13:35, 21.94it/s]"
     ]
    },
    {
     "name": "stdout",
     "output_type": "stream",
     "text": [
      "✓ Processed: 0011_000457.wav\n",
      "✓ Processed: 0011_000459.wav\n",
      "✓ Processed: 0011_000461.wav\n",
      "✓ Processed: 0011_000463.wav\n"
     ]
    },
    {
     "name": "stderr",
     "output_type": "stream",
     "text": [
      "Processing files:  10%|▉         | 1884/19777 [01:34<13:43, 21.73it/s]"
     ]
    },
    {
     "name": "stdout",
     "output_type": "stream",
     "text": [
      "✓ Processed: 0011_000464.wav\n",
      "✓ Processed: 0011_000466.wav\n",
      "✓ Processed: 0011_000470.wav\n",
      "✓ Processed: 0011_000473.wav\n",
      "✓ Processed: 0011_000475.wav\n"
     ]
    },
    {
     "name": "stderr",
     "output_type": "stream",
     "text": [
      "Processing files:  10%|▉         | 1890/19777 [01:34<13:27, 22.14it/s]"
     ]
    },
    {
     "name": "stdout",
     "output_type": "stream",
     "text": [
      "✓ Processed: 0011_000476.wav\n",
      "✓ Processed: 0011_000478.wav\n",
      "✓ Processed: 0011_000481.wav\n",
      "✓ Processed: 0011_000482.wav\n",
      "✓ Processed: 0011_000483.wav\n"
     ]
    },
    {
     "name": "stderr",
     "output_type": "stream",
     "text": [
      "Processing files:  10%|▉         | 1893/19777 [01:34<13:30, 22.07it/s]"
     ]
    },
    {
     "name": "stdout",
     "output_type": "stream",
     "text": [
      "✓ Processed: 0011_000484.wav\n",
      "✓ Processed: 0011_000485.wav\n",
      "✓ Processed: 0011_000486.wav\n",
      "✓ Processed: 0011_000489.wav\n",
      "✓ Processed: 0011_000490.wav\n"
     ]
    },
    {
     "name": "stderr",
     "output_type": "stream",
     "text": [
      "Processing files:  10%|▉         | 1899/19777 [01:34<13:29, 22.10it/s]"
     ]
    },
    {
     "name": "stdout",
     "output_type": "stream",
     "text": [
      "✓ Processed: 0011_000496.wav\n",
      "✓ Processed: 0011_000500.wav\n",
      "✓ Processed: 0011_000501.wav\n",
      "✓ Processed: 0011_000503.wav\n",
      "✓ Processed: 0011_000504.wav\n"
     ]
    },
    {
     "name": "stderr",
     "output_type": "stream",
     "text": [
      "Processing files:  10%|▉         | 1902/19777 [01:35<13:27, 22.14it/s]"
     ]
    },
    {
     "name": "stdout",
     "output_type": "stream",
     "text": [
      "✓ Processed: 0011_000506.wav\n",
      "✓ Processed: 0011_000507.wav\n",
      "✓ Processed: 0011_000508.wav\n",
      "✓ Processed: 0011_000512.wav\n"
     ]
    },
    {
     "name": "stderr",
     "output_type": "stream",
     "text": [
      "Processing files:  10%|▉         | 1908/19777 [01:35<13:32, 22.00it/s]"
     ]
    },
    {
     "name": "stdout",
     "output_type": "stream",
     "text": [
      "✓ Processed: 0011_000513.wav\n",
      "✓ Processed: 0011_000514.wav\n",
      "✓ Processed: 0011_000516.wav\n",
      "✓ Processed: 0011_000519.wav\n",
      "✓ Processed: 0011_000522.wav\n"
     ]
    },
    {
     "name": "stderr",
     "output_type": "stream",
     "text": [
      "Processing files:  10%|▉         | 1914/19777 [01:35<13:26, 22.14it/s]"
     ]
    },
    {
     "name": "stdout",
     "output_type": "stream",
     "text": [
      "✓ Processed: 0011_000524.wav\n",
      "✓ Processed: 0011_000525.wav\n",
      "✓ Processed: 0011_000526.wav\n",
      "✓ Processed: 0011_000527.wav\n",
      "✓ Processed: 0011_000529.wav\n"
     ]
    },
    {
     "name": "stderr",
     "output_type": "stream",
     "text": [
      "Processing files:  10%|▉         | 1917/19777 [01:35<13:33, 21.94it/s]"
     ]
    },
    {
     "name": "stdout",
     "output_type": "stream",
     "text": [
      "✓ Processed: 0011_000531.wav\n",
      "✓ Processed: 0011_000532.wav\n",
      "✓ Processed: 0011_000534.wav\n",
      "✓ Processed: 0011_000535.wav\n",
      "✓ Processed: 0011_000536.wav\n"
     ]
    },
    {
     "name": "stderr",
     "output_type": "stream",
     "text": [
      "Processing files:  10%|▉         | 1923/19777 [01:36<13:06, 22.70it/s]"
     ]
    },
    {
     "name": "stdout",
     "output_type": "stream",
     "text": [
      "✓ Processed: 0011_000537.wav\n",
      "✓ Processed: 0011_000538.wav\n",
      "✓ Processed: 0011_000539.wav\n",
      "✓ Processed: 0011_000540.wav\n",
      "✓ Processed: 0011_000541.wav\n"
     ]
    },
    {
     "name": "stderr",
     "output_type": "stream",
     "text": [
      "Processing files:  10%|▉         | 1926/19777 [01:36<13:19, 22.33it/s]"
     ]
    },
    {
     "name": "stdout",
     "output_type": "stream",
     "text": [
      "✓ Processed: 0011_000551.wav\n",
      "✓ Processed: 0011_000554.wav\n",
      "✓ Processed: 0011_000555.wav\n",
      "✓ Processed: 0011_000556.wav\n"
     ]
    },
    {
     "name": "stderr",
     "output_type": "stream",
     "text": [
      "Processing files:  10%|▉         | 1932/19777 [01:36<14:00, 21.22it/s]"
     ]
    },
    {
     "name": "stdout",
     "output_type": "stream",
     "text": [
      "✓ Processed: 0011_000557.wav\n",
      "✓ Processed: 0011_000558.wav\n",
      "✓ Processed: 0011_000559.wav\n",
      "✓ Processed: 0011_000561.wav\n"
     ]
    },
    {
     "name": "stderr",
     "output_type": "stream",
     "text": [
      "Processing files:  10%|▉         | 1935/19777 [01:36<13:56, 21.34it/s]"
     ]
    },
    {
     "name": "stdout",
     "output_type": "stream",
     "text": [
      "✓ Processed: 0011_000563.wav\n",
      "✓ Processed: 0011_000566.wav\n",
      "✓ Processed: 0011_000568.wav\n",
      "✓ Processed: 0011_000569.wav\n",
      "✓ Processed: 0011_000570.wav\n"
     ]
    },
    {
     "name": "stderr",
     "output_type": "stream",
     "text": [
      "Processing files:  10%|▉         | 1941/19777 [01:36<13:40, 21.75it/s]"
     ]
    },
    {
     "name": "stdout",
     "output_type": "stream",
     "text": [
      "✓ Processed: 0011_000572.wav\n",
      "✓ Processed: 0011_000573.wav\n",
      "✓ Processed: 0011_000578.wav\n",
      "✓ Processed: 0011_000581.wav\n",
      "✓ Processed: 0011_000582.wav\n"
     ]
    },
    {
     "name": "stderr",
     "output_type": "stream",
     "text": [
      "Processing files:  10%|▉         | 1947/19777 [01:37<13:05, 22.69it/s]"
     ]
    },
    {
     "name": "stdout",
     "output_type": "stream",
     "text": [
      "✓ Processed: 0011_000583.wav\n",
      "✓ Processed: 0011_000586.wav\n",
      "✓ Processed: 0011_000588.wav\n",
      "✓ Processed: 0011_000589.wav\n",
      "✓ Processed: 0011_000590.wav\n"
     ]
    },
    {
     "name": "stderr",
     "output_type": "stream",
     "text": [
      "Processing files:  10%|▉         | 1950/19777 [01:37<13:30, 21.98it/s]"
     ]
    },
    {
     "name": "stdout",
     "output_type": "stream",
     "text": [
      "✓ Processed: 0011_000592.wav\n",
      "✓ Processed: 0011_000594.wav\n",
      "✓ Processed: 0011_000596.wav\n",
      "✓ Processed: 0011_000598.wav\n",
      "✓ Processed: 0011_000601.wav\n"
     ]
    },
    {
     "name": "stderr",
     "output_type": "stream",
     "text": [
      "Processing files:  10%|▉         | 1956/19777 [01:37<13:47, 21.54it/s]"
     ]
    },
    {
     "name": "stdout",
     "output_type": "stream",
     "text": [
      "✓ Processed: 0011_000604.wav\n",
      "✓ Processed: 0011_000605.wav\n",
      "✓ Processed: 0011_000608.wav\n",
      "✓ Processed: 0011_000610.wav\n",
      "✓ Processed: 0011_000614.wav\n"
     ]
    },
    {
     "name": "stderr",
     "output_type": "stream",
     "text": [
      "Processing files:  10%|▉         | 1959/19777 [01:37<13:45, 21.59it/s]"
     ]
    },
    {
     "name": "stdout",
     "output_type": "stream",
     "text": [
      "✓ Processed: 0011_000615.wav\n",
      "✓ Processed: 0011_000616.wav\n",
      "✓ Processed: 0011_000617.wav\n",
      "✓ Processed: 0011_000618.wav\n"
     ]
    },
    {
     "name": "stderr",
     "output_type": "stream",
     "text": [
      "Processing files:  10%|▉         | 1965/19777 [01:37<13:31, 21.94it/s]"
     ]
    },
    {
     "name": "stdout",
     "output_type": "stream",
     "text": [
      "✓ Processed: 0011_000620.wav\n",
      "✓ Processed: 0011_000623.wav\n",
      "✓ Processed: 0011_000624.wav\n",
      "✓ Processed: 0011_000627.wav\n",
      "✓ Processed: 0011_000628.wav\n",
      "✓ Processed: 0011_000630.wav\n"
     ]
    },
    {
     "name": "stderr",
     "output_type": "stream",
     "text": [
      "Processing files:  10%|▉         | 1971/19777 [01:38<13:23, 22.15it/s]"
     ]
    },
    {
     "name": "stdout",
     "output_type": "stream",
     "text": [
      "✓ Processed: 0011_000633.wav\n",
      "✓ Processed: 0011_000635.wav\n",
      "✓ Processed: 0011_000636.wav\n",
      "✓ Processed: 0011_000637.wav\n",
      "✓ Processed: 0011_000639.wav\n"
     ]
    },
    {
     "name": "stderr",
     "output_type": "stream",
     "text": [
      "Processing files:  10%|▉         | 1974/19777 [01:38<13:19, 22.26it/s]"
     ]
    },
    {
     "name": "stdout",
     "output_type": "stream",
     "text": [
      "✓ Processed: 0011_000641.wav\n",
      "✓ Processed: 0011_000642.wav\n",
      "✓ Processed: 0011_000644.wav\n",
      "✓ Processed: 0011_000653.wav\n"
     ]
    },
    {
     "name": "stderr",
     "output_type": "stream",
     "text": [
      "Processing files:  10%|█         | 1980/19777 [01:38<13:34, 21.84it/s]"
     ]
    },
    {
     "name": "stdout",
     "output_type": "stream",
     "text": [
      "✓ Processed: 0011_000656.wav\n",
      "✓ Processed: 0011_000657.wav\n",
      "✓ Processed: 0011_000658.wav\n",
      "✓ Processed: 0011_000661.wav\n",
      "✓ Processed: 0011_000662.wav\n"
     ]
    },
    {
     "name": "stderr",
     "output_type": "stream",
     "text": [
      "Processing files:  10%|█         | 1983/19777 [01:38<13:45, 21.56it/s]"
     ]
    },
    {
     "name": "stdout",
     "output_type": "stream",
     "text": [
      "✓ Processed: 0011_000665.wav\n",
      "✓ Processed: 0011_000666.wav\n",
      "✓ Processed: 0011_000667.wav\n",
      "✓ Processed: 0011_000669.wav\n"
     ]
    },
    {
     "name": "stderr",
     "output_type": "stream",
     "text": [
      "Processing files:  10%|█         | 1989/19777 [01:39<13:23, 22.15it/s]"
     ]
    },
    {
     "name": "stdout",
     "output_type": "stream",
     "text": [
      "✓ Processed: 0011_000673.wav\n",
      "✓ Processed: 0011_000675.wav\n",
      "✓ Processed: 0011_000677.wav\n",
      "✓ Processed: 0011_000682.wav\n",
      "✓ Processed: 0011_000683.wav\n"
     ]
    },
    {
     "name": "stderr",
     "output_type": "stream",
     "text": [
      "Processing files:  10%|█         | 1995/19777 [01:39<13:19, 22.23it/s]"
     ]
    },
    {
     "name": "stdout",
     "output_type": "stream",
     "text": [
      "✓ Processed: 0011_000684.wav\n",
      "✓ Processed: 0011_000685.wav\n",
      "✓ Processed: 0011_000689.wav\n",
      "✓ Processed: 0011_000691.wav\n",
      "✓ Processed: 0011_000692.wav\n"
     ]
    },
    {
     "name": "stderr",
     "output_type": "stream",
     "text": [
      "Processing files:  10%|█         | 1998/19777 [01:39<13:25, 22.07it/s]"
     ]
    },
    {
     "name": "stdout",
     "output_type": "stream",
     "text": [
      "✓ Processed: 0011_000693.wav\n",
      "✓ Processed: 0011_000694.wav\n",
      "✓ Processed: 0011_000695.wav\n",
      "✓ Processed: 0011_000699.wav\n",
      "✓ Processed: 0012_000352.wav\n"
     ]
    },
    {
     "name": "stderr",
     "output_type": "stream",
     "text": [
      "Processing files:  10%|█         | 2004/19777 [01:39<13:31, 21.89it/s]"
     ]
    },
    {
     "name": "stdout",
     "output_type": "stream",
     "text": [
      "✓ Processed: 0012_000355.wav\n",
      "✓ Processed: 0012_000356.wav\n",
      "✓ Processed: 0012_000357.wav\n",
      "✓ Processed: 0012_000358.wav\n",
      "✓ Processed: 0012_000360.wav\n"
     ]
    },
    {
     "name": "stderr",
     "output_type": "stream",
     "text": [
      "Processing files:  10%|█         | 2007/19777 [01:39<13:28, 21.97it/s]"
     ]
    },
    {
     "name": "stdout",
     "output_type": "stream",
     "text": [
      "✓ Processed: 0012_000364.wav\n",
      "✓ Processed: 0012_000366.wav\n",
      "✓ Processed: 0012_000367.wav\n",
      "✓ Processed: 0012_000368.wav\n"
     ]
    },
    {
     "name": "stderr",
     "output_type": "stream",
     "text": [
      "Processing files:  10%|█         | 2013/19777 [01:40<13:19, 22.21it/s]"
     ]
    },
    {
     "name": "stdout",
     "output_type": "stream",
     "text": [
      "✓ Processed: 0012_000369.wav\n",
      "✓ Processed: 0012_000371.wav\n",
      "✓ Processed: 0012_000372.wav\n",
      "✓ Processed: 0012_000375.wav\n",
      "✓ Processed: 0012_000376.wav\n"
     ]
    },
    {
     "name": "stderr",
     "output_type": "stream",
     "text": [
      "Processing files:  10%|█         | 2016/19777 [01:40<13:44, 21.53it/s]"
     ]
    },
    {
     "name": "stdout",
     "output_type": "stream",
     "text": [
      "✓ Processed: 0012_000378.wav\n",
      "✓ Processed: 0012_000379.wav\n",
      "✓ Processed: 0012_000380.wav\n",
      "✓ Processed: 0012_000382.wav\n"
     ]
    },
    {
     "name": "stderr",
     "output_type": "stream",
     "text": [
      "Processing files:  10%|█         | 2022/19777 [01:40<13:36, 21.75it/s]"
     ]
    },
    {
     "name": "stdout",
     "output_type": "stream",
     "text": [
      "✓ Processed: 0012_000384.wav\n",
      "✓ Processed: 0012_000385.wav\n",
      "✓ Processed: 0012_000387.wav\n",
      "✓ Processed: 0012_000388.wav\n",
      "✓ Processed: 0012_000389.wav\n"
     ]
    },
    {
     "name": "stderr",
     "output_type": "stream",
     "text": [
      "Processing files:  10%|█         | 2028/19777 [01:40<13:32, 21.83it/s]"
     ]
    },
    {
     "name": "stdout",
     "output_type": "stream",
     "text": [
      "✓ Processed: 0012_000390.wav\n",
      "✓ Processed: 0012_000392.wav\n",
      "✓ Processed: 0012_000397.wav\n",
      "✓ Processed: 0012_000398.wav\n",
      "✓ Processed: 0012_000402.wav\n"
     ]
    },
    {
     "name": "stderr",
     "output_type": "stream",
     "text": [
      "Processing files:  10%|█         | 2031/19777 [01:40<13:19, 22.19it/s]"
     ]
    },
    {
     "name": "stdout",
     "output_type": "stream",
     "text": [
      "✓ Processed: 0012_000403.wav\n",
      "✓ Processed: 0012_000404.wav\n",
      "✓ Processed: 0012_000407.wav\n",
      "✓ Processed: 0012_000408.wav\n",
      "✓ Processed: 0012_000409.wav\n"
     ]
    },
    {
     "name": "stderr",
     "output_type": "stream",
     "text": [
      "Processing files:  10%|█         | 2037/19777 [01:41<13:35, 21.74it/s]"
     ]
    },
    {
     "name": "stdout",
     "output_type": "stream",
     "text": [
      "✓ Processed: 0012_000412.wav\n",
      "✓ Processed: 0012_000413.wav\n",
      "✓ Processed: 0012_000414.wav\n",
      "✓ Processed: 0012_000416.wav\n",
      "✓ Processed: 0012_000417.wav\n"
     ]
    },
    {
     "name": "stderr",
     "output_type": "stream",
     "text": [
      "Processing files:  10%|█         | 2043/19777 [01:41<13:19, 22.17it/s]"
     ]
    },
    {
     "name": "stdout",
     "output_type": "stream",
     "text": [
      "✓ Processed: 0012_000422.wav\n",
      "✓ Processed: 0012_000423.wav\n",
      "✓ Processed: 0012_000425.wav\n",
      "✓ Processed: 0012_000427.wav\n"
     ]
    },
    {
     "name": "stderr",
     "output_type": "stream",
     "text": [
      "Processing files:  10%|█         | 2046/19777 [01:41<13:15, 22.28it/s]"
     ]
    },
    {
     "name": "stdout",
     "output_type": "stream",
     "text": [
      "✓ Processed: 0012_000429.wav\n",
      "✓ Processed: 0012_000430.wav\n",
      "✓ Processed: 0012_000431.wav\n",
      "✓ Processed: 0012_000433.wav\n",
      "✓ Processed: 0012_000435.wav\n"
     ]
    },
    {
     "name": "stderr",
     "output_type": "stream",
     "text": [
      "Processing files:  10%|█         | 2052/19777 [01:41<13:09, 22.46it/s]"
     ]
    },
    {
     "name": "stdout",
     "output_type": "stream",
     "text": [
      "✓ Processed: 0012_000436.wav\n",
      "✓ Processed: 0012_000441.wav\n",
      "✓ Processed: 0012_000444.wav\n",
      "✓ Processed: 0012_000445.wav\n",
      "✓ Processed: 0012_000446.wav\n"
     ]
    },
    {
     "name": "stderr",
     "output_type": "stream",
     "text": [
      "Processing files:  10%|█         | 2055/19777 [01:42<13:06, 22.54it/s]"
     ]
    },
    {
     "name": "stdout",
     "output_type": "stream",
     "text": [
      "✓ Processed: 0012_000447.wav\n",
      "✓ Processed: 0012_000448.wav\n",
      "✓ Processed: 0012_000449.wav\n",
      "✓ Processed: 0012_000450.wav\n",
      "✓ Processed: 0012_000452.wav\n"
     ]
    },
    {
     "name": "stderr",
     "output_type": "stream",
     "text": [
      "Processing files:  10%|█         | 2061/19777 [01:42<13:21, 22.10it/s]"
     ]
    },
    {
     "name": "stdout",
     "output_type": "stream",
     "text": [
      "✓ Processed: 0012_000453.wav\n",
      "✓ Processed: 0012_000454.wav\n",
      "✓ Processed: 0012_000455.wav\n",
      "✓ Processed: 0012_000458.wav\n",
      "✓ Processed: 0012_000459.wav\n"
     ]
    },
    {
     "name": "stderr",
     "output_type": "stream",
     "text": [
      "Processing files:  10%|█         | 2067/19777 [01:42<13:22, 22.08it/s]"
     ]
    },
    {
     "name": "stdout",
     "output_type": "stream",
     "text": [
      "✓ Processed: 0012_000460.wav\n",
      "✓ Processed: 0012_000461.wav\n",
      "✓ Processed: 0012_000462.wav\n",
      "✓ Processed: 0012_000465.wav\n"
     ]
    },
    {
     "name": "stderr",
     "output_type": "stream",
     "text": [
      "Processing files:  10%|█         | 2070/19777 [01:42<12:59, 22.73it/s]"
     ]
    },
    {
     "name": "stdout",
     "output_type": "stream",
     "text": [
      "✓ Processed: 0012_000466.wav\n",
      "✓ Processed: 0012_000467.wav\n",
      "✓ Processed: 0012_000468.wav\n",
      "✓ Processed: 0012_000470.wav\n",
      "✓ Processed: 0012_000474.wav\n"
     ]
    },
    {
     "name": "stderr",
     "output_type": "stream",
     "text": [
      "Processing files:  10%|█         | 2076/19777 [01:43<13:19, 22.15it/s]"
     ]
    },
    {
     "name": "stdout",
     "output_type": "stream",
     "text": [
      "✓ Processed: 0012_000475.wav\n",
      "✓ Processed: 0012_000476.wav\n",
      "✓ Processed: 0012_000479.wav\n",
      "✓ Processed: 0012_000481.wav\n"
     ]
    },
    {
     "name": "stderr",
     "output_type": "stream",
     "text": [
      "Processing files:  11%|█         | 2079/19777 [01:43<13:02, 22.62it/s]"
     ]
    },
    {
     "name": "stdout",
     "output_type": "stream",
     "text": [
      "✓ Processed: 0012_000483.wav\n",
      "✓ Processed: 0012_000484.wav\n",
      "✓ Processed: 0012_000488.wav\n",
      "✓ Processed: 0012_000489.wav\n",
      "✓ Processed: 0012_000490.wav\n"
     ]
    },
    {
     "name": "stderr",
     "output_type": "stream",
     "text": [
      "Processing files:  11%|█         | 2085/19777 [01:43<13:20, 22.11it/s]"
     ]
    },
    {
     "name": "stdout",
     "output_type": "stream",
     "text": [
      "✓ Processed: 0012_000494.wav\n",
      "✓ Processed: 0012_000497.wav\n",
      "✓ Processed: 0012_000498.wav\n",
      "✓ Processed: 0012_000500.wav\n",
      "✓ Processed: 0012_000502.wav\n"
     ]
    },
    {
     "name": "stderr",
     "output_type": "stream",
     "text": [
      "Processing files:  11%|█         | 2088/19777 [01:43<13:31, 21.81it/s]"
     ]
    },
    {
     "name": "stdout",
     "output_type": "stream",
     "text": [
      "✓ Processed: 0012_000503.wav\n",
      "✓ Processed: 0012_000504.wav\n",
      "✓ Processed: 0012_000506.wav\n",
      "✓ Processed: 0012_000508.wav\n",
      "✓ Processed: 0012_000509.wav\n"
     ]
    },
    {
     "name": "stderr",
     "output_type": "stream",
     "text": [
      "Processing files:  11%|█         | 2094/19777 [01:43<13:30, 21.81it/s]"
     ]
    },
    {
     "name": "stdout",
     "output_type": "stream",
     "text": [
      "✓ Processed: 0012_000510.wav\n",
      "✓ Processed: 0012_000513.wav\n",
      "✓ Processed: 0012_000514.wav\n",
      "✓ Processed: 0012_000515.wav\n",
      "✓ Processed: 0012_000516.wav\n"
     ]
    },
    {
     "name": "stderr",
     "output_type": "stream",
     "text": [
      "Processing files:  11%|█         | 2100/19777 [01:44<13:22, 22.02it/s]"
     ]
    },
    {
     "name": "stdout",
     "output_type": "stream",
     "text": [
      "✓ Processed: 0012_000519.wav\n",
      "✓ Processed: 0012_000521.wav\n",
      "✓ Processed: 0012_000522.wav\n",
      "✓ Processed: 0012_000525.wav\n",
      "✓ Processed: 0012_000528.wav\n",
      "✓ Processed: 0012_000529.wav\n"
     ]
    },
    {
     "name": "stderr",
     "output_type": "stream",
     "text": [
      "Processing files:  11%|█         | 2106/19777 [01:44<12:36, 23.35it/s]"
     ]
    },
    {
     "name": "stdout",
     "output_type": "stream",
     "text": [
      "✓ Processed: 0012_000531.wav\n",
      "✓ Processed: 0012_000532.wav\n",
      "✓ Processed: 0012_000534.wav\n",
      "✓ Processed: 0012_000542.wav\n",
      "✓ Processed: 0012_000544.wav\n"
     ]
    },
    {
     "name": "stderr",
     "output_type": "stream",
     "text": [
      "Processing files:  11%|█         | 2109/19777 [01:44<13:15, 22.21it/s]"
     ]
    },
    {
     "name": "stdout",
     "output_type": "stream",
     "text": [
      "✓ Processed: 0012_000545.wav\n",
      "✓ Processed: 0012_000546.wav\n",
      "✓ Processed: 0012_000547.wav\n",
      "✓ Processed: 0012_000551.wav\n",
      "✓ Processed: 0012_000553.wav\n"
     ]
    },
    {
     "name": "stderr",
     "output_type": "stream",
     "text": [
      "Processing files:  11%|█         | 2115/19777 [01:44<13:18, 22.12it/s]"
     ]
    },
    {
     "name": "stdout",
     "output_type": "stream",
     "text": [
      "✓ Processed: 0012_000554.wav\n",
      "✓ Processed: 0012_000556.wav\n",
      "✓ Processed: 0012_000560.wav\n",
      "✓ Processed: 0012_000561.wav\n",
      "✓ Processed: 0012_000563.wav\n"
     ]
    },
    {
     "name": "stderr",
     "output_type": "stream",
     "text": [
      "Processing files:  11%|█         | 2118/19777 [01:44<13:40, 21.53it/s]"
     ]
    },
    {
     "name": "stdout",
     "output_type": "stream",
     "text": [
      "✓ Processed: 0012_000565.wav\n",
      "✓ Processed: 0012_000568.wav\n",
      "✓ Processed: 0012_000570.wav\n",
      "✓ Processed: 0012_000571.wav\n"
     ]
    },
    {
     "name": "stderr",
     "output_type": "stream",
     "text": [
      "Processing files:  11%|█         | 2124/19777 [01:45<13:15, 22.18it/s]"
     ]
    },
    {
     "name": "stdout",
     "output_type": "stream",
     "text": [
      "✓ Processed: 0012_000572.wav\n",
      "✓ Processed: 0012_000573.wav\n",
      "✓ Processed: 0012_000575.wav\n",
      "✓ Processed: 0012_000576.wav\n",
      "✓ Processed: 0012_000578.wav\n"
     ]
    },
    {
     "name": "stderr",
     "output_type": "stream",
     "text": [
      "Processing files:  11%|█         | 2130/19777 [01:45<13:05, 22.48it/s]"
     ]
    },
    {
     "name": "stdout",
     "output_type": "stream",
     "text": [
      "✓ Processed: 0012_000580.wav\n",
      "✓ Processed: 0012_000581.wav\n",
      "✓ Processed: 0012_000586.wav\n",
      "✓ Processed: 0012_000587.wav\n"
     ]
    },
    {
     "name": "stderr",
     "output_type": "stream",
     "text": [
      "Processing files:  11%|█         | 2133/19777 [01:45<13:21, 22.00it/s]"
     ]
    },
    {
     "name": "stdout",
     "output_type": "stream",
     "text": [
      "✓ Processed: 0012_000589.wav\n",
      "✓ Processed: 0012_000590.wav\n",
      "✓ Processed: 0012_000591.wav\n",
      "✓ Processed: 0012_000592.wav\n",
      "✓ Processed: 0012_000593.wav\n"
     ]
    },
    {
     "name": "stderr",
     "output_type": "stream",
     "text": [
      "Processing files:  11%|█         | 2136/19777 [01:45<13:15, 22.18it/s]"
     ]
    },
    {
     "name": "stdout",
     "output_type": "stream",
     "text": [
      "✓ Processed: 0012_000594.wav\n",
      "✓ Processed: 0012_000595.wav\n",
      "✓ Processed: 0012_000596.wav\n",
      "✓ Processed: 0012_000597.wav\n"
     ]
    },
    {
     "name": "stderr",
     "output_type": "stream",
     "text": [
      "Processing files:  11%|█         | 2142/19777 [01:46<13:36, 21.61it/s]"
     ]
    },
    {
     "name": "stdout",
     "output_type": "stream",
     "text": [
      "✓ Processed: 0012_000601.wav\n",
      "✓ Processed: 0012_000603.wav\n",
      "✓ Processed: 0012_000606.wav\n",
      "✓ Processed: 0012_000608.wav\n",
      "✓ Processed: 0012_000611.wav\n"
     ]
    },
    {
     "name": "stderr",
     "output_type": "stream",
     "text": [
      "Processing files:  11%|█         | 2148/19777 [01:46<13:32, 21.70it/s]"
     ]
    },
    {
     "name": "stdout",
     "output_type": "stream",
     "text": [
      "✓ Processed: 0012_000616.wav\n",
      "✓ Processed: 0012_000621.wav\n",
      "✓ Processed: 0012_000625.wav\n",
      "✓ Processed: 0012_000626.wav\n"
     ]
    },
    {
     "name": "stderr",
     "output_type": "stream",
     "text": [
      "Processing files:  11%|█         | 2151/19777 [01:46<13:42, 21.44it/s]"
     ]
    },
    {
     "name": "stdout",
     "output_type": "stream",
     "text": [
      "✓ Processed: 0012_000629.wav\n",
      "✓ Processed: 0012_000632.wav\n",
      "✓ Processed: 0012_000634.wav\n",
      "✓ Processed: 0012_000638.wav\n",
      "✓ Processed: 0012_000639.wav\n"
     ]
    },
    {
     "name": "stderr",
     "output_type": "stream",
     "text": [
      "Processing files:  11%|█         | 2157/19777 [01:46<13:10, 22.29it/s]"
     ]
    },
    {
     "name": "stdout",
     "output_type": "stream",
     "text": [
      "✓ Processed: 0012_000640.wav\n",
      "✓ Processed: 0012_000642.wav\n",
      "✓ Processed: 0012_000644.wav\n",
      "✓ Processed: 0012_000645.wav\n",
      "✓ Processed: 0012_000646.wav\n"
     ]
    },
    {
     "name": "stderr",
     "output_type": "stream",
     "text": [
      "Processing files:  11%|█         | 2160/19777 [01:46<13:28, 21.78it/s]"
     ]
    },
    {
     "name": "stdout",
     "output_type": "stream",
     "text": [
      "✓ Processed: 0012_000647.wav\n",
      "✓ Processed: 0012_000648.wav\n",
      "✓ Processed: 0012_000649.wav\n",
      "✓ Processed: 0012_000650.wav\n",
      "✓ Processed: 0012_000651.wav\n"
     ]
    },
    {
     "name": "stderr",
     "output_type": "stream",
     "text": [
      "Processing files:  11%|█         | 2166/19777 [01:47<13:18, 22.07it/s]"
     ]
    },
    {
     "name": "stdout",
     "output_type": "stream",
     "text": [
      "✓ Processed: 0012_000652.wav\n",
      "✓ Processed: 0012_000653.wav\n",
      "✓ Processed: 0012_000654.wav\n",
      "✓ Processed: 0012_000658.wav\n",
      "✓ Processed: 0012_000660.wav\n"
     ]
    },
    {
     "name": "stderr",
     "output_type": "stream",
     "text": [
      "Processing files:  11%|█         | 2172/19777 [01:47<13:00, 22.55it/s]"
     ]
    },
    {
     "name": "stdout",
     "output_type": "stream",
     "text": [
      "✓ Processed: 0012_000664.wav\n",
      "✓ Processed: 0012_000665.wav\n",
      "✓ Processed: 0012_000666.wav\n",
      "✓ Processed: 0012_000669.wav\n",
      "✓ Processed: 0012_000671.wav\n"
     ]
    },
    {
     "name": "stderr",
     "output_type": "stream",
     "text": [
      "Processing files:  11%|█         | 2175/19777 [01:47<12:55, 22.69it/s]"
     ]
    },
    {
     "name": "stdout",
     "output_type": "stream",
     "text": [
      "✓ Processed: 0012_000674.wav\n",
      "✓ Processed: 0012_000677.wav\n",
      "✓ Processed: 0012_000680.wav\n",
      "✓ Processed: 0012_000683.wav\n",
      "✓ Processed: 0012_000686.wav\n"
     ]
    },
    {
     "name": "stderr",
     "output_type": "stream",
     "text": [
      "Processing files:  11%|█         | 2181/19777 [01:47<13:17, 22.07it/s]"
     ]
    },
    {
     "name": "stdout",
     "output_type": "stream",
     "text": [
      "✓ Processed: 0012_000687.wav\n",
      "✓ Processed: 0012_000688.wav\n",
      "✓ Processed: 0012_000690.wav\n",
      "✓ Processed: 0012_000692.wav\n",
      "✓ Processed: 0012_000693.wav\n"
     ]
    },
    {
     "name": "stderr",
     "output_type": "stream",
     "text": [
      "Processing files:  11%|█         | 2184/19777 [01:47<13:27, 21.80it/s]"
     ]
    },
    {
     "name": "stdout",
     "output_type": "stream",
     "text": [
      "✓ Processed: 0012_000698.wav\n",
      "✓ Processed: 0013_000352.wav\n",
      "✓ Processed: 0013_000355.wav\n",
      "✓ Processed: 0013_000356.wav\n"
     ]
    },
    {
     "name": "stderr",
     "output_type": "stream",
     "text": [
      "Processing files:  11%|█         | 2190/19777 [01:48<13:31, 21.68it/s]"
     ]
    },
    {
     "name": "stdout",
     "output_type": "stream",
     "text": [
      "✓ Processed: 0013_000357.wav\n",
      "✓ Processed: 0013_000358.wav\n",
      "✓ Processed: 0013_000361.wav\n",
      "✓ Processed: 0013_000363.wav\n",
      "✓ Processed: 0013_000365.wav\n"
     ]
    },
    {
     "name": "stderr",
     "output_type": "stream",
     "text": [
      "Processing files:  11%|█         | 2193/19777 [01:48<13:24, 21.85it/s]"
     ]
    },
    {
     "name": "stdout",
     "output_type": "stream",
     "text": [
      "✓ Processed: 0013_000366.wav\n",
      "✓ Processed: 0013_000367.wav\n",
      "✓ Processed: 0013_000369.wav\n",
      "✓ Processed: 0013_000370.wav\n"
     ]
    },
    {
     "name": "stderr",
     "output_type": "stream",
     "text": [
      "Processing files:  11%|█         | 2199/19777 [01:48<13:50, 21.17it/s]"
     ]
    },
    {
     "name": "stdout",
     "output_type": "stream",
     "text": [
      "✓ Processed: 0013_000373.wav\n",
      "✓ Processed: 0013_000376.wav\n",
      "✓ Processed: 0013_000378.wav\n",
      "✓ Processed: 0013_000379.wav\n",
      "✓ Processed: 0013_000384.wav\n"
     ]
    },
    {
     "name": "stderr",
     "output_type": "stream",
     "text": [
      "Processing files:  11%|█         | 2205/19777 [01:48<13:15, 22.09it/s]"
     ]
    },
    {
     "name": "stdout",
     "output_type": "stream",
     "text": [
      "✓ Processed: 0013_000385.wav\n",
      "✓ Processed: 0013_000386.wav\n",
      "✓ Processed: 0013_000387.wav\n",
      "✓ Processed: 0013_000388.wav\n",
      "✓ Processed: 0013_000392.wav\n"
     ]
    },
    {
     "name": "stderr",
     "output_type": "stream",
     "text": [
      "Processing files:  11%|█         | 2208/19777 [01:49<13:14, 22.10it/s]"
     ]
    },
    {
     "name": "stdout",
     "output_type": "stream",
     "text": [
      "✓ Processed: 0013_000393.wav\n",
      "✓ Processed: 0013_000394.wav\n",
      "✓ Processed: 0013_000395.wav\n",
      "✓ Processed: 0013_000396.wav\n",
      "✓ Processed: 0013_000398.wav\n"
     ]
    },
    {
     "name": "stderr",
     "output_type": "stream",
     "text": [
      "Processing files:  11%|█         | 2214/19777 [01:49<13:58, 20.94it/s]"
     ]
    },
    {
     "name": "stdout",
     "output_type": "stream",
     "text": [
      "✓ Processed: 0013_000406.wav\n",
      "✓ Processed: 0013_000411.wav\n",
      "✓ Processed: 0013_000412.wav\n",
      "✓ Processed: 0013_000414.wav\n",
      "✓ Processed: 0013_000415.wav\n"
     ]
    },
    {
     "name": "stderr",
     "output_type": "stream",
     "text": [
      "Processing files:  11%|█         | 2220/19777 [01:49<13:58, 20.93it/s]"
     ]
    },
    {
     "name": "stdout",
     "output_type": "stream",
     "text": [
      "✓ Processed: 0013_000416.wav\n",
      "✓ Processed: 0013_000417.wav\n",
      "✓ Processed: 0013_000418.wav\n",
      "✓ Processed: 0013_000419.wav\n"
     ]
    },
    {
     "name": "stderr",
     "output_type": "stream",
     "text": [
      "Processing files:  11%|█         | 2223/19777 [01:49<14:06, 20.73it/s]"
     ]
    },
    {
     "name": "stdout",
     "output_type": "stream",
     "text": [
      "✓ Processed: 0013_000420.wav\n",
      "✓ Processed: 0013_000430.wav\n",
      "✓ Processed: 0013_000432.wav\n",
      "✓ Processed: 0013_000435.wav\n",
      "✓ Processed: 0013_000438.wav\n"
     ]
    },
    {
     "name": "stderr",
     "output_type": "stream",
     "text": [
      "Processing files:  11%|█▏        | 2229/19777 [01:50<13:36, 21.50it/s]"
     ]
    },
    {
     "name": "stdout",
     "output_type": "stream",
     "text": [
      "✓ Processed: 0013_000439.wav\n",
      "✓ Processed: 0013_000440.wav\n",
      "✓ Processed: 0013_000445.wav\n",
      "✓ Processed: 0013_000447.wav\n",
      "✓ Processed: 0013_000448.wav\n"
     ]
    },
    {
     "name": "stderr",
     "output_type": "stream",
     "text": [
      "Processing files:  11%|█▏        | 2232/19777 [01:50<13:52, 21.07it/s]"
     ]
    },
    {
     "name": "stdout",
     "output_type": "stream",
     "text": [
      "✓ Processed: 0013_000449.wav\n",
      "✓ Processed: 0013_000450.wav\n",
      "✓ Processed: 0013_000452.wav\n",
      "✓ Processed: 0013_000454.wav\n",
      "✓ Processed: 0013_000455.wav\n"
     ]
    },
    {
     "name": "stderr",
     "output_type": "stream",
     "text": [
      "Processing files:  11%|█▏        | 2238/19777 [01:50<13:55, 20.99it/s]"
     ]
    },
    {
     "name": "stdout",
     "output_type": "stream",
     "text": [
      "✓ Processed: 0013_000456.wav\n",
      "✓ Processed: 0013_000457.wav\n",
      "✓ Processed: 0013_000459.wav\n",
      "✓ Processed: 0013_000462.wav\n",
      "✓ Processed: 0013_000464.wav\n"
     ]
    },
    {
     "name": "stderr",
     "output_type": "stream",
     "text": [
      "Processing files:  11%|█▏        | 2241/19777 [01:50<13:55, 20.99it/s]"
     ]
    },
    {
     "name": "stdout",
     "output_type": "stream",
     "text": [
      "✓ Processed: 0013_000470.wav\n",
      "✓ Processed: 0013_000471.wav\n",
      "✓ Processed: 0013_000473.wav\n",
      "✓ Processed: 0013_000477.wav\n"
     ]
    },
    {
     "name": "stderr",
     "output_type": "stream",
     "text": [
      "Processing files:  11%|█▏        | 2247/19777 [01:50<14:26, 20.23it/s]"
     ]
    },
    {
     "name": "stdout",
     "output_type": "stream",
     "text": [
      "✓ Processed: 0013_000479.wav\n",
      "✓ Processed: 0013_000480.wav\n",
      "✓ Processed: 0013_000481.wav\n",
      "✓ Processed: 0013_000483.wav\n",
      "✓ Processed: 0013_000484.wav\n"
     ]
    },
    {
     "name": "stderr",
     "output_type": "stream",
     "text": [
      "Processing files:  11%|█▏        | 2253/19777 [01:51<13:53, 21.04it/s]"
     ]
    },
    {
     "name": "stdout",
     "output_type": "stream",
     "text": [
      "✓ Processed: 0013_000485.wav\n",
      "✓ Processed: 0013_000486.wav\n",
      "✓ Processed: 0013_000491.wav\n",
      "✓ Processed: 0013_000494.wav\n"
     ]
    },
    {
     "name": "stderr",
     "output_type": "stream",
     "text": [
      "Processing files:  11%|█▏        | 2256/19777 [01:51<13:31, 21.60it/s]"
     ]
    },
    {
     "name": "stdout",
     "output_type": "stream",
     "text": [
      "✓ Processed: 0013_000496.wav\n",
      "✓ Processed: 0013_000497.wav\n",
      "✓ Processed: 0013_000498.wav\n",
      "✓ Processed: 0013_000500.wav\n",
      "✓ Processed: 0013_000501.wav\n"
     ]
    },
    {
     "name": "stderr",
     "output_type": "stream",
     "text": [
      "Processing files:  11%|█▏        | 2262/19777 [01:51<13:12, 22.09it/s]"
     ]
    },
    {
     "name": "stdout",
     "output_type": "stream",
     "text": [
      "✓ Processed: 0013_000502.wav\n",
      "✓ Processed: 0013_000504.wav\n",
      "✓ Processed: 0013_000506.wav\n",
      "✓ Processed: 0013_000507.wav\n",
      "✓ Processed: 0013_000508.wav\n"
     ]
    },
    {
     "name": "stderr",
     "output_type": "stream",
     "text": [
      "Processing files:  11%|█▏        | 2265/19777 [01:51<13:17, 21.96it/s]"
     ]
    },
    {
     "name": "stdout",
     "output_type": "stream",
     "text": [
      "✓ Processed: 0013_000510.wav\n",
      "✓ Processed: 0013_000511.wav\n",
      "✓ Processed: 0013_000512.wav\n",
      "✓ Processed: 0013_000513.wav\n",
      "✓ Processed: 0013_000514.wav\n"
     ]
    },
    {
     "name": "stderr",
     "output_type": "stream",
     "text": [
      "Processing files:  11%|█▏        | 2271/19777 [01:51<13:02, 22.37it/s]"
     ]
    },
    {
     "name": "stdout",
     "output_type": "stream",
     "text": [
      "✓ Processed: 0013_000516.wav\n",
      "✓ Processed: 0013_000519.wav\n",
      "✓ Processed: 0013_000520.wav\n",
      "✓ Processed: 0013_000522.wav\n",
      "✓ Processed: 0013_000523.wav\n"
     ]
    },
    {
     "name": "stderr",
     "output_type": "stream",
     "text": [
      "Processing files:  12%|█▏        | 2277/19777 [01:52<12:45, 22.87it/s]"
     ]
    },
    {
     "name": "stdout",
     "output_type": "stream",
     "text": [
      "✓ Processed: 0013_000525.wav\n",
      "✓ Processed: 0013_000530.wav\n",
      "✓ Processed: 0013_000531.wav\n",
      "✓ Processed: 0013_000534.wav\n",
      "✓ Processed: 0013_000537.wav\n"
     ]
    },
    {
     "name": "stderr",
     "output_type": "stream",
     "text": [
      "Processing files:  12%|█▏        | 2280/19777 [01:52<12:51, 22.68it/s]"
     ]
    },
    {
     "name": "stdout",
     "output_type": "stream",
     "text": [
      "✓ Processed: 0013_000539.wav\n",
      "✓ Processed: 0013_000545.wav\n",
      "✓ Processed: 0013_000547.wav\n",
      "✓ Processed: 0013_000548.wav\n",
      "✓ Processed: 0013_000549.wav\n"
     ]
    },
    {
     "name": "stderr",
     "output_type": "stream",
     "text": [
      "Processing files:  12%|█▏        | 2286/19777 [01:52<13:08, 22.19it/s]"
     ]
    },
    {
     "name": "stdout",
     "output_type": "stream",
     "text": [
      "✓ Processed: 0013_000554.wav\n",
      "✓ Processed: 0013_000555.wav\n",
      "✓ Processed: 0013_000557.wav\n",
      "✓ Processed: 0013_000558.wav\n",
      "✓ Processed: 0013_000559.wav\n"
     ]
    },
    {
     "name": "stderr",
     "output_type": "stream",
     "text": [
      "Processing files:  12%|█▏        | 2292/19777 [01:52<12:59, 22.43it/s]"
     ]
    },
    {
     "name": "stdout",
     "output_type": "stream",
     "text": [
      "✓ Processed: 0013_000560.wav\n",
      "✓ Processed: 0013_000563.wav\n",
      "✓ Processed: 0013_000564.wav\n",
      "✓ Processed: 0013_000565.wav\n",
      "✓ Processed: 0013_000567.wav\n"
     ]
    },
    {
     "name": "stderr",
     "output_type": "stream",
     "text": [
      "Processing files:  12%|█▏        | 2298/19777 [01:53<12:40, 22.97it/s]"
     ]
    },
    {
     "name": "stdout",
     "output_type": "stream",
     "text": [
      "✓ Processed: 0013_000568.wav\n",
      "✓ Processed: 0013_000570.wav\n",
      "✓ Processed: 0013_000571.wav\n",
      "✓ Processed: 0013_000572.wav\n",
      "✓ Processed: 0013_000575.wav\n"
     ]
    },
    {
     "name": "stderr",
     "output_type": "stream",
     "text": [
      "Processing files:  12%|█▏        | 2301/19777 [01:53<12:43, 22.90it/s]"
     ]
    },
    {
     "name": "stdout",
     "output_type": "stream",
     "text": [
      "✓ Processed: 0013_000577.wav\n",
      "✓ Processed: 0013_000578.wav\n",
      "✓ Processed: 0013_000581.wav\n",
      "✓ Processed: 0013_000583.wav\n",
      "✓ Processed: 0013_000587.wav\n"
     ]
    },
    {
     "name": "stderr",
     "output_type": "stream",
     "text": [
      "Processing files:  12%|█▏        | 2307/19777 [01:53<12:38, 23.03it/s]"
     ]
    },
    {
     "name": "stdout",
     "output_type": "stream",
     "text": [
      "✓ Processed: 0013_000588.wav\n",
      "✓ Processed: 0013_000589.wav\n",
      "✓ Processed: 0013_000590.wav\n",
      "✓ Processed: 0013_000591.wav\n",
      "✓ Processed: 0013_000597.wav\n"
     ]
    },
    {
     "name": "stderr",
     "output_type": "stream",
     "text": [
      "Processing files:  12%|█▏        | 2310/19777 [01:53<12:22, 23.52it/s]"
     ]
    },
    {
     "name": "stdout",
     "output_type": "stream",
     "text": [
      "✓ Processed: 0013_000599.wav\n",
      "✓ Processed: 0013_000600.wav\n",
      "✓ Processed: 0013_000603.wav\n",
      "✓ Processed: 0013_000604.wav\n",
      "✓ Processed: 0013_000615.wav\n"
     ]
    },
    {
     "name": "stderr",
     "output_type": "stream",
     "text": [
      "Processing files:  12%|█▏        | 2316/19777 [01:53<12:40, 22.96it/s]"
     ]
    },
    {
     "name": "stdout",
     "output_type": "stream",
     "text": [
      "✓ Processed: 0013_000617.wav\n",
      "✓ Processed: 0013_000619.wav\n",
      "✓ Processed: 0013_000620.wav\n",
      "✓ Processed: 0013_000621.wav\n",
      "✓ Processed: 0013_000622.wav\n"
     ]
    },
    {
     "name": "stderr",
     "output_type": "stream",
     "text": [
      "Processing files:  12%|█▏        | 2322/19777 [01:54<13:03, 22.27it/s]"
     ]
    },
    {
     "name": "stdout",
     "output_type": "stream",
     "text": [
      "✓ Processed: 0013_000624.wav\n",
      "✓ Processed: 0013_000626.wav\n",
      "✓ Processed: 0013_000627.wav\n",
      "✓ Processed: 0013_000629.wav\n"
     ]
    },
    {
     "name": "stderr",
     "output_type": "stream",
     "text": [
      "Processing files:  12%|█▏        | 2325/19777 [01:54<12:49, 22.69it/s]"
     ]
    },
    {
     "name": "stdout",
     "output_type": "stream",
     "text": [
      "✓ Processed: 0013_000632.wav\n",
      "✓ Processed: 0013_000634.wav\n",
      "✓ Processed: 0013_000635.wav\n",
      "✓ Processed: 0013_000636.wav\n",
      "✓ Processed: 0013_000638.wav\n"
     ]
    },
    {
     "name": "stderr",
     "output_type": "stream",
     "text": [
      "Processing files:  12%|█▏        | 2328/19777 [01:54<12:48, 22.72it/s]"
     ]
    },
    {
     "name": "stdout",
     "output_type": "stream",
     "text": [
      "✓ Processed: 0013_000639.wav\n",
      "✓ Processed: 0013_000643.wav\n",
      "✓ Processed: 0013_000644.wav\n",
      "✓ Processed: 0013_000649.wav\n"
     ]
    },
    {
     "name": "stderr",
     "output_type": "stream",
     "text": [
      "Processing files:  12%|█▏        | 2334/19777 [01:54<12:44, 22.83it/s]"
     ]
    },
    {
     "name": "stdout",
     "output_type": "stream",
     "text": [
      "✓ Processed: 0013_000650.wav\n",
      "✓ Processed: 0013_000651.wav\n",
      "✓ Processed: 0013_000653.wav\n",
      "✓ Processed: 0013_000654.wav\n",
      "✓ Processed: 0013_000655.wav\n"
     ]
    },
    {
     "name": "stderr",
     "output_type": "stream",
     "text": [
      "Processing files:  12%|█▏        | 2340/19777 [01:55<12:27, 23.32it/s]"
     ]
    },
    {
     "name": "stdout",
     "output_type": "stream",
     "text": [
      "✓ Processed: 0013_000658.wav\n",
      "✓ Processed: 0013_000660.wav\n",
      "✓ Processed: 0013_000661.wav\n",
      "✓ Processed: 0013_000662.wav\n",
      "✓ Processed: 0013_000663.wav\n"
     ]
    },
    {
     "name": "stderr",
     "output_type": "stream",
     "text": [
      "Processing files:  12%|█▏        | 2343/19777 [01:55<13:05, 22.19it/s]"
     ]
    },
    {
     "name": "stdout",
     "output_type": "stream",
     "text": [
      "✓ Processed: 0013_000664.wav\n",
      "✓ Processed: 0013_000665.wav\n",
      "✓ Processed: 0013_000668.wav\n",
      "✓ Processed: 0013_000669.wav\n",
      "✓ Processed: 0013_000670.wav\n"
     ]
    },
    {
     "name": "stderr",
     "output_type": "stream",
     "text": [
      "Processing files:  12%|█▏        | 2349/19777 [01:55<13:22, 21.71it/s]"
     ]
    },
    {
     "name": "stdout",
     "output_type": "stream",
     "text": [
      "✓ Processed: 0013_000674.wav\n",
      "✓ Processed: 0013_000676.wav\n",
      "✓ Processed: 0013_000677.wav\n",
      "✓ Processed: 0013_000678.wav\n",
      "✓ Processed: 0013_000683.wav\n"
     ]
    },
    {
     "name": "stderr",
     "output_type": "stream",
     "text": [
      "Processing files:  12%|█▏        | 2355/19777 [01:55<13:10, 22.05it/s]"
     ]
    },
    {
     "name": "stdout",
     "output_type": "stream",
     "text": [
      "✓ Processed: 0013_000687.wav\n",
      "✓ Processed: 0013_000688.wav\n",
      "✓ Processed: 0013_000690.wav\n",
      "✓ Processed: 0013_000691.wav\n"
     ]
    },
    {
     "name": "stderr",
     "output_type": "stream",
     "text": [
      "Processing files:  12%|█▏        | 2358/19777 [01:55<13:14, 21.93it/s]"
     ]
    },
    {
     "name": "stdout",
     "output_type": "stream",
     "text": [
      "✓ Processed: 0013_000693.wav\n",
      "✓ Processed: 0013_000694.wav\n",
      "✓ Processed: 0013_000695.wav\n",
      "✓ Processed: 0013_000696.wav\n",
      "✓ Processed: 0013_000698.wav\n"
     ]
    },
    {
     "name": "stderr",
     "output_type": "stream",
     "text": [
      "Processing files:  12%|█▏        | 2364/19777 [01:56<13:02, 22.25it/s]"
     ]
    },
    {
     "name": "stdout",
     "output_type": "stream",
     "text": [
      "✓ Processed: 0013_000699.wav\n",
      "✓ Processed: 0013_000700.wav\n",
      "✓ Processed: 0014_000353.wav\n",
      "✓ Processed: 0014_000354.wav\n",
      "✓ Processed: 0014_000356.wav\n"
     ]
    },
    {
     "name": "stderr",
     "output_type": "stream",
     "text": [
      "Processing files:  12%|█▏        | 2367/19777 [01:56<13:04, 22.20it/s]"
     ]
    },
    {
     "name": "stdout",
     "output_type": "stream",
     "text": [
      "✓ Processed: 0014_000357.wav\n",
      "✓ Processed: 0014_000358.wav\n",
      "✓ Processed: 0014_000359.wav\n",
      "✓ Processed: 0014_000362.wav\n"
     ]
    },
    {
     "name": "stderr",
     "output_type": "stream",
     "text": [
      "Processing files:  12%|█▏        | 2370/19777 [01:56<14:19, 20.26it/s]"
     ]
    },
    {
     "name": "stdout",
     "output_type": "stream",
     "text": [
      "✓ Processed: 0014_000365.wav\n",
      "✓ Processed: 0014_000366.wav\n",
      "✓ Processed: 0014_000367.wav\n",
      "✓ Processed: 0014_000370.wav\n"
     ]
    },
    {
     "name": "stderr",
     "output_type": "stream",
     "text": [
      "Processing files:  12%|█▏        | 2376/19777 [01:56<13:55, 20.82it/s]"
     ]
    },
    {
     "name": "stdout",
     "output_type": "stream",
     "text": [
      "✓ Processed: 0014_000371.wav\n",
      "✓ Processed: 0014_000372.wav\n",
      "✓ Processed: 0014_000374.wav\n",
      "✓ Processed: 0014_000375.wav\n",
      "✓ Processed: 0014_000378.wav\n"
     ]
    },
    {
     "name": "stderr",
     "output_type": "stream",
     "text": [
      "Processing files:  12%|█▏        | 2382/19777 [01:56<13:29, 21.50it/s]"
     ]
    },
    {
     "name": "stdout",
     "output_type": "stream",
     "text": [
      "✓ Processed: 0014_000382.wav\n",
      "✓ Processed: 0014_000383.wav\n",
      "✓ Processed: 0014_000384.wav\n",
      "✓ Processed: 0014_000387.wav\n",
      "✓ Processed: 0014_000390.wav\n"
     ]
    },
    {
     "name": "stderr",
     "output_type": "stream",
     "text": [
      "Processing files:  12%|█▏        | 2385/19777 [01:57<13:28, 21.51it/s]"
     ]
    },
    {
     "name": "stdout",
     "output_type": "stream",
     "text": [
      "✓ Processed: 0014_000392.wav\n",
      "✓ Processed: 0014_000395.wav\n",
      "✓ Processed: 0014_000397.wav\n",
      "✓ Processed: 0014_000401.wav\n",
      "✓ Processed: 0014_000403.wav\n"
     ]
    },
    {
     "name": "stderr",
     "output_type": "stream",
     "text": [
      "Processing files:  12%|█▏        | 2391/19777 [01:57<13:09, 22.01it/s]"
     ]
    },
    {
     "name": "stdout",
     "output_type": "stream",
     "text": [
      "✓ Processed: 0014_000404.wav\n",
      "✓ Processed: 0014_000405.wav\n",
      "✓ Processed: 0014_000407.wav\n",
      "✓ Processed: 0014_000409.wav\n",
      "✓ Processed: 0014_000410.wav\n"
     ]
    },
    {
     "name": "stderr",
     "output_type": "stream",
     "text": [
      "Processing files:  12%|█▏        | 2397/19777 [01:57<12:41, 22.81it/s]"
     ]
    },
    {
     "name": "stdout",
     "output_type": "stream",
     "text": [
      "✓ Processed: 0014_000412.wav\n",
      "✓ Processed: 0014_000413.wav\n",
      "✓ Processed: 0014_000416.wav\n",
      "✓ Processed: 0014_000417.wav\n",
      "✓ Processed: 0014_000418.wav\n"
     ]
    },
    {
     "name": "stderr",
     "output_type": "stream",
     "text": [
      "Processing files:  12%|█▏        | 2403/19777 [01:57<12:07, 23.89it/s]"
     ]
    },
    {
     "name": "stdout",
     "output_type": "stream",
     "text": [
      "✓ Processed: 0014_000420.wav\n",
      "✓ Processed: 0014_000421.wav\n",
      "✓ Processed: 0014_000422.wav\n",
      "✓ Processed: 0014_000424.wav\n",
      "✓ Processed: 0014_000425.wav\n"
     ]
    },
    {
     "name": "stderr",
     "output_type": "stream",
     "text": [
      "Processing files:  12%|█▏        | 2406/19777 [01:58<12:00, 24.10it/s]"
     ]
    },
    {
     "name": "stdout",
     "output_type": "stream",
     "text": [
      "✓ Processed: 0014_000426.wav\n",
      "✓ Processed: 0014_000427.wav\n",
      "✓ Processed: 0014_000431.wav\n",
      "✓ Processed: 0014_000432.wav\n",
      "✓ Processed: 0014_000435.wav\n"
     ]
    },
    {
     "name": "stderr",
     "output_type": "stream",
     "text": [
      "Processing files:  12%|█▏        | 2412/19777 [01:58<12:28, 23.21it/s]"
     ]
    },
    {
     "name": "stdout",
     "output_type": "stream",
     "text": [
      "✓ Processed: 0014_000436.wav\n",
      "✓ Processed: 0014_000441.wav\n",
      "✓ Processed: 0014_000444.wav\n",
      "✓ Processed: 0014_000450.wav\n",
      "✓ Processed: 0014_000451.wav\n"
     ]
    },
    {
     "name": "stderr",
     "output_type": "stream",
     "text": [
      "Processing files:  12%|█▏        | 2415/19777 [01:58<12:33, 23.03it/s]"
     ]
    },
    {
     "name": "stdout",
     "output_type": "stream",
     "text": [
      "✓ Processed: 0014_000452.wav\n",
      "✓ Processed: 0014_000453.wav\n",
      "✓ Processed: 0014_000456.wav\n",
      "✓ Processed: 0014_000460.wav\n",
      "✓ Processed: 0014_000462.wav\n"
     ]
    },
    {
     "name": "stderr",
     "output_type": "stream",
     "text": [
      "Processing files:  12%|█▏        | 2421/19777 [01:58<12:16, 23.57it/s]"
     ]
    },
    {
     "name": "stdout",
     "output_type": "stream",
     "text": [
      "✓ Processed: 0014_000463.wav\n",
      "✓ Processed: 0014_000465.wav\n",
      "✓ Processed: 0014_000466.wav\n",
      "✓ Processed: 0014_000467.wav\n",
      "✓ Processed: 0014_000474.wav\n"
     ]
    },
    {
     "name": "stderr",
     "output_type": "stream",
     "text": [
      "Processing files:  12%|█▏        | 2427/19777 [01:58<12:41, 22.79it/s]"
     ]
    },
    {
     "name": "stdout",
     "output_type": "stream",
     "text": [
      "✓ Processed: 0014_000476.wav\n",
      "✓ Processed: 0014_000477.wav\n",
      "✓ Processed: 0014_000479.wav\n",
      "✓ Processed: 0014_000481.wav\n",
      "✓ Processed: 0014_000485.wav\n"
     ]
    },
    {
     "name": "stderr",
     "output_type": "stream",
     "text": [
      "Processing files:  12%|█▏        | 2430/19777 [01:59<12:46, 22.65it/s]"
     ]
    },
    {
     "name": "stdout",
     "output_type": "stream",
     "text": [
      "✓ Processed: 0014_000491.wav\n",
      "✓ Processed: 0014_000492.wav\n",
      "✓ Processed: 0014_000494.wav\n",
      "✓ Processed: 0014_000495.wav\n",
      "✓ Processed: 0014_000496.wav\n"
     ]
    },
    {
     "name": "stderr",
     "output_type": "stream",
     "text": [
      "Processing files:  12%|█▏        | 2436/19777 [01:59<12:39, 22.83it/s]"
     ]
    },
    {
     "name": "stdout",
     "output_type": "stream",
     "text": [
      "✓ Processed: 0014_000497.wav\n",
      "✓ Processed: 0014_000498.wav\n",
      "✓ Processed: 0014_000499.wav\n",
      "✓ Processed: 0014_000500.wav\n",
      "✓ Processed: 0014_000503.wav\n",
      "✓ Processed: 0014_000504.wav\n"
     ]
    },
    {
     "name": "stderr",
     "output_type": "stream",
     "text": [
      "Processing files:  12%|█▏        | 2442/19777 [01:59<12:58, 22.27it/s]"
     ]
    },
    {
     "name": "stdout",
     "output_type": "stream",
     "text": [
      "✓ Processed: 0014_000505.wav\n",
      "✓ Processed: 0014_000507.wav\n",
      "✓ Processed: 0014_000509.wav\n",
      "✓ Processed: 0014_000512.wav\n",
      "✓ Processed: 0014_000514.wav\n"
     ]
    },
    {
     "name": "stderr",
     "output_type": "stream",
     "text": [
      "Processing files:  12%|█▏        | 2448/19777 [01:59<12:30, 23.08it/s]"
     ]
    },
    {
     "name": "stdout",
     "output_type": "stream",
     "text": [
      "✓ Processed: 0014_000516.wav\n",
      "✓ Processed: 0014_000517.wav\n",
      "✓ Processed: 0014_000519.wav\n",
      "✓ Processed: 0014_000521.wav\n",
      "✓ Processed: 0014_000523.wav\n"
     ]
    },
    {
     "name": "stderr",
     "output_type": "stream",
     "text": [
      "Processing files:  12%|█▏        | 2451/19777 [01:59<12:37, 22.87it/s]"
     ]
    },
    {
     "name": "stdout",
     "output_type": "stream",
     "text": [
      "✓ Processed: 0014_000524.wav\n",
      "✓ Processed: 0014_000525.wav\n",
      "✓ Processed: 0014_000528.wav\n",
      "✓ Processed: 0014_000535.wav\n",
      "✓ Processed: 0014_000536.wav\n"
     ]
    },
    {
     "name": "stderr",
     "output_type": "stream",
     "text": [
      "Processing files:  12%|█▏        | 2457/19777 [02:00<13:08, 21.97it/s]"
     ]
    },
    {
     "name": "stdout",
     "output_type": "stream",
     "text": [
      "✓ Processed: 0014_000537.wav\n",
      "✓ Processed: 0014_000538.wav\n",
      "✓ Processed: 0014_000539.wav\n",
      "✓ Processed: 0014_000542.wav\n",
      "✓ Processed: 0014_000543.wav\n"
     ]
    },
    {
     "name": "stderr",
     "output_type": "stream",
     "text": [
      "Processing files:  12%|█▏        | 2460/19777 [02:00<13:08, 21.96it/s]"
     ]
    },
    {
     "name": "stdout",
     "output_type": "stream",
     "text": [
      "✓ Processed: 0014_000545.wav\n",
      "✓ Processed: 0014_000546.wav\n",
      "✓ Processed: 0014_000547.wav\n",
      "✓ Processed: 0014_000549.wav\n"
     ]
    },
    {
     "name": "stderr",
     "output_type": "stream",
     "text": [
      "Processing files:  12%|█▏        | 2466/19777 [02:00<12:32, 22.99it/s]"
     ]
    },
    {
     "name": "stdout",
     "output_type": "stream",
     "text": [
      "✓ Processed: 0014_000550.wav\n",
      "✓ Processed: 0014_000551.wav\n",
      "✓ Processed: 0014_000552.wav\n",
      "✓ Processed: 0014_000553.wav\n",
      "✓ Processed: 0014_000555.wav\n",
      "✓ Processed: 0014_000556.wav\n"
     ]
    },
    {
     "name": "stderr",
     "output_type": "stream",
     "text": [
      "Processing files:  12%|█▏        | 2472/19777 [02:00<12:47, 22.55it/s]"
     ]
    },
    {
     "name": "stdout",
     "output_type": "stream",
     "text": [
      "✓ Processed: 0014_000557.wav\n",
      "✓ Processed: 0014_000559.wav\n",
      "✓ Processed: 0014_000561.wav\n",
      "✓ Processed: 0014_000563.wav\n",
      "✓ Processed: 0014_000564.wav\n"
     ]
    },
    {
     "name": "stderr",
     "output_type": "stream",
     "text": [
      "Processing files:  13%|█▎        | 2478/19777 [02:01<12:52, 22.40it/s]"
     ]
    },
    {
     "name": "stdout",
     "output_type": "stream",
     "text": [
      "✓ Processed: 0014_000567.wav\n",
      "✓ Processed: 0014_000570.wav\n",
      "✓ Processed: 0014_000571.wav\n",
      "✓ Processed: 0014_000573.wav\n",
      "✓ Processed: 0014_000574.wav\n"
     ]
    },
    {
     "name": "stderr",
     "output_type": "stream",
     "text": [
      "Processing files:  13%|█▎        | 2481/19777 [02:01<12:58, 22.23it/s]"
     ]
    },
    {
     "name": "stdout",
     "output_type": "stream",
     "text": [
      "✓ Processed: 0014_000575.wav\n",
      "✓ Processed: 0014_000577.wav\n",
      "✓ Processed: 0014_000579.wav\n",
      "✓ Processed: 0014_000581.wav\n",
      "✓ Processed: 0014_000586.wav\n"
     ]
    },
    {
     "name": "stderr",
     "output_type": "stream",
     "text": [
      "Processing files:  13%|█▎        | 2487/19777 [02:01<12:56, 22.28it/s]"
     ]
    },
    {
     "name": "stdout",
     "output_type": "stream",
     "text": [
      "✓ Processed: 0014_000587.wav\n",
      "✓ Processed: 0014_000588.wav\n",
      "✓ Processed: 0014_000590.wav\n",
      "✓ Processed: 0014_000591.wav\n",
      "✓ Processed: 0014_000592.wav\n",
      "✓ Processed: 0014_000593.wav\n"
     ]
    },
    {
     "name": "stderr",
     "output_type": "stream",
     "text": [
      "Processing files:  13%|█▎        | 2493/19777 [02:01<12:29, 23.05it/s]"
     ]
    },
    {
     "name": "stdout",
     "output_type": "stream",
     "text": [
      "✓ Processed: 0014_000595.wav\n",
      "✓ Processed: 0014_000596.wav\n",
      "✓ Processed: 0014_000598.wav\n",
      "✓ Processed: 0014_000599.wav\n",
      "✓ Processed: 0014_000600.wav\n"
     ]
    },
    {
     "name": "stderr",
     "output_type": "stream",
     "text": [
      "Processing files:  13%|█▎        | 2499/19777 [02:02<12:37, 22.80it/s]"
     ]
    },
    {
     "name": "stdout",
     "output_type": "stream",
     "text": [
      "✓ Processed: 0014_000601.wav\n",
      "✓ Processed: 0014_000602.wav\n",
      "✓ Processed: 0014_000603.wav\n",
      "✓ Processed: 0014_000605.wav\n",
      "✓ Processed: 0014_000606.wav\n"
     ]
    },
    {
     "name": "stderr",
     "output_type": "stream",
     "text": [
      "Processing files:  13%|█▎        | 2502/19777 [02:02<12:46, 22.52it/s]"
     ]
    },
    {
     "name": "stdout",
     "output_type": "stream",
     "text": [
      "✓ Processed: 0014_000608.wav\n",
      "✓ Processed: 0014_000609.wav\n",
      "✓ Processed: 0014_000613.wav\n",
      "✓ Processed: 0014_000615.wav\n",
      "✓ Processed: 0014_000616.wav\n"
     ]
    },
    {
     "name": "stderr",
     "output_type": "stream",
     "text": [
      "Processing files:  13%|█▎        | 2508/19777 [02:02<13:10, 21.84it/s]"
     ]
    },
    {
     "name": "stdout",
     "output_type": "stream",
     "text": [
      "✓ Processed: 0014_000618.wav\n",
      "✓ Processed: 0014_000622.wav\n",
      "✓ Processed: 0014_000623.wav\n",
      "✓ Processed: 0014_000625.wav\n",
      "✓ Processed: 0014_000626.wav\n"
     ]
    },
    {
     "name": "stderr",
     "output_type": "stream",
     "text": [
      "Processing files:  13%|█▎        | 2514/19777 [02:02<13:13, 21.75it/s]"
     ]
    },
    {
     "name": "stdout",
     "output_type": "stream",
     "text": [
      "✓ Processed: 0014_000627.wav\n",
      "✓ Processed: 0014_000628.wav\n",
      "✓ Processed: 0014_000630.wav\n",
      "✓ Processed: 0014_000631.wav\n",
      "✓ Processed: 0014_000633.wav\n"
     ]
    },
    {
     "name": "stderr",
     "output_type": "stream",
     "text": [
      "Processing files:  13%|█▎        | 2517/19777 [02:02<13:03, 22.04it/s]"
     ]
    },
    {
     "name": "stdout",
     "output_type": "stream",
     "text": [
      "✓ Processed: 0014_000634.wav\n",
      "✓ Processed: 0014_000639.wav\n",
      "✓ Processed: 0014_000640.wav\n",
      "✓ Processed: 0014_000642.wav\n",
      "✓ Processed: 0014_000643.wav\n"
     ]
    },
    {
     "name": "stderr",
     "output_type": "stream",
     "text": [
      "Processing files:  13%|█▎        | 2523/19777 [02:03<13:11, 21.80it/s]"
     ]
    },
    {
     "name": "stdout",
     "output_type": "stream",
     "text": [
      "✓ Processed: 0014_000644.wav\n",
      "✓ Processed: 0014_000652.wav\n",
      "✓ Processed: 0014_000653.wav\n",
      "✓ Processed: 0014_000655.wav\n",
      "✓ Processed: 0014_000659.wav\n"
     ]
    },
    {
     "name": "stderr",
     "output_type": "stream",
     "text": [
      "Processing files:  13%|█▎        | 2529/19777 [02:03<12:57, 22.17it/s]"
     ]
    },
    {
     "name": "stdout",
     "output_type": "stream",
     "text": [
      "✓ Processed: 0014_000660.wav\n",
      "✓ Processed: 0014_000661.wav\n",
      "✓ Processed: 0014_000662.wav\n",
      "✓ Processed: 0014_000663.wav\n",
      "✓ Processed: 0014_000664.wav\n"
     ]
    },
    {
     "name": "stderr",
     "output_type": "stream",
     "text": [
      "Processing files:  13%|█▎        | 2532/19777 [02:03<13:05, 21.94it/s]"
     ]
    },
    {
     "name": "stdout",
     "output_type": "stream",
     "text": [
      "✓ Processed: 0014_000665.wav\n",
      "✓ Processed: 0014_000668.wav\n",
      "✓ Processed: 0014_000669.wav\n",
      "✓ Processed: 0014_000671.wav\n",
      "✓ Processed: 0014_000672.wav\n"
     ]
    },
    {
     "name": "stderr",
     "output_type": "stream",
     "text": [
      "Processing files:  13%|█▎        | 2538/19777 [02:03<12:34, 22.85it/s]"
     ]
    },
    {
     "name": "stdout",
     "output_type": "stream",
     "text": [
      "✓ Processed: 0014_000673.wav\n",
      "✓ Processed: 0014_000674.wav\n",
      "✓ Processed: 0014_000676.wav\n",
      "✓ Processed: 0014_000677.wav\n",
      "✓ Processed: 0014_000678.wav\n"
     ]
    },
    {
     "name": "stderr",
     "output_type": "stream",
     "text": [
      "Processing files:  13%|█▎        | 2544/19777 [02:04<12:42, 22.61it/s]"
     ]
    },
    {
     "name": "stdout",
     "output_type": "stream",
     "text": [
      "✓ Processed: 0014_000679.wav\n",
      "✓ Processed: 0014_000680.wav\n",
      "✓ Processed: 0014_000682.wav\n",
      "✓ Processed: 0014_000684.wav\n",
      "✓ Processed: 0014_000685.wav\n"
     ]
    },
    {
     "name": "stderr",
     "output_type": "stream",
     "text": [
      "Processing files:  13%|█▎        | 2550/19777 [02:04<12:16, 23.39it/s]"
     ]
    },
    {
     "name": "stdout",
     "output_type": "stream",
     "text": [
      "✓ Processed: 0014_000687.wav\n",
      "✓ Processed: 0014_000689.wav\n",
      "✓ Processed: 0014_000697.wav\n",
      "✓ Processed: 0014_000698.wav\n",
      "✓ Processed: 0014_000700.wav\n"
     ]
    },
    {
     "name": "stderr",
     "output_type": "stream",
     "text": [
      "Processing files:  13%|█▎        | 2553/19777 [02:04<12:25, 23.09it/s]"
     ]
    },
    {
     "name": "stdout",
     "output_type": "stream",
     "text": [
      "✓ Processed: 0015_000354.wav\n",
      "✓ Processed: 0015_000355.wav\n",
      "✓ Processed: 0015_000358.wav\n",
      "✓ Processed: 0015_000361.wav\n",
      "✓ Processed: 0015_000363.wav\n"
     ]
    },
    {
     "name": "stderr",
     "output_type": "stream",
     "text": [
      "Processing files:  13%|█▎        | 2559/19777 [02:04<13:19, 21.53it/s]"
     ]
    },
    {
     "name": "stdout",
     "output_type": "stream",
     "text": [
      "✓ Processed: 0015_000370.wav\n",
      "✓ Processed: 0015_000371.wav\n",
      "✓ Processed: 0015_000377.wav\n",
      "✓ Processed: 0015_000382.wav\n"
     ]
    },
    {
     "name": "stderr",
     "output_type": "stream",
     "text": [
      "Processing files:  13%|█▎        | 2562/19777 [02:04<13:08, 21.84it/s]"
     ]
    },
    {
     "name": "stdout",
     "output_type": "stream",
     "text": [
      "✓ Processed: 0015_000383.wav\n",
      "✓ Processed: 0015_000385.wav\n",
      "✓ Processed: 0015_000389.wav\n",
      "✓ Processed: 0015_000390.wav\n",
      "✓ Processed: 0015_000391.wav\n"
     ]
    },
    {
     "name": "stderr",
     "output_type": "stream",
     "text": [
      "Processing files:  13%|█▎        | 2565/19777 [02:05<13:03, 21.98it/s]"
     ]
    },
    {
     "name": "stdout",
     "output_type": "stream",
     "text": [
      "✓ Processed: 0015_000392.wav\n",
      "✓ Processed: 0015_000396.wav\n",
      "✓ Processed: 0015_000397.wav\n",
      "✓ Processed: 0015_000398.wav\n"
     ]
    },
    {
     "name": "stderr",
     "output_type": "stream",
     "text": [
      "Processing files:  13%|█▎        | 2571/19777 [02:05<13:11, 21.74it/s]"
     ]
    },
    {
     "name": "stdout",
     "output_type": "stream",
     "text": [
      "✓ Processed: 0015_000403.wav\n",
      "✓ Processed: 0015_000404.wav\n",
      "✓ Processed: 0015_000407.wav\n",
      "✓ Processed: 0015_000413.wav\n",
      "✓ Processed: 0015_000414.wav\n"
     ]
    },
    {
     "name": "stderr",
     "output_type": "stream",
     "text": [
      "Processing files:  13%|█▎        | 2577/19777 [02:05<12:18, 23.29it/s]"
     ]
    },
    {
     "name": "stdout",
     "output_type": "stream",
     "text": [
      "✓ Processed: 0015_000415.wav\n",
      "✓ Processed: 0015_000416.wav\n",
      "✓ Processed: 0015_000417.wav\n",
      "✓ Processed: 0015_000420.wav\n",
      "✓ Processed: 0015_000423.wav\n"
     ]
    },
    {
     "name": "stderr",
     "output_type": "stream",
     "text": [
      "Processing files:  13%|█▎        | 2580/19777 [02:05<12:24, 23.10it/s]"
     ]
    },
    {
     "name": "stdout",
     "output_type": "stream",
     "text": [
      "✓ Processed: 0015_000424.wav\n",
      "✓ Processed: 0015_000425.wav\n",
      "✓ Processed: 0015_000426.wav\n",
      "✓ Processed: 0015_000428.wav\n",
      "✓ Processed: 0015_000431.wav\n"
     ]
    },
    {
     "name": "stderr",
     "output_type": "stream",
     "text": [
      "Processing files:  13%|█▎        | 2586/19777 [02:06<12:47, 22.40it/s]"
     ]
    },
    {
     "name": "stdout",
     "output_type": "stream",
     "text": [
      "✓ Processed: 0015_000433.wav\n",
      "✓ Processed: 0015_000441.wav\n",
      "✓ Processed: 0015_000442.wav\n",
      "✓ Processed: 0015_000443.wav\n",
      "✓ Processed: 0015_000444.wav\n"
     ]
    },
    {
     "name": "stderr",
     "output_type": "stream",
     "text": [
      "Processing files:  13%|█▎        | 2592/19777 [02:06<12:52, 22.24it/s]"
     ]
    },
    {
     "name": "stdout",
     "output_type": "stream",
     "text": [
      "✓ Processed: 0015_000445.wav\n",
      "✓ Processed: 0015_000446.wav\n",
      "✓ Processed: 0015_000453.wav\n",
      "✓ Processed: 0015_000461.wav\n",
      "✓ Processed: 0015_000462.wav\n"
     ]
    },
    {
     "name": "stderr",
     "output_type": "stream",
     "text": [
      "Processing files:  13%|█▎        | 2595/19777 [02:06<12:52, 22.23it/s]"
     ]
    },
    {
     "name": "stdout",
     "output_type": "stream",
     "text": [
      "✓ Processed: 0015_000463.wav\n",
      "✓ Processed: 0015_000466.wav\n",
      "✓ Processed: 0015_000468.wav\n",
      "✓ Processed: 0015_000469.wav\n",
      "✓ Processed: 0015_000471.wav\n"
     ]
    },
    {
     "name": "stderr",
     "output_type": "stream",
     "text": [
      "Processing files:  13%|█▎        | 2601/19777 [02:06<12:51, 22.26it/s]"
     ]
    },
    {
     "name": "stdout",
     "output_type": "stream",
     "text": [
      "✓ Processed: 0015_000473.wav\n",
      "✓ Processed: 0015_000474.wav\n",
      "✓ Processed: 0015_000475.wav\n",
      "✓ Processed: 0015_000478.wav\n",
      "✓ Processed: 0015_000479.wav\n"
     ]
    },
    {
     "name": "stderr",
     "output_type": "stream",
     "text": [
      "Processing files:  13%|█▎        | 2607/19777 [02:06<12:56, 22.10it/s]"
     ]
    },
    {
     "name": "stdout",
     "output_type": "stream",
     "text": [
      "✓ Processed: 0015_000482.wav\n",
      "✓ Processed: 0015_000484.wav\n",
      "✓ Processed: 0015_000485.wav\n",
      "✓ Processed: 0015_000486.wav\n",
      "✓ Processed: 0015_000488.wav\n"
     ]
    },
    {
     "name": "stderr",
     "output_type": "stream",
     "text": [
      "Processing files:  13%|█▎        | 2610/19777 [02:07<12:39, 22.60it/s]"
     ]
    },
    {
     "name": "stdout",
     "output_type": "stream",
     "text": [
      "✓ Processed: 0015_000489.wav\n",
      "✓ Processed: 0015_000490.wav\n",
      "✓ Processed: 0015_000491.wav\n",
      "✓ Processed: 0015_000496.wav\n"
     ]
    },
    {
     "name": "stderr",
     "output_type": "stream",
     "text": [
      "Processing files:  13%|█▎        | 2613/19777 [02:07<14:50, 19.28it/s]"
     ]
    },
    {
     "name": "stdout",
     "output_type": "stream",
     "text": [
      "✓ Processed: 0015_000499.wav\n",
      "✓ Processed: 0015_000501.wav\n",
      "✓ Processed: 0015_000506.wav\n",
      "✓ Processed: 0015_000507.wav\n"
     ]
    },
    {
     "name": "stderr",
     "output_type": "stream",
     "text": [
      "Processing files:  13%|█▎        | 2619/19777 [02:07<14:00, 20.41it/s]"
     ]
    },
    {
     "name": "stdout",
     "output_type": "stream",
     "text": [
      "✓ Processed: 0015_000508.wav\n",
      "✓ Processed: 0015_000510.wav\n",
      "✓ Processed: 0015_000512.wav\n",
      "✓ Processed: 0015_000514.wav\n",
      "✓ Processed: 0015_000516.wav\n"
     ]
    },
    {
     "name": "stderr",
     "output_type": "stream",
     "text": [
      "Processing files:  13%|█▎        | 2625/19777 [02:07<12:57, 22.05it/s]"
     ]
    },
    {
     "name": "stdout",
     "output_type": "stream",
     "text": [
      "✓ Processed: 0015_000521.wav\n",
      "✓ Processed: 0015_000522.wav\n",
      "✓ Processed: 0015_000523.wav\n",
      "✓ Processed: 0015_000524.wav\n",
      "✓ Processed: 0015_000525.wav\n"
     ]
    },
    {
     "name": "stderr",
     "output_type": "stream",
     "text": [
      "Processing files:  13%|█▎        | 2628/19777 [02:08<13:36, 21.01it/s]"
     ]
    },
    {
     "name": "stdout",
     "output_type": "stream",
     "text": [
      "✓ Processed: 0015_000526.wav\n",
      "✓ Processed: 0015_000528.wav\n",
      "✓ Processed: 0015_000529.wav\n",
      "✓ Processed: 0015_000530.wav\n",
      "✓ Processed: 0015_000531.wav\n"
     ]
    },
    {
     "name": "stderr",
     "output_type": "stream",
     "text": [
      "Processing files:  13%|█▎        | 2634/19777 [02:08<12:55, 22.11it/s]"
     ]
    },
    {
     "name": "stdout",
     "output_type": "stream",
     "text": [
      "✓ Processed: 0015_000533.wav\n",
      "✓ Processed: 0015_000536.wav\n",
      "✓ Processed: 0015_000540.wav\n",
      "✓ Processed: 0015_000541.wav\n",
      "✓ Processed: 0015_000542.wav\n"
     ]
    },
    {
     "name": "stderr",
     "output_type": "stream",
     "text": [
      "Processing files:  13%|█▎        | 2640/19777 [02:08<12:23, 23.05it/s]"
     ]
    },
    {
     "name": "stdout",
     "output_type": "stream",
     "text": [
      "✓ Processed: 0015_000543.wav\n",
      "✓ Processed: 0015_000551.wav\n",
      "✓ Processed: 0015_000552.wav\n",
      "✓ Processed: 0015_000554.wav\n",
      "✓ Processed: 0015_000556.wav\n",
      "✓ Processed: 0015_000559.wav\n"
     ]
    },
    {
     "name": "stderr",
     "output_type": "stream",
     "text": [
      "Processing files:  13%|█▎        | 2646/19777 [02:08<12:07, 23.56it/s]"
     ]
    },
    {
     "name": "stdout",
     "output_type": "stream",
     "text": [
      "✓ Processed: 0015_000561.wav\n",
      "✓ Processed: 0015_000562.wav\n",
      "✓ Processed: 0015_000566.wav\n",
      "✓ Processed: 0015_000567.wav\n",
      "✓ Processed: 0015_000568.wav\n"
     ]
    },
    {
     "name": "stderr",
     "output_type": "stream",
     "text": [
      "Processing files:  13%|█▎        | 2649/19777 [02:08<12:07, 23.55it/s]"
     ]
    },
    {
     "name": "stdout",
     "output_type": "stream",
     "text": [
      "✓ Processed: 0015_000569.wav\n",
      "✓ Processed: 0015_000570.wav\n",
      "✓ Processed: 0015_000571.wav\n",
      "✓ Processed: 0015_000572.wav\n",
      "✓ Processed: 0015_000574.wav\n"
     ]
    },
    {
     "name": "stderr",
     "output_type": "stream",
     "text": [
      "Processing files:  13%|█▎        | 2655/19777 [02:09<11:49, 24.12it/s]"
     ]
    },
    {
     "name": "stdout",
     "output_type": "stream",
     "text": [
      "✓ Processed: 0015_000580.wav\n",
      "✓ Processed: 0015_000582.wav\n",
      "✓ Processed: 0015_000585.wav\n",
      "✓ Processed: 0015_000587.wav\n",
      "✓ Processed: 0015_000589.wav\n"
     ]
    },
    {
     "name": "stderr",
     "output_type": "stream",
     "text": [
      "Processing files:  13%|█▎        | 2661/19777 [02:09<12:27, 22.90it/s]"
     ]
    },
    {
     "name": "stdout",
     "output_type": "stream",
     "text": [
      "✓ Processed: 0015_000590.wav\n",
      "✓ Processed: 0015_000592.wav\n",
      "✓ Processed: 0015_000598.wav\n",
      "✓ Processed: 0015_000599.wav\n",
      "✓ Processed: 0015_000606.wav\n",
      "✓ Processed: 0015_000607.wav\n"
     ]
    },
    {
     "name": "stderr",
     "output_type": "stream",
     "text": [
      "Processing files:  13%|█▎        | 2667/19777 [02:09<12:15, 23.27it/s]"
     ]
    },
    {
     "name": "stdout",
     "output_type": "stream",
     "text": [
      "✓ Processed: 0015_000611.wav\n",
      "✓ Processed: 0015_000617.wav\n",
      "✓ Processed: 0015_000618.wav\n",
      "✓ Processed: 0015_000619.wav\n",
      "✓ Processed: 0015_000621.wav\n"
     ]
    },
    {
     "name": "stderr",
     "output_type": "stream",
     "text": [
      "Processing files:  14%|█▎        | 2670/19777 [02:09<12:22, 23.05it/s]"
     ]
    },
    {
     "name": "stdout",
     "output_type": "stream",
     "text": [
      "✓ Processed: 0015_000623.wav\n",
      "✓ Processed: 0015_000624.wav\n",
      "✓ Processed: 0015_000626.wav\n",
      "✓ Processed: 0015_000628.wav\n"
     ]
    },
    {
     "name": "stderr",
     "output_type": "stream",
     "text": [
      "Processing files:  14%|█▎        | 2676/19777 [02:10<12:16, 23.20it/s]"
     ]
    },
    {
     "name": "stdout",
     "output_type": "stream",
     "text": [
      "✓ Processed: 0015_000632.wav\n",
      "✓ Processed: 0015_000634.wav\n",
      "✓ Processed: 0015_000635.wav\n",
      "✓ Processed: 0015_000636.wav\n",
      "✓ Processed: 0015_000637.wav\n"
     ]
    },
    {
     "name": "stderr",
     "output_type": "stream",
     "text": [
      "Processing files:  14%|█▎        | 2679/19777 [02:10<12:38, 22.54it/s]"
     ]
    },
    {
     "name": "stdout",
     "output_type": "stream",
     "text": [
      "✓ Processed: 0015_000638.wav\n",
      "✓ Processed: 0015_000639.wav\n",
      "✓ Processed: 0015_000640.wav\n",
      "✓ Processed: 0015_000642.wav\n"
     ]
    },
    {
     "name": "stderr",
     "output_type": "stream",
     "text": [
      "Processing files:  14%|█▎        | 2685/19777 [02:10<12:13, 23.29it/s]"
     ]
    },
    {
     "name": "stdout",
     "output_type": "stream",
     "text": [
      "✓ Processed: 0015_000643.wav\n",
      "✓ Processed: 0015_000644.wav\n",
      "✓ Processed: 0015_000646.wav\n",
      "✓ Processed: 0015_000648.wav\n",
      "✓ Processed: 0015_000650.wav\n"
     ]
    },
    {
     "name": "stderr",
     "output_type": "stream",
     "text": [
      "Processing files:  14%|█▎        | 2688/19777 [02:10<12:07, 23.48it/s]"
     ]
    },
    {
     "name": "stdout",
     "output_type": "stream",
     "text": [
      "✓ Processed: 0015_000653.wav\n",
      "✓ Processed: 0015_000655.wav\n",
      "✓ Processed: 0015_000656.wav\n",
      "✓ Processed: 0015_000657.wav\n",
      "✓ Processed: 0015_000659.wav\n"
     ]
    },
    {
     "name": "stderr",
     "output_type": "stream",
     "text": [
      "Processing files:  14%|█▎        | 2694/19777 [02:10<11:43, 24.28it/s]"
     ]
    },
    {
     "name": "stdout",
     "output_type": "stream",
     "text": [
      "✓ Processed: 0015_000660.wav\n",
      "✓ Processed: 0015_000661.wav\n",
      "✓ Processed: 0015_000662.wav\n",
      "✓ Processed: 0015_000663.wav\n",
      "✓ Processed: 0015_000665.wav\n",
      "✓ Processed: 0015_000669.wav\n"
     ]
    },
    {
     "name": "stderr",
     "output_type": "stream",
     "text": [
      "Processing files:  14%|█▎        | 2700/19777 [02:11<11:38, 24.45it/s]"
     ]
    },
    {
     "name": "stdout",
     "output_type": "stream",
     "text": [
      "✓ Processed: 0015_000671.wav\n",
      "✓ Processed: 0015_000673.wav\n",
      "✓ Processed: 0015_000674.wav\n",
      "✓ Processed: 0015_000678.wav\n",
      "✓ Processed: 0015_000679.wav\n"
     ]
    },
    {
     "name": "stderr",
     "output_type": "stream",
     "text": [
      "Processing files:  14%|█▎        | 2706/19777 [02:11<12:00, 23.68it/s]"
     ]
    },
    {
     "name": "stdout",
     "output_type": "stream",
     "text": [
      "✓ Processed: 0015_000682.wav\n",
      "✓ Processed: 0015_000684.wav\n",
      "✓ Processed: 0015_000686.wav\n",
      "✓ Processed: 0015_000687.wav\n",
      "✓ Processed: 0015_000689.wav\n"
     ]
    },
    {
     "name": "stderr",
     "output_type": "stream",
     "text": [
      "Processing files:  14%|█▎        | 2709/19777 [02:11<12:23, 22.96it/s]"
     ]
    },
    {
     "name": "stdout",
     "output_type": "stream",
     "text": [
      "✓ Processed: 0015_000690.wav\n",
      "✓ Processed: 0015_000692.wav\n",
      "✓ Processed: 0015_000694.wav\n",
      "✓ Processed: 0015_000698.wav\n",
      "✓ Processed: 0016_000355.wav\n"
     ]
    },
    {
     "name": "stderr",
     "output_type": "stream",
     "text": [
      "Processing files:  14%|█▎        | 2715/19777 [02:11<11:59, 23.73it/s]"
     ]
    },
    {
     "name": "stdout",
     "output_type": "stream",
     "text": [
      "✓ Processed: 0016_000356.wav\n",
      "✓ Processed: 0016_000357.wav\n",
      "✓ Processed: 0016_000359.wav\n",
      "✓ Processed: 0016_000360.wav\n",
      "✓ Processed: 0016_000361.wav\n",
      "✓ Processed: 0016_000362.wav\n"
     ]
    },
    {
     "name": "stderr",
     "output_type": "stream",
     "text": [
      "Processing files:  14%|█▍        | 2721/19777 [02:11<12:04, 23.56it/s]"
     ]
    },
    {
     "name": "stdout",
     "output_type": "stream",
     "text": [
      "✓ Processed: 0016_000364.wav\n",
      "✓ Processed: 0016_000370.wav\n",
      "✓ Processed: 0016_000373.wav\n",
      "✓ Processed: 0016_000380.wav\n",
      "✓ Processed: 0016_000384.wav\n"
     ]
    },
    {
     "name": "stderr",
     "output_type": "stream",
     "text": [
      "Processing files:  14%|█▍        | 2727/19777 [02:12<12:00, 23.68it/s]"
     ]
    },
    {
     "name": "stdout",
     "output_type": "stream",
     "text": [
      "✓ Processed: 0016_000385.wav\n",
      "✓ Processed: 0016_000386.wav\n",
      "✓ Processed: 0016_000387.wav\n",
      "✓ Processed: 0016_000388.wav\n",
      "✓ Processed: 0016_000389.wav\n"
     ]
    },
    {
     "name": "stderr",
     "output_type": "stream",
     "text": [
      "Processing files:  14%|█▍        | 2730/19777 [02:12<12:17, 23.12it/s]"
     ]
    },
    {
     "name": "stdout",
     "output_type": "stream",
     "text": [
      "✓ Processed: 0016_000390.wav\n",
      "✓ Processed: 0016_000395.wav\n",
      "✓ Processed: 0016_000396.wav\n",
      "✓ Processed: 0016_000400.wav\n",
      "✓ Processed: 0016_000402.wav\n"
     ]
    },
    {
     "name": "stderr",
     "output_type": "stream",
     "text": [
      "Processing files:  14%|█▍        | 2736/19777 [02:12<12:03, 23.54it/s]"
     ]
    },
    {
     "name": "stdout",
     "output_type": "stream",
     "text": [
      "✓ Processed: 0016_000403.wav\n",
      "✓ Processed: 0016_000405.wav\n",
      "✓ Processed: 0016_000407.wav\n",
      "✓ Processed: 0016_000408.wav\n",
      "✓ Processed: 0016_000409.wav\n"
     ]
    },
    {
     "name": "stderr",
     "output_type": "stream",
     "text": [
      "Processing files:  14%|█▍        | 2742/19777 [02:12<12:12, 23.27it/s]"
     ]
    },
    {
     "name": "stdout",
     "output_type": "stream",
     "text": [
      "✓ Processed: 0016_000412.wav\n",
      "✓ Processed: 0016_000415.wav\n",
      "✓ Processed: 0016_000417.wav\n",
      "✓ Processed: 0016_000422.wav\n",
      "✓ Processed: 0016_000425.wav\n"
     ]
    },
    {
     "name": "stderr",
     "output_type": "stream",
     "text": [
      "Processing files:  14%|█▍        | 2745/19777 [02:12<11:55, 23.80it/s]"
     ]
    },
    {
     "name": "stdout",
     "output_type": "stream",
     "text": [
      "✓ Processed: 0016_000426.wav\n",
      "✓ Processed: 0016_000429.wav\n",
      "✓ Processed: 0016_000430.wav\n",
      "✓ Processed: 0016_000431.wav\n",
      "✓ Processed: 0016_000433.wav\n"
     ]
    },
    {
     "name": "stderr",
     "output_type": "stream",
     "text": [
      "Processing files:  14%|█▍        | 2751/19777 [02:13<12:19, 23.02it/s]"
     ]
    },
    {
     "name": "stdout",
     "output_type": "stream",
     "text": [
      "✓ Processed: 0016_000434.wav\n",
      "✓ Processed: 0016_000436.wav\n",
      "✓ Processed: 0016_000440.wav\n",
      "✓ Processed: 0016_000441.wav\n",
      "✓ Processed: 0016_000442.wav\n"
     ]
    },
    {
     "name": "stderr",
     "output_type": "stream",
     "text": [
      "Processing files:  14%|█▍        | 2754/19777 [02:13<12:24, 22.88it/s]"
     ]
    },
    {
     "name": "stdout",
     "output_type": "stream",
     "text": [
      "✓ Processed: 0016_000443.wav\n",
      "✓ Processed: 0016_000445.wav\n",
      "✓ Processed: 0016_000451.wav\n",
      "✓ Processed: 0016_000453.wav\n"
     ]
    },
    {
     "name": "stderr",
     "output_type": "stream",
     "text": [
      "Processing files:  14%|█▍        | 2760/19777 [02:13<12:29, 22.69it/s]"
     ]
    },
    {
     "name": "stdout",
     "output_type": "stream",
     "text": [
      "✓ Processed: 0016_000456.wav\n",
      "✓ Processed: 0016_000457.wav\n",
      "✓ Processed: 0016_000460.wav\n",
      "✓ Processed: 0016_000462.wav\n",
      "✓ Processed: 0016_000463.wav\n"
     ]
    },
    {
     "name": "stderr",
     "output_type": "stream",
     "text": [
      "Processing files:  14%|█▍        | 2766/19777 [02:13<12:15, 23.13it/s]"
     ]
    },
    {
     "name": "stdout",
     "output_type": "stream",
     "text": [
      "✓ Processed: 0016_000464.wav\n",
      "✓ Processed: 0016_000465.wav\n",
      "✓ Processed: 0016_000467.wav\n",
      "✓ Processed: 0016_000468.wav\n"
     ]
    },
    {
     "name": "stderr",
     "output_type": "stream",
     "text": [
      "Processing files:  14%|█▍        | 2769/19777 [02:14<12:21, 22.95it/s]"
     ]
    },
    {
     "name": "stdout",
     "output_type": "stream",
     "text": [
      "✓ Processed: 0016_000469.wav\n",
      "✓ Processed: 0016_000472.wav\n",
      "✓ Processed: 0016_000474.wav\n",
      "✓ Processed: 0016_000475.wav\n",
      "✓ Processed: 0016_000478.wav\n"
     ]
    },
    {
     "name": "stderr",
     "output_type": "stream",
     "text": [
      "Processing files:  14%|█▍        | 2775/19777 [02:14<12:48, 22.12it/s]"
     ]
    },
    {
     "name": "stdout",
     "output_type": "stream",
     "text": [
      "✓ Processed: 0016_000479.wav\n",
      "✓ Processed: 0016_000481.wav\n",
      "✓ Processed: 0016_000483.wav\n",
      "✓ Processed: 0016_000484.wav\n"
     ]
    },
    {
     "name": "stderr",
     "output_type": "stream",
     "text": [
      "Processing files:  14%|█▍        | 2778/19777 [02:14<12:36, 22.46it/s]"
     ]
    },
    {
     "name": "stdout",
     "output_type": "stream",
     "text": [
      "✓ Processed: 0016_000487.wav\n",
      "✓ Processed: 0016_000490.wav\n",
      "✓ Processed: 0016_000493.wav\n",
      "✓ Processed: 0016_000495.wav\n",
      "✓ Processed: 0016_000496.wav\n",
      "✓ Processed: 0016_000499.wav\n"
     ]
    },
    {
     "name": "stderr",
     "output_type": "stream",
     "text": [
      "Processing files:  14%|█▍        | 2784/19777 [02:14<12:19, 22.97it/s]"
     ]
    },
    {
     "name": "stdout",
     "output_type": "stream",
     "text": [
      "✓ Processed: 0016_000500.wav\n",
      "✓ Processed: 0016_000502.wav\n",
      "✓ Processed: 0016_000503.wav\n",
      "✓ Processed: 0016_000504.wav\n",
      "✓ Processed: 0016_000505.wav\n"
     ]
    },
    {
     "name": "stderr",
     "output_type": "stream",
     "text": [
      "Processing files:  14%|█▍        | 2790/19777 [02:14<11:54, 23.77it/s]"
     ]
    },
    {
     "name": "stdout",
     "output_type": "stream",
     "text": [
      "✓ Processed: 0016_000506.wav\n",
      "✓ Processed: 0016_000507.wav\n",
      "✓ Processed: 0016_000508.wav\n",
      "✓ Processed: 0016_000510.wav\n",
      "✓ Processed: 0016_000511.wav\n",
      "✓ Processed: 0016_000513.wav\n"
     ]
    },
    {
     "name": "stderr",
     "output_type": "stream",
     "text": [
      "Processing files:  14%|█▍        | 2796/19777 [02:15<12:05, 23.42it/s]"
     ]
    },
    {
     "name": "stdout",
     "output_type": "stream",
     "text": [
      "✓ Processed: 0016_000514.wav\n",
      "✓ Processed: 0016_000515.wav\n",
      "✓ Processed: 0016_000517.wav\n",
      "✓ Processed: 0016_000518.wav\n",
      "✓ Processed: 0016_000520.wav\n"
     ]
    },
    {
     "name": "stderr",
     "output_type": "stream",
     "text": [
      "Processing files:  14%|█▍        | 2799/19777 [02:15<12:04, 23.43it/s]"
     ]
    },
    {
     "name": "stdout",
     "output_type": "stream",
     "text": [
      "✓ Processed: 0016_000521.wav\n",
      "✓ Processed: 0016_000522.wav\n",
      "✓ Processed: 0016_000523.wav\n",
      "✓ Processed: 0016_000524.wav\n",
      "✓ Processed: 0016_000525.wav\n"
     ]
    },
    {
     "name": "stderr",
     "output_type": "stream",
     "text": [
      "Processing files:  14%|█▍        | 2805/19777 [02:15<12:09, 23.28it/s]"
     ]
    },
    {
     "name": "stdout",
     "output_type": "stream",
     "text": [
      "✓ Processed: 0016_000526.wav\n",
      "✓ Processed: 0016_000529.wav\n",
      "✓ Processed: 0016_000532.wav\n",
      "✓ Processed: 0016_000536.wav\n",
      "✓ Processed: 0016_000537.wav\n"
     ]
    },
    {
     "name": "stderr",
     "output_type": "stream",
     "text": [
      "Processing files:  14%|█▍        | 2811/19777 [02:15<12:03, 23.46it/s]"
     ]
    },
    {
     "name": "stdout",
     "output_type": "stream",
     "text": [
      "✓ Processed: 0016_000539.wav\n",
      "✓ Processed: 0016_000541.wav\n",
      "✓ Processed: 0016_000543.wav\n",
      "✓ Processed: 0016_000545.wav\n",
      "✓ Processed: 0016_000546.wav\n",
      "✓ Processed: 0016_000549.wav\n"
     ]
    },
    {
     "name": "stderr",
     "output_type": "stream",
     "text": [
      "Processing files:  14%|█▍        | 2817/19777 [02:16<11:48, 23.94it/s]"
     ]
    },
    {
     "name": "stdout",
     "output_type": "stream",
     "text": [
      "✓ Processed: 0016_000550.wav\n",
      "✓ Processed: 0016_000554.wav\n",
      "✓ Processed: 0016_000555.wav\n",
      "✓ Processed: 0016_000556.wav\n",
      "✓ Processed: 0016_000557.wav\n"
     ]
    },
    {
     "name": "stderr",
     "output_type": "stream",
     "text": [
      "Processing files:  14%|█▍        | 2820/19777 [02:16<12:27, 22.69it/s]"
     ]
    },
    {
     "name": "stdout",
     "output_type": "stream",
     "text": [
      "✓ Processed: 0016_000558.wav\n",
      "✓ Processed: 0016_000559.wav\n",
      "✓ Processed: 0016_000565.wav\n",
      "✓ Processed: 0016_000569.wav\n",
      "✓ Processed: 0016_000571.wav\n"
     ]
    },
    {
     "name": "stderr",
     "output_type": "stream",
     "text": [
      "Processing files:  14%|█▍        | 2826/19777 [02:16<12:36, 22.41it/s]"
     ]
    },
    {
     "name": "stdout",
     "output_type": "stream",
     "text": [
      "✓ Processed: 0016_000573.wav\n",
      "✓ Processed: 0016_000574.wav\n",
      "✓ Processed: 0016_000575.wav\n",
      "✓ Processed: 0016_000577.wav\n",
      "✓ Processed: 0016_000582.wav\n"
     ]
    },
    {
     "name": "stderr",
     "output_type": "stream",
     "text": [
      "Processing files:  14%|█▍        | 2832/19777 [02:16<12:22, 22.81it/s]"
     ]
    },
    {
     "name": "stdout",
     "output_type": "stream",
     "text": [
      "✓ Processed: 0016_000583.wav\n",
      "✓ Processed: 0016_000584.wav\n",
      "✓ Processed: 0016_000585.wav\n",
      "✓ Processed: 0016_000586.wav\n",
      "✓ Processed: 0016_000587.wav\n",
      "✓ Processed: 0016_000588.wav\n"
     ]
    },
    {
     "name": "stderr",
     "output_type": "stream",
     "text": [
      "Processing files:  14%|█▍        | 2838/19777 [02:17<12:20, 22.88it/s]"
     ]
    },
    {
     "name": "stdout",
     "output_type": "stream",
     "text": [
      "✓ Processed: 0016_000589.wav\n",
      "✓ Processed: 0016_000591.wav\n",
      "✓ Processed: 0016_000596.wav\n",
      "✓ Processed: 0016_000597.wav\n",
      "✓ Processed: 0016_000598.wav\n"
     ]
    },
    {
     "name": "stderr",
     "output_type": "stream",
     "text": [
      "Processing files:  14%|█▍        | 2841/19777 [02:17<12:17, 22.96it/s]"
     ]
    },
    {
     "name": "stdout",
     "output_type": "stream",
     "text": [
      "✓ Processed: 0016_000599.wav\n",
      "✓ Processed: 0016_000604.wav\n",
      "✓ Processed: 0016_000610.wav\n",
      "✓ Processed: 0016_000612.wav\n",
      "✓ Processed: 0016_000613.wav\n"
     ]
    },
    {
     "name": "stderr",
     "output_type": "stream",
     "text": [
      "Processing files:  14%|█▍        | 2847/19777 [02:17<12:24, 22.76it/s]"
     ]
    },
    {
     "name": "stdout",
     "output_type": "stream",
     "text": [
      "✓ Processed: 0016_000614.wav\n",
      "✓ Processed: 0016_000616.wav\n",
      "✓ Processed: 0016_000617.wav\n",
      "✓ Processed: 0016_000619.wav\n",
      "✓ Processed: 0016_000621.wav\n"
     ]
    },
    {
     "name": "stderr",
     "output_type": "stream",
     "text": [
      "Processing files:  14%|█▍        | 2853/19777 [02:17<12:42, 22.19it/s]"
     ]
    },
    {
     "name": "stdout",
     "output_type": "stream",
     "text": [
      "✓ Processed: 0016_000622.wav\n",
      "✓ Processed: 0016_000624.wav\n",
      "✓ Processed: 0016_000626.wav\n",
      "✓ Processed: 0016_000629.wav\n"
     ]
    },
    {
     "name": "stderr",
     "output_type": "stream",
     "text": [
      "Processing files:  14%|█▍        | 2856/19777 [02:17<12:35, 22.38it/s]"
     ]
    },
    {
     "name": "stdout",
     "output_type": "stream",
     "text": [
      "✓ Processed: 0016_000633.wav\n",
      "✓ Processed: 0016_000635.wav\n",
      "✓ Processed: 0016_000637.wav\n",
      "✓ Processed: 0016_000638.wav\n",
      "✓ Processed: 0016_000639.wav\n"
     ]
    },
    {
     "name": "stderr",
     "output_type": "stream",
     "text": [
      "Processing files:  14%|█▍        | 2862/19777 [02:18<12:27, 22.62it/s]"
     ]
    },
    {
     "name": "stdout",
     "output_type": "stream",
     "text": [
      "✓ Processed: 0016_000643.wav\n",
      "✓ Processed: 0016_000644.wav\n",
      "✓ Processed: 0016_000646.wav\n",
      "✓ Processed: 0016_000647.wav\n",
      "✓ Processed: 0016_000652.wav\n"
     ]
    },
    {
     "name": "stderr",
     "output_type": "stream",
     "text": [
      "Processing files:  14%|█▍        | 2865/19777 [02:18<12:50, 21.96it/s]"
     ]
    },
    {
     "name": "stdout",
     "output_type": "stream",
     "text": [
      "✓ Processed: 0016_000656.wav\n",
      "✓ Processed: 0016_000658.wav\n",
      "✓ Processed: 0016_000660.wav\n",
      "✓ Processed: 0016_000661.wav\n",
      "✓ Processed: 0016_000662.wav\n"
     ]
    },
    {
     "name": "stderr",
     "output_type": "stream",
     "text": [
      "Processing files:  15%|█▍        | 2871/19777 [02:18<12:26, 22.65it/s]"
     ]
    },
    {
     "name": "stdout",
     "output_type": "stream",
     "text": [
      "✓ Processed: 0016_000668.wav\n",
      "✓ Processed: 0016_000669.wav\n",
      "✓ Processed: 0016_000670.wav\n",
      "✓ Processed: 0016_000671.wav\n",
      "✓ Processed: 0016_000675.wav\n"
     ]
    },
    {
     "name": "stderr",
     "output_type": "stream",
     "text": [
      "Processing files:  15%|█▍        | 2874/19777 [02:18<12:10, 23.14it/s]"
     ]
    },
    {
     "name": "stdout",
     "output_type": "stream",
     "text": [
      "✓ Processed: 0016_000677.wav\n",
      "✓ Processed: 0016_000678.wav\n",
      "✓ Processed: 0016_000679.wav\n",
      "✓ Processed: 0016_000681.wav\n"
     ]
    },
    {
     "name": "stderr",
     "output_type": "stream",
     "text": [
      "Processing files:  15%|█▍        | 2880/19777 [02:18<12:45, 22.09it/s]"
     ]
    },
    {
     "name": "stdout",
     "output_type": "stream",
     "text": [
      "✓ Processed: 0016_000683.wav\n",
      "✓ Processed: 0016_000689.wav\n",
      "✓ Processed: 0016_000699.wav\n",
      "✓ Processed: 0016_000700.wav\n",
      "✓ Processed: 0017_000357.wav\n"
     ]
    },
    {
     "name": "stderr",
     "output_type": "stream",
     "text": [
      "Processing files:  15%|█▍        | 2883/19777 [02:19<12:30, 22.51it/s]"
     ]
    },
    {
     "name": "stdout",
     "output_type": "stream",
     "text": [
      "✓ Processed: 0017_000360.wav\n",
      "✓ Processed: 0017_000362.wav\n",
      "✓ Processed: 0017_000364.wav\n",
      "✓ Processed: 0017_000369.wav\n"
     ]
    },
    {
     "name": "stderr",
     "output_type": "stream",
     "text": [
      "Processing files:  15%|█▍        | 2889/19777 [02:19<13:08, 21.42it/s]"
     ]
    },
    {
     "name": "stdout",
     "output_type": "stream",
     "text": [
      "✓ Processed: 0017_000371.wav\n",
      "✓ Processed: 0017_000372.wav\n",
      "✓ Processed: 0017_000377.wav\n",
      "✓ Processed: 0017_000379.wav\n",
      "✓ Processed: 0017_000382.wav\n"
     ]
    },
    {
     "name": "stderr",
     "output_type": "stream",
     "text": [
      "Processing files:  15%|█▍        | 2895/19777 [02:19<13:04, 21.51it/s]"
     ]
    },
    {
     "name": "stdout",
     "output_type": "stream",
     "text": [
      "✓ Processed: 0017_000385.wav\n",
      "✓ Processed: 0017_000386.wav\n",
      "✓ Processed: 0017_000387.wav\n",
      "✓ Processed: 0017_000389.wav\n"
     ]
    },
    {
     "name": "stderr",
     "output_type": "stream",
     "text": [
      "Processing files:  15%|█▍        | 2898/19777 [02:19<13:22, 21.05it/s]"
     ]
    },
    {
     "name": "stdout",
     "output_type": "stream",
     "text": [
      "✓ Processed: 0017_000390.wav\n",
      "✓ Processed: 0017_000393.wav\n",
      "✓ Processed: 0017_000395.wav\n",
      "✓ Processed: 0017_000396.wav\n",
      "✓ Processed: 0017_000401.wav\n"
     ]
    },
    {
     "name": "stderr",
     "output_type": "stream",
     "text": [
      "Processing files:  15%|█▍        | 2904/19777 [02:20<12:45, 22.05it/s]"
     ]
    },
    {
     "name": "stdout",
     "output_type": "stream",
     "text": [
      "✓ Processed: 0017_000405.wav\n",
      "✓ Processed: 0017_000408.wav\n",
      "✓ Processed: 0017_000415.wav\n",
      "✓ Processed: 0017_000417.wav\n"
     ]
    },
    {
     "name": "stderr",
     "output_type": "stream",
     "text": [
      "Processing files:  15%|█▍        | 2907/19777 [02:20<13:01, 21.58it/s]"
     ]
    },
    {
     "name": "stdout",
     "output_type": "stream",
     "text": [
      "✓ Processed: 0017_000418.wav\n",
      "✓ Processed: 0017_000420.wav\n",
      "✓ Processed: 0017_000421.wav\n",
      "✓ Processed: 0017_000422.wav\n",
      "✓ Processed: 0017_000423.wav\n"
     ]
    },
    {
     "name": "stderr",
     "output_type": "stream",
     "text": [
      "Processing files:  15%|█▍        | 2913/19777 [02:20<13:11, 21.32it/s]"
     ]
    },
    {
     "name": "stdout",
     "output_type": "stream",
     "text": [
      "✓ Processed: 0017_000425.wav\n",
      "✓ Processed: 0017_000426.wav\n",
      "✓ Processed: 0017_000427.wav\n",
      "✓ Processed: 0017_000428.wav\n",
      "✓ Processed: 0017_000430.wav\n"
     ]
    },
    {
     "name": "stderr",
     "output_type": "stream",
     "text": [
      "Processing files:  15%|█▍        | 2916/19777 [02:20<12:55, 21.74it/s]"
     ]
    },
    {
     "name": "stdout",
     "output_type": "stream",
     "text": [
      "✓ Processed: 0017_000431.wav\n",
      "✓ Processed: 0017_000434.wav\n",
      "✓ Processed: 0017_000437.wav\n",
      "✓ Processed: 0017_000438.wav\n",
      "✓ Processed: 0017_000441.wav\n"
     ]
    },
    {
     "name": "stderr",
     "output_type": "stream",
     "text": [
      "Processing files:  15%|█▍        | 2922/19777 [02:20<12:32, 22.39it/s]"
     ]
    },
    {
     "name": "stdout",
     "output_type": "stream",
     "text": [
      "✓ Processed: 0017_000444.wav\n",
      "✓ Processed: 0017_000445.wav\n",
      "✓ Processed: 0017_000446.wav\n",
      "✓ Processed: 0017_000449.wav\n",
      "✓ Processed: 0017_000450.wav\n"
     ]
    },
    {
     "name": "stderr",
     "output_type": "stream",
     "text": [
      "Processing files:  15%|█▍        | 2928/19777 [02:21<12:37, 22.24it/s]"
     ]
    },
    {
     "name": "stdout",
     "output_type": "stream",
     "text": [
      "✓ Processed: 0017_000454.wav\n",
      "✓ Processed: 0017_000455.wav\n",
      "✓ Processed: 0017_000456.wav\n",
      "✓ Processed: 0017_000458.wav\n"
     ]
    },
    {
     "name": "stderr",
     "output_type": "stream",
     "text": [
      "Processing files:  15%|█▍        | 2931/19777 [02:21<12:29, 22.47it/s]"
     ]
    },
    {
     "name": "stdout",
     "output_type": "stream",
     "text": [
      "✓ Processed: 0017_000461.wav\n",
      "✓ Processed: 0017_000462.wav\n",
      "✓ Processed: 0017_000463.wav\n",
      "✓ Processed: 0017_000468.wav\n",
      "✓ Processed: 0017_000470.wav\n"
     ]
    },
    {
     "name": "stderr",
     "output_type": "stream",
     "text": [
      "Processing files:  15%|█▍        | 2937/19777 [02:21<12:48, 21.92it/s]"
     ]
    },
    {
     "name": "stdout",
     "output_type": "stream",
     "text": [
      "✓ Processed: 0017_000471.wav\n",
      "✓ Processed: 0017_000477.wav\n",
      "✓ Processed: 0017_000478.wav\n",
      "✓ Processed: 0017_000481.wav\n"
     ]
    },
    {
     "name": "stderr",
     "output_type": "stream",
     "text": [
      "Processing files:  15%|█▍        | 2940/19777 [02:21<12:51, 21.83it/s]"
     ]
    },
    {
     "name": "stdout",
     "output_type": "stream",
     "text": [
      "✓ Processed: 0017_000482.wav\n",
      "✓ Processed: 0017_000484.wav\n",
      "✓ Processed: 0017_000486.wav\n",
      "✓ Processed: 0017_000488.wav\n",
      "✓ Processed: 0017_000490.wav\n"
     ]
    },
    {
     "name": "stderr",
     "output_type": "stream",
     "text": [
      "Processing files:  15%|█▍        | 2943/19777 [02:21<12:58, 21.63it/s]"
     ]
    },
    {
     "name": "stdout",
     "output_type": "stream",
     "text": [
      "✓ Processed: 0017_000495.wav\n",
      "✓ Processed: 0017_000496.wav\n",
      "✓ Processed: 0017_000497.wav\n",
      "✓ Processed: 0017_000499.wav\n"
     ]
    },
    {
     "name": "stderr",
     "output_type": "stream",
     "text": [
      "Processing files:  15%|█▍        | 2949/19777 [02:22<14:23, 19.49it/s]"
     ]
    },
    {
     "name": "stdout",
     "output_type": "stream",
     "text": [
      "✓ Processed: 0017_000501.wav\n",
      "✓ Processed: 0017_000502.wav\n",
      "✓ Processed: 0017_000504.wav\n",
      "✓ Processed: 0017_000505.wav\n"
     ]
    },
    {
     "name": "stderr",
     "output_type": "stream",
     "text": [
      "Processing files:  15%|█▍        | 2953/19777 [02:22<14:59, 18.71it/s]"
     ]
    },
    {
     "name": "stdout",
     "output_type": "stream",
     "text": [
      "✓ Processed: 0017_000506.wav\n",
      "✓ Processed: 0017_000508.wav\n",
      "✓ Processed: 0017_000509.wav\n",
      "✓ Processed: 0017_000510.wav\n"
     ]
    },
    {
     "name": "stderr",
     "output_type": "stream",
     "text": [
      "Processing files:  15%|█▍        | 2957/19777 [02:22<15:03, 18.62it/s]"
     ]
    },
    {
     "name": "stdout",
     "output_type": "stream",
     "text": [
      "✓ Processed: 0017_000514.wav\n",
      "✓ Processed: 0017_000515.wav\n",
      "✓ Processed: 0017_000516.wav\n",
      "✓ Processed: 0017_000518.wav\n"
     ]
    },
    {
     "name": "stderr",
     "output_type": "stream",
     "text": [
      "Processing files:  15%|█▍        | 2961/19777 [02:22<15:05, 18.57it/s]"
     ]
    },
    {
     "name": "stdout",
     "output_type": "stream",
     "text": [
      "✓ Processed: 0017_000526.wav\n",
      "✓ Processed: 0017_000528.wav\n",
      "✓ Processed: 0017_000531.wav\n",
      "✓ Processed: 0017_000532.wav\n"
     ]
    },
    {
     "name": "stderr",
     "output_type": "stream",
     "text": [
      "Processing files:  15%|█▍        | 2965/19777 [02:23<15:04, 18.58it/s]"
     ]
    },
    {
     "name": "stdout",
     "output_type": "stream",
     "text": [
      "✓ Processed: 0017_000533.wav\n",
      "✓ Processed: 0017_000535.wav\n",
      "✓ Processed: 0017_000537.wav\n",
      "✓ Processed: 0017_000545.wav\n"
     ]
    },
    {
     "name": "stderr",
     "output_type": "stream",
     "text": [
      "Processing files:  15%|█▌        | 2967/19777 [02:23<14:48, 18.92it/s]"
     ]
    },
    {
     "name": "stdout",
     "output_type": "stream",
     "text": [
      "✓ Processed: 0017_000547.wav\n",
      "✓ Processed: 0017_000549.wav\n",
      "✓ Processed: 0017_000550.wav\n",
      "✓ Processed: 0017_000556.wav\n"
     ]
    },
    {
     "name": "stderr",
     "output_type": "stream",
     "text": [
      "Processing files:  15%|█▌        | 2972/19777 [02:23<15:12, 18.43it/s]"
     ]
    },
    {
     "name": "stdout",
     "output_type": "stream",
     "text": [
      "✓ Processed: 0017_000558.wav\n",
      "✓ Processed: 0017_000560.wav\n",
      "✓ Processed: 0017_000561.wav\n",
      "✓ Processed: 0017_000564.wav\n"
     ]
    },
    {
     "name": "stderr",
     "output_type": "stream",
     "text": [
      "Processing files:  15%|█▌        | 2976/19777 [02:23<15:33, 17.99it/s]"
     ]
    },
    {
     "name": "stdout",
     "output_type": "stream",
     "text": [
      "✓ Processed: 0017_000565.wav\n",
      "✓ Processed: 0017_000568.wav\n",
      "✓ Processed: 0017_000570.wav\n",
      "✓ Processed: 0017_000571.wav\n"
     ]
    },
    {
     "name": "stderr",
     "output_type": "stream",
     "text": [
      "Processing files:  15%|█▌        | 2981/19777 [02:23<15:06, 18.53it/s]"
     ]
    },
    {
     "name": "stdout",
     "output_type": "stream",
     "text": [
      "✓ Processed: 0017_000572.wav\n",
      "✓ Processed: 0017_000573.wav\n",
      "✓ Processed: 0017_000575.wav\n",
      "✓ Processed: 0017_000576.wav\n"
     ]
    },
    {
     "name": "stderr",
     "output_type": "stream",
     "text": [
      "Processing files:  15%|█▌        | 2985/19777 [02:24<15:04, 18.57it/s]"
     ]
    },
    {
     "name": "stdout",
     "output_type": "stream",
     "text": [
      "✓ Processed: 0017_000578.wav\n",
      "✓ Processed: 0017_000579.wav\n",
      "✓ Processed: 0017_000582.wav\n",
      "✓ Processed: 0017_000583.wav\n",
      "✓ Processed: 0017_000584.wav\n"
     ]
    },
    {
     "name": "stderr",
     "output_type": "stream",
     "text": [
      "Processing files:  15%|█▌        | 2989/19777 [02:24<14:39, 19.09it/s]"
     ]
    },
    {
     "name": "stdout",
     "output_type": "stream",
     "text": [
      "✓ Processed: 0017_000587.wav\n",
      "✓ Processed: 0017_000589.wav\n",
      "✓ Processed: 0017_000590.wav\n",
      "✓ Processed: 0017_000591.wav\n",
      "✓ Processed: 0017_000593.wav\n"
     ]
    },
    {
     "name": "stderr",
     "output_type": "stream",
     "text": [
      "Processing files:  15%|█▌        | 2994/19777 [02:24<14:53, 18.77it/s]"
     ]
    },
    {
     "name": "stdout",
     "output_type": "stream",
     "text": [
      "✓ Processed: 0017_000595.wav\n",
      "✓ Processed: 0017_000597.wav\n",
      "✓ Processed: 0017_000598.wav\n",
      "✓ Processed: 0017_000600.wav\n"
     ]
    },
    {
     "name": "stderr",
     "output_type": "stream",
     "text": [
      "Processing files:  15%|█▌        | 2998/19777 [02:24<14:46, 18.93it/s]"
     ]
    },
    {
     "name": "stdout",
     "output_type": "stream",
     "text": [
      "✓ Processed: 0017_000601.wav\n",
      "✓ Processed: 0017_000602.wav\n",
      "✓ Processed: 0017_000603.wav\n",
      "✓ Processed: 0017_000604.wav\n"
     ]
    },
    {
     "name": "stderr",
     "output_type": "stream",
     "text": [
      "Processing files:  15%|█▌        | 3004/19777 [02:25<14:35, 19.16it/s]"
     ]
    },
    {
     "name": "stdout",
     "output_type": "stream",
     "text": [
      "✓ Processed: 0017_000609.wav\n",
      "✓ Processed: 0017_000610.wav\n",
      "✓ Processed: 0017_000611.wav\n",
      "✓ Processed: 0017_000614.wav\n"
     ]
    },
    {
     "name": "stderr",
     "output_type": "stream",
     "text": [
      "Processing files:  15%|█▌        | 3007/19777 [02:25<14:27, 19.34it/s]"
     ]
    },
    {
     "name": "stdout",
     "output_type": "stream",
     "text": [
      "✓ Processed: 0017_000615.wav\n",
      "✓ Processed: 0017_000618.wav\n",
      "✓ Processed: 0017_000619.wav\n",
      "✓ Processed: 0017_000620.wav\n"
     ]
    },
    {
     "name": "stderr",
     "output_type": "stream",
     "text": [
      "Processing files:  15%|█▌        | 3011/19777 [02:25<14:54, 18.75it/s]"
     ]
    },
    {
     "name": "stdout",
     "output_type": "stream",
     "text": [
      "✓ Processed: 0017_000623.wav\n",
      "✓ Processed: 0017_000624.wav\n",
      "✓ Processed: 0017_000628.wav\n",
      "✓ Processed: 0017_000631.wav\n"
     ]
    },
    {
     "name": "stderr",
     "output_type": "stream",
     "text": [
      "Processing files:  15%|█▌        | 3015/19777 [02:25<15:03, 18.56it/s]"
     ]
    },
    {
     "name": "stdout",
     "output_type": "stream",
     "text": [
      "✓ Processed: 0017_000633.wav\n",
      "✓ Processed: 0017_000636.wav\n",
      "✓ Processed: 0017_000637.wav\n",
      "✓ Processed: 0017_000638.wav\n",
      "✓ Processed: 0017_000640.wav\n"
     ]
    },
    {
     "name": "stderr",
     "output_type": "stream",
     "text": [
      "Processing files:  15%|█▌        | 3019/19777 [02:25<14:46, 18.90it/s]"
     ]
    },
    {
     "name": "stdout",
     "output_type": "stream",
     "text": [
      "✓ Processed: 0017_000641.wav\n",
      "✓ Processed: 0017_000643.wav\n",
      "✓ Processed: 0017_000644.wav\n",
      "✓ Processed: 0017_000648.wav\n"
     ]
    },
    {
     "name": "stderr",
     "output_type": "stream",
     "text": [
      "Processing files:  15%|█▌        | 3023/19777 [02:26<14:53, 18.76it/s]"
     ]
    },
    {
     "name": "stdout",
     "output_type": "stream",
     "text": [
      "✓ Processed: 0017_000649.wav\n",
      "✓ Processed: 0017_000650.wav\n",
      "✓ Processed: 0017_000651.wav\n",
      "✓ Processed: 0017_000653.wav\n"
     ]
    },
    {
     "name": "stderr",
     "output_type": "stream",
     "text": [
      "Processing files:  15%|█▌        | 3028/19777 [02:26<14:38, 19.07it/s]"
     ]
    },
    {
     "name": "stdout",
     "output_type": "stream",
     "text": [
      "✓ Processed: 0017_000655.wav\n",
      "✓ Processed: 0017_000661.wav\n",
      "✓ Processed: 0017_000662.wav\n",
      "✓ Processed: 0017_000665.wav\n"
     ]
    },
    {
     "name": "stderr",
     "output_type": "stream",
     "text": [
      "Processing files:  15%|█▌        | 3031/19777 [02:26<14:42, 18.99it/s]"
     ]
    },
    {
     "name": "stdout",
     "output_type": "stream",
     "text": [
      "✓ Processed: 0017_000666.wav\n",
      "✓ Processed: 0017_000668.wav\n",
      "✓ Processed: 0017_000670.wav\n",
      "✓ Processed: 0017_000671.wav\n",
      "✓ Processed: 0017_000675.wav\n"
     ]
    },
    {
     "name": "stderr",
     "output_type": "stream",
     "text": [
      "Processing files:  15%|█▌        | 3036/19777 [02:26<14:28, 19.29it/s]"
     ]
    },
    {
     "name": "stdout",
     "output_type": "stream",
     "text": [
      "✓ Processed: 0017_000676.wav\n",
      "✓ Processed: 0017_000677.wav\n",
      "✓ Processed: 0017_000679.wav\n",
      "✓ Processed: 0017_000683.wav\n",
      "✓ Processed: 0017_000685.wav\n"
     ]
    },
    {
     "name": "stderr",
     "output_type": "stream",
     "text": [
      "Processing files:  15%|█▌        | 3042/19777 [02:27<14:05, 19.79it/s]"
     ]
    },
    {
     "name": "stdout",
     "output_type": "stream",
     "text": [
      "✓ Processed: 0017_000686.wav\n",
      "✓ Processed: 0017_000687.wav\n",
      "✓ Processed: 0017_000691.wav\n",
      "✓ Processed: 0017_000693.wav\n"
     ]
    },
    {
     "name": "stderr",
     "output_type": "stream",
     "text": [
      "Processing files:  15%|█▌        | 3044/19777 [02:27<14:16, 19.55it/s]"
     ]
    },
    {
     "name": "stdout",
     "output_type": "stream",
     "text": [
      "✓ Processed: 0017_000694.wav\n",
      "✓ Processed: 0017_000698.wav\n",
      "✓ Processed: 0017_000699.wav\n",
      "✓ Processed: 0018_000351.wav\n"
     ]
    },
    {
     "name": "stderr",
     "output_type": "stream",
     "text": [
      "Processing files:  15%|█▌        | 3050/19777 [02:27<13:49, 20.16it/s]"
     ]
    },
    {
     "name": "stdout",
     "output_type": "stream",
     "text": [
      "✓ Processed: 0018_000353.wav\n",
      "✓ Processed: 0018_000355.wav\n",
      "✓ Processed: 0018_000356.wav\n",
      "✓ Processed: 0018_000357.wav\n",
      "✓ Processed: 0018_000358.wav\n"
     ]
    },
    {
     "name": "stderr",
     "output_type": "stream",
     "text": [
      "Processing files:  15%|█▌        | 3055/19777 [02:27<14:48, 18.82it/s]"
     ]
    },
    {
     "name": "stdout",
     "output_type": "stream",
     "text": [
      "✓ Processed: 0018_000363.wav\n",
      "✓ Processed: 0018_000364.wav\n",
      "✓ Processed: 0018_000365.wav\n",
      "✓ Processed: 0018_000367.wav\n"
     ]
    },
    {
     "name": "stderr",
     "output_type": "stream",
     "text": [
      "Processing files:  15%|█▌        | 3059/19777 [02:27<14:35, 19.09it/s]"
     ]
    },
    {
     "name": "stdout",
     "output_type": "stream",
     "text": [
      "✓ Processed: 0018_000369.wav\n",
      "✓ Processed: 0018_000371.wav\n",
      "✓ Processed: 0018_000372.wav\n",
      "✓ Processed: 0018_000374.wav\n"
     ]
    },
    {
     "name": "stderr",
     "output_type": "stream",
     "text": [
      "Processing files:  15%|█▌        | 3061/19777 [02:28<14:52, 18.73it/s]"
     ]
    },
    {
     "name": "stdout",
     "output_type": "stream",
     "text": [
      "✓ Processed: 0018_000375.wav\n",
      "✓ Processed: 0018_000377.wav\n",
      "✓ Processed: 0018_000382.wav\n",
      "✓ Processed: 0018_000383.wav\n"
     ]
    },
    {
     "name": "stderr",
     "output_type": "stream",
     "text": [
      "Processing files:  16%|█▌        | 3066/19777 [02:28<14:48, 18.80it/s]"
     ]
    },
    {
     "name": "stdout",
     "output_type": "stream",
     "text": [
      "✓ Processed: 0018_000386.wav\n",
      "✓ Processed: 0018_000389.wav\n",
      "✓ Processed: 0018_000391.wav\n",
      "✓ Processed: 0018_000393.wav\n"
     ]
    },
    {
     "name": "stderr",
     "output_type": "stream",
     "text": [
      "Processing files:  16%|█▌        | 3070/19777 [02:28<14:59, 18.57it/s]"
     ]
    },
    {
     "name": "stdout",
     "output_type": "stream",
     "text": [
      "✓ Processed: 0018_000394.wav\n",
      "✓ Processed: 0018_000396.wav\n",
      "✓ Processed: 0018_000398.wav\n",
      "✓ Processed: 0018_000403.wav\n"
     ]
    },
    {
     "name": "stderr",
     "output_type": "stream",
     "text": [
      "Processing files:  16%|█▌        | 3074/19777 [02:28<15:20, 18.15it/s]"
     ]
    },
    {
     "name": "stdout",
     "output_type": "stream",
     "text": [
      "✓ Processed: 0018_000405.wav\n",
      "✓ Processed: 0018_000407.wav\n",
      "✓ Processed: 0018_000409.wav\n",
      "✓ Processed: 0018_000411.wav\n"
     ]
    },
    {
     "name": "stderr",
     "output_type": "stream",
     "text": [
      "Processing files:  16%|█▌        | 3078/19777 [02:28<14:57, 18.60it/s]"
     ]
    },
    {
     "name": "stdout",
     "output_type": "stream",
     "text": [
      "✓ Processed: 0018_000412.wav\n",
      "✓ Processed: 0018_000414.wav\n",
      "✓ Processed: 0018_000415.wav\n",
      "✓ Processed: 0018_000417.wav\n"
     ]
    },
    {
     "name": "stderr",
     "output_type": "stream",
     "text": [
      "Processing files:  16%|█▌        | 3082/19777 [02:29<14:45, 18.86it/s]"
     ]
    },
    {
     "name": "stdout",
     "output_type": "stream",
     "text": [
      "✓ Processed: 0018_000418.wav\n",
      "✓ Processed: 0018_000420.wav\n",
      "✓ Processed: 0018_000422.wav\n",
      "✓ Processed: 0018_000423.wav\n"
     ]
    },
    {
     "name": "stderr",
     "output_type": "stream",
     "text": [
      "Processing files:  16%|█▌        | 3086/19777 [02:29<14:35, 19.07it/s]"
     ]
    },
    {
     "name": "stdout",
     "output_type": "stream",
     "text": [
      "✓ Processed: 0018_000425.wav\n",
      "✓ Processed: 0018_000426.wav\n",
      "✓ Processed: 0018_000428.wav\n",
      "✓ Processed: 0018_000429.wav\n",
      "✓ Processed: 0018_000430.wav\n"
     ]
    },
    {
     "name": "stderr",
     "output_type": "stream",
     "text": [
      "Processing files:  16%|█▌        | 3091/19777 [02:29<15:41, 17.73it/s]"
     ]
    },
    {
     "name": "stdout",
     "output_type": "stream",
     "text": [
      "✓ Processed: 0018_000431.wav\n",
      "✓ Processed: 0018_000433.wav\n",
      "✓ Processed: 0018_000434.wav\n",
      "✓ Processed: 0018_000441.wav\n"
     ]
    },
    {
     "name": "stderr",
     "output_type": "stream",
     "text": [
      "Processing files:  16%|█▌        | 3095/19777 [02:29<15:27, 17.99it/s]"
     ]
    },
    {
     "name": "stdout",
     "output_type": "stream",
     "text": [
      "✓ Processed: 0018_000442.wav\n",
      "✓ Processed: 0018_000444.wav\n",
      "✓ Processed: 0018_000446.wav\n",
      "✓ Processed: 0018_000447.wav\n"
     ]
    },
    {
     "name": "stderr",
     "output_type": "stream",
     "text": [
      "Processing files:  16%|█▌        | 3098/19777 [02:30<15:05, 18.42it/s]"
     ]
    },
    {
     "name": "stdout",
     "output_type": "stream",
     "text": [
      "✓ Processed: 0018_000449.wav\n",
      "✓ Processed: 0018_000454.wav\n",
      "✓ Processed: 0018_000456.wav\n",
      "✓ Processed: 0018_000458.wav\n"
     ]
    },
    {
     "name": "stderr",
     "output_type": "stream",
     "text": [
      "Processing files:  16%|█▌        | 3104/19777 [02:30<14:44, 18.84it/s]"
     ]
    },
    {
     "name": "stdout",
     "output_type": "stream",
     "text": [
      "✓ Processed: 0018_000459.wav\n",
      "✓ Processed: 0018_000460.wav\n",
      "✓ Processed: 0018_000461.wav\n",
      "✓ Processed: 0018_000466.wav\n"
     ]
    },
    {
     "name": "stderr",
     "output_type": "stream",
     "text": [
      "Processing files:  16%|█▌        | 3108/19777 [02:30<14:38, 18.98it/s]"
     ]
    },
    {
     "name": "stdout",
     "output_type": "stream",
     "text": [
      "✓ Processed: 0018_000467.wav\n",
      "✓ Processed: 0018_000468.wav\n",
      "✓ Processed: 0018_000469.wav\n",
      "✓ Processed: 0018_000470.wav\n"
     ]
    },
    {
     "name": "stderr",
     "output_type": "stream",
     "text": [
      "Processing files:  16%|█▌        | 3112/19777 [02:30<15:01, 18.49it/s]"
     ]
    },
    {
     "name": "stdout",
     "output_type": "stream",
     "text": [
      "✓ Processed: 0018_000471.wav\n",
      "✓ Processed: 0018_000472.wav\n",
      "✓ Processed: 0018_000473.wav\n",
      "✓ Processed: 0018_000474.wav\n"
     ]
    },
    {
     "name": "stderr",
     "output_type": "stream",
     "text": [
      "Processing files:  16%|█▌        | 3116/19777 [02:31<14:57, 18.56it/s]"
     ]
    },
    {
     "name": "stdout",
     "output_type": "stream",
     "text": [
      "✓ Processed: 0018_000475.wav\n",
      "✓ Processed: 0018_000477.wav\n",
      "✓ Processed: 0018_000479.wav\n",
      "✓ Processed: 0018_000481.wav\n"
     ]
    },
    {
     "name": "stderr",
     "output_type": "stream",
     "text": [
      "Processing files:  16%|█▌        | 3120/19777 [02:31<14:59, 18.53it/s]"
     ]
    },
    {
     "name": "stdout",
     "output_type": "stream",
     "text": [
      "✓ Processed: 0018_000484.wav\n",
      "✓ Processed: 0018_000485.wav\n",
      "✓ Processed: 0018_000486.wav\n",
      "✓ Processed: 0018_000491.wav\n"
     ]
    },
    {
     "name": "stderr",
     "output_type": "stream",
     "text": [
      "Processing files:  16%|█▌        | 3122/19777 [02:31<15:09, 18.31it/s]"
     ]
    },
    {
     "name": "stdout",
     "output_type": "stream",
     "text": [
      "✓ Processed: 0018_000492.wav\n",
      "✓ Processed: 0018_000494.wav\n",
      "✓ Processed: 0018_000495.wav\n",
      "✓ Processed: 0018_000501.wav\n"
     ]
    },
    {
     "name": "stderr",
     "output_type": "stream",
     "text": [
      "Processing files:  16%|█▌        | 3128/19777 [02:31<14:29, 19.14it/s]"
     ]
    },
    {
     "name": "stdout",
     "output_type": "stream",
     "text": [
      "✓ Processed: 0018_000503.wav\n",
      "✓ Processed: 0018_000505.wav\n",
      "✓ Processed: 0018_000506.wav\n",
      "✓ Processed: 0018_000509.wav\n"
     ]
    },
    {
     "name": "stderr",
     "output_type": "stream",
     "text": [
      "Processing files:  16%|█▌        | 3132/19777 [02:31<14:54, 18.62it/s]"
     ]
    },
    {
     "name": "stdout",
     "output_type": "stream",
     "text": [
      "✓ Processed: 0018_000513.wav\n",
      "✓ Processed: 0018_000514.wav\n",
      "✓ Processed: 0018_000518.wav\n",
      "✓ Processed: 0018_000520.wav\n"
     ]
    },
    {
     "name": "stderr",
     "output_type": "stream",
     "text": [
      "Processing files:  16%|█▌        | 3136/19777 [02:32<15:08, 18.32it/s]"
     ]
    },
    {
     "name": "stdout",
     "output_type": "stream",
     "text": [
      "✓ Processed: 0018_000524.wav\n",
      "✓ Processed: 0018_000525.wav\n",
      "✓ Processed: 0018_000526.wav\n",
      "✓ Processed: 0018_000529.wav\n"
     ]
    },
    {
     "name": "stderr",
     "output_type": "stream",
     "text": [
      "Processing files:  16%|█▌        | 3138/19777 [02:32<15:04, 18.39it/s]"
     ]
    },
    {
     "name": "stdout",
     "output_type": "stream",
     "text": [
      "✓ Processed: 0018_000530.wav\n",
      "✓ Processed: 0018_000532.wav\n",
      "✓ Processed: 0018_000535.wav\n",
      "✓ Processed: 0018_000537.wav\n"
     ]
    },
    {
     "name": "stderr",
     "output_type": "stream",
     "text": [
      "Processing files:  16%|█▌        | 3145/19777 [02:32<14:39, 18.90it/s]"
     ]
    },
    {
     "name": "stdout",
     "output_type": "stream",
     "text": [
      "✓ Processed: 0018_000540.wav\n",
      "✓ Processed: 0018_000543.wav\n",
      "✓ Processed: 0018_000545.wav\n",
      "✓ Processed: 0018_000548.wav\n"
     ]
    },
    {
     "name": "stderr",
     "output_type": "stream",
     "text": [
      "Processing files:  16%|█▌        | 3147/19777 [02:32<14:42, 18.85it/s]"
     ]
    },
    {
     "name": "stdout",
     "output_type": "stream",
     "text": [
      "✓ Processed: 0018_000550.wav\n",
      "✓ Processed: 0018_000551.wav\n",
      "✓ Processed: 0018_000554.wav\n",
      "✓ Processed: 0018_000555.wav\n"
     ]
    },
    {
     "name": "stderr",
     "output_type": "stream",
     "text": [
      "Processing files:  16%|█▌        | 3151/19777 [02:32<14:44, 18.80it/s]"
     ]
    },
    {
     "name": "stdout",
     "output_type": "stream",
     "text": [
      "✓ Processed: 0018_000556.wav\n",
      "✓ Processed: 0018_000563.wav\n",
      "✓ Processed: 0018_000568.wav\n",
      "✓ Processed: 0018_000569.wav\n"
     ]
    },
    {
     "name": "stderr",
     "output_type": "stream",
     "text": [
      "Processing files:  16%|█▌        | 3155/19777 [02:33<14:37, 18.95it/s]"
     ]
    },
    {
     "name": "stdout",
     "output_type": "stream",
     "text": [
      "✓ Processed: 0018_000571.wav\n",
      "✓ Processed: 0018_000573.wav\n",
      "✓ Processed: 0018_000576.wav\n",
      "✓ Processed: 0018_000577.wav\n"
     ]
    },
    {
     "name": "stderr",
     "output_type": "stream",
     "text": [
      "Processing files:  16%|█▌        | 3159/19777 [02:33<14:27, 19.16it/s]"
     ]
    },
    {
     "name": "stdout",
     "output_type": "stream",
     "text": [
      "✓ Processed: 0018_000579.wav\n",
      "✓ Processed: 0018_000580.wav\n",
      "✓ Processed: 0018_000581.wav\n",
      "✓ Processed: 0018_000585.wav\n"
     ]
    },
    {
     "name": "stderr",
     "output_type": "stream",
     "text": [
      "Processing files:  16%|█▌        | 3163/19777 [02:33<14:36, 18.95it/s]"
     ]
    },
    {
     "name": "stdout",
     "output_type": "stream",
     "text": [
      "✓ Processed: 0018_000587.wav\n",
      "✓ Processed: 0018_000589.wav\n",
      "✓ Processed: 0018_000590.wav\n",
      "✓ Processed: 0018_000592.wav\n"
     ]
    },
    {
     "name": "stderr",
     "output_type": "stream",
     "text": [
      "Processing files:  16%|█▌        | 3167/19777 [02:33<14:53, 18.60it/s]"
     ]
    },
    {
     "name": "stdout",
     "output_type": "stream",
     "text": [
      "✓ Processed: 0018_000593.wav\n",
      "✓ Processed: 0018_000594.wav\n",
      "✓ Processed: 0018_000597.wav\n",
      "✓ Processed: 0018_000601.wav\n"
     ]
    },
    {
     "name": "stderr",
     "output_type": "stream",
     "text": [
      "Processing files:  16%|█▌        | 3171/19777 [02:33<15:31, 17.83it/s]"
     ]
    },
    {
     "name": "stdout",
     "output_type": "stream",
     "text": [
      "✓ Processed: 0018_000603.wav\n",
      "✓ Processed: 0018_000605.wav\n",
      "✓ Processed: 0018_000607.wav\n",
      "✓ Processed: 0018_000609.wav\n"
     ]
    },
    {
     "name": "stderr",
     "output_type": "stream",
     "text": [
      "Processing files:  16%|█▌        | 3175/19777 [02:34<15:14, 18.15it/s]"
     ]
    },
    {
     "name": "stdout",
     "output_type": "stream",
     "text": [
      "✓ Processed: 0018_000610.wav\n",
      "✓ Processed: 0018_000611.wav\n",
      "✓ Processed: 0018_000613.wav\n",
      "✓ Processed: 0018_000615.wav\n"
     ]
    },
    {
     "name": "stderr",
     "output_type": "stream",
     "text": [
      "Processing files:  16%|█▌        | 3179/19777 [02:34<14:38, 18.89it/s]"
     ]
    },
    {
     "name": "stdout",
     "output_type": "stream",
     "text": [
      "✓ Processed: 0018_000618.wav\n",
      "✓ Processed: 0018_000621.wav\n",
      "✓ Processed: 0018_000622.wav\n",
      "✓ Processed: 0018_000628.wav\n"
     ]
    },
    {
     "name": "stderr",
     "output_type": "stream",
     "text": [
      "Processing files:  16%|█▌        | 3185/19777 [02:34<14:45, 18.73it/s]"
     ]
    },
    {
     "name": "stdout",
     "output_type": "stream",
     "text": [
      "✓ Processed: 0018_000629.wav\n",
      "✓ Processed: 0018_000631.wav\n",
      "✓ Processed: 0018_000634.wav\n",
      "✓ Processed: 0018_000639.wav\n"
     ]
    },
    {
     "name": "stderr",
     "output_type": "stream",
     "text": [
      "Processing files:  16%|█▌        | 3187/19777 [02:34<15:16, 18.11it/s]"
     ]
    },
    {
     "name": "stdout",
     "output_type": "stream",
     "text": [
      "✓ Processed: 0018_000641.wav\n",
      "✓ Processed: 0018_000642.wav\n",
      "✓ Processed: 0018_000643.wav\n",
      "✓ Processed: 0018_000646.wav\n"
     ]
    },
    {
     "name": "stderr",
     "output_type": "stream",
     "text": [
      "Processing files:  16%|█▌        | 3191/19777 [02:35<15:12, 18.18it/s]"
     ]
    },
    {
     "name": "stdout",
     "output_type": "stream",
     "text": [
      "✓ Processed: 0018_000647.wav\n",
      "✓ Processed: 0018_000653.wav\n",
      "✓ Processed: 0018_000654.wav\n",
      "✓ Processed: 0018_000658.wav\n"
     ]
    },
    {
     "name": "stderr",
     "output_type": "stream",
     "text": [
      "Processing files:  16%|█▌        | 3195/19777 [02:35<14:58, 18.45it/s]"
     ]
    },
    {
     "name": "stdout",
     "output_type": "stream",
     "text": [
      "✓ Processed: 0018_000659.wav\n",
      "✓ Processed: 0018_000667.wav\n",
      "✓ Processed: 0018_000670.wav\n",
      "✓ Processed: 0018_000673.wav\n"
     ]
    },
    {
     "name": "stderr",
     "output_type": "stream",
     "text": [
      "Processing files:  16%|█▌        | 3199/19777 [02:35<14:47, 18.68it/s]"
     ]
    },
    {
     "name": "stdout",
     "output_type": "stream",
     "text": [
      "✓ Processed: 0018_000677.wav\n",
      "✓ Processed: 0018_000681.wav\n",
      "✓ Processed: 0018_000682.wav\n",
      "✓ Processed: 0018_000684.wav\n"
     ]
    },
    {
     "name": "stderr",
     "output_type": "stream",
     "text": [
      "Processing files:  16%|█▌        | 3204/19777 [02:35<14:46, 18.70it/s]"
     ]
    },
    {
     "name": "stdout",
     "output_type": "stream",
     "text": [
      "✓ Processed: 0018_000686.wav\n",
      "✓ Processed: 0018_000687.wav\n",
      "✓ Processed: 0018_000688.wav\n",
      "✓ Processed: 0018_000691.wav\n",
      "✓ Processed: 0018_000693.wav\n"
     ]
    },
    {
     "name": "stderr",
     "output_type": "stream",
     "text": [
      "Processing files:  16%|█▌        | 3209/19777 [02:36<14:35, 18.93it/s]"
     ]
    },
    {
     "name": "stdout",
     "output_type": "stream",
     "text": [
      "✓ Processed: 0018_000696.wav\n",
      "✓ Processed: 0018_000697.wav\n",
      "✓ Processed: 0018_000699.wav\n",
      "✓ Processed: 0019_000351.wav\n"
     ]
    },
    {
     "name": "stderr",
     "output_type": "stream",
     "text": [
      "Processing files:  16%|█▌        | 3213/19777 [02:36<14:54, 18.52it/s]"
     ]
    },
    {
     "name": "stdout",
     "output_type": "stream",
     "text": [
      "✓ Processed: 0019_000352.wav\n",
      "✓ Processed: 0019_000353.wav\n",
      "✓ Processed: 0019_000362.wav\n",
      "✓ Processed: 0019_000363.wav\n"
     ]
    },
    {
     "name": "stderr",
     "output_type": "stream",
     "text": [
      "Processing files:  16%|█▋        | 3217/19777 [02:36<14:35, 18.93it/s]"
     ]
    },
    {
     "name": "stdout",
     "output_type": "stream",
     "text": [
      "✓ Processed: 0019_000366.wav\n",
      "✓ Processed: 0019_000375.wav\n",
      "✓ Processed: 0019_000377.wav\n",
      "✓ Processed: 0019_000378.wav\n"
     ]
    },
    {
     "name": "stderr",
     "output_type": "stream",
     "text": [
      "Processing files:  16%|█▋        | 3221/19777 [02:36<14:58, 18.44it/s]"
     ]
    },
    {
     "name": "stdout",
     "output_type": "stream",
     "text": [
      "✓ Processed: 0019_000384.wav\n",
      "✓ Processed: 0019_000385.wav\n",
      "✓ Processed: 0019_000387.wav\n",
      "✓ Processed: 0019_000388.wav\n"
     ]
    },
    {
     "name": "stderr",
     "output_type": "stream",
     "text": [
      "Processing files:  16%|█▋        | 3223/19777 [02:36<14:42, 18.77it/s]"
     ]
    },
    {
     "name": "stdout",
     "output_type": "stream",
     "text": [
      "✓ Processed: 0019_000389.wav\n",
      "✓ Processed: 0019_000390.wav\n",
      "✓ Processed: 0019_000391.wav\n",
      "✓ Processed: 0019_000393.wav\n"
     ]
    },
    {
     "name": "stderr",
     "output_type": "stream",
     "text": [
      "Processing files:  16%|█▋        | 3229/19777 [02:37<13:58, 19.73it/s]"
     ]
    },
    {
     "name": "stdout",
     "output_type": "stream",
     "text": [
      "✓ Processed: 0019_000395.wav\n",
      "✓ Processed: 0019_000396.wav\n",
      "✓ Processed: 0019_000398.wav\n",
      "✓ Processed: 0019_000399.wav\n"
     ]
    },
    {
     "name": "stderr",
     "output_type": "stream",
     "text": [
      "Processing files:  16%|█▋        | 3233/19777 [02:37<14:25, 19.11it/s]"
     ]
    },
    {
     "name": "stdout",
     "output_type": "stream",
     "text": [
      "✓ Processed: 0019_000400.wav\n",
      "✓ Processed: 0019_000401.wav\n",
      "✓ Processed: 0019_000402.wav\n",
      "✓ Processed: 0019_000403.wav\n"
     ]
    },
    {
     "name": "stderr",
     "output_type": "stream",
     "text": [
      "Processing files:  16%|█▋        | 3237/19777 [02:37<14:32, 18.95it/s]"
     ]
    },
    {
     "name": "stdout",
     "output_type": "stream",
     "text": [
      "✓ Processed: 0019_000405.wav\n",
      "✓ Processed: 0019_000406.wav\n",
      "✓ Processed: 0019_000407.wav\n",
      "✓ Processed: 0019_000408.wav\n",
      "✓ Processed: 0019_000409.wav\n"
     ]
    },
    {
     "name": "stderr",
     "output_type": "stream",
     "text": [
      "Processing files:  16%|█▋        | 3241/19777 [02:37<15:34, 17.69it/s]"
     ]
    },
    {
     "name": "stdout",
     "output_type": "stream",
     "text": [
      "✓ Processed: 0019_000411.wav\n",
      "✓ Processed: 0019_000413.wav\n",
      "✓ Processed: 0019_000414.wav\n",
      "✓ Processed: 0019_000415.wav\n"
     ]
    },
    {
     "name": "stderr",
     "output_type": "stream",
     "text": [
      "Processing files:  16%|█▋        | 3246/19777 [02:38<15:19, 17.99it/s]"
     ]
    },
    {
     "name": "stdout",
     "output_type": "stream",
     "text": [
      "✓ Processed: 0019_000418.wav\n",
      "✓ Processed: 0019_000421.wav\n",
      "✓ Processed: 0019_000422.wav\n",
      "✓ Processed: 0019_000423.wav\n",
      "✓ Processed: 0019_000425.wav\n"
     ]
    },
    {
     "name": "stderr",
     "output_type": "stream",
     "text": [
      "Processing files:  16%|█▋        | 3250/19777 [02:38<14:56, 18.43it/s]"
     ]
    },
    {
     "name": "stdout",
     "output_type": "stream",
     "text": [
      "✓ Processed: 0019_000429.wav\n",
      "✓ Processed: 0019_000431.wav\n",
      "✓ Processed: 0019_000441.wav\n",
      "✓ Processed: 0019_000442.wav\n"
     ]
    },
    {
     "name": "stderr",
     "output_type": "stream",
     "text": [
      "Processing files:  16%|█▋        | 3256/19777 [02:38<14:05, 19.53it/s]"
     ]
    },
    {
     "name": "stdout",
     "output_type": "stream",
     "text": [
      "✓ Processed: 0019_000443.wav\n",
      "✓ Processed: 0019_000447.wav\n",
      "✓ Processed: 0019_000448.wav\n",
      "✓ Processed: 0019_000450.wav\n"
     ]
    },
    {
     "name": "stderr",
     "output_type": "stream",
     "text": [
      "Processing files:  16%|█▋        | 3258/19777 [02:38<14:01, 19.64it/s]"
     ]
    },
    {
     "name": "stdout",
     "output_type": "stream",
     "text": [
      "✓ Processed: 0019_000452.wav\n",
      "✓ Processed: 0019_000453.wav\n",
      "✓ Processed: 0019_000455.wav\n",
      "✓ Processed: 0019_000458.wav\n",
      "✓ Processed: 0019_000459.wav\n"
     ]
    },
    {
     "name": "stderr",
     "output_type": "stream",
     "text": [
      "Processing files:  16%|█▋        | 3263/19777 [02:38<14:04, 19.56it/s]"
     ]
    },
    {
     "name": "stdout",
     "output_type": "stream",
     "text": [
      "✓ Processed: 0019_000464.wav\n",
      "✓ Processed: 0019_000465.wav\n",
      "✓ Processed: 0019_000467.wav\n",
      "✓ Processed: 0019_000470.wav\n",
      "✓ Processed: 0019_000471.wav\n"
     ]
    },
    {
     "name": "stderr",
     "output_type": "stream",
     "text": [
      "Processing files:  17%|█▋        | 3268/19777 [02:39<14:13, 19.35it/s]"
     ]
    },
    {
     "name": "stdout",
     "output_type": "stream",
     "text": [
      "✓ Processed: 0019_000472.wav\n",
      "✓ Processed: 0019_000474.wav\n",
      "✓ Processed: 0019_000483.wav\n",
      "✓ Processed: 0019_000484.wav\n"
     ]
    },
    {
     "name": "stderr",
     "output_type": "stream",
     "text": [
      "Processing files:  17%|█▋        | 3272/19777 [02:39<15:10, 18.13it/s]"
     ]
    },
    {
     "name": "stdout",
     "output_type": "stream",
     "text": [
      "✓ Processed: 0019_000488.wav\n",
      "✓ Processed: 0019_000491.wav\n",
      "✓ Processed: 0019_000493.wav\n",
      "✓ Processed: 0019_000495.wav\n"
     ]
    },
    {
     "name": "stderr",
     "output_type": "stream",
     "text": [
      "Processing files:  17%|█▋        | 3277/19777 [02:39<14:30, 18.95it/s]"
     ]
    },
    {
     "name": "stdout",
     "output_type": "stream",
     "text": [
      "✓ Processed: 0019_000496.wav\n",
      "✓ Processed: 0019_000499.wav\n",
      "✓ Processed: 0019_000504.wav\n",
      "✓ Processed: 0019_000506.wav\n",
      "✓ Processed: 0019_000507.wav\n"
     ]
    },
    {
     "name": "stderr",
     "output_type": "stream",
     "text": [
      "Processing files:  17%|█▋        | 3281/19777 [02:39<14:38, 18.77it/s]"
     ]
    },
    {
     "name": "stdout",
     "output_type": "stream",
     "text": [
      "✓ Processed: 0019_000509.wav\n",
      "✓ Processed: 0019_000511.wav\n",
      "✓ Processed: 0019_000512.wav\n",
      "✓ Processed: 0019_000515.wav\n"
     ]
    },
    {
     "name": "stderr",
     "output_type": "stream",
     "text": [
      "Processing files:  17%|█▋        | 3286/19777 [02:40<14:17, 19.23it/s]"
     ]
    },
    {
     "name": "stdout",
     "output_type": "stream",
     "text": [
      "✓ Processed: 0019_000520.wav\n",
      "✓ Processed: 0019_000521.wav\n",
      "✓ Processed: 0019_000524.wav\n",
      "✓ Processed: 0019_000525.wav\n"
     ]
    },
    {
     "name": "stderr",
     "output_type": "stream",
     "text": [
      "Processing files:  17%|█▋        | 3289/19777 [02:40<14:17, 19.23it/s]"
     ]
    },
    {
     "name": "stdout",
     "output_type": "stream",
     "text": [
      "✓ Processed: 0019_000526.wav\n",
      "✓ Processed: 0019_000527.wav\n",
      "✓ Processed: 0019_000529.wav\n",
      "✓ Processed: 0019_000532.wav\n",
      "✓ Processed: 0019_000535.wav\n"
     ]
    },
    {
     "name": "stderr",
     "output_type": "stream",
     "text": [
      "Processing files:  17%|█▋        | 3296/19777 [02:40<14:09, 19.40it/s]"
     ]
    },
    {
     "name": "stdout",
     "output_type": "stream",
     "text": [
      "✓ Processed: 0019_000536.wav\n",
      "✓ Processed: 0019_000540.wav\n",
      "✓ Processed: 0019_000541.wav\n",
      "✓ Processed: 0019_000544.wav\n"
     ]
    },
    {
     "name": "stderr",
     "output_type": "stream",
     "text": [
      "Processing files:  17%|█▋        | 3298/19777 [02:40<14:22, 19.11it/s]"
     ]
    },
    {
     "name": "stdout",
     "output_type": "stream",
     "text": [
      "✓ Processed: 0019_000545.wav\n",
      "✓ Processed: 0019_000546.wav\n",
      "✓ Processed: 0019_000547.wav\n",
      "✓ Processed: 0019_000549.wav\n"
     ]
    },
    {
     "name": "stderr",
     "output_type": "stream",
     "text": [
      "Processing files:  17%|█▋        | 3302/19777 [02:40<14:45, 18.60it/s]"
     ]
    },
    {
     "name": "stdout",
     "output_type": "stream",
     "text": [
      "✓ Processed: 0019_000550.wav\n",
      "✓ Processed: 0019_000554.wav\n",
      "✓ Processed: 0019_000556.wav\n",
      "✓ Processed: 0019_000559.wav\n"
     ]
    },
    {
     "name": "stderr",
     "output_type": "stream",
     "text": [
      "Processing files:  17%|█▋        | 3306/19777 [02:41<14:27, 18.99it/s]"
     ]
    },
    {
     "name": "stdout",
     "output_type": "stream",
     "text": [
      "✓ Processed: 0019_000563.wav\n",
      "✓ Processed: 0019_000565.wav\n",
      "✓ Processed: 0019_000566.wav\n",
      "✓ Processed: 0019_000567.wav\n"
     ]
    },
    {
     "name": "stderr",
     "output_type": "stream",
     "text": [
      "Processing files:  17%|█▋        | 3311/19777 [02:41<14:11, 19.35it/s]"
     ]
    },
    {
     "name": "stdout",
     "output_type": "stream",
     "text": [
      "✓ Processed: 0019_000568.wav\n",
      "✓ Processed: 0019_000570.wav\n",
      "✓ Processed: 0019_000572.wav\n",
      "✓ Processed: 0019_000573.wav\n",
      "✓ Processed: 0019_000574.wav\n"
     ]
    },
    {
     "name": "stderr",
     "output_type": "stream",
     "text": [
      "Processing files:  17%|█▋        | 3315/19777 [02:41<14:34, 18.83it/s]"
     ]
    },
    {
     "name": "stdout",
     "output_type": "stream",
     "text": [
      "✓ Processed: 0019_000575.wav\n",
      "✓ Processed: 0019_000576.wav\n",
      "✓ Processed: 0019_000577.wav\n",
      "✓ Processed: 0019_000579.wav\n"
     ]
    },
    {
     "name": "stderr",
     "output_type": "stream",
     "text": [
      "Processing files:  17%|█▋        | 3321/19777 [02:41<13:35, 20.17it/s]"
     ]
    },
    {
     "name": "stdout",
     "output_type": "stream",
     "text": [
      "✓ Processed: 0019_000581.wav\n",
      "✓ Processed: 0019_000583.wav\n",
      "✓ Processed: 0019_000584.wav\n",
      "✓ Processed: 0019_000589.wav\n"
     ]
    },
    {
     "name": "stderr",
     "output_type": "stream",
     "text": [
      "Processing files:  17%|█▋        | 3324/19777 [02:42<14:01, 19.56it/s]"
     ]
    },
    {
     "name": "stdout",
     "output_type": "stream",
     "text": [
      "✓ Processed: 0019_000591.wav\n",
      "✓ Processed: 0019_000592.wav\n",
      "✓ Processed: 0019_000595.wav\n",
      "✓ Processed: 0019_000600.wav\n",
      "✓ Processed: 0019_000601.wav\n"
     ]
    },
    {
     "name": "stderr",
     "output_type": "stream",
     "text": [
      "Processing files:  17%|█▋        | 3328/19777 [02:42<14:13, 19.27it/s]"
     ]
    },
    {
     "name": "stdout",
     "output_type": "stream",
     "text": [
      "✓ Processed: 0019_000602.wav\n",
      "✓ Processed: 0019_000603.wav\n",
      "✓ Processed: 0019_000610.wav\n",
      "✓ Processed: 0019_000611.wav\n",
      "✓ Processed: 0019_000612.wav\n"
     ]
    },
    {
     "name": "stderr",
     "output_type": "stream",
     "text": [
      "Processing files:  17%|█▋        | 3334/19777 [02:42<13:53, 19.73it/s]"
     ]
    },
    {
     "name": "stdout",
     "output_type": "stream",
     "text": [
      "✓ Processed: 0019_000613.wav\n",
      "✓ Processed: 0019_000614.wav\n",
      "✓ Processed: 0019_000619.wav\n",
      "✓ Processed: 0019_000626.wav\n"
     ]
    },
    {
     "name": "stderr",
     "output_type": "stream",
     "text": [
      "Processing files:  17%|█▋        | 3338/19777 [02:42<14:14, 19.23it/s]"
     ]
    },
    {
     "name": "stdout",
     "output_type": "stream",
     "text": [
      "✓ Processed: 0019_000635.wav\n",
      "✓ Processed: 0019_000638.wav\n",
      "✓ Processed: 0019_000647.wav\n",
      "✓ Processed: 0019_000650.wav\n"
     ]
    },
    {
     "name": "stderr",
     "output_type": "stream",
     "text": [
      "Processing files:  17%|█▋        | 3341/19777 [02:42<13:57, 19.63it/s]"
     ]
    },
    {
     "name": "stdout",
     "output_type": "stream",
     "text": [
      "✓ Processed: 0019_000653.wav\n",
      "✓ Processed: 0019_000654.wav\n",
      "✓ Processed: 0019_000655.wav\n",
      "✓ Processed: 0019_000656.wav\n"
     ]
    },
    {
     "name": "stderr",
     "output_type": "stream",
     "text": [
      "Processing files:  17%|█▋        | 3345/19777 [02:43<14:29, 18.89it/s]"
     ]
    },
    {
     "name": "stdout",
     "output_type": "stream",
     "text": [
      "✓ Processed: 0019_000660.wav\n",
      "✓ Processed: 0019_000665.wav\n",
      "✓ Processed: 0019_000666.wav\n",
      "✓ Processed: 0019_000669.wav\n"
     ]
    },
    {
     "name": "stderr",
     "output_type": "stream",
     "text": [
      "Processing files:  17%|█▋        | 3349/19777 [02:43<14:57, 18.31it/s]"
     ]
    },
    {
     "name": "stdout",
     "output_type": "stream",
     "text": [
      "✓ Processed: 0019_000673.wav\n",
      "✓ Processed: 0019_000675.wav\n",
      "✓ Processed: 0019_000683.wav\n",
      "✓ Processed: 0019_000684.wav\n"
     ]
    },
    {
     "name": "stderr",
     "output_type": "stream",
     "text": [
      "Processing files:  17%|█▋        | 3353/19777 [02:43<14:32, 18.83it/s]"
     ]
    },
    {
     "name": "stdout",
     "output_type": "stream",
     "text": [
      "✓ Processed: 0019_000685.wav\n",
      "✓ Processed: 0019_000688.wav\n",
      "✓ Processed: 0019_000689.wav\n",
      "✓ Processed: 0019_000692.wav\n"
     ]
    },
    {
     "name": "stderr",
     "output_type": "stream",
     "text": [
      "Processing files:  17%|█▋        | 3358/19777 [02:43<14:13, 19.23it/s]"
     ]
    },
    {
     "name": "stdout",
     "output_type": "stream",
     "text": [
      "✓ Processed: 0019_000693.wav\n",
      "✓ Processed: 0019_000697.wav\n",
      "✓ Processed: 0019_000698.wav\n",
      "✓ Processed: 0020_000353.wav\n",
      "✓ Processed: 0020_000354.wav\n"
     ]
    },
    {
     "name": "stderr",
     "output_type": "stream",
     "text": [
      "Processing files:  17%|█▋        | 3363/19777 [02:44<14:02, 19.47it/s]"
     ]
    },
    {
     "name": "stdout",
     "output_type": "stream",
     "text": [
      "✓ Processed: 0020_000355.wav\n",
      "✓ Processed: 0020_000360.wav\n",
      "✓ Processed: 0020_000361.wav\n",
      "✓ Processed: 0020_000366.wav\n",
      "✓ Processed: 0020_000369.wav\n"
     ]
    },
    {
     "name": "stderr",
     "output_type": "stream",
     "text": [
      "Processing files:  17%|█▋        | 3368/19777 [02:44<14:07, 19.35it/s]"
     ]
    },
    {
     "name": "stdout",
     "output_type": "stream",
     "text": [
      "✓ Processed: 0020_000370.wav\n",
      "✓ Processed: 0020_000371.wav\n",
      "✓ Processed: 0020_000373.wav\n",
      "✓ Processed: 0020_000374.wav\n"
     ]
    },
    {
     "name": "stderr",
     "output_type": "stream",
     "text": [
      "Processing files:  17%|█▋        | 3371/19777 [02:44<14:11, 19.26it/s]"
     ]
    },
    {
     "name": "stdout",
     "output_type": "stream",
     "text": [
      "✓ Processed: 0020_000377.wav\n",
      "✓ Processed: 0020_000378.wav\n",
      "✓ Processed: 0020_000379.wav\n",
      "✓ Processed: 0020_000384.wav\n"
     ]
    },
    {
     "name": "stderr",
     "output_type": "stream",
     "text": [
      "Processing files:  17%|█▋        | 3377/19777 [02:44<13:48, 19.79it/s]"
     ]
    },
    {
     "name": "stdout",
     "output_type": "stream",
     "text": [
      "✓ Processed: 0020_000385.wav\n",
      "✓ Processed: 0020_000386.wav\n",
      "✓ Processed: 0020_000388.wav\n",
      "✓ Processed: 0020_000391.wav\n"
     ]
    },
    {
     "name": "stderr",
     "output_type": "stream",
     "text": [
      "Processing files:  17%|█▋        | 3379/19777 [02:44<14:09, 19.29it/s]"
     ]
    },
    {
     "name": "stdout",
     "output_type": "stream",
     "text": [
      "✓ Processed: 0020_000395.wav\n",
      "✓ Processed: 0020_000398.wav\n",
      "✓ Processed: 0020_000399.wav\n",
      "✓ Processed: 0020_000401.wav\n",
      "✓ Processed: 0020_000403.wav\n"
     ]
    },
    {
     "name": "stderr",
     "output_type": "stream",
     "text": [
      "Processing files:  17%|█▋        | 3386/19777 [02:45<13:50, 19.74it/s]"
     ]
    },
    {
     "name": "stdout",
     "output_type": "stream",
     "text": [
      "✓ Processed: 0020_000407.wav\n",
      "✓ Processed: 0020_000411.wav\n",
      "✓ Processed: 0020_000412.wav\n",
      "✓ Processed: 0020_000413.wav\n"
     ]
    },
    {
     "name": "stderr",
     "output_type": "stream",
     "text": [
      "Processing files:  17%|█▋        | 3389/19777 [02:45<13:40, 19.98it/s]"
     ]
    },
    {
     "name": "stdout",
     "output_type": "stream",
     "text": [
      "✓ Processed: 0020_000414.wav\n",
      "✓ Processed: 0020_000416.wav\n",
      "✓ Processed: 0020_000418.wav\n",
      "✓ Processed: 0020_000423.wav\n",
      "✓ Processed: 0020_000426.wav\n"
     ]
    },
    {
     "name": "stderr",
     "output_type": "stream",
     "text": [
      "Processing files:  17%|█▋        | 3395/19777 [02:45<13:41, 19.93it/s]"
     ]
    },
    {
     "name": "stdout",
     "output_type": "stream",
     "text": [
      "✓ Processed: 0020_000428.wav\n",
      "✓ Processed: 0020_000430.wav\n",
      "✓ Processed: 0020_000435.wav\n",
      "✓ Processed: 0020_000436.wav\n"
     ]
    },
    {
     "name": "stderr",
     "output_type": "stream",
     "text": [
      "Processing files:  17%|█▋        | 3397/19777 [02:45<13:43, 19.89it/s]"
     ]
    },
    {
     "name": "stdout",
     "output_type": "stream",
     "text": [
      "✓ Processed: 0020_000437.wav\n",
      "✓ Processed: 0020_000438.wav\n",
      "✓ Processed: 0020_000443.wav\n",
      "✓ Processed: 0020_000444.wav\n",
      "✓ Processed: 0020_000447.wav\n"
     ]
    },
    {
     "name": "stderr",
     "output_type": "stream",
     "text": [
      "Processing files:  17%|█▋        | 3403/19777 [02:46<13:42, 19.90it/s]"
     ]
    },
    {
     "name": "stdout",
     "output_type": "stream",
     "text": [
      "✓ Processed: 0020_000452.wav\n",
      "✓ Processed: 0020_000454.wav\n",
      "✓ Processed: 0020_000460.wav\n",
      "✓ Processed: 0020_000461.wav\n"
     ]
    },
    {
     "name": "stderr",
     "output_type": "stream",
     "text": [
      "Processing files:  17%|█▋        | 3406/19777 [02:46<13:39, 19.98it/s]"
     ]
    },
    {
     "name": "stdout",
     "output_type": "stream",
     "text": [
      "✓ Processed: 0020_000464.wav\n",
      "✓ Processed: 0020_000465.wav\n",
      "✓ Processed: 0020_000467.wav\n",
      "✓ Processed: 0020_000471.wav\n",
      "✓ Processed: 0020_000474.wav\n"
     ]
    },
    {
     "name": "stderr",
     "output_type": "stream",
     "text": [
      "Processing files:  17%|█▋        | 3412/19777 [02:46<13:27, 20.27it/s]"
     ]
    },
    {
     "name": "stdout",
     "output_type": "stream",
     "text": [
      "✓ Processed: 0020_000476.wav\n",
      "✓ Processed: 0020_000477.wav\n",
      "✓ Processed: 0020_000479.wav\n",
      "✓ Processed: 0020_000481.wav\n"
     ]
    },
    {
     "name": "stderr",
     "output_type": "stream",
     "text": [
      "Processing files:  17%|█▋        | 3415/19777 [02:46<13:46, 19.79it/s]"
     ]
    },
    {
     "name": "stdout",
     "output_type": "stream",
     "text": [
      "✓ Processed: 0020_000483.wav\n",
      "✓ Processed: 0020_000484.wav\n",
      "✓ Processed: 0020_000485.wav\n",
      "✓ Processed: 0020_000490.wav\n",
      "✓ Processed: 0020_000491.wav\n"
     ]
    },
    {
     "name": "stderr",
     "output_type": "stream",
     "text": [
      "Processing files:  17%|█▋        | 3421/19777 [02:47<13:26, 20.28it/s]"
     ]
    },
    {
     "name": "stdout",
     "output_type": "stream",
     "text": [
      "✓ Processed: 0020_000492.wav\n",
      "✓ Processed: 0020_000495.wav\n",
      "✓ Processed: 0020_000498.wav\n",
      "✓ Processed: 0020_000500.wav\n",
      "✓ Processed: 0020_000503.wav\n"
     ]
    },
    {
     "name": "stderr",
     "output_type": "stream",
     "text": [
      "Processing files:  17%|█▋        | 3424/19777 [02:47<13:46, 19.78it/s]"
     ]
    },
    {
     "name": "stdout",
     "output_type": "stream",
     "text": [
      "✓ Processed: 0020_000505.wav\n",
      "✓ Processed: 0020_000506.wav\n",
      "✓ Processed: 0020_000507.wav\n",
      "✓ Processed: 0020_000511.wav\n"
     ]
    },
    {
     "name": "stderr",
     "output_type": "stream",
     "text": [
      "Processing files:  17%|█▋        | 3430/19777 [02:47<13:44, 19.83it/s]"
     ]
    },
    {
     "name": "stdout",
     "output_type": "stream",
     "text": [
      "✓ Processed: 0020_000512.wav\n",
      "✓ Processed: 0020_000513.wav\n",
      "✓ Processed: 0020_000517.wav\n",
      "✓ Processed: 0020_000518.wav\n",
      "✓ Processed: 0020_000521.wav\n"
     ]
    },
    {
     "name": "stderr",
     "output_type": "stream",
     "text": [
      "Processing files:  17%|█▋        | 3436/19777 [02:47<14:02, 19.39it/s]"
     ]
    },
    {
     "name": "stdout",
     "output_type": "stream",
     "text": [
      "✓ Processed: 0020_000525.wav\n",
      "✓ Processed: 0020_000526.wav\n",
      "✓ Processed: 0020_000530.wav\n",
      "✓ Processed: 0020_000531.wav\n"
     ]
    },
    {
     "name": "stderr",
     "output_type": "stream",
     "text": [
      "Processing files:  17%|█▋        | 3438/19777 [02:47<14:03, 19.36it/s]"
     ]
    },
    {
     "name": "stdout",
     "output_type": "stream",
     "text": [
      "✓ Processed: 0020_000534.wav\n",
      "✓ Processed: 0020_000536.wav\n",
      "✓ Processed: 0020_000537.wav\n",
      "✓ Processed: 0020_000540.wav\n"
     ]
    },
    {
     "name": "stderr",
     "output_type": "stream",
     "text": [
      "Processing files:  17%|█▋        | 3443/19777 [02:48<13:53, 19.60it/s]"
     ]
    },
    {
     "name": "stdout",
     "output_type": "stream",
     "text": [
      "✓ Processed: 0020_000541.wav\n",
      "✓ Processed: 0020_000543.wav\n",
      "✓ Processed: 0020_000545.wav\n",
      "✓ Processed: 0020_000547.wav\n",
      "✓ Processed: 0020_000549.wav\n"
     ]
    },
    {
     "name": "stderr",
     "output_type": "stream",
     "text": [
      "Processing files:  17%|█▋        | 3447/19777 [02:48<14:08, 19.24it/s]"
     ]
    },
    {
     "name": "stdout",
     "output_type": "stream",
     "text": [
      "✓ Processed: 0020_000551.wav\n",
      "✓ Processed: 0020_000552.wav\n",
      "✓ Processed: 0020_000554.wav\n",
      "✓ Processed: 0020_000555.wav\n"
     ]
    },
    {
     "name": "stderr",
     "output_type": "stream",
     "text": [
      "Processing files:  17%|█▋        | 3452/19777 [02:48<13:52, 19.62it/s]"
     ]
    },
    {
     "name": "stdout",
     "output_type": "stream",
     "text": [
      "✓ Processed: 0020_000556.wav\n",
      "✓ Processed: 0020_000564.wav\n",
      "✓ Processed: 0020_000568.wav\n",
      "✓ Processed: 0020_000575.wav\n"
     ]
    },
    {
     "name": "stderr",
     "output_type": "stream",
     "text": [
      "Processing files:  17%|█▋        | 3456/19777 [02:48<14:19, 18.99it/s]"
     ]
    },
    {
     "name": "stdout",
     "output_type": "stream",
     "text": [
      "✓ Processed: 0020_000578.wav\n",
      "✓ Processed: 0020_000579.wav\n",
      "✓ Processed: 0020_000581.wav\n",
      "✓ Processed: 0020_000583.wav\n"
     ]
    },
    {
     "name": "stderr",
     "output_type": "stream",
     "text": [
      "Processing files:  17%|█▋        | 3460/19777 [02:49<13:59, 19.45it/s]"
     ]
    },
    {
     "name": "stdout",
     "output_type": "stream",
     "text": [
      "✓ Processed: 0020_000588.wav\n",
      "✓ Processed: 0020_000591.wav\n",
      "✓ Processed: 0020_000595.wav\n",
      "✓ Processed: 0020_000596.wav\n",
      "✓ Processed: 0020_000601.wav\n"
     ]
    },
    {
     "name": "stderr",
     "output_type": "stream",
     "text": [
      "Processing files:  18%|█▊        | 3465/19777 [02:49<13:43, 19.81it/s]"
     ]
    },
    {
     "name": "stdout",
     "output_type": "stream",
     "text": [
      "✓ Processed: 0020_000602.wav\n",
      "✓ Processed: 0020_000608.wav\n",
      "✓ Processed: 0020_000617.wav\n",
      "✓ Processed: 0020_000621.wav\n",
      "✓ Processed: 0020_000628.wav\n"
     ]
    },
    {
     "name": "stderr",
     "output_type": "stream",
     "text": [
      "Processing files:  18%|█▊        | 3469/19777 [02:49<14:30, 18.73it/s]"
     ]
    },
    {
     "name": "stdout",
     "output_type": "stream",
     "text": [
      "✓ Processed: 0020_000629.wav\n",
      "✓ Processed: 0020_000639.wav\n",
      "✓ Processed: 0020_000640.wav\n",
      "✓ Processed: 0020_000643.wav\n"
     ]
    },
    {
     "name": "stderr",
     "output_type": "stream",
     "text": [
      "Processing files:  18%|█▊        | 3474/19777 [02:49<13:52, 19.58it/s]"
     ]
    },
    {
     "name": "stdout",
     "output_type": "stream",
     "text": [
      "✓ Processed: 0020_000645.wav\n",
      "✓ Processed: 0020_000646.wav\n",
      "✓ Processed: 0020_000648.wav\n",
      "✓ Processed: 0020_000650.wav\n",
      "✓ Processed: 0020_000651.wav\n"
     ]
    },
    {
     "name": "stderr",
     "output_type": "stream",
     "text": [
      "Processing files:  18%|█▊        | 3478/19777 [02:49<14:00, 19.39it/s]"
     ]
    },
    {
     "name": "stdout",
     "output_type": "stream",
     "text": [
      "✓ Processed: 0020_000653.wav\n",
      "✓ Processed: 0020_000656.wav\n",
      "✓ Processed: 0020_000657.wav\n",
      "✓ Processed: 0020_000659.wav\n"
     ]
    },
    {
     "name": "stderr",
     "output_type": "stream",
     "text": [
      "Processing files:  18%|█▊        | 3481/19777 [02:50<14:12, 19.11it/s]"
     ]
    },
    {
     "name": "stdout",
     "output_type": "stream",
     "text": [
      "✓ Processed: 0020_000666.wav\n",
      "✓ Processed: 0020_000669.wav\n",
      "✓ Processed: 0020_000670.wav\n",
      "✓ Processed: 0020_000671.wav\n"
     ]
    },
    {
     "name": "stderr",
     "output_type": "stream",
     "text": [
      "Processing files:  18%|█▊        | 3486/19777 [02:50<14:01, 19.37it/s]"
     ]
    },
    {
     "name": "stdout",
     "output_type": "stream",
     "text": [
      "✓ Processed: 0020_000675.wav\n",
      "✓ Processed: 0020_000676.wav\n",
      "✓ Processed: 0020_000677.wav\n",
      "✓ Processed: 0020_000682.wav\n"
     ]
    },
    {
     "name": "stderr",
     "output_type": "stream",
     "text": [
      "Processing files:  18%|█▊        | 3491/19777 [02:50<13:51, 19.60it/s]"
     ]
    },
    {
     "name": "stdout",
     "output_type": "stream",
     "text": [
      "✓ Processed: 0020_000684.wav\n",
      "✓ Processed: 0020_000685.wav\n",
      "✓ Processed: 0020_000688.wav\n",
      "✓ Processed: 0020_000690.wav\n"
     ]
    },
    {
     "name": "stderr",
     "output_type": "stream",
     "text": [
      "Processing files:  18%|█▊        | 3494/19777 [02:50<13:40, 19.84it/s]"
     ]
    },
    {
     "name": "stdout",
     "output_type": "stream",
     "text": [
      "✓ Processed: 0020_000694.wav\n",
      "✓ Processed: 0020_000696.wav\n",
      "✓ Processed: 0020_000698.wav\n",
      "✓ Processed: 0020_000699.wav\n",
      "\n",
      "Processing happy files: 4057 files found\n"
     ]
    },
    {
     "name": "stderr",
     "output_type": "stream",
     "text": [
      "Processing files:  18%|█▊        | 3499/19777 [02:51<14:56, 18.15it/s]"
     ]
    },
    {
     "name": "stdout",
     "output_type": "stream",
     "text": [
      "✓ Processed: 0001_000701.wav\n",
      "✓ Processed: 0001_000702.wav\n",
      "✓ Processed: 0001_000703.wav\n",
      "✓ Processed: 0001_000704.wav\n"
     ]
    },
    {
     "name": "stderr",
     "output_type": "stream",
     "text": [
      "Processing files:  18%|█▊        | 3501/19777 [02:51<14:51, 18.27it/s]"
     ]
    },
    {
     "name": "stdout",
     "output_type": "stream",
     "text": [
      "✓ Processed: 0001_000705.wav\n",
      "✓ Processed: 0001_000706.wav\n",
      "✓ Processed: 0001_000707.wav\n",
      "✓ Processed: 0001_000709.wav\n"
     ]
    },
    {
     "name": "stderr",
     "output_type": "stream",
     "text": [
      "Processing files:  18%|█▊        | 3506/19777 [02:51<14:49, 18.29it/s]"
     ]
    },
    {
     "name": "stdout",
     "output_type": "stream",
     "text": [
      "✓ Processed: 0001_000710.wav\n",
      "✓ Processed: 0001_000711.wav\n",
      "✓ Processed: 0001_000714.wav\n",
      "✓ Processed: 0001_000715.wav\n"
     ]
    },
    {
     "name": "stderr",
     "output_type": "stream",
     "text": [
      "Processing files:  18%|█▊        | 3510/19777 [02:51<15:39, 17.31it/s]"
     ]
    },
    {
     "name": "stdout",
     "output_type": "stream",
     "text": [
      "✓ Processed: 0001_000717.wav\n",
      "✓ Processed: 0001_000721.wav\n",
      "✓ Processed: 0001_000724.wav\n",
      "✓ Processed: 0001_000726.wav\n"
     ]
    },
    {
     "name": "stderr",
     "output_type": "stream",
     "text": [
      "Processing files:  18%|█▊        | 3514/19777 [02:51<15:41, 17.26it/s]"
     ]
    },
    {
     "name": "stdout",
     "output_type": "stream",
     "text": [
      "✓ Processed: 0001_000727.wav\n",
      "✓ Processed: 0001_000730.wav\n",
      "✓ Processed: 0001_000731.wav\n",
      "✓ Processed: 0001_000732.wav\n"
     ]
    },
    {
     "name": "stderr",
     "output_type": "stream",
     "text": [
      "Processing files:  18%|█▊        | 3518/19777 [02:52<16:37, 16.30it/s]"
     ]
    },
    {
     "name": "stdout",
     "output_type": "stream",
     "text": [
      "✓ Processed: 0001_000733.wav\n",
      "✓ Processed: 0001_000735.wav\n",
      "✓ Processed: 0001_000738.wav\n",
      "✓ Processed: 0001_000739.wav\n"
     ]
    },
    {
     "name": "stderr",
     "output_type": "stream",
     "text": [
      "Processing files:  18%|█▊        | 3522/19777 [02:52<16:00, 16.93it/s]"
     ]
    },
    {
     "name": "stdout",
     "output_type": "stream",
     "text": [
      "✓ Processed: 0001_000740.wav\n",
      "✓ Processed: 0001_000742.wav\n",
      "✓ Processed: 0001_000743.wav\n",
      "✓ Processed: 0001_000744.wav\n"
     ]
    },
    {
     "name": "stderr",
     "output_type": "stream",
     "text": [
      "Processing files:  18%|█▊        | 3527/19777 [02:52<14:53, 18.18it/s]"
     ]
    },
    {
     "name": "stdout",
     "output_type": "stream",
     "text": [
      "✓ Processed: 0001_000746.wav\n",
      "✓ Processed: 0001_000748.wav\n",
      "✓ Processed: 0001_000751.wav\n",
      "✓ Processed: 0001_000753.wav\n"
     ]
    },
    {
     "name": "stderr",
     "output_type": "stream",
     "text": [
      "Processing files:  18%|█▊        | 3531/19777 [02:52<14:34, 18.59it/s]"
     ]
    },
    {
     "name": "stdout",
     "output_type": "stream",
     "text": [
      "✓ Processed: 0001_000755.wav\n",
      "✓ Processed: 0001_000757.wav\n",
      "✓ Processed: 0001_000758.wav\n",
      "✓ Processed: 0001_000759.wav\n"
     ]
    },
    {
     "name": "stderr",
     "output_type": "stream",
     "text": [
      "Processing files:  18%|█▊        | 3535/19777 [02:53<14:52, 18.21it/s]"
     ]
    },
    {
     "name": "stdout",
     "output_type": "stream",
     "text": [
      "✓ Processed: 0001_000760.wav\n",
      "✓ Processed: 0001_000763.wav\n",
      "✓ Processed: 0001_000764.wav\n",
      "✓ Processed: 0001_000765.wav\n"
     ]
    },
    {
     "name": "stderr",
     "output_type": "stream",
     "text": [
      "Processing files:  18%|█▊        | 3539/19777 [02:53<14:41, 18.42it/s]"
     ]
    },
    {
     "name": "stdout",
     "output_type": "stream",
     "text": [
      "✓ Processed: 0001_000768.wav\n",
      "✓ Processed: 0001_000771.wav\n",
      "✓ Processed: 0001_000772.wav\n",
      "✓ Processed: 0001_000774.wav\n"
     ]
    },
    {
     "name": "stderr",
     "output_type": "stream",
     "text": [
      "Processing files:  18%|█▊        | 3543/19777 [02:53<14:39, 18.45it/s]"
     ]
    },
    {
     "name": "stdout",
     "output_type": "stream",
     "text": [
      "✓ Processed: 0001_000775.wav\n",
      "✓ Processed: 0001_000776.wav\n",
      "✓ Processed: 0001_000779.wav\n",
      "✓ Processed: 0001_000783.wav\n",
      "✓ Processed: 0001_000787.wav\n"
     ]
    },
    {
     "name": "stderr",
     "output_type": "stream",
     "text": [
      "Processing files:  18%|█▊        | 3547/19777 [02:53<14:57, 18.09it/s]"
     ]
    },
    {
     "name": "stdout",
     "output_type": "stream",
     "text": [
      "✓ Processed: 0001_000788.wav\n",
      "✓ Processed: 0001_000791.wav\n",
      "✓ Processed: 0001_000792.wav\n",
      "✓ Processed: 0001_000793.wav\n"
     ]
    },
    {
     "name": "stderr",
     "output_type": "stream",
     "text": [
      "Processing files:  18%|█▊        | 3552/19777 [02:54<14:15, 18.97it/s]"
     ]
    },
    {
     "name": "stdout",
     "output_type": "stream",
     "text": [
      "✓ Processed: 0001_000794.wav\n",
      "✓ Processed: 0001_000796.wav\n",
      "✓ Processed: 0001_000798.wav\n",
      "✓ Processed: 0001_000799.wav\n"
     ]
    },
    {
     "name": "stderr",
     "output_type": "stream",
     "text": [
      "Processing files:  18%|█▊        | 3556/19777 [02:54<14:35, 18.53it/s]"
     ]
    },
    {
     "name": "stdout",
     "output_type": "stream",
     "text": [
      "✓ Processed: 0001_000801.wav\n",
      "✓ Processed: 0001_000802.wav\n",
      "✓ Processed: 0001_000803.wav\n",
      "✓ Processed: 0001_000804.wav\n"
     ]
    },
    {
     "name": "stderr",
     "output_type": "stream",
     "text": [
      "Processing files:  18%|█▊        | 3560/19777 [02:54<14:27, 18.69it/s]"
     ]
    },
    {
     "name": "stdout",
     "output_type": "stream",
     "text": [
      "✓ Processed: 0001_000805.wav\n",
      "✓ Processed: 0001_000808.wav\n",
      "✓ Processed: 0001_000813.wav\n",
      "✓ Processed: 0001_000814.wav\n"
     ]
    },
    {
     "name": "stderr",
     "output_type": "stream",
     "text": [
      "Processing files:  18%|█▊        | 3564/19777 [02:54<14:28, 18.66it/s]"
     ]
    },
    {
     "name": "stdout",
     "output_type": "stream",
     "text": [
      "✓ Processed: 0001_000815.wav\n",
      "✓ Processed: 0001_000816.wav\n",
      "✓ Processed: 0001_000820.wav\n",
      "✓ Processed: 0001_000821.wav\n"
     ]
    },
    {
     "name": "stderr",
     "output_type": "stream",
     "text": [
      "Processing files:  18%|█▊        | 3568/19777 [02:54<14:29, 18.65it/s]"
     ]
    },
    {
     "name": "stdout",
     "output_type": "stream",
     "text": [
      "✓ Processed: 0001_000824.wav\n",
      "✓ Processed: 0001_000826.wav\n",
      "✓ Processed: 0001_000827.wav\n",
      "✓ Processed: 0001_000828.wav\n"
     ]
    },
    {
     "name": "stderr",
     "output_type": "stream",
     "text": [
      "Processing files:  18%|█▊        | 3572/19777 [02:55<14:07, 19.13it/s]"
     ]
    },
    {
     "name": "stdout",
     "output_type": "stream",
     "text": [
      "✓ Processed: 0001_000829.wav\n",
      "✓ Processed: 0001_000832.wav\n",
      "✓ Processed: 0001_000833.wav\n",
      "✓ Processed: 0001_000834.wav\n",
      "✓ Processed: 0001_000835.wav\n"
     ]
    },
    {
     "name": "stderr",
     "output_type": "stream",
     "text": [
      "Processing files:  18%|█▊        | 3575/19777 [02:55<14:01, 19.26it/s]"
     ]
    },
    {
     "name": "stdout",
     "output_type": "stream",
     "text": [
      "✓ Processed: 0001_000838.wav\n",
      "✓ Processed: 0001_000839.wav\n",
      "✓ Processed: 0001_000840.wav\n",
      "✓ Processed: 0001_000843.wav\n"
     ]
    },
    {
     "name": "stderr",
     "output_type": "stream",
     "text": [
      "Processing files:  18%|█▊        | 3580/19777 [02:55<14:21, 18.80it/s]"
     ]
    },
    {
     "name": "stdout",
     "output_type": "stream",
     "text": [
      "✓ Processed: 0001_000845.wav\n",
      "✓ Processed: 0001_000846.wav\n",
      "✓ Processed: 0001_000847.wav\n",
      "✓ Processed: 0001_000848.wav\n"
     ]
    },
    {
     "name": "stderr",
     "output_type": "stream",
     "text": [
      "Processing files:  18%|█▊        | 3584/19777 [02:55<14:03, 19.21it/s]"
     ]
    },
    {
     "name": "stdout",
     "output_type": "stream",
     "text": [
      "✓ Processed: 0001_000849.wav\n",
      "✓ Processed: 0001_000850.wav\n",
      "✓ Processed: 0001_000852.wav\n",
      "✓ Processed: 0001_000854.wav\n"
     ]
    },
    {
     "name": "stderr",
     "output_type": "stream",
     "text": [
      "Processing files:  18%|█▊        | 3590/19777 [02:56<14:11, 19.01it/s]"
     ]
    },
    {
     "name": "stdout",
     "output_type": "stream",
     "text": [
      "✓ Processed: 0001_000855.wav\n",
      "✓ Processed: 0001_000857.wav\n",
      "✓ Processed: 0001_000860.wav\n",
      "✓ Processed: 0001_000861.wav\n"
     ]
    },
    {
     "name": "stderr",
     "output_type": "stream",
     "text": [
      "Processing files:  18%|█▊        | 3593/19777 [02:56<13:51, 19.47it/s]"
     ]
    },
    {
     "name": "stdout",
     "output_type": "stream",
     "text": [
      "✓ Processed: 0001_000862.wav\n",
      "✓ Processed: 0001_000863.wav\n",
      "✓ Processed: 0001_000864.wav\n",
      "✓ Processed: 0001_000865.wav\n"
     ]
    },
    {
     "name": "stderr",
     "output_type": "stream",
     "text": [
      "Processing files:  18%|█▊        | 3597/19777 [02:56<14:47, 18.24it/s]"
     ]
    },
    {
     "name": "stdout",
     "output_type": "stream",
     "text": [
      "✓ Processed: 0001_000870.wav\n",
      "✓ Processed: 0001_000871.wav\n",
      "✓ Processed: 0001_000872.wav\n",
      "✓ Processed: 0001_000876.wav\n"
     ]
    },
    {
     "name": "stderr",
     "output_type": "stream",
     "text": [
      "Processing files:  18%|█▊        | 3601/19777 [02:56<14:54, 18.08it/s]"
     ]
    },
    {
     "name": "stdout",
     "output_type": "stream",
     "text": [
      "✓ Processed: 0001_000878.wav\n",
      "✓ Processed: 0001_000880.wav\n",
      "✓ Processed: 0001_000881.wav\n",
      "✓ Processed: 0001_000883.wav\n",
      "✓ Processed: 0001_000884.wav\n"
     ]
    },
    {
     "name": "stderr",
     "output_type": "stream",
     "text": [
      "Processing files:  18%|█▊        | 3605/19777 [02:56<15:13, 17.71it/s]"
     ]
    },
    {
     "name": "stdout",
     "output_type": "stream",
     "text": [
      "✓ Processed: 0001_000885.wav\n",
      "✓ Processed: 0001_000886.wav\n",
      "✓ Processed: 0001_000888.wav\n",
      "✓ Processed: 0001_000892.wav\n"
     ]
    },
    {
     "name": "stderr",
     "output_type": "stream",
     "text": [
      "Processing files:  18%|█▊        | 3609/19777 [02:57<14:31, 18.56it/s]"
     ]
    },
    {
     "name": "stdout",
     "output_type": "stream",
     "text": [
      "✓ Processed: 0001_000893.wav\n",
      "✓ Processed: 0001_000894.wav\n",
      "✓ Processed: 0001_000895.wav\n",
      "✓ Processed: 0001_000897.wav\n"
     ]
    },
    {
     "name": "stderr",
     "output_type": "stream",
     "text": [
      "Processing files:  18%|█▊        | 3613/19777 [02:57<15:04, 17.87it/s]"
     ]
    },
    {
     "name": "stdout",
     "output_type": "stream",
     "text": [
      "✓ Processed: 0001_000899.wav\n",
      "✓ Processed: 0001_000902.wav\n",
      "✓ Processed: 0001_000903.wav\n",
      "✓ Processed: 0001_000904.wav\n"
     ]
    },
    {
     "name": "stderr",
     "output_type": "stream",
     "text": [
      "Processing files:  18%|█▊        | 3617/19777 [02:57<14:49, 18.18it/s]"
     ]
    },
    {
     "name": "stdout",
     "output_type": "stream",
     "text": [
      "✓ Processed: 0001_000905.wav\n",
      "✓ Processed: 0001_000907.wav\n",
      "✓ Processed: 0001_000911.wav\n",
      "✓ Processed: 0001_000912.wav\n"
     ]
    },
    {
     "name": "stderr",
     "output_type": "stream",
     "text": [
      "Processing files:  18%|█▊        | 3621/19777 [02:57<14:08, 19.04it/s]"
     ]
    },
    {
     "name": "stdout",
     "output_type": "stream",
     "text": [
      "✓ Processed: 0001_000913.wav\n",
      "✓ Processed: 0001_000917.wav\n",
      "✓ Processed: 0001_000918.wav\n",
      "✓ Processed: 0001_000919.wav\n"
     ]
    },
    {
     "name": "stderr",
     "output_type": "stream",
     "text": [
      "Processing files:  18%|█▊        | 3625/19777 [02:57<14:34, 18.47it/s]"
     ]
    },
    {
     "name": "stdout",
     "output_type": "stream",
     "text": [
      "✓ Processed: 0001_000920.wav\n",
      "✓ Processed: 0001_000923.wav\n",
      "✓ Processed: 0001_000924.wav\n",
      "✓ Processed: 0001_000925.wav\n"
     ]
    },
    {
     "name": "stderr",
     "output_type": "stream",
     "text": [
      "Processing files:  18%|█▊        | 3629/19777 [02:58<16:28, 16.34it/s]"
     ]
    },
    {
     "name": "stdout",
     "output_type": "stream",
     "text": [
      "✓ Processed: 0001_000926.wav\n",
      "✓ Processed: 0001_000928.wav\n",
      "✓ Processed: 0001_000930.wav\n",
      "✓ Processed: 0001_000931.wav\n"
     ]
    },
    {
     "name": "stderr",
     "output_type": "stream",
     "text": [
      "Processing files:  18%|█▊        | 3635/19777 [02:58<14:38, 18.38it/s]"
     ]
    },
    {
     "name": "stdout",
     "output_type": "stream",
     "text": [
      "✓ Processed: 0001_000932.wav\n",
      "✓ Processed: 0001_000937.wav\n",
      "✓ Processed: 0001_000938.wav\n",
      "✓ Processed: 0001_000940.wav\n"
     ]
    },
    {
     "name": "stderr",
     "output_type": "stream",
     "text": [
      "Processing files:  18%|█▊        | 3637/19777 [02:58<14:45, 18.22it/s]"
     ]
    },
    {
     "name": "stdout",
     "output_type": "stream",
     "text": [
      "✓ Processed: 0001_000941.wav\n",
      "✓ Processed: 0001_000942.wav\n",
      "✓ Processed: 0001_000944.wav\n",
      "✓ Processed: 0001_000947.wav\n"
     ]
    },
    {
     "name": "stderr",
     "output_type": "stream",
     "text": [
      "Processing files:  18%|█▊        | 3641/19777 [02:58<14:16, 18.85it/s]"
     ]
    },
    {
     "name": "stdout",
     "output_type": "stream",
     "text": [
      "✓ Processed: 0001_000950.wav\n",
      "✓ Processed: 0001_000951.wav\n",
      "✓ Processed: 0001_000952.wav\n",
      "✓ Processed: 0001_000954.wav\n"
     ]
    },
    {
     "name": "stderr",
     "output_type": "stream",
     "text": [
      "Processing files:  18%|█▊        | 3647/19777 [02:59<14:24, 18.66it/s]"
     ]
    },
    {
     "name": "stdout",
     "output_type": "stream",
     "text": [
      "✓ Processed: 0001_000955.wav\n",
      "✓ Processed: 0001_000957.wav\n",
      "✓ Processed: 0001_000958.wav\n",
      "✓ Processed: 0001_000961.wav\n"
     ]
    },
    {
     "name": "stderr",
     "output_type": "stream",
     "text": [
      "Processing files:  18%|█▊        | 3649/19777 [02:59<14:26, 18.61it/s]"
     ]
    },
    {
     "name": "stdout",
     "output_type": "stream",
     "text": [
      "✓ Processed: 0001_000963.wav\n",
      "✓ Processed: 0001_000964.wav\n",
      "✓ Processed: 0001_000966.wav\n",
      "✓ Processed: 0001_000968.wav\n"
     ]
    },
    {
     "name": "stderr",
     "output_type": "stream",
     "text": [
      "Processing files:  18%|█▊        | 3655/19777 [02:59<14:28, 18.57it/s]"
     ]
    },
    {
     "name": "stdout",
     "output_type": "stream",
     "text": [
      "✓ Processed: 0001_000969.wav\n",
      "✓ Processed: 0001_000970.wav\n",
      "✓ Processed: 0001_000971.wav\n",
      "✓ Processed: 0001_000972.wav\n"
     ]
    },
    {
     "name": "stderr",
     "output_type": "stream",
     "text": [
      "Processing files:  18%|█▊        | 3657/19777 [02:59<14:47, 18.16it/s]"
     ]
    },
    {
     "name": "stdout",
     "output_type": "stream",
     "text": [
      "✓ Processed: 0001_000973.wav\n",
      "✓ Processed: 0001_000974.wav\n",
      "✓ Processed: 0001_000976.wav\n",
      "✓ Processed: 0001_000977.wav\n"
     ]
    },
    {
     "name": "stderr",
     "output_type": "stream",
     "text": [
      "Processing files:  19%|█▊        | 3661/19777 [02:59<15:15, 17.60it/s]"
     ]
    },
    {
     "name": "stdout",
     "output_type": "stream",
     "text": [
      "✓ Processed: 0001_000979.wav\n",
      "✓ Processed: 0001_000984.wav\n",
      "✓ Processed: 0001_000986.wav\n",
      "✓ Processed: 0001_000987.wav\n"
     ]
    },
    {
     "name": "stderr",
     "output_type": "stream",
     "text": [
      "Processing files:  19%|█▊        | 3665/19777 [03:00<14:46, 18.17it/s]"
     ]
    },
    {
     "name": "stdout",
     "output_type": "stream",
     "text": [
      "✓ Processed: 0001_000989.wav\n",
      "✓ Processed: 0001_000992.wav\n",
      "✓ Processed: 0001_000995.wav\n",
      "✓ Processed: 0001_000996.wav\n"
     ]
    },
    {
     "name": "stderr",
     "output_type": "stream",
     "text": [
      "Processing files:  19%|█▊        | 3669/19777 [03:00<14:39, 18.32it/s]"
     ]
    },
    {
     "name": "stdout",
     "output_type": "stream",
     "text": [
      "✓ Processed: 0001_000997.wav\n",
      "✓ Processed: 0001_000998.wav\n",
      "✓ Processed: 0001_000999.wav\n",
      "✓ Processed: 0001_001000.wav\n",
      "✓ Processed: 0001_001002.wav\n"
     ]
    },
    {
     "name": "stderr",
     "output_type": "stream",
     "text": [
      "Processing files:  19%|█▊        | 3674/19777 [03:00<14:19, 18.73it/s]"
     ]
    },
    {
     "name": "stdout",
     "output_type": "stream",
     "text": [
      "✓ Processed: 0001_001003.wav\n",
      "✓ Processed: 0001_001004.wav\n",
      "✓ Processed: 0001_001005.wav\n",
      "✓ Processed: 0001_001006.wav\n"
     ]
    },
    {
     "name": "stderr",
     "output_type": "stream",
     "text": [
      "Processing files:  19%|█▊        | 3678/19777 [03:00<14:37, 18.34it/s]"
     ]
    },
    {
     "name": "stdout",
     "output_type": "stream",
     "text": [
      "✓ Processed: 0001_001007.wav\n",
      "✓ Processed: 0001_001009.wav\n",
      "✓ Processed: 0001_001010.wav\n",
      "✓ Processed: 0001_001011.wav\n"
     ]
    },
    {
     "name": "stderr",
     "output_type": "stream",
     "text": [
      "Processing files:  19%|█▊        | 3682/19777 [03:01<14:33, 18.42it/s]"
     ]
    },
    {
     "name": "stdout",
     "output_type": "stream",
     "text": [
      "✓ Processed: 0001_001013.wav\n",
      "✓ Processed: 0001_001014.wav\n",
      "✓ Processed: 0001_001015.wav\n",
      "✓ Processed: 0001_001016.wav\n"
     ]
    },
    {
     "name": "stderr",
     "output_type": "stream",
     "text": [
      "Processing files:  19%|█▊        | 3686/19777 [03:01<14:27, 18.55it/s]"
     ]
    },
    {
     "name": "stdout",
     "output_type": "stream",
     "text": [
      "✓ Processed: 0001_001017.wav\n",
      "✓ Processed: 0001_001018.wav\n",
      "✓ Processed: 0001_001019.wav\n",
      "✓ Processed: 0001_001020.wav\n"
     ]
    },
    {
     "name": "stderr",
     "output_type": "stream",
     "text": [
      "Processing files:  19%|█▊        | 3692/19777 [03:01<14:04, 19.05it/s]"
     ]
    },
    {
     "name": "stdout",
     "output_type": "stream",
     "text": [
      "✓ Processed: 0001_001021.wav\n",
      "✓ Processed: 0001_001023.wav\n",
      "✓ Processed: 0001_001024.wav\n",
      "✓ Processed: 0001_001025.wav\n"
     ]
    },
    {
     "name": "stderr",
     "output_type": "stream",
     "text": [
      "Processing files:  19%|█▊        | 3694/19777 [03:01<13:58, 19.19it/s]"
     ]
    },
    {
     "name": "stdout",
     "output_type": "stream",
     "text": [
      "✓ Processed: 0001_001026.wav\n",
      "✓ Processed: 0001_001027.wav\n",
      "✓ Processed: 0001_001028.wav\n",
      "✓ Processed: 0001_001029.wav\n"
     ]
    },
    {
     "name": "stderr",
     "output_type": "stream",
     "text": [
      "Processing files:  19%|█▊        | 3698/19777 [03:01<14:12, 18.86it/s]"
     ]
    },
    {
     "name": "stdout",
     "output_type": "stream",
     "text": [
      "✓ Processed: 0001_001032.wav\n",
      "✓ Processed: 0001_001033.wav\n",
      "✓ Processed: 0001_001034.wav\n",
      "✓ Processed: 0001_001035.wav\n"
     ]
    },
    {
     "name": "stderr",
     "output_type": "stream",
     "text": [
      "Processing files:  19%|█▊        | 3702/19777 [03:02<14:15, 18.80it/s]"
     ]
    },
    {
     "name": "stdout",
     "output_type": "stream",
     "text": [
      "✓ Processed: 0001_001036.wav\n",
      "✓ Processed: 0001_001038.wav\n",
      "✓ Processed: 0001_001044.wav\n",
      "✓ Processed: 0001_001048.wav\n"
     ]
    },
    {
     "name": "stderr",
     "output_type": "stream",
     "text": [
      "Processing files:  19%|█▊        | 3706/19777 [03:02<15:44, 17.01it/s]"
     ]
    },
    {
     "name": "stdout",
     "output_type": "stream",
     "text": [
      "✓ Processed: 0001_001050.wav\n",
      "✓ Processed: 0002_000702.wav\n",
      "✓ Processed: 0002_000703.wav\n",
      "✓ Processed: 0002_000704.wav\n"
     ]
    },
    {
     "name": "stderr",
     "output_type": "stream",
     "text": [
      "Processing files:  19%|█▉        | 3710/19777 [03:02<15:09, 17.66it/s]"
     ]
    },
    {
     "name": "stdout",
     "output_type": "stream",
     "text": [
      "✓ Processed: 0002_000705.wav\n",
      "✓ Processed: 0002_000706.wav\n",
      "✓ Processed: 0002_000708.wav\n",
      "✓ Processed: 0002_000709.wav\n"
     ]
    },
    {
     "name": "stderr",
     "output_type": "stream",
     "text": [
      "Processing files:  19%|█▉        | 3714/19777 [03:02<14:39, 18.26it/s]"
     ]
    },
    {
     "name": "stdout",
     "output_type": "stream",
     "text": [
      "✓ Processed: 0002_000711.wav\n",
      "✓ Processed: 0002_000714.wav\n",
      "✓ Processed: 0002_000717.wav\n",
      "✓ Processed: 0002_000718.wav\n"
     ]
    },
    {
     "name": "stderr",
     "output_type": "stream",
     "text": [
      "Processing files:  19%|█▉        | 3720/19777 [03:03<14:20, 18.66it/s]"
     ]
    },
    {
     "name": "stdout",
     "output_type": "stream",
     "text": [
      "✓ Processed: 0002_000719.wav\n",
      "✓ Processed: 0002_000722.wav\n",
      "✓ Processed: 0002_000723.wav\n",
      "✓ Processed: 0002_000726.wav\n"
     ]
    },
    {
     "name": "stderr",
     "output_type": "stream",
     "text": [
      "Processing files:  19%|█▉        | 3722/19777 [03:03<14:15, 18.77it/s]"
     ]
    },
    {
     "name": "stdout",
     "output_type": "stream",
     "text": [
      "✓ Processed: 0002_000729.wav\n",
      "✓ Processed: 0002_000732.wav\n",
      "✓ Processed: 0002_000733.wav\n",
      "✓ Processed: 0002_000735.wav\n"
     ]
    },
    {
     "name": "stderr",
     "output_type": "stream",
     "text": [
      "Processing files:  19%|█▉        | 3726/19777 [03:03<14:22, 18.61it/s]"
     ]
    },
    {
     "name": "stdout",
     "output_type": "stream",
     "text": [
      "✓ Processed: 0002_000736.wav\n",
      "✓ Processed: 0002_000737.wav\n",
      "✓ Processed: 0002_000738.wav\n",
      "✓ Processed: 0002_000739.wav\n"
     ]
    },
    {
     "name": "stderr",
     "output_type": "stream",
     "text": [
      "Processing files:  19%|█▉        | 3730/19777 [03:03<14:05, 18.98it/s]"
     ]
    },
    {
     "name": "stdout",
     "output_type": "stream",
     "text": [
      "✓ Processed: 0002_000745.wav\n",
      "✓ Processed: 0002_000746.wav\n",
      "✓ Processed: 0002_000747.wav\n",
      "✓ Processed: 0002_000749.wav\n"
     ]
    },
    {
     "name": "stderr",
     "output_type": "stream",
     "text": [
      "Processing files:  19%|█▉        | 3734/19777 [03:03<15:24, 17.34it/s]"
     ]
    },
    {
     "name": "stdout",
     "output_type": "stream",
     "text": [
      "✓ Processed: 0002_000750.wav\n",
      "✓ Processed: 0002_000751.wav\n",
      "✓ Processed: 0002_000753.wav\n",
      "✓ Processed: 0002_000754.wav\n"
     ]
    },
    {
     "name": "stderr",
     "output_type": "stream",
     "text": [
      "Processing files:  19%|█▉        | 3738/19777 [03:04<15:12, 17.58it/s]"
     ]
    },
    {
     "name": "stdout",
     "output_type": "stream",
     "text": [
      "✓ Processed: 0002_000755.wav\n",
      "✓ Processed: 0002_000757.wav\n",
      "✓ Processed: 0002_000758.wav\n",
      "✓ Processed: 0002_000759.wav\n"
     ]
    },
    {
     "name": "stderr",
     "output_type": "stream",
     "text": [
      "Processing files:  19%|█▉        | 3743/19777 [03:04<14:20, 18.64it/s]"
     ]
    },
    {
     "name": "stdout",
     "output_type": "stream",
     "text": [
      "✓ Processed: 0002_000761.wav\n",
      "✓ Processed: 0002_000763.wav\n",
      "✓ Processed: 0002_000764.wav\n",
      "✓ Processed: 0002_000765.wav\n",
      "✓ Processed: 0002_000766.wav\n"
     ]
    },
    {
     "name": "stderr",
     "output_type": "stream",
     "text": [
      "Processing files:  19%|█▉        | 3747/19777 [03:04<14:38, 18.24it/s]"
     ]
    },
    {
     "name": "stdout",
     "output_type": "stream",
     "text": [
      "✓ Processed: 0002_000771.wav\n",
      "✓ Processed: 0002_000772.wav\n",
      "✓ Processed: 0002_000773.wav\n",
      "✓ Processed: 0002_000774.wav\n"
     ]
    },
    {
     "name": "stderr",
     "output_type": "stream",
     "text": [
      "Processing files:  19%|█▉        | 3751/19777 [03:04<14:29, 18.43it/s]"
     ]
    },
    {
     "name": "stdout",
     "output_type": "stream",
     "text": [
      "✓ Processed: 0002_000775.wav\n",
      "✓ Processed: 0002_000777.wav\n",
      "✓ Processed: 0002_000781.wav\n",
      "✓ Processed: 0002_000783.wav\n"
     ]
    },
    {
     "name": "stderr",
     "output_type": "stream",
     "text": [
      "Processing files:  19%|█▉        | 3755/19777 [03:05<15:00, 17.79it/s]"
     ]
    },
    {
     "name": "stdout",
     "output_type": "stream",
     "text": [
      "✓ Processed: 0002_000785.wav\n",
      "✓ Processed: 0002_000786.wav\n",
      "✓ Processed: 0002_000787.wav\n",
      "✓ Processed: 0002_000788.wav\n"
     ]
    },
    {
     "name": "stderr",
     "output_type": "stream",
     "text": [
      "Processing files:  19%|█▉        | 3761/19777 [03:05<14:21, 18.58it/s]"
     ]
    },
    {
     "name": "stdout",
     "output_type": "stream",
     "text": [
      "✓ Processed: 0002_000789.wav\n",
      "✓ Processed: 0002_000790.wav\n",
      "✓ Processed: 0002_000793.wav\n",
      "✓ Processed: 0002_000795.wav\n"
     ]
    },
    {
     "name": "stderr",
     "output_type": "stream",
     "text": [
      "Processing files:  19%|█▉        | 3763/19777 [03:05<14:31, 18.38it/s]"
     ]
    },
    {
     "name": "stdout",
     "output_type": "stream",
     "text": [
      "✓ Processed: 0002_000797.wav\n",
      "✓ Processed: 0002_000800.wav\n",
      "✓ Processed: 0002_000801.wav\n",
      "✓ Processed: 0002_000802.wav\n"
     ]
    },
    {
     "name": "stderr",
     "output_type": "stream",
     "text": [
      "Processing files:  19%|█▉        | 3767/19777 [03:05<14:55, 17.89it/s]"
     ]
    },
    {
     "name": "stdout",
     "output_type": "stream",
     "text": [
      "✓ Processed: 0002_000804.wav\n",
      "✓ Processed: 0002_000806.wav\n",
      "✓ Processed: 0002_000810.wav\n",
      "✓ Processed: 0002_000811.wav\n"
     ]
    },
    {
     "name": "stderr",
     "output_type": "stream",
     "text": [
      "Processing files:  19%|█▉        | 3771/19777 [03:05<14:24, 18.51it/s]"
     ]
    },
    {
     "name": "stdout",
     "output_type": "stream",
     "text": [
      "✓ Processed: 0002_000812.wav\n",
      "✓ Processed: 0002_000814.wav\n",
      "✓ Processed: 0002_000816.wav\n",
      "✓ Processed: 0002_000817.wav\n"
     ]
    },
    {
     "name": "stderr",
     "output_type": "stream",
     "text": [
      "Processing files:  19%|█▉        | 3775/19777 [03:06<14:57, 17.83it/s]"
     ]
    },
    {
     "name": "stdout",
     "output_type": "stream",
     "text": [
      "✓ Processed: 0002_000820.wav\n",
      "✓ Processed: 0002_000821.wav\n",
      "✓ Processed: 0002_000823.wav\n",
      "✓ Processed: 0002_000824.wav\n"
     ]
    },
    {
     "name": "stderr",
     "output_type": "stream",
     "text": [
      "Processing files:  19%|█▉        | 3779/19777 [03:06<14:48, 18.01it/s]"
     ]
    },
    {
     "name": "stdout",
     "output_type": "stream",
     "text": [
      "✓ Processed: 0002_000825.wav\n",
      "✓ Processed: 0002_000827.wav\n",
      "✓ Processed: 0002_000830.wav\n",
      "✓ Processed: 0002_000831.wav\n"
     ]
    },
    {
     "name": "stderr",
     "output_type": "stream",
     "text": [
      "Processing files:  19%|█▉        | 3783/19777 [03:06<14:28, 18.41it/s]"
     ]
    },
    {
     "name": "stdout",
     "output_type": "stream",
     "text": [
      "✓ Processed: 0002_000833.wav\n",
      "✓ Processed: 0002_000834.wav\n",
      "✓ Processed: 0002_000835.wav\n",
      "✓ Processed: 0002_000837.wav\n"
     ]
    },
    {
     "name": "stderr",
     "output_type": "stream",
     "text": [
      "Processing files:  19%|█▉        | 3787/19777 [03:06<14:27, 18.44it/s]"
     ]
    },
    {
     "name": "stdout",
     "output_type": "stream",
     "text": [
      "✓ Processed: 0002_000838.wav\n",
      "✓ Processed: 0002_000840.wav\n",
      "✓ Processed: 0002_000842.wav\n",
      "✓ Processed: 0002_000843.wav\n"
     ]
    },
    {
     "name": "stderr",
     "output_type": "stream",
     "text": [
      "Processing files:  19%|█▉        | 3791/19777 [03:07<14:28, 18.41it/s]"
     ]
    },
    {
     "name": "stdout",
     "output_type": "stream",
     "text": [
      "✓ Processed: 0002_000845.wav\n",
      "✓ Processed: 0002_000848.wav\n",
      "✓ Processed: 0002_000849.wav\n",
      "✓ Processed: 0002_000850.wav\n"
     ]
    },
    {
     "name": "stderr",
     "output_type": "stream",
     "text": [
      "Processing files:  19%|█▉        | 3796/19777 [03:07<13:41, 19.46it/s]"
     ]
    },
    {
     "name": "stdout",
     "output_type": "stream",
     "text": [
      "✓ Processed: 0002_000852.wav\n",
      "✓ Processed: 0002_000853.wav\n",
      "✓ Processed: 0002_000854.wav\n",
      "✓ Processed: 0002_000855.wav\n"
     ]
    },
    {
     "name": "stderr",
     "output_type": "stream",
     "text": [
      "Processing files:  19%|█▉        | 3800/19777 [03:07<14:08, 18.82it/s]"
     ]
    },
    {
     "name": "stdout",
     "output_type": "stream",
     "text": [
      "✓ Processed: 0002_000856.wav\n",
      "✓ Processed: 0002_000858.wav\n",
      "✓ Processed: 0002_000863.wav\n",
      "✓ Processed: 0002_000864.wav\n"
     ]
    },
    {
     "name": "stderr",
     "output_type": "stream",
     "text": [
      "Processing files:  19%|█▉        | 3802/19777 [03:07<16:10, 16.46it/s]"
     ]
    },
    {
     "name": "stdout",
     "output_type": "stream",
     "text": [
      "✓ Processed: 0002_000865.wav\n",
      "✓ Processed: 0002_000867.wav\n",
      "✓ Processed: 0002_000868.wav\n"
     ]
    },
    {
     "name": "stderr",
     "output_type": "stream",
     "text": [
      "Processing files:  19%|█▉        | 3806/19777 [03:07<15:49, 16.82it/s]"
     ]
    },
    {
     "name": "stdout",
     "output_type": "stream",
     "text": [
      "✓ Processed: 0002_000870.wav\n",
      "✓ Processed: 0002_000872.wav\n",
      "✓ Processed: 0002_000877.wav\n",
      "✓ Processed: 0002_000878.wav\n"
     ]
    },
    {
     "name": "stderr",
     "output_type": "stream",
     "text": [
      "Processing files:  19%|█▉        | 3810/19777 [03:08<15:22, 17.31it/s]"
     ]
    },
    {
     "name": "stdout",
     "output_type": "stream",
     "text": [
      "✓ Processed: 0002_000879.wav\n",
      "✓ Processed: 0002_000880.wav\n",
      "✓ Processed: 0002_000882.wav\n",
      "✓ Processed: 0002_000883.wav\n"
     ]
    },
    {
     "name": "stderr",
     "output_type": "stream",
     "text": [
      "Processing files:  19%|█▉        | 3814/19777 [03:08<15:19, 17.36it/s]"
     ]
    },
    {
     "name": "stdout",
     "output_type": "stream",
     "text": [
      "✓ Processed: 0002_000884.wav\n",
      "✓ Processed: 0002_000885.wav\n",
      "✓ Processed: 0002_000886.wav\n",
      "✓ Processed: 0002_000887.wav\n"
     ]
    },
    {
     "name": "stderr",
     "output_type": "stream",
     "text": [
      "Processing files:  19%|█▉        | 3818/19777 [03:08<14:52, 17.88it/s]"
     ]
    },
    {
     "name": "stdout",
     "output_type": "stream",
     "text": [
      "✓ Processed: 0002_000889.wav\n",
      "✓ Processed: 0002_000890.wav\n",
      "✓ Processed: 0002_000891.wav\n",
      "✓ Processed: 0002_000892.wav\n"
     ]
    },
    {
     "name": "stderr",
     "output_type": "stream",
     "text": [
      "Processing files:  19%|█▉        | 3822/19777 [03:08<14:39, 18.14it/s]"
     ]
    },
    {
     "name": "stdout",
     "output_type": "stream",
     "text": [
      "✓ Processed: 0002_000895.wav\n",
      "✓ Processed: 0002_000896.wav\n",
      "✓ Processed: 0002_000897.wav\n",
      "✓ Processed: 0002_000898.wav\n"
     ]
    },
    {
     "name": "stderr",
     "output_type": "stream",
     "text": [
      "Processing files:  19%|█▉        | 3826/19777 [03:09<14:20, 18.54it/s]"
     ]
    },
    {
     "name": "stdout",
     "output_type": "stream",
     "text": [
      "✓ Processed: 0002_000899.wav\n",
      "✓ Processed: 0002_000902.wav\n",
      "✓ Processed: 0002_000904.wav\n",
      "✓ Processed: 0002_000905.wav\n"
     ]
    },
    {
     "name": "stderr",
     "output_type": "stream",
     "text": [
      "Processing files:  19%|█▉        | 3830/19777 [03:09<14:22, 18.48it/s]"
     ]
    },
    {
     "name": "stdout",
     "output_type": "stream",
     "text": [
      "✓ Processed: 0002_000908.wav\n",
      "✓ Processed: 0002_000909.wav\n",
      "✓ Processed: 0002_000911.wav\n",
      "✓ Processed: 0002_000913.wav\n"
     ]
    },
    {
     "name": "stderr",
     "output_type": "stream",
     "text": [
      "Processing files:  19%|█▉        | 3834/19777 [03:09<17:12, 15.43it/s]"
     ]
    },
    {
     "name": "stdout",
     "output_type": "stream",
     "text": [
      "✓ Processed: 0002_000914.wav\n",
      "✓ Processed: 0002_000915.wav\n",
      "✓ Processed: 0002_000916.wav\n"
     ]
    },
    {
     "name": "stderr",
     "output_type": "stream",
     "text": [
      "Processing files:  19%|█▉        | 3838/19777 [03:09<15:39, 16.97it/s]"
     ]
    },
    {
     "name": "stdout",
     "output_type": "stream",
     "text": [
      "✓ Processed: 0002_000917.wav\n",
      "✓ Processed: 0002_000919.wav\n",
      "✓ Processed: 0002_000920.wav\n",
      "✓ Processed: 0002_000922.wav\n"
     ]
    },
    {
     "name": "stderr",
     "output_type": "stream",
     "text": [
      "Processing files:  19%|█▉        | 3842/19777 [03:09<14:55, 17.79it/s]"
     ]
    },
    {
     "name": "stdout",
     "output_type": "stream",
     "text": [
      "✓ Processed: 0002_000925.wav\n",
      "✓ Processed: 0002_000926.wav\n",
      "✓ Processed: 0002_000928.wav\n",
      "✓ Processed: 0002_000931.wav\n"
     ]
    },
    {
     "name": "stderr",
     "output_type": "stream",
     "text": [
      "Processing files:  19%|█▉        | 3846/19777 [03:10<15:13, 17.44it/s]"
     ]
    },
    {
     "name": "stdout",
     "output_type": "stream",
     "text": [
      "✓ Processed: 0002_000932.wav\n",
      "✓ Processed: 0002_000935.wav\n",
      "✓ Processed: 0002_000938.wav\n",
      "✓ Processed: 0002_000939.wav\n"
     ]
    },
    {
     "name": "stderr",
     "output_type": "stream",
     "text": [
      "Processing files:  19%|█▉        | 3850/19777 [03:10<14:50, 17.89it/s]"
     ]
    },
    {
     "name": "stdout",
     "output_type": "stream",
     "text": [
      "✓ Processed: 0002_000940.wav\n",
      "✓ Processed: 0002_000942.wav\n",
      "✓ Processed: 0002_000946.wav\n",
      "✓ Processed: 0002_000947.wav\n"
     ]
    },
    {
     "name": "stderr",
     "output_type": "stream",
     "text": [
      "Processing files:  19%|█▉        | 3853/19777 [03:10<14:16, 18.60it/s]"
     ]
    },
    {
     "name": "stdout",
     "output_type": "stream",
     "text": [
      "✓ Processed: 0002_000948.wav\n",
      "✓ Processed: 0002_000950.wav\n",
      "✓ Processed: 0002_000954.wav\n",
      "✓ Processed: 0002_000955.wav\n"
     ]
    },
    {
     "name": "stderr",
     "output_type": "stream",
     "text": [
      "Processing files:  20%|█▉        | 3857/19777 [03:10<14:15, 18.61it/s]"
     ]
    },
    {
     "name": "stdout",
     "output_type": "stream",
     "text": [
      "✓ Processed: 0002_000956.wav\n",
      "✓ Processed: 0002_000957.wav\n",
      "✓ Processed: 0002_000958.wav\n",
      "✓ Processed: 0002_000960.wav\n"
     ]
    },
    {
     "name": "stderr",
     "output_type": "stream",
     "text": [
      "Processing files:  20%|█▉        | 3861/19777 [03:11<14:32, 18.25it/s]"
     ]
    },
    {
     "name": "stdout",
     "output_type": "stream",
     "text": [
      "✓ Processed: 0002_000962.wav\n",
      "✓ Processed: 0002_000967.wav\n",
      "✓ Processed: 0002_000968.wav\n",
      "✓ Processed: 0002_000971.wav\n"
     ]
    },
    {
     "name": "stderr",
     "output_type": "stream",
     "text": [
      "Processing files:  20%|█▉        | 3865/19777 [03:11<15:24, 17.20it/s]"
     ]
    },
    {
     "name": "stdout",
     "output_type": "stream",
     "text": [
      "✓ Processed: 0002_000973.wav\n",
      "✓ Processed: 0002_000975.wav\n",
      "✓ Processed: 0002_000976.wav\n",
      "✓ Processed: 0002_000978.wav\n"
     ]
    },
    {
     "name": "stderr",
     "output_type": "stream",
     "text": [
      "Processing files:  20%|█▉        | 3869/19777 [03:11<14:58, 17.70it/s]"
     ]
    },
    {
     "name": "stdout",
     "output_type": "stream",
     "text": [
      "✓ Processed: 0002_000980.wav\n",
      "✓ Processed: 0002_000981.wav\n",
      "✓ Processed: 0002_000984.wav\n",
      "✓ Processed: 0002_000985.wav\n"
     ]
    },
    {
     "name": "stderr",
     "output_type": "stream",
     "text": [
      "Processing files:  20%|█▉        | 3873/19777 [03:11<14:54, 17.78it/s]"
     ]
    },
    {
     "name": "stdout",
     "output_type": "stream",
     "text": [
      "✓ Processed: 0002_000987.wav\n",
      "✓ Processed: 0002_000988.wav\n",
      "✓ Processed: 0002_000989.wav\n",
      "✓ Processed: 0002_000991.wav\n"
     ]
    },
    {
     "name": "stderr",
     "output_type": "stream",
     "text": [
      "Processing files:  20%|█▉        | 3877/19777 [03:11<14:37, 18.13it/s]"
     ]
    },
    {
     "name": "stdout",
     "output_type": "stream",
     "text": [
      "✓ Processed: 0002_000992.wav\n",
      "✓ Processed: 0002_000993.wav\n",
      "✓ Processed: 0002_000994.wav\n",
      "✓ Processed: 0002_000995.wav\n"
     ]
    },
    {
     "name": "stderr",
     "output_type": "stream",
     "text": [
      "Processing files:  20%|█▉        | 3881/19777 [03:12<15:14, 17.37it/s]"
     ]
    },
    {
     "name": "stdout",
     "output_type": "stream",
     "text": [
      "✓ Processed: 0002_000997.wav\n",
      "✓ Processed: 0002_000999.wav\n",
      "✓ Processed: 0002_001001.wav\n",
      "✓ Processed: 0002_001002.wav\n"
     ]
    },
    {
     "name": "stderr",
     "output_type": "stream",
     "text": [
      "Processing files:  20%|█▉        | 3886/19777 [03:12<14:24, 18.37it/s]"
     ]
    },
    {
     "name": "stdout",
     "output_type": "stream",
     "text": [
      "✓ Processed: 0002_001005.wav\n",
      "✓ Processed: 0002_001006.wav\n",
      "✓ Processed: 0002_001007.wav\n",
      "✓ Processed: 0002_001010.wav\n"
     ]
    },
    {
     "name": "stderr",
     "output_type": "stream",
     "text": [
      "Processing files:  20%|█▉        | 3890/19777 [03:12<14:50, 17.83it/s]"
     ]
    },
    {
     "name": "stdout",
     "output_type": "stream",
     "text": [
      "✓ Processed: 0002_001014.wav\n",
      "✓ Processed: 0002_001015.wav\n",
      "✓ Processed: 0002_001016.wav\n"
     ]
    },
    {
     "name": "stderr",
     "output_type": "stream",
     "text": [
      "Processing files:  20%|█▉        | 3892/19777 [03:12<14:48, 17.88it/s]"
     ]
    },
    {
     "name": "stdout",
     "output_type": "stream",
     "text": [
      "✓ Processed: 0002_001018.wav\n",
      "✓ Processed: 0002_001020.wav\n",
      "✓ Processed: 0002_001022.wav\n",
      "✓ Processed: 0002_001023.wav\n"
     ]
    },
    {
     "name": "stderr",
     "output_type": "stream",
     "text": [
      "Processing files:  20%|█▉        | 3896/19777 [03:12<14:17, 18.53it/s]"
     ]
    },
    {
     "name": "stdout",
     "output_type": "stream",
     "text": [
      "✓ Processed: 0002_001025.wav\n",
      "✓ Processed: 0002_001027.wav\n",
      "✓ Processed: 0002_001028.wav\n",
      "✓ Processed: 0002_001030.wav\n"
     ]
    },
    {
     "name": "stderr",
     "output_type": "stream",
     "text": [
      "Processing files:  20%|█▉        | 3900/19777 [03:13<14:45, 17.93it/s]"
     ]
    },
    {
     "name": "stdout",
     "output_type": "stream",
     "text": [
      "✓ Processed: 0002_001031.wav\n",
      "✓ Processed: 0002_001032.wav\n",
      "✓ Processed: 0002_001034.wav\n",
      "✓ Processed: 0002_001036.wav\n"
     ]
    },
    {
     "name": "stderr",
     "output_type": "stream",
     "text": [
      "Processing files:  20%|█▉        | 3904/19777 [03:13<14:40, 18.02it/s]"
     ]
    },
    {
     "name": "stdout",
     "output_type": "stream",
     "text": [
      "✓ Processed: 0002_001037.wav\n",
      "✓ Processed: 0002_001038.wav\n",
      "✓ Processed: 0002_001039.wav\n",
      "✓ Processed: 0002_001042.wav\n"
     ]
    },
    {
     "name": "stderr",
     "output_type": "stream",
     "text": [
      "Processing files:  20%|█▉        | 3909/19777 [03:13<14:18, 18.49it/s]"
     ]
    },
    {
     "name": "stdout",
     "output_type": "stream",
     "text": [
      "✓ Processed: 0002_001043.wav\n",
      "✓ Processed: 0002_001044.wav\n",
      "✓ Processed: 0002_001045.wav\n",
      "✓ Processed: 0002_001046.wav\n"
     ]
    },
    {
     "name": "stderr",
     "output_type": "stream",
     "text": [
      "Processing files:  20%|█▉        | 3914/19777 [03:13<13:53, 19.03it/s]"
     ]
    },
    {
     "name": "stdout",
     "output_type": "stream",
     "text": [
      "✓ Processed: 0002_001048.wav\n",
      "✓ Processed: 0002_001049.wav\n",
      "✓ Processed: 0003_000702.wav\n",
      "✓ Processed: 0003_000703.wav\n"
     ]
    },
    {
     "name": "stderr",
     "output_type": "stream",
     "text": [
      "Processing files:  20%|█▉        | 3916/19777 [03:14<14:04, 18.77it/s]"
     ]
    },
    {
     "name": "stdout",
     "output_type": "stream",
     "text": [
      "✓ Processed: 0003_000704.wav\n",
      "✓ Processed: 0003_000705.wav\n",
      "✓ Processed: 0003_000709.wav\n",
      "✓ Processed: 0003_000712.wav\n"
     ]
    },
    {
     "name": "stderr",
     "output_type": "stream",
     "text": [
      "Processing files:  20%|█▉        | 3921/19777 [03:14<13:49, 19.11it/s]"
     ]
    },
    {
     "name": "stdout",
     "output_type": "stream",
     "text": [
      "✓ Processed: 0003_000713.wav\n",
      "✓ Processed: 0003_000714.wav\n",
      "✓ Processed: 0003_000715.wav\n",
      "✓ Processed: 0003_000716.wav\n",
      "✓ Processed: 0003_000717.wav\n"
     ]
    },
    {
     "name": "stderr",
     "output_type": "stream",
     "text": [
      "Processing files:  20%|█▉        | 3924/19777 [03:14<13:39, 19.33it/s]"
     ]
    },
    {
     "name": "stdout",
     "output_type": "stream",
     "text": [
      "✓ Processed: 0003_000718.wav\n",
      "✓ Processed: 0003_000719.wav\n",
      "✓ Processed: 0003_000720.wav\n",
      "✓ Processed: 0003_000721.wav\n"
     ]
    },
    {
     "name": "stderr",
     "output_type": "stream",
     "text": [
      "Processing files:  20%|█▉        | 3929/19777 [03:14<13:52, 19.03it/s]"
     ]
    },
    {
     "name": "stdout",
     "output_type": "stream",
     "text": [
      "✓ Processed: 0003_000722.wav\n",
      "✓ Processed: 0003_000723.wav\n",
      "✓ Processed: 0003_000724.wav\n",
      "✓ Processed: 0003_000725.wav\n"
     ]
    },
    {
     "name": "stderr",
     "output_type": "stream",
     "text": [
      "Processing files:  20%|█▉        | 3933/19777 [03:15<16:45, 15.75it/s]"
     ]
    },
    {
     "name": "stdout",
     "output_type": "stream",
     "text": [
      "✓ Processed: 0003_000726.wav\n",
      "✓ Processed: 0003_000727.wav\n",
      "✓ Processed: 0003_000729.wav\n"
     ]
    },
    {
     "name": "stderr",
     "output_type": "stream",
     "text": [
      "Processing files:  20%|█▉        | 3938/19777 [03:15<14:55, 17.68it/s]"
     ]
    },
    {
     "name": "stdout",
     "output_type": "stream",
     "text": [
      "✓ Processed: 0003_000730.wav\n",
      "✓ Processed: 0003_000731.wav\n",
      "✓ Processed: 0003_000732.wav\n",
      "✓ Processed: 0003_000734.wav\n"
     ]
    },
    {
     "name": "stderr",
     "output_type": "stream",
     "text": [
      "Processing files:  20%|█▉        | 3940/19777 [03:15<14:31, 18.17it/s]"
     ]
    },
    {
     "name": "stdout",
     "output_type": "stream",
     "text": [
      "✓ Processed: 0003_000739.wav\n",
      "✓ Processed: 0003_000741.wav\n",
      "✓ Processed: 0003_000742.wav\n",
      "✓ Processed: 0003_000743.wav\n"
     ]
    },
    {
     "name": "stderr",
     "output_type": "stream",
     "text": [
      "Processing files:  20%|█▉        | 3945/19777 [03:15<14:06, 18.71it/s]"
     ]
    },
    {
     "name": "stdout",
     "output_type": "stream",
     "text": [
      "✓ Processed: 0003_000745.wav\n",
      "✓ Processed: 0003_000748.wav\n",
      "✓ Processed: 0003_000750.wav\n",
      "✓ Processed: 0003_000751.wav\n"
     ]
    },
    {
     "name": "stderr",
     "output_type": "stream",
     "text": [
      "Processing files:  20%|█▉        | 3949/19777 [03:15<14:11, 18.59it/s]"
     ]
    },
    {
     "name": "stdout",
     "output_type": "stream",
     "text": [
      "✓ Processed: 0003_000754.wav\n",
      "✓ Processed: 0003_000755.wav\n",
      "✓ Processed: 0003_000756.wav\n",
      "✓ Processed: 0003_000761.wav\n"
     ]
    },
    {
     "name": "stderr",
     "output_type": "stream",
     "text": [
      "Processing files:  20%|█▉        | 3953/19777 [03:16<13:56, 18.91it/s]"
     ]
    },
    {
     "name": "stdout",
     "output_type": "stream",
     "text": [
      "✓ Processed: 0003_000762.wav\n",
      "✓ Processed: 0003_000764.wav\n",
      "✓ Processed: 0003_000765.wav\n",
      "✓ Processed: 0003_000767.wav\n",
      "✓ Processed: 0003_000769.wav\n"
     ]
    },
    {
     "name": "stderr",
     "output_type": "stream",
     "text": [
      "Processing files:  20%|██        | 3958/19777 [03:16<13:56, 18.90it/s]"
     ]
    },
    {
     "name": "stdout",
     "output_type": "stream",
     "text": [
      "✓ Processed: 0003_000770.wav\n",
      "✓ Processed: 0003_000771.wav\n",
      "✓ Processed: 0003_000772.wav\n",
      "✓ Processed: 0003_000774.wav\n"
     ]
    },
    {
     "name": "stderr",
     "output_type": "stream",
     "text": [
      "Processing files:  20%|██        | 3960/19777 [03:16<13:45, 19.16it/s]"
     ]
    },
    {
     "name": "stdout",
     "output_type": "stream",
     "text": [
      "✓ Processed: 0003_000776.wav\n",
      "✓ Processed: 0003_000777.wav\n",
      "✓ Processed: 0003_000778.wav\n"
     ]
    },
    {
     "name": "stderr",
     "output_type": "stream",
     "text": [
      "Processing files:  20%|██        | 3966/19777 [03:16<14:13, 18.53it/s]"
     ]
    },
    {
     "name": "stdout",
     "output_type": "stream",
     "text": [
      "✓ Processed: 0003_000779.wav\n",
      "✓ Processed: 0003_000780.wav\n",
      "✓ Processed: 0003_000781.wav\n",
      "✓ Processed: 0003_000783.wav\n"
     ]
    },
    {
     "name": "stderr",
     "output_type": "stream",
     "text": [
      "Processing files:  20%|██        | 3969/19777 [03:16<13:59, 18.83it/s]"
     ]
    },
    {
     "name": "stdout",
     "output_type": "stream",
     "text": [
      "✓ Processed: 0003_000785.wav\n",
      "✓ Processed: 0003_000786.wav\n",
      "✓ Processed: 0003_000788.wav\n",
      "✓ Processed: 0003_000791.wav\n"
     ]
    },
    {
     "name": "stderr",
     "output_type": "stream",
     "text": [
      "Processing files:  20%|██        | 3972/19777 [03:17<13:46, 19.11it/s]"
     ]
    },
    {
     "name": "stdout",
     "output_type": "stream",
     "text": [
      "✓ Processed: 0003_000792.wav\n",
      "✓ Processed: 0003_000793.wav\n",
      "✓ Processed: 0003_000795.wav\n",
      "✓ Processed: 0003_000796.wav\n"
     ]
    },
    {
     "name": "stderr",
     "output_type": "stream",
     "text": [
      "Processing files:  20%|██        | 3976/19777 [03:17<14:01, 18.79it/s]"
     ]
    },
    {
     "name": "stdout",
     "output_type": "stream",
     "text": [
      "✓ Processed: 0003_000797.wav\n",
      "✓ Processed: 0003_000799.wav\n",
      "✓ Processed: 0003_000800.wav\n",
      "✓ Processed: 0003_000801.wav\n"
     ]
    },
    {
     "name": "stderr",
     "output_type": "stream",
     "text": [
      "Processing files:  20%|██        | 3981/19777 [03:17<14:05, 18.68it/s]"
     ]
    },
    {
     "name": "stdout",
     "output_type": "stream",
     "text": [
      "✓ Processed: 0003_000803.wav\n",
      "✓ Processed: 0003_000806.wav\n",
      "✓ Processed: 0003_000807.wav\n",
      "✓ Processed: 0003_000810.wav\n"
     ]
    },
    {
     "name": "stderr",
     "output_type": "stream",
     "text": [
      "Processing files:  20%|██        | 3985/19777 [03:17<14:00, 18.80it/s]"
     ]
    },
    {
     "name": "stdout",
     "output_type": "stream",
     "text": [
      "✓ Processed: 0003_000811.wav\n",
      "✓ Processed: 0003_000813.wav\n",
      "✓ Processed: 0003_000815.wav\n",
      "✓ Processed: 0003_000816.wav\n"
     ]
    },
    {
     "name": "stderr",
     "output_type": "stream",
     "text": [
      "Processing files:  20%|██        | 3987/19777 [03:17<15:01, 17.52it/s]"
     ]
    },
    {
     "name": "stdout",
     "output_type": "stream",
     "text": [
      "✓ Processed: 0003_000818.wav\n",
      "✓ Processed: 0003_000819.wav\n",
      "✓ Processed: 0003_000820.wav\n"
     ]
    },
    {
     "name": "stderr",
     "output_type": "stream",
     "text": [
      "Processing files:  20%|██        | 3991/19777 [03:18<14:56, 17.61it/s]"
     ]
    },
    {
     "name": "stdout",
     "output_type": "stream",
     "text": [
      "✓ Processed: 0003_000824.wav\n",
      "✓ Processed: 0003_000825.wav\n",
      "✓ Processed: 0003_000826.wav\n",
      "✓ Processed: 0003_000827.wav\n"
     ]
    },
    {
     "name": "stderr",
     "output_type": "stream",
     "text": [
      "Processing files:  20%|██        | 3995/19777 [03:18<14:10, 18.57it/s]"
     ]
    },
    {
     "name": "stdout",
     "output_type": "stream",
     "text": [
      "✓ Processed: 0003_000828.wav\n",
      "✓ Processed: 0003_000830.wav\n",
      "✓ Processed: 0003_000833.wav\n",
      "✓ Processed: 0003_000835.wav\n"
     ]
    },
    {
     "name": "stderr",
     "output_type": "stream",
     "text": [
      "Processing files:  20%|██        | 3999/19777 [03:18<14:08, 18.60it/s]"
     ]
    },
    {
     "name": "stdout",
     "output_type": "stream",
     "text": [
      "✓ Processed: 0003_000836.wav\n",
      "✓ Processed: 0003_000837.wav\n",
      "✓ Processed: 0003_000839.wav\n",
      "✓ Processed: 0003_000840.wav\n"
     ]
    },
    {
     "name": "stderr",
     "output_type": "stream",
     "text": [
      "Processing files:  20%|██        | 4004/19777 [03:18<13:55, 18.88it/s]"
     ]
    },
    {
     "name": "stdout",
     "output_type": "stream",
     "text": [
      "✓ Processed: 0003_000841.wav\n",
      "✓ Processed: 0003_000842.wav\n",
      "✓ Processed: 0003_000843.wav\n",
      "✓ Processed: 0003_000847.wav\n",
      "✓ Processed: 0003_000848.wav\n"
     ]
    },
    {
     "name": "stderr",
     "output_type": "stream",
     "text": [
      "Processing files:  20%|██        | 4009/19777 [03:19<13:45, 19.11it/s]"
     ]
    },
    {
     "name": "stdout",
     "output_type": "stream",
     "text": [
      "✓ Processed: 0003_000851.wav\n",
      "✓ Processed: 0003_000852.wav\n",
      "✓ Processed: 0003_000854.wav\n",
      "✓ Processed: 0003_000856.wav\n"
     ]
    },
    {
     "name": "stderr",
     "output_type": "stream",
     "text": [
      "Processing files:  20%|██        | 4013/19777 [03:19<13:56, 18.85it/s]"
     ]
    },
    {
     "name": "stdout",
     "output_type": "stream",
     "text": [
      "✓ Processed: 0003_000858.wav\n",
      "✓ Processed: 0003_000859.wav\n",
      "✓ Processed: 0003_000860.wav\n",
      "✓ Processed: 0003_000861.wav\n"
     ]
    },
    {
     "name": "stderr",
     "output_type": "stream",
     "text": [
      "Processing files:  20%|██        | 4017/19777 [03:19<13:49, 19.00it/s]"
     ]
    },
    {
     "name": "stdout",
     "output_type": "stream",
     "text": [
      "✓ Processed: 0003_000865.wav\n",
      "✓ Processed: 0003_000867.wav\n",
      "✓ Processed: 0003_000871.wav\n",
      "✓ Processed: 0003_000872.wav\n",
      "✓ Processed: 0003_000873.wav\n"
     ]
    },
    {
     "name": "stderr",
     "output_type": "stream",
     "text": [
      "Processing files:  20%|██        | 4021/19777 [03:19<15:10, 17.31it/s]"
     ]
    },
    {
     "name": "stdout",
     "output_type": "stream",
     "text": [
      "✓ Processed: 0003_000874.wav\n",
      "✓ Processed: 0003_000876.wav\n",
      "✓ Processed: 0003_000878.wav\n",
      "✓ Processed: 0003_000879.wav\n"
     ]
    },
    {
     "name": "stderr",
     "output_type": "stream",
     "text": [
      "Processing files:  20%|██        | 4026/19777 [03:20<13:54, 18.87it/s]"
     ]
    },
    {
     "name": "stdout",
     "output_type": "stream",
     "text": [
      "✓ Processed: 0003_000885.wav\n",
      "✓ Processed: 0003_000889.wav\n",
      "✓ Processed: 0003_000890.wav\n",
      "✓ Processed: 0003_000892.wav\n",
      "✓ Processed: 0003_000893.wav\n"
     ]
    },
    {
     "name": "stderr",
     "output_type": "stream",
     "text": [
      "Processing files:  20%|██        | 4030/19777 [03:20<14:01, 18.70it/s]"
     ]
    },
    {
     "name": "stdout",
     "output_type": "stream",
     "text": [
      "✓ Processed: 0003_000896.wav\n",
      "✓ Processed: 0003_000897.wav\n",
      "✓ Processed: 0003_000899.wav\n",
      "✓ Processed: 0003_000903.wav\n"
     ]
    },
    {
     "name": "stderr",
     "output_type": "stream",
     "text": [
      "Processing files:  20%|██        | 4034/19777 [03:20<14:08, 18.55it/s]"
     ]
    },
    {
     "name": "stdout",
     "output_type": "stream",
     "text": [
      "✓ Processed: 0003_000904.wav\n",
      "✓ Processed: 0003_000905.wav\n",
      "✓ Processed: 0003_000908.wav\n",
      "✓ Processed: 0003_000909.wav\n"
     ]
    },
    {
     "name": "stderr",
     "output_type": "stream",
     "text": [
      "Processing files:  20%|██        | 4038/19777 [03:20<14:01, 18.70it/s]"
     ]
    },
    {
     "name": "stdout",
     "output_type": "stream",
     "text": [
      "✓ Processed: 0003_000910.wav\n",
      "✓ Processed: 0003_000913.wav\n",
      "✓ Processed: 0003_000914.wav\n",
      "✓ Processed: 0003_000916.wav\n"
     ]
    },
    {
     "name": "stderr",
     "output_type": "stream",
     "text": [
      "Processing files:  20%|██        | 4042/19777 [03:20<13:47, 19.01it/s]"
     ]
    },
    {
     "name": "stdout",
     "output_type": "stream",
     "text": [
      "✓ Processed: 0003_000917.wav\n",
      "✓ Processed: 0003_000918.wav\n",
      "✓ Processed: 0003_000919.wav\n",
      "✓ Processed: 0003_000920.wav\n"
     ]
    },
    {
     "name": "stderr",
     "output_type": "stream",
     "text": [
      "Processing files:  20%|██        | 4046/19777 [03:21<14:19, 18.31it/s]"
     ]
    },
    {
     "name": "stdout",
     "output_type": "stream",
     "text": [
      "✓ Processed: 0003_000921.wav\n",
      "✓ Processed: 0003_000922.wav\n",
      "✓ Processed: 0003_000924.wav\n",
      "✓ Processed: 0003_000925.wav\n"
     ]
    },
    {
     "name": "stderr",
     "output_type": "stream",
     "text": [
      "Processing files:  20%|██        | 4050/19777 [03:21<16:04, 16.31it/s]"
     ]
    },
    {
     "name": "stdout",
     "output_type": "stream",
     "text": [
      "✓ Processed: 0003_000926.wav\n",
      "✓ Processed: 0003_000929.wav\n",
      "✓ Processed: 0003_000930.wav\n",
      "✓ Processed: 0003_000931.wav\n"
     ]
    },
    {
     "name": "stderr",
     "output_type": "stream",
     "text": [
      "Processing files:  20%|██        | 4053/19777 [03:21<15:07, 17.33it/s]"
     ]
    },
    {
     "name": "stdout",
     "output_type": "stream",
     "text": [
      "✓ Processed: 0003_000932.wav\n",
      "✓ Processed: 0003_000934.wav\n",
      "✓ Processed: 0003_000936.wav\n",
      "✓ Processed: 0003_000937.wav\n"
     ]
    },
    {
     "name": "stderr",
     "output_type": "stream",
     "text": [
      "Processing files:  21%|██        | 4058/19777 [03:21<14:33, 17.99it/s]"
     ]
    },
    {
     "name": "stdout",
     "output_type": "stream",
     "text": [
      "✓ Processed: 0003_000938.wav\n",
      "✓ Processed: 0003_000941.wav\n",
      "✓ Processed: 0003_000942.wav\n",
      "✓ Processed: 0003_000943.wav\n"
     ]
    },
    {
     "name": "stderr",
     "output_type": "stream",
     "text": [
      "Processing files:  21%|██        | 4062/19777 [03:22<14:51, 17.62it/s]"
     ]
    },
    {
     "name": "stdout",
     "output_type": "stream",
     "text": [
      "✓ Processed: 0003_000945.wav\n",
      "✓ Processed: 0003_000948.wav\n",
      "✓ Processed: 0003_000949.wav\n",
      "✓ Processed: 0003_000950.wav\n"
     ]
    },
    {
     "name": "stderr",
     "output_type": "stream",
     "text": [
      "Processing files:  21%|██        | 4066/19777 [03:22<14:42, 17.79it/s]"
     ]
    },
    {
     "name": "stdout",
     "output_type": "stream",
     "text": [
      "✓ Processed: 0003_000952.wav\n",
      "✓ Processed: 0003_000954.wav\n",
      "✓ Processed: 0003_000955.wav\n",
      "✓ Processed: 0003_000957.wav\n"
     ]
    },
    {
     "name": "stderr",
     "output_type": "stream",
     "text": [
      "Processing files:  21%|██        | 4070/19777 [03:22<14:46, 17.71it/s]"
     ]
    },
    {
     "name": "stdout",
     "output_type": "stream",
     "text": [
      "✓ Processed: 0003_000958.wav\n",
      "✓ Processed: 0003_000960.wav\n",
      "✓ Processed: 0003_000965.wav\n",
      "✓ Processed: 0003_000966.wav\n"
     ]
    },
    {
     "name": "stderr",
     "output_type": "stream",
     "text": [
      "Processing files:  21%|██        | 4074/19777 [03:22<15:22, 17.02it/s]"
     ]
    },
    {
     "name": "stdout",
     "output_type": "stream",
     "text": [
      "✓ Processed: 0003_000967.wav\n",
      "✓ Processed: 0003_000969.wav\n",
      "✓ Processed: 0003_000970.wav\n"
     ]
    },
    {
     "name": "stderr",
     "output_type": "stream",
     "text": [
      "Processing files:  21%|██        | 4078/19777 [03:22<15:40, 16.68it/s]"
     ]
    },
    {
     "name": "stdout",
     "output_type": "stream",
     "text": [
      "✓ Processed: 0003_000973.wav\n",
      "✓ Processed: 0003_000977.wav\n",
      "✓ Processed: 0003_000979.wav\n",
      "✓ Processed: 0003_000980.wav\n"
     ]
    },
    {
     "name": "stderr",
     "output_type": "stream",
     "text": [
      "Processing files:  21%|██        | 4082/19777 [03:23<15:11, 17.23it/s]"
     ]
    },
    {
     "name": "stdout",
     "output_type": "stream",
     "text": [
      "✓ Processed: 0003_000982.wav\n",
      "✓ Processed: 0003_000987.wav\n",
      "✓ Processed: 0003_000988.wav\n",
      "✓ Processed: 0003_000989.wav\n"
     ]
    },
    {
     "name": "stderr",
     "output_type": "stream",
     "text": [
      "Processing files:  21%|██        | 4084/19777 [03:23<15:15, 17.15it/s]"
     ]
    },
    {
     "name": "stdout",
     "output_type": "stream",
     "text": [
      "✓ Processed: 0003_000992.wav\n",
      "✓ Processed: 0003_000995.wav\n",
      "✓ Processed: 0003_000998.wav\n"
     ]
    },
    {
     "name": "stderr",
     "output_type": "stream",
     "text": [
      "Processing files:  21%|██        | 4088/19777 [03:23<15:41, 16.66it/s]"
     ]
    },
    {
     "name": "stdout",
     "output_type": "stream",
     "text": [
      "✓ Processed: 0003_000999.wav\n",
      "✓ Processed: 0003_001001.wav\n",
      "✓ Processed: 0003_001002.wav\n",
      "✓ Processed: 0003_001003.wav\n"
     ]
    },
    {
     "name": "stderr",
     "output_type": "stream",
     "text": [
      "Processing files:  21%|██        | 4092/19777 [03:23<15:13, 17.17it/s]"
     ]
    },
    {
     "name": "stdout",
     "output_type": "stream",
     "text": [
      "✓ Processed: 0003_001004.wav\n",
      "✓ Processed: 0003_001006.wav\n",
      "✓ Processed: 0003_001008.wav\n",
      "✓ Processed: 0003_001009.wav\n"
     ]
    },
    {
     "name": "stderr",
     "output_type": "stream",
     "text": [
      "Processing files:  21%|██        | 4096/19777 [03:24<14:55, 17.52it/s]"
     ]
    },
    {
     "name": "stdout",
     "output_type": "stream",
     "text": [
      "✓ Processed: 0003_001010.wav\n",
      "✓ Processed: 0003_001015.wav\n",
      "✓ Processed: 0003_001016.wav\n",
      "✓ Processed: 0003_001018.wav\n"
     ]
    },
    {
     "name": "stderr",
     "output_type": "stream",
     "text": [
      "Processing files:  21%|██        | 4100/19777 [03:24<15:11, 17.20it/s]"
     ]
    },
    {
     "name": "stdout",
     "output_type": "stream",
     "text": [
      "✓ Processed: 0003_001019.wav\n",
      "✓ Processed: 0003_001020.wav\n",
      "✓ Processed: 0003_001021.wav\n"
     ]
    },
    {
     "name": "stderr",
     "output_type": "stream",
     "text": [
      "Processing files:  21%|██        | 4104/19777 [03:24<15:02, 17.37it/s]"
     ]
    },
    {
     "name": "stdout",
     "output_type": "stream",
     "text": [
      "✓ Processed: 0003_001022.wav\n",
      "✓ Processed: 0003_001023.wav\n",
      "✓ Processed: 0003_001024.wav\n",
      "✓ Processed: 0003_001029.wav\n",
      "✓ Processed: 0003_001032.wav\n"
     ]
    },
    {
     "name": "stderr",
     "output_type": "stream",
     "text": [
      "Processing files:  21%|██        | 4108/19777 [03:24<14:50, 17.59it/s]"
     ]
    },
    {
     "name": "stdout",
     "output_type": "stream",
     "text": [
      "✓ Processed: 0003_001035.wav\n",
      "✓ Processed: 0003_001036.wav\n",
      "✓ Processed: 0003_001037.wav\n",
      "✓ Processed: 0003_001039.wav\n"
     ]
    },
    {
     "name": "stderr",
     "output_type": "stream",
     "text": [
      "Processing files:  21%|██        | 4114/19777 [03:25<14:10, 18.43it/s]"
     ]
    },
    {
     "name": "stdout",
     "output_type": "stream",
     "text": [
      "✓ Processed: 0003_001041.wav\n",
      "✓ Processed: 0003_001042.wav\n",
      "✓ Processed: 0003_001043.wav\n",
      "✓ Processed: 0003_001044.wav\n"
     ]
    },
    {
     "name": "stderr",
     "output_type": "stream",
     "text": [
      "Processing files:  21%|██        | 4116/19777 [03:25<14:05, 18.53it/s]"
     ]
    },
    {
     "name": "stdout",
     "output_type": "stream",
     "text": [
      "✓ Processed: 0003_001045.wav\n",
      "✓ Processed: 0003_001046.wav\n",
      "✓ Processed: 0003_001047.wav\n",
      "✓ Processed: 0003_001048.wav\n"
     ]
    },
    {
     "name": "stderr",
     "output_type": "stream",
     "text": [
      "Processing files:  21%|██        | 4120/19777 [03:25<14:29, 18.00it/s]"
     ]
    },
    {
     "name": "stdout",
     "output_type": "stream",
     "text": [
      "✓ Processed: 0003_001050.wav\n",
      "✓ Processed: 0004_000703.wav\n",
      "✓ Processed: 0004_000704.wav\n",
      "✓ Processed: 0004_000705.wav\n"
     ]
    },
    {
     "name": "stderr",
     "output_type": "stream",
     "text": [
      "Processing files:  21%|██        | 4124/19777 [03:25<14:18, 18.24it/s]"
     ]
    },
    {
     "name": "stdout",
     "output_type": "stream",
     "text": [
      "✓ Processed: 0004_000708.wav\n",
      "✓ Processed: 0004_000711.wav\n",
      "✓ Processed: 0004_000712.wav\n",
      "✓ Processed: 0004_000713.wav\n",
      "✓ Processed: 0004_000715.wav\n"
     ]
    },
    {
     "name": "stderr",
     "output_type": "stream",
     "text": [
      "Processing files:  21%|██        | 4129/19777 [03:25<15:48, 16.50it/s]"
     ]
    },
    {
     "name": "stdout",
     "output_type": "stream",
     "text": [
      "✓ Processed: 0004_000716.wav\n",
      "✓ Processed: 0004_000717.wav\n",
      "✓ Processed: 0004_000723.wav\n"
     ]
    },
    {
     "name": "stderr",
     "output_type": "stream",
     "text": [
      "Processing files:  21%|██        | 4134/19777 [03:26<14:22, 18.13it/s]"
     ]
    },
    {
     "name": "stdout",
     "output_type": "stream",
     "text": [
      "✓ Processed: 0004_000725.wav\n",
      "✓ Processed: 0004_000728.wav\n",
      "✓ Processed: 0004_000730.wav\n",
      "✓ Processed: 0004_000734.wav\n"
     ]
    },
    {
     "name": "stderr",
     "output_type": "stream",
     "text": [
      "Processing files:  21%|██        | 4136/19777 [03:26<14:22, 18.14it/s]"
     ]
    },
    {
     "name": "stdout",
     "output_type": "stream",
     "text": [
      "✓ Processed: 0004_000735.wav\n",
      "✓ Processed: 0004_000736.wav\n",
      "✓ Processed: 0004_000737.wav\n",
      "✓ Processed: 0004_000739.wav\n"
     ]
    },
    {
     "name": "stderr",
     "output_type": "stream",
     "text": [
      "Processing files:  21%|██        | 4140/19777 [03:26<14:15, 18.28it/s]"
     ]
    },
    {
     "name": "stdout",
     "output_type": "stream",
     "text": [
      "✓ Processed: 0004_000743.wav\n",
      "✓ Processed: 0004_000745.wav\n",
      "✓ Processed: 0004_000747.wav\n",
      "✓ Processed: 0004_000749.wav\n"
     ]
    },
    {
     "name": "stderr",
     "output_type": "stream",
     "text": [
      "Processing files:  21%|██        | 4144/19777 [03:26<14:10, 18.38it/s]"
     ]
    },
    {
     "name": "stdout",
     "output_type": "stream",
     "text": [
      "✓ Processed: 0004_000750.wav\n",
      "✓ Processed: 0004_000751.wav\n",
      "✓ Processed: 0004_000752.wav\n",
      "✓ Processed: 0004_000754.wav\n"
     ]
    },
    {
     "name": "stderr",
     "output_type": "stream",
     "text": [
      "Processing files:  21%|██        | 4148/19777 [03:26<14:12, 18.34it/s]"
     ]
    },
    {
     "name": "stdout",
     "output_type": "stream",
     "text": [
      "✓ Processed: 0004_000756.wav\n",
      "✓ Processed: 0004_000760.wav\n",
      "✓ Processed: 0004_000766.wav\n",
      "✓ Processed: 0004_000767.wav\n"
     ]
    },
    {
     "name": "stderr",
     "output_type": "stream",
     "text": [
      "Processing files:  21%|██        | 4153/19777 [03:27<14:03, 18.52it/s]"
     ]
    },
    {
     "name": "stdout",
     "output_type": "stream",
     "text": [
      "✓ Processed: 0004_000769.wav\n",
      "✓ Processed: 0004_000770.wav\n",
      "✓ Processed: 0004_000771.wav\n",
      "✓ Processed: 0004_000772.wav\n"
     ]
    },
    {
     "name": "stderr",
     "output_type": "stream",
     "text": [
      "Processing files:  21%|██        | 4157/19777 [03:27<15:02, 17.31it/s]"
     ]
    },
    {
     "name": "stdout",
     "output_type": "stream",
     "text": [
      "✓ Processed: 0004_000774.wav\n",
      "✓ Processed: 0004_000775.wav\n",
      "✓ Processed: 0004_000776.wav\n",
      "✓ Processed: 0004_000777.wav\n"
     ]
    },
    {
     "name": "stderr",
     "output_type": "stream",
     "text": [
      "Processing files:  21%|██        | 4161/19777 [03:27<14:43, 17.67it/s]"
     ]
    },
    {
     "name": "stdout",
     "output_type": "stream",
     "text": [
      "✓ Processed: 0004_000778.wav\n",
      "✓ Processed: 0004_000779.wav\n",
      "✓ Processed: 0004_000780.wav\n",
      "✓ Processed: 0004_000784.wav\n"
     ]
    },
    {
     "name": "stderr",
     "output_type": "stream",
     "text": [
      "Processing files:  21%|██        | 4165/19777 [03:27<14:27, 17.99it/s]"
     ]
    },
    {
     "name": "stdout",
     "output_type": "stream",
     "text": [
      "✓ Processed: 0004_000787.wav\n",
      "✓ Processed: 0004_000790.wav\n",
      "✓ Processed: 0004_000795.wav\n",
      "✓ Processed: 0004_000796.wav\n"
     ]
    },
    {
     "name": "stderr",
     "output_type": "stream",
     "text": [
      "Processing files:  21%|██        | 4168/19777 [03:27<13:53, 18.72it/s]"
     ]
    },
    {
     "name": "stdout",
     "output_type": "stream",
     "text": [
      "✓ Processed: 0004_000797.wav\n",
      "✓ Processed: 0004_000798.wav\n",
      "✓ Processed: 0004_000800.wav\n",
      "✓ Processed: 0004_000801.wav\n"
     ]
    },
    {
     "name": "stderr",
     "output_type": "stream",
     "text": [
      "Processing files:  21%|██        | 4172/19777 [03:28<13:55, 18.68it/s]"
     ]
    },
    {
     "name": "stdout",
     "output_type": "stream",
     "text": [
      "✓ Processed: 0004_000802.wav\n",
      "✓ Processed: 0004_000803.wav\n",
      "✓ Processed: 0004_000804.wav\n",
      "✓ Processed: 0004_000807.wav\n"
     ]
    },
    {
     "name": "stderr",
     "output_type": "stream",
     "text": [
      "Processing files:  21%|██        | 4176/19777 [03:28<13:41, 18.98it/s]"
     ]
    },
    {
     "name": "stdout",
     "output_type": "stream",
     "text": [
      "✓ Processed: 0004_000808.wav\n",
      "✓ Processed: 0004_000809.wav\n",
      "✓ Processed: 0004_000810.wav\n",
      "✓ Processed: 0004_000812.wav\n"
     ]
    },
    {
     "name": "stderr",
     "output_type": "stream",
     "text": [
      "Processing files:  21%|██        | 4180/19777 [03:28<13:38, 19.06it/s]"
     ]
    },
    {
     "name": "stdout",
     "output_type": "stream",
     "text": [
      "✓ Processed: 0004_000813.wav\n",
      "✓ Processed: 0004_000814.wav\n",
      "✓ Processed: 0004_000817.wav\n",
      "✓ Processed: 0004_000819.wav\n"
     ]
    },
    {
     "name": "stderr",
     "output_type": "stream",
     "text": [
      "Processing files:  21%|██        | 4184/19777 [03:28<13:52, 18.74it/s]"
     ]
    },
    {
     "name": "stdout",
     "output_type": "stream",
     "text": [
      "✓ Processed: 0004_000820.wav\n",
      "✓ Processed: 0004_000822.wav\n",
      "✓ Processed: 0004_000826.wav\n",
      "✓ Processed: 0004_000827.wav\n"
     ]
    },
    {
     "name": "stderr",
     "output_type": "stream",
     "text": [
      "Processing files:  21%|██        | 4188/19777 [03:29<16:23, 15.86it/s]"
     ]
    },
    {
     "name": "stdout",
     "output_type": "stream",
     "text": [
      "✓ Processed: 0004_000829.wav\n",
      "✓ Processed: 0004_000830.wav\n",
      "✓ Processed: 0004_000833.wav\n"
     ]
    },
    {
     "name": "stderr",
     "output_type": "stream",
     "text": [
      "Processing files:  21%|██        | 4192/19777 [03:29<14:54, 17.41it/s]"
     ]
    },
    {
     "name": "stdout",
     "output_type": "stream",
     "text": [
      "✓ Processed: 0004_000835.wav\n",
      "✓ Processed: 0004_000837.wav\n",
      "✓ Processed: 0004_000840.wav\n",
      "✓ Processed: 0004_000841.wav\n"
     ]
    },
    {
     "name": "stderr",
     "output_type": "stream",
     "text": [
      "Processing files:  21%|██        | 4196/19777 [03:29<14:33, 17.84it/s]"
     ]
    },
    {
     "name": "stdout",
     "output_type": "stream",
     "text": [
      "✓ Processed: 0004_000843.wav\n",
      "✓ Processed: 0004_000845.wav\n",
      "✓ Processed: 0004_000847.wav\n",
      "✓ Processed: 0004_000848.wav\n"
     ]
    },
    {
     "name": "stderr",
     "output_type": "stream",
     "text": [
      "Processing files:  21%|██        | 4200/19777 [03:29<14:14, 18.23it/s]"
     ]
    },
    {
     "name": "stdout",
     "output_type": "stream",
     "text": [
      "✓ Processed: 0004_000854.wav\n",
      "✓ Processed: 0004_000856.wav\n",
      "✓ Processed: 0004_000857.wav\n",
      "✓ Processed: 0004_000860.wav\n",
      "✓ Processed: 0004_000861.wav\n"
     ]
    },
    {
     "name": "stderr",
     "output_type": "stream",
     "text": [
      "Processing files:  21%|██▏       | 4204/19777 [03:29<14:11, 18.29it/s]"
     ]
    },
    {
     "name": "stdout",
     "output_type": "stream",
     "text": [
      "✓ Processed: 0004_000863.wav\n",
      "✓ Processed: 0004_000865.wav\n",
      "✓ Processed: 0004_000867.wav\n",
      "✓ Processed: 0004_000868.wav\n"
     ]
    },
    {
     "name": "stderr",
     "output_type": "stream",
     "text": [
      "Processing files:  21%|██▏       | 4208/19777 [03:30<14:01, 18.50it/s]"
     ]
    },
    {
     "name": "stdout",
     "output_type": "stream",
     "text": [
      "✓ Processed: 0004_000870.wav\n",
      "✓ Processed: 0004_000872.wav\n",
      "✓ Processed: 0004_000873.wav\n",
      "✓ Processed: 0004_000874.wav\n"
     ]
    },
    {
     "name": "stderr",
     "output_type": "stream",
     "text": [
      "Processing files:  21%|██▏       | 4211/19777 [03:30<13:32, 19.16it/s]"
     ]
    },
    {
     "name": "stdout",
     "output_type": "stream",
     "text": [
      "✓ Processed: 0004_000876.wav\n",
      "✓ Processed: 0004_000877.wav\n",
      "✓ Processed: 0004_000878.wav\n"
     ]
    },
    {
     "name": "stderr",
     "output_type": "stream",
     "text": [
      "Processing files:  21%|██▏       | 4215/19777 [03:30<14:53, 17.42it/s]"
     ]
    },
    {
     "name": "stdout",
     "output_type": "stream",
     "text": [
      "✓ Processed: 0004_000879.wav\n",
      "✓ Processed: 0004_000880.wav\n",
      "✓ Processed: 0004_000886.wav\n",
      "✓ Processed: 0004_000887.wav\n"
     ]
    },
    {
     "name": "stderr",
     "output_type": "stream",
     "text": [
      "Processing files:  21%|██▏       | 4220/19777 [03:30<13:58, 18.56it/s]"
     ]
    },
    {
     "name": "stdout",
     "output_type": "stream",
     "text": [
      "✓ Processed: 0004_000888.wav\n",
      "✓ Processed: 0004_000890.wav\n",
      "✓ Processed: 0004_000892.wav\n",
      "✓ Processed: 0004_000893.wav\n"
     ]
    },
    {
     "name": "stderr",
     "output_type": "stream",
     "text": [
      "Processing files:  21%|██▏       | 4225/19777 [03:31<13:49, 18.75it/s]"
     ]
    },
    {
     "name": "stdout",
     "output_type": "stream",
     "text": [
      "✓ Processed: 0004_000895.wav\n",
      "✓ Processed: 0004_000899.wav\n",
      "✓ Processed: 0004_000900.wav\n",
      "✓ Processed: 0004_000901.wav\n"
     ]
    },
    {
     "name": "stderr",
     "output_type": "stream",
     "text": [
      "Processing files:  21%|██▏       | 4227/19777 [03:31<13:38, 18.99it/s]"
     ]
    },
    {
     "name": "stdout",
     "output_type": "stream",
     "text": [
      "✓ Processed: 0004_000902.wav\n",
      "✓ Processed: 0004_000904.wav\n",
      "✓ Processed: 0004_000905.wav\n",
      "✓ Processed: 0004_000906.wav\n"
     ]
    },
    {
     "name": "stderr",
     "output_type": "stream",
     "text": [
      "Processing files:  21%|██▏       | 4231/19777 [03:31<14:01, 18.47it/s]"
     ]
    },
    {
     "name": "stdout",
     "output_type": "stream",
     "text": [
      "✓ Processed: 0004_000907.wav\n",
      "✓ Processed: 0004_000908.wav\n",
      "✓ Processed: 0004_000910.wav\n",
      "✓ Processed: 0004_000911.wav\n"
     ]
    },
    {
     "name": "stderr",
     "output_type": "stream",
     "text": [
      "Processing files:  21%|██▏       | 4235/19777 [03:31<13:41, 18.91it/s]"
     ]
    },
    {
     "name": "stdout",
     "output_type": "stream",
     "text": [
      "✓ Processed: 0004_000912.wav\n",
      "✓ Processed: 0004_000914.wav\n",
      "✓ Processed: 0004_000915.wav\n",
      "✓ Processed: 0004_000916.wav\n"
     ]
    },
    {
     "name": "stderr",
     "output_type": "stream",
     "text": [
      "Processing files:  21%|██▏       | 4240/19777 [03:31<13:31, 19.15it/s]"
     ]
    },
    {
     "name": "stdout",
     "output_type": "stream",
     "text": [
      "✓ Processed: 0004_000918.wav\n",
      "✓ Processed: 0004_000919.wav\n",
      "✓ Processed: 0004_000921.wav\n",
      "✓ Processed: 0004_000923.wav\n"
     ]
    },
    {
     "name": "stderr",
     "output_type": "stream",
     "text": [
      "Processing files:  21%|██▏       | 4242/19777 [03:32<13:55, 18.58it/s]"
     ]
    },
    {
     "name": "stdout",
     "output_type": "stream",
     "text": [
      "✓ Processed: 0004_000925.wav\n",
      "✓ Processed: 0004_000926.wav\n",
      "✓ Processed: 0004_000927.wav\n"
     ]
    },
    {
     "name": "stderr",
     "output_type": "stream",
     "text": [
      "Processing files:  21%|██▏       | 4246/19777 [03:32<15:11, 17.04it/s]"
     ]
    },
    {
     "name": "stdout",
     "output_type": "stream",
     "text": [
      "✓ Processed: 0004_000928.wav\n",
      "✓ Processed: 0004_000929.wav\n",
      "✓ Processed: 0004_000934.wav\n",
      "✓ Processed: 0004_000935.wav\n"
     ]
    },
    {
     "name": "stderr",
     "output_type": "stream",
     "text": [
      "Processing files:  21%|██▏       | 4251/19777 [03:32<14:29, 17.85it/s]"
     ]
    },
    {
     "name": "stdout",
     "output_type": "stream",
     "text": [
      "✓ Processed: 0004_000937.wav\n",
      "✓ Processed: 0004_000942.wav\n",
      "✓ Processed: 0004_000943.wav\n",
      "✓ Processed: 0004_000945.wav\n"
     ]
    },
    {
     "name": "stderr",
     "output_type": "stream",
     "text": [
      "Processing files:  22%|██▏       | 4255/19777 [03:32<13:52, 18.65it/s]"
     ]
    },
    {
     "name": "stdout",
     "output_type": "stream",
     "text": [
      "✓ Processed: 0004_000946.wav\n",
      "✓ Processed: 0004_000947.wav\n",
      "✓ Processed: 0004_000948.wav\n",
      "✓ Processed: 0004_000949.wav\n"
     ]
    },
    {
     "name": "stderr",
     "output_type": "stream",
     "text": [
      "Processing files:  22%|██▏       | 4259/19777 [03:32<14:09, 18.27it/s]"
     ]
    },
    {
     "name": "stdout",
     "output_type": "stream",
     "text": [
      "✓ Processed: 0004_000950.wav\n",
      "✓ Processed: 0004_000951.wav\n",
      "✓ Processed: 0004_000952.wav\n",
      "✓ Processed: 0004_000953.wav\n",
      "✓ Processed: 0004_000955.wav\n"
     ]
    },
    {
     "name": "stderr",
     "output_type": "stream",
     "text": [
      "Processing files:  22%|██▏       | 4264/19777 [03:33<13:43, 18.84it/s]"
     ]
    },
    {
     "name": "stdout",
     "output_type": "stream",
     "text": [
      "✓ Processed: 0004_000958.wav\n",
      "✓ Processed: 0004_000959.wav\n",
      "✓ Processed: 0004_000960.wav\n",
      "✓ Processed: 0004_000963.wav\n"
     ]
    },
    {
     "name": "stderr",
     "output_type": "stream",
     "text": [
      "Processing files:  22%|██▏       | 4268/19777 [03:33<13:38, 18.95it/s]"
     ]
    },
    {
     "name": "stdout",
     "output_type": "stream",
     "text": [
      "✓ Processed: 0004_000964.wav\n",
      "✓ Processed: 0004_000965.wav\n",
      "✓ Processed: 0004_000968.wav\n",
      "✓ Processed: 0004_000969.wav\n"
     ]
    },
    {
     "name": "stderr",
     "output_type": "stream",
     "text": [
      "Processing files:  22%|██▏       | 4272/19777 [03:33<14:41, 17.58it/s]"
     ]
    },
    {
     "name": "stdout",
     "output_type": "stream",
     "text": [
      "✓ Processed: 0004_000971.wav\n",
      "✓ Processed: 0004_000972.wav\n",
      "✓ Processed: 0004_000973.wav\n"
     ]
    },
    {
     "name": "stderr",
     "output_type": "stream",
     "text": [
      "Processing files:  22%|██▏       | 4274/19777 [03:33<14:24, 17.92it/s]"
     ]
    },
    {
     "name": "stdout",
     "output_type": "stream",
     "text": [
      "✓ Processed: 0004_000977.wav\n",
      "✓ Processed: 0004_000979.wav\n",
      "✓ Processed: 0004_000984.wav\n",
      "✓ Processed: 0004_000986.wav\n"
     ]
    },
    {
     "name": "stderr",
     "output_type": "stream",
     "text": [
      "Processing files:  22%|██▏       | 4278/19777 [03:34<14:02, 18.40it/s]"
     ]
    },
    {
     "name": "stdout",
     "output_type": "stream",
     "text": [
      "✓ Processed: 0004_000988.wav\n",
      "✓ Processed: 0004_000989.wav\n",
      "✓ Processed: 0004_000990.wav\n",
      "✓ Processed: 0004_000991.wav\n"
     ]
    },
    {
     "name": "stderr",
     "output_type": "stream",
     "text": [
      "Processing files:  22%|██▏       | 4284/19777 [03:34<13:38, 18.92it/s]"
     ]
    },
    {
     "name": "stdout",
     "output_type": "stream",
     "text": [
      "✓ Processed: 0004_000992.wav\n",
      "✓ Processed: 0004_000993.wav\n",
      "✓ Processed: 0004_000996.wav\n",
      "✓ Processed: 0004_000998.wav\n"
     ]
    },
    {
     "name": "stderr",
     "output_type": "stream",
     "text": [
      "Processing files:  22%|██▏       | 4286/19777 [03:34<13:44, 18.79it/s]"
     ]
    },
    {
     "name": "stdout",
     "output_type": "stream",
     "text": [
      "✓ Processed: 0004_000999.wav\n",
      "✓ Processed: 0004_001000.wav\n",
      "✓ Processed: 0004_001001.wav\n",
      "✓ Processed: 0004_001003.wav\n"
     ]
    },
    {
     "name": "stderr",
     "output_type": "stream",
     "text": [
      "Processing files:  22%|██▏       | 4290/19777 [03:34<13:51, 18.63it/s]"
     ]
    },
    {
     "name": "stdout",
     "output_type": "stream",
     "text": [
      "✓ Processed: 0004_001004.wav\n",
      "✓ Processed: 0004_001005.wav\n",
      "✓ Processed: 0004_001006.wav\n",
      "✓ Processed: 0004_001007.wav\n"
     ]
    },
    {
     "name": "stderr",
     "output_type": "stream",
     "text": [
      "Processing files:  22%|██▏       | 4295/19777 [03:34<14:04, 18.32it/s]"
     ]
    },
    {
     "name": "stdout",
     "output_type": "stream",
     "text": [
      "✓ Processed: 0004_001008.wav\n",
      "✓ Processed: 0004_001009.wav\n",
      "✓ Processed: 0004_001010.wav\n",
      "✓ Processed: 0004_001011.wav\n"
     ]
    },
    {
     "name": "stderr",
     "output_type": "stream",
     "text": [
      "Processing files:  22%|██▏       | 4299/19777 [03:35<14:26, 17.86it/s]"
     ]
    },
    {
     "name": "stdout",
     "output_type": "stream",
     "text": [
      "✓ Processed: 0004_001014.wav\n",
      "✓ Processed: 0004_001015.wav\n",
      "✓ Processed: 0004_001016.wav\n",
      "✓ Processed: 0004_001017.wav\n"
     ]
    },
    {
     "name": "stderr",
     "output_type": "stream",
     "text": [
      "Processing files:  22%|██▏       | 4303/19777 [03:35<14:12, 18.14it/s]"
     ]
    },
    {
     "name": "stdout",
     "output_type": "stream",
     "text": [
      "✓ Processed: 0004_001019.wav\n",
      "✓ Processed: 0004_001021.wav\n",
      "✓ Processed: 0004_001022.wav\n",
      "✓ Processed: 0004_001023.wav\n",
      "✓ Processed: 0004_001024.wav\n"
     ]
    },
    {
     "name": "stderr",
     "output_type": "stream",
     "text": [
      "Processing files:  22%|██▏       | 4308/19777 [03:35<13:38, 18.89it/s]"
     ]
    },
    {
     "name": "stdout",
     "output_type": "stream",
     "text": [
      "✓ Processed: 0004_001025.wav\n",
      "✓ Processed: 0004_001026.wav\n",
      "✓ Processed: 0004_001027.wav\n",
      "✓ Processed: 0004_001028.wav\n"
     ]
    },
    {
     "name": "stderr",
     "output_type": "stream",
     "text": [
      "Processing files:  22%|██▏       | 4310/19777 [03:35<13:54, 18.54it/s]"
     ]
    },
    {
     "name": "stdout",
     "output_type": "stream",
     "text": [
      "✓ Processed: 0004_001029.wav\n",
      "✓ Processed: 0004_001030.wav\n",
      "✓ Processed: 0004_001032.wav\n",
      "✓ Processed: 0004_001033.wav\n"
     ]
    },
    {
     "name": "stderr",
     "output_type": "stream",
     "text": [
      "Processing files:  22%|██▏       | 4315/19777 [03:36<13:55, 18.50it/s]"
     ]
    },
    {
     "name": "stdout",
     "output_type": "stream",
     "text": [
      "✓ Processed: 0004_001034.wav\n",
      "✓ Processed: 0004_001035.wav\n",
      "✓ Processed: 0004_001036.wav\n",
      "✓ Processed: 0004_001037.wav\n"
     ]
    },
    {
     "name": "stderr",
     "output_type": "stream",
     "text": [
      "Processing files:  22%|██▏       | 4320/19777 [03:36<13:56, 18.48it/s]"
     ]
    },
    {
     "name": "stdout",
     "output_type": "stream",
     "text": [
      "✓ Processed: 0004_001040.wav\n",
      "✓ Processed: 0004_001041.wav\n",
      "✓ Processed: 0004_001042.wav\n",
      "✓ Processed: 0004_001043.wav\n"
     ]
    },
    {
     "name": "stderr",
     "output_type": "stream",
     "text": [
      "Processing files:  22%|██▏       | 4324/19777 [03:36<15:01, 17.14it/s]"
     ]
    },
    {
     "name": "stdout",
     "output_type": "stream",
     "text": [
      "✓ Processed: 0004_001045.wav\n",
      "✓ Processed: 0004_001046.wav\n",
      "✓ Processed: 0004_001047.wav\n"
     ]
    },
    {
     "name": "stderr",
     "output_type": "stream",
     "text": [
      "Processing files:  22%|██▏       | 4326/19777 [03:36<15:11, 16.95it/s]"
     ]
    },
    {
     "name": "stdout",
     "output_type": "stream",
     "text": [
      "✓ Processed: 0004_001048.wav\n",
      "✓ Processed: 0004_001049.wav\n",
      "✓ Processed: 0004_001050.wav\n",
      "✓ Processed: 0005_000701.wav\n"
     ]
    },
    {
     "name": "stderr",
     "output_type": "stream",
     "text": [
      "Processing files:  22%|██▏       | 4331/19777 [03:36<14:20, 17.96it/s]"
     ]
    },
    {
     "name": "stdout",
     "output_type": "stream",
     "text": [
      "✓ Processed: 0005_000703.wav\n",
      "✓ Processed: 0005_000706.wav\n",
      "✓ Processed: 0005_000708.wav\n",
      "✓ Processed: 0005_000711.wav\n"
     ]
    },
    {
     "name": "stderr",
     "output_type": "stream",
     "text": [
      "Processing files:  22%|██▏       | 4335/19777 [03:37<14:03, 18.31it/s]"
     ]
    },
    {
     "name": "stdout",
     "output_type": "stream",
     "text": [
      "✓ Processed: 0005_000712.wav\n",
      "✓ Processed: 0005_000713.wav\n",
      "✓ Processed: 0005_000715.wav\n",
      "✓ Processed: 0005_000716.wav\n",
      "✓ Processed: 0005_000718.wav\n"
     ]
    },
    {
     "name": "stderr",
     "output_type": "stream",
     "text": [
      "Processing files:  22%|██▏       | 4340/19777 [03:37<14:10, 18.14it/s]"
     ]
    },
    {
     "name": "stdout",
     "output_type": "stream",
     "text": [
      "✓ Processed: 0005_000719.wav\n",
      "✓ Processed: 0005_000720.wav\n",
      "✓ Processed: 0005_000721.wav\n"
     ]
    },
    {
     "name": "stderr",
     "output_type": "stream",
     "text": [
      "Processing files:  22%|██▏       | 4342/19777 [03:37<14:04, 18.27it/s]"
     ]
    },
    {
     "name": "stdout",
     "output_type": "stream",
     "text": [
      "✓ Processed: 0005_000722.wav\n",
      "✓ Processed: 0005_000723.wav\n",
      "✓ Processed: 0005_000725.wav\n",
      "✓ Processed: 0005_000726.wav\n"
     ]
    },
    {
     "name": "stderr",
     "output_type": "stream",
     "text": [
      "Processing files:  22%|██▏       | 4345/19777 [03:37<13:57, 18.42it/s]"
     ]
    },
    {
     "name": "stdout",
     "output_type": "stream",
     "text": [
      "✓ Processed: 0005_000729.wav\n",
      "✓ Processed: 0005_000731.wav\n",
      "✓ Processed: 0005_000732.wav\n"
     ]
    },
    {
     "name": "stderr",
     "output_type": "stream",
     "text": [
      "Processing files:  22%|██▏       | 4349/19777 [03:37<14:28, 17.76it/s]"
     ]
    },
    {
     "name": "stdout",
     "output_type": "stream",
     "text": [
      "✓ Processed: 0005_000735.wav\n",
      "✓ Processed: 0005_000736.wav\n",
      "✓ Processed: 0005_000738.wav\n",
      "✓ Processed: 0005_000740.wav\n"
     ]
    },
    {
     "name": "stderr",
     "output_type": "stream",
     "text": [
      "Processing files:  22%|██▏       | 4353/19777 [03:38<13:58, 18.40it/s]"
     ]
    },
    {
     "name": "stdout",
     "output_type": "stream",
     "text": [
      "✓ Processed: 0005_000742.wav\n",
      "✓ Processed: 0005_000743.wav\n",
      "✓ Processed: 0005_000744.wav\n",
      "✓ Processed: 0005_000745.wav\n"
     ]
    },
    {
     "name": "stderr",
     "output_type": "stream",
     "text": [
      "Processing files:  22%|██▏       | 4357/19777 [03:38<14:02, 18.31it/s]"
     ]
    },
    {
     "name": "stdout",
     "output_type": "stream",
     "text": [
      "✓ Processed: 0005_000746.wav\n",
      "✓ Processed: 0005_000748.wav\n",
      "✓ Processed: 0005_000749.wav\n",
      "✓ Processed: 0005_000750.wav\n"
     ]
    },
    {
     "name": "stderr",
     "output_type": "stream",
     "text": [
      "Processing files:  22%|██▏       | 4362/19777 [03:38<13:30, 19.02it/s]"
     ]
    },
    {
     "name": "stdout",
     "output_type": "stream",
     "text": [
      "✓ Processed: 0005_000753.wav\n",
      "✓ Processed: 0005_000754.wav\n",
      "✓ Processed: 0005_000755.wav\n",
      "✓ Processed: 0005_000762.wav\n"
     ]
    },
    {
     "name": "stderr",
     "output_type": "stream",
     "text": [
      "Processing files:  22%|██▏       | 4366/19777 [03:38<13:53, 18.49it/s]"
     ]
    },
    {
     "name": "stdout",
     "output_type": "stream",
     "text": [
      "✓ Processed: 0005_000763.wav\n",
      "✓ Processed: 0005_000764.wav\n",
      "✓ Processed: 0005_000765.wav\n",
      "✓ Processed: 0005_000766.wav\n",
      "✓ Processed: 0005_000767.wav\n"
     ]
    },
    {
     "name": "stderr",
     "output_type": "stream",
     "text": [
      "Processing files:  22%|██▏       | 4371/19777 [03:39<13:25, 19.12it/s]"
     ]
    },
    {
     "name": "stdout",
     "output_type": "stream",
     "text": [
      "✓ Processed: 0005_000768.wav\n",
      "✓ Processed: 0005_000771.wav\n",
      "✓ Processed: 0005_000772.wav\n",
      "✓ Processed: 0005_000773.wav\n"
     ]
    },
    {
     "name": "stderr",
     "output_type": "stream",
     "text": [
      "Processing files:  22%|██▏       | 4375/19777 [03:39<13:44, 18.69it/s]"
     ]
    },
    {
     "name": "stdout",
     "output_type": "stream",
     "text": [
      "✓ Processed: 0005_000774.wav\n",
      "✓ Processed: 0005_000776.wav\n",
      "✓ Processed: 0005_000778.wav\n",
      "✓ Processed: 0005_000779.wav\n",
      "✓ Processed: 0005_000780.wav\n"
     ]
    },
    {
     "name": "stderr",
     "output_type": "stream",
     "text": [
      "Processing files:  22%|██▏       | 4379/19777 [03:39<14:52, 17.24it/s]"
     ]
    },
    {
     "name": "stdout",
     "output_type": "stream",
     "text": [
      "✓ Processed: 0005_000781.wav\n",
      "✓ Processed: 0005_000783.wav\n",
      "✓ Processed: 0005_000787.wav\n",
      "✓ Processed: 0005_000788.wav\n"
     ]
    },
    {
     "name": "stderr",
     "output_type": "stream",
     "text": [
      "Processing files:  22%|██▏       | 4384/19777 [03:39<13:44, 18.66it/s]"
     ]
    },
    {
     "name": "stdout",
     "output_type": "stream",
     "text": [
      "✓ Processed: 0005_000790.wav\n",
      "✓ Processed: 0005_000791.wav\n",
      "✓ Processed: 0005_000793.wav\n",
      "✓ Processed: 0005_000794.wav\n",
      "✓ Processed: 0005_000795.wav\n"
     ]
    },
    {
     "name": "stderr",
     "output_type": "stream",
     "text": [
      "Processing files:  22%|██▏       | 4389/19777 [03:40<13:26, 19.07it/s]"
     ]
    },
    {
     "name": "stdout",
     "output_type": "stream",
     "text": [
      "✓ Processed: 0005_000796.wav\n",
      "✓ Processed: 0005_000797.wav\n",
      "✓ Processed: 0005_000800.wav\n",
      "✓ Processed: 0005_000801.wav\n"
     ]
    },
    {
     "name": "stderr",
     "output_type": "stream",
     "text": [
      "Processing files:  22%|██▏       | 4393/19777 [03:40<13:37, 18.81it/s]"
     ]
    },
    {
     "name": "stdout",
     "output_type": "stream",
     "text": [
      "✓ Processed: 0005_000802.wav\n",
      "✓ Processed: 0005_000804.wav\n",
      "✓ Processed: 0005_000805.wav\n",
      "✓ Processed: 0005_000806.wav\n",
      "✓ Processed: 0005_000811.wav\n"
     ]
    },
    {
     "name": "stderr",
     "output_type": "stream",
     "text": [
      "Processing files:  22%|██▏       | 4397/19777 [03:40<13:49, 18.55it/s]"
     ]
    },
    {
     "name": "stdout",
     "output_type": "stream",
     "text": [
      "✓ Processed: 0005_000813.wav\n",
      "✓ Processed: 0005_000815.wav\n",
      "✓ Processed: 0005_000817.wav\n",
      "✓ Processed: 0005_000818.wav\n"
     ]
    },
    {
     "name": "stderr",
     "output_type": "stream",
     "text": [
      "Processing files:  22%|██▏       | 4402/19777 [03:40<13:46, 18.61it/s]"
     ]
    },
    {
     "name": "stdout",
     "output_type": "stream",
     "text": [
      "✓ Processed: 0005_000820.wav\n",
      "✓ Processed: 0005_000821.wav\n",
      "✓ Processed: 0005_000822.wav\n",
      "✓ Processed: 0005_000823.wav\n"
     ]
    },
    {
     "name": "stderr",
     "output_type": "stream",
     "text": [
      "Processing files:  22%|██▏       | 4404/19777 [03:40<13:43, 18.68it/s]"
     ]
    },
    {
     "name": "stdout",
     "output_type": "stream",
     "text": [
      "✓ Processed: 0005_000824.wav\n",
      "✓ Processed: 0005_000825.wav\n",
      "✓ Processed: 0005_000826.wav\n"
     ]
    },
    {
     "name": "stderr",
     "output_type": "stream",
     "text": [
      "Processing files:  22%|██▏       | 4408/19777 [03:41<14:13, 18.01it/s]"
     ]
    },
    {
     "name": "stdout",
     "output_type": "stream",
     "text": [
      "✓ Processed: 0005_000827.wav\n",
      "✓ Processed: 0005_000828.wav\n",
      "✓ Processed: 0005_000830.wav\n",
      "✓ Processed: 0005_000832.wav\n",
      "✓ Processed: 0005_000833.wav\n"
     ]
    },
    {
     "name": "stderr",
     "output_type": "stream",
     "text": [
      "Processing files:  22%|██▏       | 4414/19777 [03:41<13:08, 19.48it/s]"
     ]
    },
    {
     "name": "stdout",
     "output_type": "stream",
     "text": [
      "✓ Processed: 0005_000837.wav\n",
      "✓ Processed: 0005_000838.wav\n",
      "✓ Processed: 0005_000839.wav\n",
      "✓ Processed: 0005_000841.wav\n",
      "✓ Processed: 0005_000842.wav\n"
     ]
    },
    {
     "name": "stderr",
     "output_type": "stream",
     "text": [
      "Processing files:  22%|██▏       | 4418/19777 [03:41<13:19, 19.21it/s]"
     ]
    },
    {
     "name": "stdout",
     "output_type": "stream",
     "text": [
      "✓ Processed: 0005_000843.wav\n",
      "✓ Processed: 0005_000844.wav\n",
      "✓ Processed: 0005_000846.wav\n",
      "✓ Processed: 0005_000848.wav\n",
      "✓ Processed: 0005_000849.wav\n"
     ]
    },
    {
     "name": "stderr",
     "output_type": "stream",
     "text": [
      "Processing files:  22%|██▏       | 4423/19777 [03:41<13:17, 19.26it/s]"
     ]
    },
    {
     "name": "stdout",
     "output_type": "stream",
     "text": [
      "✓ Processed: 0005_000851.wav\n",
      "✓ Processed: 0005_000852.wav\n",
      "✓ Processed: 0005_000853.wav\n",
      "✓ Processed: 0005_000854.wav\n"
     ]
    },
    {
     "name": "stderr",
     "output_type": "stream",
     "text": [
      "Processing files:  22%|██▏       | 4427/19777 [03:42<13:17, 19.24it/s]"
     ]
    },
    {
     "name": "stdout",
     "output_type": "stream",
     "text": [
      "✓ Processed: 0005_000855.wav\n",
      "✓ Processed: 0005_000856.wav\n",
      "✓ Processed: 0005_000857.wav\n",
      "✓ Processed: 0005_000859.wav\n"
     ]
    },
    {
     "name": "stderr",
     "output_type": "stream",
     "text": [
      "Processing files:  22%|██▏       | 4431/19777 [03:42<13:26, 19.03it/s]"
     ]
    },
    {
     "name": "stdout",
     "output_type": "stream",
     "text": [
      "✓ Processed: 0005_000860.wav\n",
      "✓ Processed: 0005_000862.wav\n",
      "✓ Processed: 0005_000863.wav\n",
      "✓ Processed: 0005_000865.wav\n"
     ]
    },
    {
     "name": "stderr",
     "output_type": "stream",
     "text": [
      "Processing files:  22%|██▏       | 4435/19777 [03:42<13:52, 18.43it/s]"
     ]
    },
    {
     "name": "stdout",
     "output_type": "stream",
     "text": [
      "✓ Processed: 0005_000866.wav\n",
      "✓ Processed: 0005_000868.wav\n",
      "✓ Processed: 0005_000869.wav\n",
      "✓ Processed: 0005_000870.wav\n"
     ]
    },
    {
     "name": "stderr",
     "output_type": "stream",
     "text": [
      "Processing files:  22%|██▏       | 4439/19777 [03:42<14:41, 17.41it/s]"
     ]
    },
    {
     "name": "stdout",
     "output_type": "stream",
     "text": [
      "✓ Processed: 0005_000877.wav\n",
      "✓ Processed: 0005_000878.wav\n",
      "✓ Processed: 0005_000879.wav\n",
      "✓ Processed: 0005_000880.wav\n"
     ]
    },
    {
     "name": "stderr",
     "output_type": "stream",
     "text": [
      "Processing files:  22%|██▏       | 4444/19777 [03:43<13:56, 18.34it/s]"
     ]
    },
    {
     "name": "stdout",
     "output_type": "stream",
     "text": [
      "✓ Processed: 0005_000881.wav\n",
      "✓ Processed: 0005_000882.wav\n",
      "✓ Processed: 0005_000883.wav\n",
      "✓ Processed: 0005_000886.wav\n",
      "✓ Processed: 0005_000887.wav\n"
     ]
    },
    {
     "name": "stderr",
     "output_type": "stream",
     "text": [
      "Processing files:  22%|██▏       | 4449/19777 [03:43<13:39, 18.70it/s]"
     ]
    },
    {
     "name": "stdout",
     "output_type": "stream",
     "text": [
      "✓ Processed: 0005_000888.wav\n",
      "✓ Processed: 0005_000889.wav\n",
      "✓ Processed: 0005_000890.wav\n",
      "✓ Processed: 0005_000891.wav\n",
      "✓ Processed: 0005_000893.wav\n"
     ]
    },
    {
     "name": "stderr",
     "output_type": "stream",
     "text": [
      "Processing files:  23%|██▎       | 4454/19777 [03:43<13:42, 18.63it/s]"
     ]
    },
    {
     "name": "stdout",
     "output_type": "stream",
     "text": [
      "✓ Processed: 0005_000894.wav\n",
      "✓ Processed: 0005_000895.wav\n",
      "✓ Processed: 0005_000897.wav\n",
      "✓ Processed: 0005_000898.wav\n"
     ]
    },
    {
     "name": "stderr",
     "output_type": "stream",
     "text": [
      "Processing files:  23%|██▎       | 4457/19777 [03:43<13:19, 19.16it/s]"
     ]
    },
    {
     "name": "stdout",
     "output_type": "stream",
     "text": [
      "✓ Processed: 0005_000899.wav\n",
      "✓ Processed: 0005_000900.wav\n",
      "✓ Processed: 0005_000901.wav\n",
      "✓ Processed: 0005_000902.wav\n",
      "✓ Processed: 0005_000904.wav\n"
     ]
    },
    {
     "name": "stderr",
     "output_type": "stream",
     "text": [
      "Processing files:  23%|██▎       | 4462/19777 [03:43<13:26, 18.98it/s]"
     ]
    },
    {
     "name": "stdout",
     "output_type": "stream",
     "text": [
      "✓ Processed: 0005_000905.wav\n",
      "✓ Processed: 0005_000906.wav\n",
      "✓ Processed: 0005_000907.wav\n",
      "✓ Processed: 0005_000910.wav\n"
     ]
    },
    {
     "name": "stderr",
     "output_type": "stream",
     "text": [
      "Processing files:  23%|██▎       | 4467/19777 [03:44<13:55, 18.33it/s]"
     ]
    },
    {
     "name": "stdout",
     "output_type": "stream",
     "text": [
      "✓ Processed: 0005_000911.wav\n",
      "✓ Processed: 0005_000912.wav\n",
      "✓ Processed: 0005_000914.wav\n"
     ]
    },
    {
     "name": "stderr",
     "output_type": "stream",
     "text": [
      "Processing files:  23%|██▎       | 4469/19777 [03:44<13:50, 18.43it/s]"
     ]
    },
    {
     "name": "stdout",
     "output_type": "stream",
     "text": [
      "✓ Processed: 0005_000915.wav\n",
      "✓ Processed: 0005_000916.wav\n",
      "✓ Processed: 0005_000917.wav\n",
      "✓ Processed: 0005_000920.wav\n"
     ]
    },
    {
     "name": "stderr",
     "output_type": "stream",
     "text": [
      "Processing files:  23%|██▎       | 4475/19777 [03:44<13:27, 18.95it/s]"
     ]
    },
    {
     "name": "stdout",
     "output_type": "stream",
     "text": [
      "✓ Processed: 0005_000921.wav\n",
      "✓ Processed: 0005_000922.wav\n",
      "✓ Processed: 0005_000926.wav\n",
      "✓ Processed: 0005_000927.wav\n"
     ]
    },
    {
     "name": "stderr",
     "output_type": "stream",
     "text": [
      "Processing files:  23%|██▎       | 4477/19777 [03:44<13:28, 18.94it/s]"
     ]
    },
    {
     "name": "stdout",
     "output_type": "stream",
     "text": [
      "✓ Processed: 0005_000928.wav\n",
      "✓ Processed: 0005_000929.wav\n",
      "✓ Processed: 0005_000931.wav\n",
      "✓ Processed: 0005_000932.wav\n"
     ]
    },
    {
     "name": "stderr",
     "output_type": "stream",
     "text": [
      "Processing files:  23%|██▎       | 4482/19777 [03:45<13:13, 19.27it/s]"
     ]
    },
    {
     "name": "stdout",
     "output_type": "stream",
     "text": [
      "✓ Processed: 0005_000933.wav\n",
      "✓ Processed: 0005_000937.wav\n",
      "✓ Processed: 0005_000939.wav\n",
      "✓ Processed: 0005_000940.wav\n",
      "✓ Processed: 0005_000941.wav\n"
     ]
    },
    {
     "name": "stderr",
     "output_type": "stream",
     "text": [
      "Processing files:  23%|██▎       | 4487/19777 [03:45<13:11, 19.32it/s]"
     ]
    },
    {
     "name": "stdout",
     "output_type": "stream",
     "text": [
      "✓ Processed: 0005_000942.wav\n",
      "✓ Processed: 0005_000946.wav\n",
      "✓ Processed: 0005_000947.wav\n",
      "✓ Processed: 0005_000948.wav\n"
     ]
    },
    {
     "name": "stderr",
     "output_type": "stream",
     "text": [
      "Processing files:  23%|██▎       | 4490/19777 [03:45<13:09, 19.36it/s]"
     ]
    },
    {
     "name": "stdout",
     "output_type": "stream",
     "text": [
      "✓ Processed: 0005_000949.wav\n",
      "✓ Processed: 0005_000950.wav\n",
      "✓ Processed: 0005_000954.wav\n",
      "✓ Processed: 0005_000956.wav\n"
     ]
    },
    {
     "name": "stderr",
     "output_type": "stream",
     "text": [
      "Processing files:  23%|██▎       | 4494/19777 [03:45<15:09, 16.80it/s]"
     ]
    },
    {
     "name": "stdout",
     "output_type": "stream",
     "text": [
      "✓ Processed: 0005_000959.wav\n",
      "✓ Processed: 0005_000960.wav\n",
      "✓ Processed: 0005_000963.wav\n",
      "✓ Processed: 0005_000964.wav\n"
     ]
    },
    {
     "name": "stderr",
     "output_type": "stream",
     "text": [
      "Processing files:  23%|██▎       | 4499/19777 [03:45<14:04, 18.09it/s]"
     ]
    },
    {
     "name": "stdout",
     "output_type": "stream",
     "text": [
      "✓ Processed: 0005_000966.wav\n",
      "✓ Processed: 0005_000968.wav\n",
      "✓ Processed: 0005_000970.wav\n",
      "✓ Processed: 0005_000974.wav\n"
     ]
    },
    {
     "name": "stderr",
     "output_type": "stream",
     "text": [
      "Processing files:  23%|██▎       | 4503/19777 [03:46<13:41, 18.60it/s]"
     ]
    },
    {
     "name": "stdout",
     "output_type": "stream",
     "text": [
      "✓ Processed: 0005_000975.wav\n",
      "✓ Processed: 0005_000977.wav\n",
      "✓ Processed: 0005_000981.wav\n",
      "✓ Processed: 0005_000982.wav\n"
     ]
    },
    {
     "name": "stderr",
     "output_type": "stream",
     "text": [
      "Processing files:  23%|██▎       | 4507/19777 [03:46<13:52, 18.35it/s]"
     ]
    },
    {
     "name": "stdout",
     "output_type": "stream",
     "text": [
      "✓ Processed: 0005_000984.wav\n",
      "✓ Processed: 0005_000987.wav\n",
      "✓ Processed: 0005_000990.wav\n",
      "✓ Processed: 0005_000991.wav\n"
     ]
    },
    {
     "name": "stderr",
     "output_type": "stream",
     "text": [
      "Processing files:  23%|██▎       | 4511/19777 [03:46<13:52, 18.34it/s]"
     ]
    },
    {
     "name": "stdout",
     "output_type": "stream",
     "text": [
      "✓ Processed: 0005_000992.wav\n",
      "✓ Processed: 0005_000993.wav\n",
      "✓ Processed: 0005_000995.wav\n",
      "✓ Processed: 0005_000996.wav\n"
     ]
    },
    {
     "name": "stderr",
     "output_type": "stream",
     "text": [
      "Processing files:  23%|██▎       | 4515/19777 [03:46<13:55, 18.26it/s]"
     ]
    },
    {
     "name": "stdout",
     "output_type": "stream",
     "text": [
      "✓ Processed: 0005_000997.wav\n",
      "✓ Processed: 0005_001000.wav\n",
      "✓ Processed: 0005_001002.wav\n",
      "✓ Processed: 0005_001003.wav\n"
     ]
    },
    {
     "name": "stderr",
     "output_type": "stream",
     "text": [
      "Processing files:  23%|██▎       | 4517/19777 [03:46<15:01, 16.92it/s]"
     ]
    },
    {
     "name": "stdout",
     "output_type": "stream",
     "text": [
      "✓ Processed: 0005_001005.wav\n",
      "✓ Processed: 0005_001006.wav\n",
      "✓ Processed: 0005_001007.wav\n"
     ]
    },
    {
     "name": "stderr",
     "output_type": "stream",
     "text": [
      "Processing files:  23%|██▎       | 4521/19777 [03:47<14:02, 18.10it/s]"
     ]
    },
    {
     "name": "stdout",
     "output_type": "stream",
     "text": [
      "✓ Processed: 0005_001009.wav\n",
      "✓ Processed: 0005_001010.wav\n",
      "✓ Processed: 0005_001011.wav\n",
      "✓ Processed: 0005_001012.wav\n",
      "✓ Processed: 0005_001014.wav\n"
     ]
    },
    {
     "name": "stderr",
     "output_type": "stream",
     "text": [
      "Processing files:  23%|██▎       | 4526/19777 [03:47<13:33, 18.74it/s]"
     ]
    },
    {
     "name": "stdout",
     "output_type": "stream",
     "text": [
      "✓ Processed: 0005_001015.wav\n",
      "✓ Processed: 0005_001029.wav\n",
      "✓ Processed: 0005_001032.wav\n",
      "✓ Processed: 0005_001034.wav\n"
     ]
    },
    {
     "name": "stderr",
     "output_type": "stream",
     "text": [
      "Processing files:  23%|██▎       | 4530/19777 [03:47<13:32, 18.76it/s]"
     ]
    },
    {
     "name": "stdout",
     "output_type": "stream",
     "text": [
      "✓ Processed: 0005_001035.wav\n",
      "✓ Processed: 0005_001036.wav\n",
      "✓ Processed: 0005_001040.wav\n",
      "✓ Processed: 0005_001041.wav\n"
     ]
    },
    {
     "name": "stderr",
     "output_type": "stream",
     "text": [
      "Processing files:  23%|██▎       | 4534/19777 [03:47<13:50, 18.35it/s]"
     ]
    },
    {
     "name": "stdout",
     "output_type": "stream",
     "text": [
      "✓ Processed: 0005_001047.wav\n",
      "✓ Processed: 0005_001048.wav\n",
      "✓ Processed: 0005_001050.wav\n",
      "✓ Processed: 0006_000701.wav\n"
     ]
    },
    {
     "name": "stderr",
     "output_type": "stream",
     "text": [
      "Processing files:  23%|██▎       | 4539/19777 [03:48<13:44, 18.48it/s]"
     ]
    },
    {
     "name": "stdout",
     "output_type": "stream",
     "text": [
      "✓ Processed: 0006_000702.wav\n",
      "✓ Processed: 0006_000703.wav\n",
      "✓ Processed: 0006_000705.wav\n",
      "✓ Processed: 0006_000708.wav\n"
     ]
    },
    {
     "name": "stderr",
     "output_type": "stream",
     "text": [
      "Processing files:  23%|██▎       | 4543/19777 [03:48<13:45, 18.45it/s]"
     ]
    },
    {
     "name": "stdout",
     "output_type": "stream",
     "text": [
      "✓ Processed: 0006_000710.wav\n",
      "✓ Processed: 0006_000711.wav\n",
      "✓ Processed: 0006_000714.wav\n",
      "✓ Processed: 0006_000715.wav\n"
     ]
    },
    {
     "name": "stderr",
     "output_type": "stream",
     "text": [
      "Processing files:  23%|██▎       | 4545/19777 [03:48<15:27, 16.42it/s]"
     ]
    },
    {
     "name": "stdout",
     "output_type": "stream",
     "text": [
      "✓ Processed: 0006_000716.wav\n",
      "✓ Processed: 0006_000718.wav\n",
      "✓ Processed: 0006_000719.wav\n",
      "✓ Processed: 0006_000720.wav\n"
     ]
    },
    {
     "name": "stderr",
     "output_type": "stream",
     "text": [
      "Processing files:  23%|██▎       | 4550/19777 [03:48<14:18, 17.73it/s]"
     ]
    },
    {
     "name": "stdout",
     "output_type": "stream",
     "text": [
      "✓ Processed: 0006_000723.wav\n",
      "✓ Processed: 0006_000725.wav\n",
      "✓ Processed: 0006_000727.wav\n",
      "✓ Processed: 0006_000729.wav\n"
     ]
    },
    {
     "name": "stderr",
     "output_type": "stream",
     "text": [
      "Processing files:  23%|██▎       | 4554/19777 [03:49<13:58, 18.16it/s]"
     ]
    },
    {
     "name": "stdout",
     "output_type": "stream",
     "text": [
      "✓ Processed: 0006_000730.wav\n",
      "✓ Processed: 0006_000731.wav\n",
      "✓ Processed: 0006_000732.wav\n",
      "✓ Processed: 0006_000733.wav\n",
      "✓ Processed: 0006_000735.wav\n"
     ]
    },
    {
     "name": "stderr",
     "output_type": "stream",
     "text": [
      "Processing files:  23%|██▎       | 4559/19777 [03:49<13:41, 18.52it/s]"
     ]
    },
    {
     "name": "stdout",
     "output_type": "stream",
     "text": [
      "✓ Processed: 0006_000736.wav\n",
      "✓ Processed: 0006_000737.wav\n",
      "✓ Processed: 0006_000740.wav\n",
      "✓ Processed: 0006_000741.wav\n"
     ]
    },
    {
     "name": "stderr",
     "output_type": "stream",
     "text": [
      "Processing files:  23%|██▎       | 4563/19777 [03:49<13:51, 18.29it/s]"
     ]
    },
    {
     "name": "stdout",
     "output_type": "stream",
     "text": [
      "✓ Processed: 0006_000743.wav\n",
      "✓ Processed: 0006_000744.wav\n",
      "✓ Processed: 0006_000745.wav\n",
      "✓ Processed: 0006_000746.wav\n"
     ]
    },
    {
     "name": "stderr",
     "output_type": "stream",
     "text": [
      "Processing files:  23%|██▎       | 4568/19777 [03:49<13:10, 19.25it/s]"
     ]
    },
    {
     "name": "stdout",
     "output_type": "stream",
     "text": [
      "✓ Processed: 0006_000748.wav\n",
      "✓ Processed: 0006_000749.wav\n",
      "✓ Processed: 0006_000750.wav\n",
      "✓ Processed: 0006_000751.wav\n",
      "✓ Processed: 0006_000752.wav\n"
     ]
    },
    {
     "name": "stderr",
     "output_type": "stream",
     "text": [
      "Processing files:  23%|██▎       | 4572/19777 [03:50<16:31, 15.34it/s]"
     ]
    },
    {
     "name": "stdout",
     "output_type": "stream",
     "text": [
      "✓ Processed: 0006_000754.wav\n",
      "✓ Processed: 0006_000755.wav\n",
      "✓ Processed: 0006_000757.wav\n"
     ]
    },
    {
     "name": "stderr",
     "output_type": "stream",
     "text": [
      "Processing files:  23%|██▎       | 4576/19777 [03:50<14:50, 17.07it/s]"
     ]
    },
    {
     "name": "stdout",
     "output_type": "stream",
     "text": [
      "✓ Processed: 0006_000758.wav\n",
      "✓ Processed: 0006_000760.wav\n",
      "✓ Processed: 0006_000762.wav\n",
      "✓ Processed: 0006_000764.wav\n",
      "✓ Processed: 0006_000766.wav\n"
     ]
    },
    {
     "name": "stderr",
     "output_type": "stream",
     "text": [
      "Processing files:  23%|██▎       | 4581/19777 [03:50<13:58, 18.11it/s]"
     ]
    },
    {
     "name": "stdout",
     "output_type": "stream",
     "text": [
      "✓ Processed: 0006_000769.wav\n",
      "✓ Processed: 0006_000770.wav\n",
      "✓ Processed: 0006_000771.wav\n",
      "✓ Processed: 0006_000772.wav\n",
      "✓ Processed: 0006_000773.wav\n"
     ]
    },
    {
     "name": "stderr",
     "output_type": "stream",
     "text": [
      "Processing files:  23%|██▎       | 4585/19777 [03:50<13:47, 18.36it/s]"
     ]
    },
    {
     "name": "stdout",
     "output_type": "stream",
     "text": [
      "✓ Processed: 0006_000774.wav\n",
      "✓ Processed: 0006_000775.wav\n",
      "✓ Processed: 0006_000777.wav\n",
      "✓ Processed: 0006_000778.wav\n"
     ]
    },
    {
     "name": "stderr",
     "output_type": "stream",
     "text": [
      "Processing files:  23%|██▎       | 4589/19777 [03:50<13:45, 18.39it/s]"
     ]
    },
    {
     "name": "stdout",
     "output_type": "stream",
     "text": [
      "✓ Processed: 0006_000781.wav\n",
      "✓ Processed: 0006_000782.wav\n",
      "✓ Processed: 0006_000783.wav\n",
      "✓ Processed: 0006_000788.wav\n",
      "✓ Processed: 0006_000790.wav\n"
     ]
    },
    {
     "name": "stderr",
     "output_type": "stream",
     "text": [
      "Processing files:  23%|██▎       | 4594/19777 [03:51<13:35, 18.63it/s]"
     ]
    },
    {
     "name": "stdout",
     "output_type": "stream",
     "text": [
      "✓ Processed: 0006_000791.wav\n",
      "✓ Processed: 0006_000793.wav\n",
      "✓ Processed: 0006_000794.wav\n",
      "✓ Processed: 0006_000796.wav\n"
     ]
    },
    {
     "name": "stderr",
     "output_type": "stream",
     "text": [
      "Processing files:  23%|██▎       | 4598/19777 [03:51<16:08, 15.67it/s]"
     ]
    },
    {
     "name": "stdout",
     "output_type": "stream",
     "text": [
      "✓ Processed: 0006_000799.wav\n",
      "✓ Processed: 0006_000800.wav\n"
     ]
    },
    {
     "name": "stderr",
     "output_type": "stream",
     "text": [
      "Processing files:  23%|██▎       | 4601/19777 [03:51<15:01, 16.84it/s]"
     ]
    },
    {
     "name": "stdout",
     "output_type": "stream",
     "text": [
      "✓ Processed: 0006_000802.wav\n",
      "✓ Processed: 0006_000803.wav\n",
      "✓ Processed: 0006_000804.wav\n",
      "✓ Processed: 0006_000806.wav\n"
     ]
    },
    {
     "name": "stderr",
     "output_type": "stream",
     "text": [
      "Processing files:  23%|██▎       | 4605/19777 [03:51<14:35, 17.34it/s]"
     ]
    },
    {
     "name": "stdout",
     "output_type": "stream",
     "text": [
      "✓ Processed: 0006_000807.wav\n",
      "✓ Processed: 0006_000808.wav\n",
      "✓ Processed: 0006_000810.wav\n",
      "✓ Processed: 0006_000811.wav\n"
     ]
    },
    {
     "name": "stderr",
     "output_type": "stream",
     "text": [
      "Processing files:  23%|██▎       | 4609/19777 [03:52<14:11, 17.82it/s]"
     ]
    },
    {
     "name": "stdout",
     "output_type": "stream",
     "text": [
      "✓ Processed: 0006_000812.wav\n",
      "✓ Processed: 0006_000813.wav\n",
      "✓ Processed: 0006_000815.wav\n",
      "✓ Processed: 0006_000818.wav\n"
     ]
    },
    {
     "name": "stderr",
     "output_type": "stream",
     "text": [
      "Processing files:  23%|██▎       | 4613/19777 [03:52<14:05, 17.94it/s]"
     ]
    },
    {
     "name": "stdout",
     "output_type": "stream",
     "text": [
      "✓ Processed: 0006_000819.wav\n",
      "✓ Processed: 0006_000820.wav\n",
      "✓ Processed: 0006_000821.wav\n",
      "✓ Processed: 0006_000825.wav\n"
     ]
    },
    {
     "name": "stderr",
     "output_type": "stream",
     "text": [
      "Processing files:  23%|██▎       | 4617/19777 [03:52<13:56, 18.12it/s]"
     ]
    },
    {
     "name": "stdout",
     "output_type": "stream",
     "text": [
      "✓ Processed: 0006_000826.wav\n",
      "✓ Processed: 0006_000827.wav\n",
      "✓ Processed: 0006_000831.wav\n",
      "✓ Processed: 0006_000832.wav\n"
     ]
    },
    {
     "name": "stderr",
     "output_type": "stream",
     "text": [
      "Processing files:  23%|██▎       | 4619/19777 [03:52<15:18, 16.50it/s]"
     ]
    },
    {
     "name": "stdout",
     "output_type": "stream",
     "text": [
      "✓ Processed: 0006_000834.wav\n",
      "✓ Processed: 0006_000836.wav\n",
      "✓ Processed: 0006_000839.wav\n"
     ]
    },
    {
     "name": "stderr",
     "output_type": "stream",
     "text": [
      "Processing files:  23%|██▎       | 4623/19777 [03:52<14:40, 17.20it/s]"
     ]
    },
    {
     "name": "stdout",
     "output_type": "stream",
     "text": [
      "✓ Processed: 0006_000840.wav\n",
      "✓ Processed: 0006_000845.wav\n",
      "✓ Processed: 0006_000847.wav\n",
      "✓ Processed: 0006_000849.wav\n",
      "✓ Processed: 0006_000850.wav\n"
     ]
    },
    {
     "name": "stderr",
     "output_type": "stream",
     "text": [
      "Processing files:  23%|██▎       | 4628/19777 [03:53<13:37, 18.54it/s]"
     ]
    },
    {
     "name": "stdout",
     "output_type": "stream",
     "text": [
      "✓ Processed: 0006_000851.wav\n",
      "✓ Processed: 0006_000852.wav\n",
      "✓ Processed: 0006_000853.wav\n",
      "✓ Processed: 0006_000854.wav\n",
      "✓ Processed: 0006_000855.wav\n"
     ]
    },
    {
     "name": "stderr",
     "output_type": "stream",
     "text": [
      "Processing files:  23%|██▎       | 4634/19777 [03:53<13:36, 18.55it/s]"
     ]
    },
    {
     "name": "stdout",
     "output_type": "stream",
     "text": [
      "✓ Processed: 0006_000857.wav\n",
      "✓ Processed: 0006_000858.wav\n",
      "✓ Processed: 0006_000859.wav\n",
      "✓ Processed: 0006_000860.wav\n",
      "✓ Processed: 0006_000861.wav\n"
     ]
    },
    {
     "name": "stderr",
     "output_type": "stream",
     "text": [
      "Processing files:  23%|██▎       | 4638/19777 [03:53<14:07, 17.86it/s]"
     ]
    },
    {
     "name": "stdout",
     "output_type": "stream",
     "text": [
      "✓ Processed: 0006_000863.wav\n",
      "✓ Processed: 0006_000868.wav\n",
      "✓ Processed: 0006_000871.wav\n",
      "✓ Processed: 0006_000872.wav\n"
     ]
    },
    {
     "name": "stderr",
     "output_type": "stream",
     "text": [
      "Processing files:  23%|██▎       | 4642/19777 [03:53<14:41, 17.16it/s]"
     ]
    },
    {
     "name": "stdout",
     "output_type": "stream",
     "text": [
      "✓ Processed: 0006_000873.wav\n",
      "✓ Processed: 0006_000874.wav\n",
      "✓ Processed: 0006_000875.wav\n",
      "✓ Processed: 0006_000876.wav\n"
     ]
    },
    {
     "name": "stderr",
     "output_type": "stream",
     "text": [
      "Processing files:  23%|██▎       | 4646/19777 [03:54<14:17, 17.65it/s]"
     ]
    },
    {
     "name": "stdout",
     "output_type": "stream",
     "text": [
      "✓ Processed: 0006_000877.wav\n",
      "✓ Processed: 0006_000878.wav\n",
      "✓ Processed: 0006_000879.wav\n",
      "✓ Processed: 0006_000881.wav\n"
     ]
    },
    {
     "name": "stderr",
     "output_type": "stream",
     "text": [
      "Processing files:  24%|██▎       | 4652/19777 [03:54<13:29, 18.69it/s]"
     ]
    },
    {
     "name": "stdout",
     "output_type": "stream",
     "text": [
      "✓ Processed: 0006_000882.wav\n",
      "✓ Processed: 0006_000883.wav\n",
      "✓ Processed: 0006_000887.wav\n",
      "✓ Processed: 0006_000889.wav\n"
     ]
    },
    {
     "name": "stderr",
     "output_type": "stream",
     "text": [
      "Processing files:  24%|██▎       | 4654/19777 [03:54<13:26, 18.75it/s]"
     ]
    },
    {
     "name": "stdout",
     "output_type": "stream",
     "text": [
      "✓ Processed: 0006_000892.wav\n",
      "✓ Processed: 0006_000893.wav\n",
      "✓ Processed: 0006_000894.wav\n",
      "✓ Processed: 0006_000895.wav\n"
     ]
    },
    {
     "name": "stderr",
     "output_type": "stream",
     "text": [
      "Processing files:  24%|██▎       | 4658/19777 [03:54<14:34, 17.30it/s]"
     ]
    },
    {
     "name": "stdout",
     "output_type": "stream",
     "text": [
      "✓ Processed: 0006_000896.wav\n",
      "✓ Processed: 0006_000897.wav\n",
      "✓ Processed: 0006_000898.wav\n",
      "✓ Processed: 0006_000899.wav\n"
     ]
    },
    {
     "name": "stderr",
     "output_type": "stream",
     "text": [
      "Processing files:  24%|██▎       | 4662/19777 [03:55<15:18, 16.46it/s]"
     ]
    },
    {
     "name": "stdout",
     "output_type": "stream",
     "text": [
      "✓ Processed: 0006_000901.wav\n",
      "✓ Processed: 0006_000902.wav\n",
      "✓ Processed: 0006_000903.wav\n",
      "✓ Processed: 0006_000904.wav\n"
     ]
    },
    {
     "name": "stderr",
     "output_type": "stream",
     "text": [
      "Processing files:  24%|██▎       | 4666/19777 [03:55<15:52, 15.86it/s]"
     ]
    },
    {
     "name": "stdout",
     "output_type": "stream",
     "text": [
      "✓ Processed: 0006_000905.wav\n",
      "✓ Processed: 0006_000906.wav\n",
      "✓ Processed: 0006_000908.wav\n"
     ]
    },
    {
     "name": "stderr",
     "output_type": "stream",
     "text": [
      "Processing files:  24%|██▎       | 4668/19777 [03:55<17:00, 14.80it/s]"
     ]
    },
    {
     "name": "stdout",
     "output_type": "stream",
     "text": [
      "✓ Processed: 0006_000909.wav\n",
      "✓ Processed: 0006_000910.wav\n",
      "✓ Processed: 0006_000912.wav\n"
     ]
    },
    {
     "name": "stderr",
     "output_type": "stream",
     "text": [
      "Processing files:  24%|██▎       | 4672/19777 [03:55<19:15, 13.07it/s]"
     ]
    },
    {
     "name": "stdout",
     "output_type": "stream",
     "text": [
      "✓ Processed: 0006_000914.wav\n",
      "✓ Processed: 0006_000915.wav\n",
      "✓ Processed: 0006_000916.wav\n",
      "✓ Processed: 0006_000917.wav\n"
     ]
    },
    {
     "name": "stderr",
     "output_type": "stream",
     "text": [
      "Processing files:  24%|██▎       | 4676/19777 [03:56<21:01, 11.97it/s]"
     ]
    },
    {
     "name": "stdout",
     "output_type": "stream",
     "text": [
      "✓ Processed: 0006_000918.wav\n",
      "✓ Processed: 0006_000919.wav\n",
      "✓ Processed: 0006_000920.wav\n",
      "✓ Processed: 0006_000921.wav\n"
     ]
    },
    {
     "name": "stderr",
     "output_type": "stream",
     "text": [
      "Processing files:  24%|██▎       | 4680/19777 [03:56<18:34, 13.55it/s]"
     ]
    },
    {
     "name": "stdout",
     "output_type": "stream",
     "text": [
      "✓ Processed: 0006_000922.wav\n",
      "✓ Processed: 0006_000924.wav\n",
      "✓ Processed: 0006_000925.wav\n",
      "✓ Processed: 0006_000929.wav\n"
     ]
    },
    {
     "name": "stderr",
     "output_type": "stream",
     "text": [
      "Processing files:  24%|██▎       | 4684/19777 [03:56<16:04, 15.66it/s]"
     ]
    },
    {
     "name": "stdout",
     "output_type": "stream",
     "text": [
      "✓ Processed: 0006_000931.wav\n",
      "✓ Processed: 0006_000934.wav\n",
      "✓ Processed: 0006_000935.wav\n",
      "✓ Processed: 0006_000936.wav\n"
     ]
    },
    {
     "name": "stderr",
     "output_type": "stream",
     "text": [
      "Processing files:  24%|██▎       | 4688/19777 [03:56<16:15, 15.47it/s]"
     ]
    },
    {
     "name": "stdout",
     "output_type": "stream",
     "text": [
      "✓ Processed: 0006_000937.wav\n",
      "✓ Processed: 0006_000938.wav\n",
      "✓ Processed: 0006_000939.wav\n"
     ]
    },
    {
     "name": "stderr",
     "output_type": "stream",
     "text": [
      "Processing files:  24%|██▎       | 4692/19777 [03:57<15:32, 16.18it/s]"
     ]
    },
    {
     "name": "stdout",
     "output_type": "stream",
     "text": [
      "✓ Processed: 0006_000940.wav\n",
      "✓ Processed: 0006_000941.wav\n",
      "✓ Processed: 0006_000942.wav\n",
      "✓ Processed: 0006_000943.wav\n"
     ]
    },
    {
     "name": "stderr",
     "output_type": "stream",
     "text": [
      "Processing files:  24%|██▎       | 4696/19777 [03:57<15:54, 15.80it/s]"
     ]
    },
    {
     "name": "stdout",
     "output_type": "stream",
     "text": [
      "✓ Processed: 0006_000944.wav\n",
      "✓ Processed: 0006_000945.wav\n",
      "✓ Processed: 0006_000946.wav\n"
     ]
    },
    {
     "name": "stderr",
     "output_type": "stream",
     "text": [
      "Processing files:  24%|██▍       | 4698/19777 [03:57<15:22, 16.35it/s]"
     ]
    },
    {
     "name": "stdout",
     "output_type": "stream",
     "text": [
      "✓ Processed: 0006_000947.wav\n",
      "✓ Processed: 0006_000948.wav\n",
      "✓ Processed: 0006_000951.wav\n",
      "✓ Processed: 0006_000952.wav\n"
     ]
    },
    {
     "name": "stderr",
     "output_type": "stream",
     "text": [
      "Processing files:  24%|██▍       | 4702/19777 [03:57<16:41, 15.06it/s]"
     ]
    },
    {
     "name": "stdout",
     "output_type": "stream",
     "text": [
      "✓ Processed: 0006_000953.wav\n",
      "✓ Processed: 0006_000957.wav\n",
      "✓ Processed: 0006_000959.wav\n"
     ]
    },
    {
     "name": "stderr",
     "output_type": "stream",
     "text": [
      "Processing files:  24%|██▍       | 4704/19777 [03:57<17:25, 14.42it/s]"
     ]
    },
    {
     "name": "stdout",
     "output_type": "stream",
     "text": [
      "✓ Processed: 0006_000961.wav\n",
      "✓ Processed: 0006_000962.wav\n",
      "✓ Processed: 0006_000963.wav\n"
     ]
    },
    {
     "name": "stderr",
     "output_type": "stream",
     "text": [
      "Processing files:  24%|██▍       | 4708/19777 [03:58<17:37, 14.25it/s]"
     ]
    },
    {
     "name": "stdout",
     "output_type": "stream",
     "text": [
      "✓ Processed: 0006_000964.wav\n",
      "✓ Processed: 0006_000965.wav\n",
      "✓ Processed: 0006_000966.wav\n"
     ]
    },
    {
     "name": "stderr",
     "output_type": "stream",
     "text": [
      "Processing files:  24%|██▍       | 4712/19777 [03:58<17:03, 14.72it/s]"
     ]
    },
    {
     "name": "stdout",
     "output_type": "stream",
     "text": [
      "✓ Processed: 0006_000971.wav\n",
      "✓ Processed: 0006_000972.wav\n",
      "✓ Processed: 0006_000973.wav\n"
     ]
    },
    {
     "name": "stderr",
     "output_type": "stream",
     "text": [
      "Processing files:  24%|██▍       | 4714/19777 [03:58<16:32, 15.18it/s]"
     ]
    },
    {
     "name": "stdout",
     "output_type": "stream",
     "text": [
      "✓ Processed: 0006_000975.wav\n",
      "✓ Processed: 0006_000982.wav\n",
      "✓ Processed: 0006_000983.wav\n",
      "✓ Processed: 0006_000984.wav\n"
     ]
    },
    {
     "name": "stderr",
     "output_type": "stream",
     "text": [
      "Processing files:  24%|██▍       | 4718/19777 [03:58<15:24, 16.30it/s]"
     ]
    },
    {
     "name": "stdout",
     "output_type": "stream",
     "text": [
      "✓ Processed: 0006_000986.wav\n",
      "✓ Processed: 0006_000988.wav\n",
      "✓ Processed: 0006_000996.wav\n",
      "✓ Processed: 0006_000998.wav\n"
     ]
    },
    {
     "name": "stderr",
     "output_type": "stream",
     "text": [
      "Processing files:  24%|██▍       | 4722/19777 [03:59<14:43, 17.05it/s]"
     ]
    },
    {
     "name": "stdout",
     "output_type": "stream",
     "text": [
      "✓ Processed: 0006_000999.wav\n",
      "✓ Processed: 0006_001000.wav\n",
      "✓ Processed: 0006_001001.wav\n",
      "✓ Processed: 0006_001002.wav\n"
     ]
    },
    {
     "name": "stderr",
     "output_type": "stream",
     "text": [
      "Processing files:  24%|██▍       | 4726/19777 [03:59<14:59, 16.73it/s]"
     ]
    },
    {
     "name": "stdout",
     "output_type": "stream",
     "text": [
      "✓ Processed: 0006_001003.wav\n",
      "✓ Processed: 0006_001006.wav\n",
      "✓ Processed: 0006_001007.wav\n",
      "✓ Processed: 0006_001008.wav\n"
     ]
    },
    {
     "name": "stderr",
     "output_type": "stream",
     "text": [
      "Processing files:  24%|██▍       | 4730/19777 [03:59<14:34, 17.21it/s]"
     ]
    },
    {
     "name": "stdout",
     "output_type": "stream",
     "text": [
      "✓ Processed: 0006_001010.wav\n",
      "✓ Processed: 0006_001013.wav\n",
      "✓ Processed: 0006_001015.wav\n",
      "✓ Processed: 0006_001016.wav\n"
     ]
    },
    {
     "name": "stderr",
     "output_type": "stream",
     "text": [
      "Processing files:  24%|██▍       | 4734/19777 [03:59<14:04, 17.82it/s]"
     ]
    },
    {
     "name": "stdout",
     "output_type": "stream",
     "text": [
      "✓ Processed: 0006_001021.wav\n",
      "✓ Processed: 0006_001023.wav\n",
      "✓ Processed: 0006_001024.wav\n",
      "✓ Processed: 0006_001027.wav\n"
     ]
    },
    {
     "name": "stderr",
     "output_type": "stream",
     "text": [
      "Processing files:  24%|██▍       | 4738/19777 [04:00<13:56, 17.99it/s]"
     ]
    },
    {
     "name": "stdout",
     "output_type": "stream",
     "text": [
      "✓ Processed: 0006_001031.wav\n",
      "✓ Processed: 0006_001033.wav\n",
      "✓ Processed: 0006_001034.wav\n",
      "✓ Processed: 0006_001035.wav\n"
     ]
    },
    {
     "name": "stderr",
     "output_type": "stream",
     "text": [
      "Processing files:  24%|██▍       | 4742/19777 [04:00<13:42, 18.29it/s]"
     ]
    },
    {
     "name": "stdout",
     "output_type": "stream",
     "text": [
      "✓ Processed: 0006_001037.wav\n",
      "✓ Processed: 0006_001040.wav\n",
      "✓ Processed: 0006_001042.wav\n",
      "✓ Processed: 0006_001044.wav\n"
     ]
    },
    {
     "name": "stderr",
     "output_type": "stream",
     "text": [
      "Processing files:  24%|██▍       | 4746/19777 [04:00<13:51, 18.08it/s]"
     ]
    },
    {
     "name": "stdout",
     "output_type": "stream",
     "text": [
      "✓ Processed: 0006_001047.wav\n",
      "✓ Processed: 0006_001049.wav\n",
      "✓ Processed: 0006_001050.wav\n",
      "✓ Processed: 0007_000702.wav\n"
     ]
    },
    {
     "name": "stderr",
     "output_type": "stream",
     "text": [
      "Processing files:  24%|██▍       | 4751/19777 [04:00<13:37, 18.39it/s]"
     ]
    },
    {
     "name": "stdout",
     "output_type": "stream",
     "text": [
      "✓ Processed: 0007_000704.wav\n",
      "✓ Processed: 0007_000705.wav\n",
      "✓ Processed: 0007_000706.wav\n",
      "✓ Processed: 0007_000707.wav\n"
     ]
    },
    {
     "name": "stderr",
     "output_type": "stream",
     "text": [
      "Processing files:  24%|██▍       | 4755/19777 [04:00<13:39, 18.33it/s]"
     ]
    },
    {
     "name": "stdout",
     "output_type": "stream",
     "text": [
      "✓ Processed: 0007_000708.wav\n",
      "✓ Processed: 0007_000711.wav\n",
      "✓ Processed: 0007_000712.wav\n",
      "✓ Processed: 0007_000713.wav\n"
     ]
    },
    {
     "name": "stderr",
     "output_type": "stream",
     "text": [
      "Processing files:  24%|██▍       | 4757/19777 [04:01<13:51, 18.07it/s]"
     ]
    },
    {
     "name": "stdout",
     "output_type": "stream",
     "text": [
      "✓ Processed: 0007_000715.wav\n",
      "✓ Processed: 0007_000716.wav\n",
      "✓ Processed: 0007_000722.wav\n"
     ]
    },
    {
     "name": "stderr",
     "output_type": "stream",
     "text": [
      "Processing files:  24%|██▍       | 4761/19777 [04:01<15:31, 16.12it/s]"
     ]
    },
    {
     "name": "stdout",
     "output_type": "stream",
     "text": [
      "✓ Processed: 0007_000723.wav\n",
      "✓ Processed: 0007_000724.wav\n",
      "✓ Processed: 0007_000726.wav\n",
      "✓ Processed: 0007_000727.wav\n"
     ]
    },
    {
     "name": "stderr",
     "output_type": "stream",
     "text": [
      "Processing files:  24%|██▍       | 4767/19777 [04:01<13:59, 17.87it/s]"
     ]
    },
    {
     "name": "stdout",
     "output_type": "stream",
     "text": [
      "✓ Processed: 0007_000728.wav\n",
      "✓ Processed: 0007_000734.wav\n",
      "✓ Processed: 0007_000735.wav\n",
      "✓ Processed: 0007_000738.wav\n"
     ]
    },
    {
     "name": "stderr",
     "output_type": "stream",
     "text": [
      "Processing files:  24%|██▍       | 4770/19777 [04:01<13:41, 18.28it/s]"
     ]
    },
    {
     "name": "stdout",
     "output_type": "stream",
     "text": [
      "✓ Processed: 0007_000740.wav\n",
      "✓ Processed: 0007_000741.wav\n",
      "✓ Processed: 0007_000742.wav\n",
      "✓ Processed: 0007_000743.wav\n"
     ]
    },
    {
     "name": "stderr",
     "output_type": "stream",
     "text": [
      "Processing files:  24%|██▍       | 4772/19777 [04:01<15:12, 16.44it/s]"
     ]
    },
    {
     "name": "stdout",
     "output_type": "stream",
     "text": [
      "✓ Processed: 0007_000744.wav\n",
      "✓ Processed: 0007_000745.wav\n",
      "✓ Processed: 0007_000748.wav\n"
     ]
    },
    {
     "name": "stderr",
     "output_type": "stream",
     "text": [
      "Processing files:  24%|██▍       | 4777/19777 [04:02<14:46, 16.91it/s]"
     ]
    },
    {
     "name": "stdout",
     "output_type": "stream",
     "text": [
      "✓ Processed: 0007_000749.wav\n",
      "✓ Processed: 0007_000750.wav\n",
      "✓ Processed: 0007_000751.wav\n",
      "✓ Processed: 0007_000752.wav\n",
      "✓ Processed: 0007_000753.wav\n"
     ]
    },
    {
     "name": "stderr",
     "output_type": "stream",
     "text": [
      "Processing files:  24%|██▍       | 4781/19777 [04:02<13:53, 17.99it/s]"
     ]
    },
    {
     "name": "stdout",
     "output_type": "stream",
     "text": [
      "✓ Processed: 0007_000754.wav\n",
      "✓ Processed: 0007_000755.wav\n",
      "✓ Processed: 0007_000756.wav\n",
      "✓ Processed: 0007_000759.wav\n"
     ]
    },
    {
     "name": "stderr",
     "output_type": "stream",
     "text": [
      "Processing files:  24%|██▍       | 4786/19777 [04:02<13:34, 18.40it/s]"
     ]
    },
    {
     "name": "stdout",
     "output_type": "stream",
     "text": [
      "✓ Processed: 0007_000760.wav\n",
      "✓ Processed: 0007_000761.wav\n",
      "✓ Processed: 0007_000762.wav\n",
      "✓ Processed: 0007_000763.wav\n"
     ]
    },
    {
     "name": "stderr",
     "output_type": "stream",
     "text": [
      "Processing files:  24%|██▍       | 4790/19777 [04:02<13:16, 18.81it/s]"
     ]
    },
    {
     "name": "stdout",
     "output_type": "stream",
     "text": [
      "✓ Processed: 0007_000764.wav\n",
      "✓ Processed: 0007_000765.wav\n",
      "✓ Processed: 0007_000766.wav\n",
      "✓ Processed: 0007_000769.wav\n",
      "✓ Processed: 0007_000771.wav\n"
     ]
    },
    {
     "name": "stderr",
     "output_type": "stream",
     "text": [
      "Processing files:  24%|██▍       | 4795/19777 [04:03<13:15, 18.84it/s]"
     ]
    },
    {
     "name": "stdout",
     "output_type": "stream",
     "text": [
      "✓ Processed: 0007_000773.wav\n",
      "✓ Processed: 0007_000775.wav\n",
      "✓ Processed: 0007_000777.wav\n",
      "✓ Processed: 0007_000779.wav\n"
     ]
    },
    {
     "name": "stderr",
     "output_type": "stream",
     "text": [
      "Processing files:  24%|██▍       | 4797/19777 [04:03<15:07, 16.50it/s]"
     ]
    },
    {
     "name": "stdout",
     "output_type": "stream",
     "text": [
      "✓ Processed: 0007_000781.wav\n",
      "✓ Processed: 0007_000782.wav\n",
      "✓ Processed: 0007_000783.wav\n"
     ]
    },
    {
     "name": "stderr",
     "output_type": "stream",
     "text": [
      "Processing files:  24%|██▍       | 4802/19777 [04:03<14:14, 17.53it/s]"
     ]
    },
    {
     "name": "stdout",
     "output_type": "stream",
     "text": [
      "✓ Processed: 0007_000788.wav\n",
      "✓ Processed: 0007_000789.wav\n",
      "✓ Processed: 0007_000792.wav\n",
      "✓ Processed: 0007_000797.wav\n",
      "✓ Processed: 0007_000798.wav\n"
     ]
    },
    {
     "name": "stderr",
     "output_type": "stream",
     "text": [
      "Processing files:  24%|██▍       | 4807/19777 [04:03<13:15, 18.82it/s]"
     ]
    },
    {
     "name": "stdout",
     "output_type": "stream",
     "text": [
      "✓ Processed: 0007_000799.wav\n",
      "✓ Processed: 0007_000800.wav\n",
      "✓ Processed: 0007_000801.wav\n",
      "✓ Processed: 0007_000805.wav\n"
     ]
    },
    {
     "name": "stderr",
     "output_type": "stream",
     "text": [
      "Processing files:  24%|██▍       | 4810/19777 [04:04<13:17, 18.78it/s]"
     ]
    },
    {
     "name": "stdout",
     "output_type": "stream",
     "text": [
      "✓ Processed: 0007_000808.wav\n",
      "✓ Processed: 0007_000809.wav\n",
      "✓ Processed: 0007_000810.wav\n",
      "✓ Processed: 0007_000812.wav\n"
     ]
    },
    {
     "name": "stderr",
     "output_type": "stream",
     "text": [
      "Processing files:  24%|██▍       | 4816/19777 [04:04<12:54, 19.31it/s]"
     ]
    },
    {
     "name": "stdout",
     "output_type": "stream",
     "text": [
      "✓ Processed: 0007_000813.wav\n",
      "✓ Processed: 0007_000814.wav\n",
      "✓ Processed: 0007_000815.wav\n",
      "✓ Processed: 0007_000816.wav\n"
     ]
    },
    {
     "name": "stderr",
     "output_type": "stream",
     "text": [
      "Processing files:  24%|██▍       | 4818/19777 [04:04<13:02, 19.12it/s]"
     ]
    },
    {
     "name": "stdout",
     "output_type": "stream",
     "text": [
      "✓ Processed: 0007_000817.wav\n",
      "✓ Processed: 0007_000818.wav\n",
      "✓ Processed: 0007_000819.wav\n",
      "✓ Processed: 0007_000820.wav\n"
     ]
    },
    {
     "name": "stderr",
     "output_type": "stream",
     "text": [
      "Processing files:  24%|██▍       | 4822/19777 [04:04<14:36, 17.05it/s]"
     ]
    },
    {
     "name": "stdout",
     "output_type": "stream",
     "text": [
      "✓ Processed: 0007_000821.wav\n",
      "✓ Processed: 0007_000822.wav\n",
      "✓ Processed: 0007_000825.wav\n",
      "✓ Processed: 0007_000826.wav\n"
     ]
    },
    {
     "name": "stderr",
     "output_type": "stream",
     "text": [
      "Processing files:  24%|██▍       | 4826/19777 [04:04<14:04, 17.70it/s]"
     ]
    },
    {
     "name": "stdout",
     "output_type": "stream",
     "text": [
      "✓ Processed: 0007_000827.wav\n",
      "✓ Processed: 0007_000829.wav\n",
      "✓ Processed: 0007_000831.wav\n",
      "✓ Processed: 0007_000832.wav\n"
     ]
    },
    {
     "name": "stderr",
     "output_type": "stream",
     "text": [
      "Processing files:  24%|██▍       | 4830/19777 [04:05<13:23, 18.60it/s]"
     ]
    },
    {
     "name": "stdout",
     "output_type": "stream",
     "text": [
      "✓ Processed: 0007_000833.wav\n",
      "✓ Processed: 0007_000834.wav\n",
      "✓ Processed: 0007_000835.wav\n",
      "✓ Processed: 0007_000836.wav\n"
     ]
    },
    {
     "name": "stderr",
     "output_type": "stream",
     "text": [
      "Processing files:  24%|██▍       | 4834/19777 [04:05<13:26, 18.52it/s]"
     ]
    },
    {
     "name": "stdout",
     "output_type": "stream",
     "text": [
      "✓ Processed: 0007_000837.wav\n",
      "✓ Processed: 0007_000838.wav\n",
      "✓ Processed: 0007_000840.wav\n",
      "✓ Processed: 0007_000842.wav\n",
      "✓ Processed: 0007_000844.wav\n"
     ]
    },
    {
     "name": "stderr",
     "output_type": "stream",
     "text": [
      "Processing files:  24%|██▍       | 4839/19777 [04:05<12:54, 19.28it/s]"
     ]
    },
    {
     "name": "stdout",
     "output_type": "stream",
     "text": [
      "✓ Processed: 0007_000845.wav\n",
      "✓ Processed: 0007_000846.wav\n",
      "✓ Processed: 0007_000847.wav\n",
      "✓ Processed: 0007_000848.wav\n"
     ]
    },
    {
     "name": "stderr",
     "output_type": "stream",
     "text": [
      "Processing files:  24%|██▍       | 4844/19777 [04:05<13:07, 18.95it/s]"
     ]
    },
    {
     "name": "stdout",
     "output_type": "stream",
     "text": [
      "✓ Processed: 0007_000849.wav\n",
      "✓ Processed: 0007_000851.wav\n",
      "✓ Processed: 0007_000854.wav\n",
      "✓ Processed: 0007_000856.wav\n"
     ]
    },
    {
     "name": "stderr",
     "output_type": "stream",
     "text": [
      "Processing files:  25%|██▍       | 4848/19777 [04:06<13:45, 18.08it/s]"
     ]
    },
    {
     "name": "stdout",
     "output_type": "stream",
     "text": [
      "✓ Processed: 0007_000857.wav\n",
      "✓ Processed: 0007_000859.wav\n",
      "✓ Processed: 0007_000860.wav\n",
      "✓ Processed: 0007_000861.wav\n"
     ]
    },
    {
     "name": "stderr",
     "output_type": "stream",
     "text": [
      "Processing files:  25%|██▍       | 4853/19777 [04:06<13:16, 18.75it/s]"
     ]
    },
    {
     "name": "stdout",
     "output_type": "stream",
     "text": [
      "✓ Processed: 0007_000862.wav\n",
      "✓ Processed: 0007_000864.wav\n",
      "✓ Processed: 0007_000865.wav\n",
      "✓ Processed: 0007_000866.wav\n"
     ]
    },
    {
     "name": "stderr",
     "output_type": "stream",
     "text": [
      "Processing files:  25%|██▍       | 4855/19777 [04:06<13:36, 18.27it/s]"
     ]
    },
    {
     "name": "stdout",
     "output_type": "stream",
     "text": [
      "✓ Processed: 0007_000867.wav\n",
      "✓ Processed: 0007_000868.wav\n",
      "✓ Processed: 0007_000870.wav\n",
      "✓ Processed: 0007_000872.wav\n"
     ]
    },
    {
     "name": "stderr",
     "output_type": "stream",
     "text": [
      "Processing files:  25%|██▍       | 4859/19777 [04:06<13:22, 18.59it/s]"
     ]
    },
    {
     "name": "stdout",
     "output_type": "stream",
     "text": [
      "✓ Processed: 0007_000873.wav\n",
      "✓ Processed: 0007_000874.wav\n",
      "✓ Processed: 0007_000876.wav\n",
      "✓ Processed: 0007_000877.wav\n"
     ]
    },
    {
     "name": "stderr",
     "output_type": "stream",
     "text": [
      "Processing files:  25%|██▍       | 4862/19777 [04:06<14:30, 17.13it/s]"
     ]
    },
    {
     "name": "stdout",
     "output_type": "stream",
     "text": [
      "✓ Processed: 0007_000878.wav\n",
      "✓ Processed: 0007_000879.wav\n",
      "✓ Processed: 0007_000880.wav\n"
     ]
    },
    {
     "name": "stderr",
     "output_type": "stream",
     "text": [
      "Processing files:  25%|██▍       | 4866/19777 [04:07<14:28, 17.17it/s]"
     ]
    },
    {
     "name": "stdout",
     "output_type": "stream",
     "text": [
      "✓ Processed: 0007_000881.wav\n",
      "✓ Processed: 0007_000883.wav\n",
      "✓ Processed: 0007_000884.wav\n",
      "✓ Processed: 0007_000886.wav\n"
     ]
    },
    {
     "name": "stderr",
     "output_type": "stream",
     "text": [
      "Processing files:  25%|██▍       | 4870/19777 [04:07<13:28, 18.44it/s]"
     ]
    },
    {
     "name": "stdout",
     "output_type": "stream",
     "text": [
      "✓ Processed: 0007_000887.wav\n",
      "✓ Processed: 0007_000888.wav\n",
      "✓ Processed: 0007_000893.wav\n",
      "✓ Processed: 0007_000894.wav\n"
     ]
    },
    {
     "name": "stderr",
     "output_type": "stream",
     "text": [
      "Processing files:  25%|██▍       | 4874/19777 [04:07<13:42, 18.13it/s]"
     ]
    },
    {
     "name": "stdout",
     "output_type": "stream",
     "text": [
      "✓ Processed: 0007_000896.wav\n",
      "✓ Processed: 0007_000897.wav\n",
      "✓ Processed: 0007_000898.wav\n",
      "✓ Processed: 0007_000899.wav\n"
     ]
    },
    {
     "name": "stderr",
     "output_type": "stream",
     "text": [
      "Processing files:  25%|██▍       | 4878/19777 [04:07<13:54, 17.86it/s]"
     ]
    },
    {
     "name": "stdout",
     "output_type": "stream",
     "text": [
      "✓ Processed: 0007_000900.wav\n",
      "✓ Processed: 0007_000902.wav\n",
      "✓ Processed: 0007_000903.wav\n",
      "✓ Processed: 0007_000904.wav\n"
     ]
    },
    {
     "name": "stderr",
     "output_type": "stream",
     "text": [
      "Processing files:  25%|██▍       | 4882/19777 [04:07<13:46, 18.03it/s]"
     ]
    },
    {
     "name": "stdout",
     "output_type": "stream",
     "text": [
      "✓ Processed: 0007_000905.wav\n",
      "✓ Processed: 0007_000908.wav\n",
      "✓ Processed: 0007_000909.wav\n",
      "✓ Processed: 0007_000910.wav\n"
     ]
    },
    {
     "name": "stderr",
     "output_type": "stream",
     "text": [
      "Processing files:  25%|██▍       | 4887/19777 [04:08<13:38, 18.20it/s]"
     ]
    },
    {
     "name": "stdout",
     "output_type": "stream",
     "text": [
      "✓ Processed: 0007_000912.wav\n",
      "✓ Processed: 0007_000913.wav\n",
      "✓ Processed: 0007_000914.wav\n",
      "✓ Processed: 0007_000916.wav\n"
     ]
    },
    {
     "name": "stderr",
     "output_type": "stream",
     "text": [
      "Processing files:  25%|██▍       | 4891/19777 [04:08<14:06, 17.58it/s]"
     ]
    },
    {
     "name": "stdout",
     "output_type": "stream",
     "text": [
      "✓ Processed: 0007_000917.wav\n",
      "✓ Processed: 0007_000918.wav\n",
      "✓ Processed: 0007_000919.wav\n"
     ]
    },
    {
     "name": "stderr",
     "output_type": "stream",
     "text": [
      "Processing files:  25%|██▍       | 4893/19777 [04:08<13:58, 17.74it/s]"
     ]
    },
    {
     "name": "stdout",
     "output_type": "stream",
     "text": [
      "✓ Processed: 0007_000920.wav\n",
      "✓ Processed: 0007_000922.wav\n",
      "✓ Processed: 0007_000925.wav\n",
      "✓ Processed: 0007_000927.wav\n"
     ]
    },
    {
     "name": "stderr",
     "output_type": "stream",
     "text": [
      "Processing files:  25%|██▍       | 4897/19777 [04:08<15:06, 16.42it/s]"
     ]
    },
    {
     "name": "stdout",
     "output_type": "stream",
     "text": [
      "✓ Processed: 0007_000928.wav\n",
      "✓ Processed: 0007_000929.wav\n",
      "✓ Processed: 0007_000930.wav\n",
      "✓ Processed: 0007_000934.wav\n"
     ]
    },
    {
     "name": "stderr",
     "output_type": "stream",
     "text": [
      "Processing files:  25%|██▍       | 4901/19777 [04:09<14:05, 17.59it/s]"
     ]
    },
    {
     "name": "stdout",
     "output_type": "stream",
     "text": [
      "✓ Processed: 0007_000935.wav\n",
      "✓ Processed: 0007_000936.wav\n",
      "✓ Processed: 0007_000937.wav\n",
      "✓ Processed: 0007_000938.wav\n"
     ]
    },
    {
     "name": "stderr",
     "output_type": "stream",
     "text": [
      "Processing files:  25%|██▍       | 4905/19777 [04:09<13:30, 18.35it/s]"
     ]
    },
    {
     "name": "stdout",
     "output_type": "stream",
     "text": [
      "✓ Processed: 0007_000941.wav\n",
      "✓ Processed: 0007_000944.wav\n",
      "✓ Processed: 0007_000945.wav\n",
      "✓ Processed: 0007_000947.wav\n",
      "✓ Processed: 0007_000948.wav\n"
     ]
    },
    {
     "name": "stderr",
     "output_type": "stream",
     "text": [
      "Processing files:  25%|██▍       | 4911/19777 [04:09<12:44, 19.45it/s]"
     ]
    },
    {
     "name": "stdout",
     "output_type": "stream",
     "text": [
      "✓ Processed: 0007_000949.wav\n",
      "✓ Processed: 0007_000950.wav\n",
      "✓ Processed: 0007_000951.wav\n",
      "✓ Processed: 0007_000952.wav\n",
      "✓ Processed: 0007_000953.wav\n"
     ]
    },
    {
     "name": "stderr",
     "output_type": "stream",
     "text": [
      "Processing files:  25%|██▍       | 4915/19777 [04:09<12:58, 19.09it/s]"
     ]
    },
    {
     "name": "stdout",
     "output_type": "stream",
     "text": [
      "✓ Processed: 0007_000954.wav\n",
      "✓ Processed: 0007_000955.wav\n",
      "✓ Processed: 0007_000956.wav\n",
      "✓ Processed: 0007_000957.wav\n",
      "✓ Processed: 0007_000958.wav\n"
     ]
    },
    {
     "name": "stderr",
     "output_type": "stream",
     "text": [
      "Processing files:  25%|██▍       | 4921/19777 [04:10<12:36, 19.64it/s]"
     ]
    },
    {
     "name": "stdout",
     "output_type": "stream",
     "text": [
      "✓ Processed: 0007_000962.wav\n",
      "✓ Processed: 0007_000964.wav\n",
      "✓ Processed: 0007_000965.wav\n",
      "✓ Processed: 0007_000969.wav\n"
     ]
    },
    {
     "name": "stderr",
     "output_type": "stream",
     "text": [
      "Processing files:  25%|██▍       | 4923/19777 [04:10<13:02, 18.99it/s]"
     ]
    },
    {
     "name": "stdout",
     "output_type": "stream",
     "text": [
      "✓ Processed: 0007_000970.wav\n",
      "✓ Processed: 0007_000971.wav\n",
      "✓ Processed: 0007_000972.wav\n"
     ]
    },
    {
     "name": "stderr",
     "output_type": "stream",
     "text": [
      "Processing files:  25%|██▍       | 4927/19777 [04:10<14:33, 17.01it/s]"
     ]
    },
    {
     "name": "stdout",
     "output_type": "stream",
     "text": [
      "✓ Processed: 0007_000974.wav\n",
      "✓ Processed: 0007_000975.wav\n",
      "✓ Processed: 0007_000976.wav\n",
      "✓ Processed: 0007_000977.wav\n"
     ]
    },
    {
     "name": "stderr",
     "output_type": "stream",
     "text": [
      "Processing files:  25%|██▍       | 4931/19777 [04:10<14:48, 16.70it/s]"
     ]
    },
    {
     "name": "stdout",
     "output_type": "stream",
     "text": [
      "✓ Processed: 0007_000980.wav\n",
      "✓ Processed: 0007_000982.wav\n",
      "✓ Processed: 0007_000984.wav\n",
      "✓ Processed: 0007_000987.wav\n"
     ]
    },
    {
     "name": "stderr",
     "output_type": "stream",
     "text": [
      "Processing files:  25%|██▍       | 4935/19777 [04:10<14:15, 17.34it/s]"
     ]
    },
    {
     "name": "stdout",
     "output_type": "stream",
     "text": [
      "✓ Processed: 0007_000990.wav\n",
      "✓ Processed: 0007_000992.wav\n",
      "✓ Processed: 0007_000994.wav\n",
      "✓ Processed: 0007_000998.wav\n"
     ]
    },
    {
     "name": "stderr",
     "output_type": "stream",
     "text": [
      "Processing files:  25%|██▍       | 4940/19777 [04:11<14:03, 17.59it/s]"
     ]
    },
    {
     "name": "stdout",
     "output_type": "stream",
     "text": [
      "✓ Processed: 0007_000999.wav\n",
      "✓ Processed: 0007_001003.wav\n",
      "✓ Processed: 0007_001005.wav\n"
     ]
    },
    {
     "name": "stderr",
     "output_type": "stream",
     "text": [
      "Processing files:  25%|██▍       | 4942/19777 [04:11<13:45, 17.98it/s]"
     ]
    },
    {
     "name": "stdout",
     "output_type": "stream",
     "text": [
      "✓ Processed: 0007_001006.wav\n",
      "✓ Processed: 0007_001007.wav\n",
      "✓ Processed: 0007_001010.wav\n",
      "✓ Processed: 0007_001012.wav\n"
     ]
    },
    {
     "name": "stderr",
     "output_type": "stream",
     "text": [
      "Processing files:  25%|██▌       | 4946/19777 [04:11<14:30, 17.05it/s]"
     ]
    },
    {
     "name": "stdout",
     "output_type": "stream",
     "text": [
      "✓ Processed: 0007_001013.wav\n",
      "✓ Processed: 0007_001014.wav\n",
      "✓ Processed: 0007_001016.wav\n",
      "✓ Processed: 0007_001017.wav\n"
     ]
    },
    {
     "name": "stderr",
     "output_type": "stream",
     "text": [
      "Processing files:  25%|██▌       | 4951/19777 [04:11<13:42, 18.02it/s]"
     ]
    },
    {
     "name": "stdout",
     "output_type": "stream",
     "text": [
      "✓ Processed: 0007_001018.wav\n",
      "✓ Processed: 0007_001019.wav\n",
      "✓ Processed: 0007_001020.wav\n",
      "✓ Processed: 0007_001021.wav\n",
      "✓ Processed: 0007_001022.wav\n"
     ]
    },
    {
     "name": "stderr",
     "output_type": "stream",
     "text": [
      "Processing files:  25%|██▌       | 4956/19777 [04:12<13:21, 18.48it/s]"
     ]
    },
    {
     "name": "stdout",
     "output_type": "stream",
     "text": [
      "✓ Processed: 0007_001023.wav\n",
      "✓ Processed: 0007_001025.wav\n",
      "✓ Processed: 0007_001028.wav\n",
      "✓ Processed: 0007_001030.wav\n"
     ]
    },
    {
     "name": "stderr",
     "output_type": "stream",
     "text": [
      "Processing files:  25%|██▌       | 4958/19777 [04:12<13:23, 18.44it/s]"
     ]
    },
    {
     "name": "stdout",
     "output_type": "stream",
     "text": [
      "✓ Processed: 0007_001033.wav\n",
      "✓ Processed: 0007_001036.wav\n",
      "✓ Processed: 0007_001038.wav\n",
      "✓ Processed: 0007_001039.wav\n"
     ]
    },
    {
     "name": "stderr",
     "output_type": "stream",
     "text": [
      "Processing files:  25%|██▌       | 4963/19777 [04:12<13:12, 18.69it/s]"
     ]
    },
    {
     "name": "stdout",
     "output_type": "stream",
     "text": [
      "✓ Processed: 0007_001042.wav\n",
      "✓ Processed: 0007_001044.wav\n",
      "✓ Processed: 0007_001046.wav\n",
      "✓ Processed: 0007_001047.wav\n"
     ]
    },
    {
     "name": "stderr",
     "output_type": "stream",
     "text": [
      "Processing files:  25%|██▌       | 4967/19777 [04:12<13:39, 18.06it/s]"
     ]
    },
    {
     "name": "stdout",
     "output_type": "stream",
     "text": [
      "✓ Processed: 0007_001049.wav\n",
      "✓ Processed: 0007_001050.wav\n",
      "✓ Processed: 0008_000701.wav\n",
      "✓ Processed: 0008_000704.wav\n"
     ]
    },
    {
     "name": "stderr",
     "output_type": "stream",
     "text": [
      "Processing files:  25%|██▌       | 4971/19777 [04:12<14:30, 17.02it/s]"
     ]
    },
    {
     "name": "stdout",
     "output_type": "stream",
     "text": [
      "✓ Processed: 0008_000705.wav\n",
      "✓ Processed: 0008_000706.wav\n",
      "✓ Processed: 0008_000707.wav\n",
      "✓ Processed: 0008_000708.wav\n"
     ]
    },
    {
     "name": "stderr",
     "output_type": "stream",
     "text": [
      "Processing files:  25%|██▌       | 4977/19777 [04:13<13:46, 17.90it/s]"
     ]
    },
    {
     "name": "stdout",
     "output_type": "stream",
     "text": [
      "✓ Processed: 0008_000709.wav\n",
      "✓ Processed: 0008_000710.wav\n",
      "✓ Processed: 0008_000712.wav\n",
      "✓ Processed: 0008_000714.wav\n"
     ]
    },
    {
     "name": "stderr",
     "output_type": "stream",
     "text": [
      "Processing files:  25%|██▌       | 4979/19777 [04:13<13:30, 18.25it/s]"
     ]
    },
    {
     "name": "stdout",
     "output_type": "stream",
     "text": [
      "✓ Processed: 0008_000715.wav\n",
      "✓ Processed: 0008_000716.wav\n",
      "✓ Processed: 0008_000717.wav\n",
      "✓ Processed: 0008_000721.wav\n"
     ]
    },
    {
     "name": "stderr",
     "output_type": "stream",
     "text": [
      "Processing files:  25%|██▌       | 4985/19777 [04:13<13:08, 18.76it/s]"
     ]
    },
    {
     "name": "stdout",
     "output_type": "stream",
     "text": [
      "✓ Processed: 0008_000724.wav\n",
      "✓ Processed: 0008_000725.wav\n",
      "✓ Processed: 0008_000727.wav\n",
      "✓ Processed: 0008_000729.wav\n"
     ]
    },
    {
     "name": "stderr",
     "output_type": "stream",
     "text": [
      "Processing files:  25%|██▌       | 4987/19777 [04:13<13:09, 18.72it/s]"
     ]
    },
    {
     "name": "stdout",
     "output_type": "stream",
     "text": [
      "✓ Processed: 0008_000730.wav\n",
      "✓ Processed: 0008_000732.wav\n",
      "✓ Processed: 0008_000733.wav\n",
      "✓ Processed: 0008_000734.wav\n"
     ]
    },
    {
     "name": "stderr",
     "output_type": "stream",
     "text": [
      "Processing files:  25%|██▌       | 4991/19777 [04:14<13:18, 18.52it/s]"
     ]
    },
    {
     "name": "stdout",
     "output_type": "stream",
     "text": [
      "✓ Processed: 0008_000735.wav\n",
      "✓ Processed: 0008_000737.wav\n",
      "✓ Processed: 0008_000738.wav\n",
      "✓ Processed: 0008_000739.wav\n"
     ]
    },
    {
     "name": "stderr",
     "output_type": "stream",
     "text": [
      "Processing files:  25%|██▌       | 4995/19777 [04:14<13:21, 18.44it/s]"
     ]
    },
    {
     "name": "stdout",
     "output_type": "stream",
     "text": [
      "✓ Processed: 0008_000740.wav\n",
      "✓ Processed: 0008_000741.wav\n",
      "✓ Processed: 0008_000743.wav\n",
      "✓ Processed: 0008_000744.wav\n"
     ]
    },
    {
     "name": "stderr",
     "output_type": "stream",
     "text": [
      "Processing files:  25%|██▌       | 4999/19777 [04:14<14:32, 16.94it/s]"
     ]
    },
    {
     "name": "stdout",
     "output_type": "stream",
     "text": [
      "✓ Processed: 0008_000745.wav\n",
      "✓ Processed: 0008_000746.wav\n",
      "✓ Processed: 0008_000748.wav\n",
      "✓ Processed: 0008_000749.wav\n"
     ]
    },
    {
     "name": "stderr",
     "output_type": "stream",
     "text": [
      "Processing files:  25%|██▌       | 5003/19777 [04:14<13:57, 17.64it/s]"
     ]
    },
    {
     "name": "stdout",
     "output_type": "stream",
     "text": [
      "✓ Processed: 0008_000751.wav\n",
      "✓ Processed: 0008_000752.wav\n",
      "✓ Processed: 0008_000753.wav\n",
      "✓ Processed: 0008_000754.wav\n"
     ]
    },
    {
     "name": "stderr",
     "output_type": "stream",
     "text": [
      "Processing files:  25%|██▌       | 5007/19777 [04:14<13:49, 17.80it/s]"
     ]
    },
    {
     "name": "stdout",
     "output_type": "stream",
     "text": [
      "✓ Processed: 0008_000756.wav\n",
      "✓ Processed: 0008_000757.wav\n",
      "✓ Processed: 0008_000760.wav\n",
      "✓ Processed: 0008_000761.wav\n"
     ]
    },
    {
     "name": "stderr",
     "output_type": "stream",
     "text": [
      "Processing files:  25%|██▌       | 5011/19777 [04:15<13:25, 18.33it/s]"
     ]
    },
    {
     "name": "stdout",
     "output_type": "stream",
     "text": [
      "✓ Processed: 0008_000762.wav\n",
      "✓ Processed: 0008_000763.wav\n",
      "✓ Processed: 0008_000765.wav\n",
      "✓ Processed: 0008_000766.wav\n"
     ]
    },
    {
     "name": "stderr",
     "output_type": "stream",
     "text": [
      "Processing files:  25%|██▌       | 5015/19777 [04:15<13:36, 18.09it/s]"
     ]
    },
    {
     "name": "stdout",
     "output_type": "stream",
     "text": [
      "✓ Processed: 0008_000769.wav\n",
      "✓ Processed: 0008_000772.wav\n",
      "✓ Processed: 0008_000774.wav\n",
      "✓ Processed: 0008_000775.wav\n"
     ]
    },
    {
     "name": "stderr",
     "output_type": "stream",
     "text": [
      "Processing files:  25%|██▌       | 5020/19777 [04:15<13:16, 18.53it/s]"
     ]
    },
    {
     "name": "stdout",
     "output_type": "stream",
     "text": [
      "✓ Processed: 0008_000776.wav\n",
      "✓ Processed: 0008_000777.wav\n",
      "✓ Processed: 0008_000778.wav\n",
      "✓ Processed: 0008_000780.wav\n"
     ]
    },
    {
     "name": "stderr",
     "output_type": "stream",
     "text": [
      "Processing files:  25%|██▌       | 5024/19777 [04:15<12:59, 18.93it/s]"
     ]
    },
    {
     "name": "stdout",
     "output_type": "stream",
     "text": [
      "✓ Processed: 0008_000784.wav\n",
      "✓ Processed: 0008_000785.wav\n",
      "✓ Processed: 0008_000786.wav\n",
      "✓ Processed: 0008_000787.wav\n"
     ]
    },
    {
     "name": "stderr",
     "output_type": "stream",
     "text": [
      "Processing files:  25%|██▌       | 5026/19777 [04:16<14:26, 17.02it/s]"
     ]
    },
    {
     "name": "stdout",
     "output_type": "stream",
     "text": [
      "✓ Processed: 0008_000789.wav\n",
      "✓ Processed: 0008_000790.wav\n",
      "✓ Processed: 0008_000792.wav\n",
      "✓ Processed: 0008_000797.wav\n"
     ]
    },
    {
     "name": "stderr",
     "output_type": "stream",
     "text": [
      "Processing files:  25%|██▌       | 5033/19777 [04:16<13:15, 18.53it/s]"
     ]
    },
    {
     "name": "stdout",
     "output_type": "stream",
     "text": [
      "✓ Processed: 0008_000798.wav\n",
      "✓ Processed: 0008_000799.wav\n",
      "✓ Processed: 0008_000800.wav\n",
      "✓ Processed: 0008_000801.wav\n"
     ]
    },
    {
     "name": "stderr",
     "output_type": "stream",
     "text": [
      "Processing files:  25%|██▌       | 5035/19777 [04:16<13:24, 18.33it/s]"
     ]
    },
    {
     "name": "stdout",
     "output_type": "stream",
     "text": [
      "✓ Processed: 0008_000802.wav\n",
      "✓ Processed: 0008_000804.wav\n",
      "✓ Processed: 0008_000805.wav\n",
      "✓ Processed: 0008_000806.wav\n"
     ]
    },
    {
     "name": "stderr",
     "output_type": "stream",
     "text": [
      "Processing files:  25%|██▌       | 5039/19777 [04:16<13:35, 18.06it/s]"
     ]
    },
    {
     "name": "stdout",
     "output_type": "stream",
     "text": [
      "✓ Processed: 0008_000808.wav\n",
      "✓ Processed: 0008_000814.wav\n",
      "✓ Processed: 0008_000816.wav\n",
      "✓ Processed: 0008_000818.wav\n"
     ]
    },
    {
     "name": "stderr",
     "output_type": "stream",
     "text": [
      "Processing files:  25%|██▌       | 5043/19777 [04:16<13:40, 17.96it/s]"
     ]
    },
    {
     "name": "stdout",
     "output_type": "stream",
     "text": [
      "✓ Processed: 0008_000821.wav\n",
      "✓ Processed: 0008_000822.wav\n",
      "✓ Processed: 0008_000823.wav\n",
      "✓ Processed: 0008_000824.wav\n"
     ]
    },
    {
     "name": "stderr",
     "output_type": "stream",
     "text": [
      "Processing files:  26%|██▌       | 5047/19777 [04:17<13:44, 17.87it/s]"
     ]
    },
    {
     "name": "stdout",
     "output_type": "stream",
     "text": [
      "✓ Processed: 0008_000825.wav\n",
      "✓ Processed: 0008_000826.wav\n",
      "✓ Processed: 0008_000827.wav\n",
      "✓ Processed: 0008_000829.wav\n"
     ]
    },
    {
     "name": "stderr",
     "output_type": "stream",
     "text": [
      "Processing files:  26%|██▌       | 5051/19777 [04:17<13:11, 18.60it/s]"
     ]
    },
    {
     "name": "stdout",
     "output_type": "stream",
     "text": [
      "✓ Processed: 0008_000831.wav\n",
      "✓ Processed: 0008_000833.wav\n",
      "✓ Processed: 0008_000836.wav\n",
      "✓ Processed: 0008_000838.wav\n"
     ]
    },
    {
     "name": "stderr",
     "output_type": "stream",
     "text": [
      "Processing files:  26%|██▌       | 5055/19777 [04:17<16:18, 15.04it/s]"
     ]
    },
    {
     "name": "stdout",
     "output_type": "stream",
     "text": [
      "✓ Processed: 0008_000839.wav\n",
      "✓ Processed: 0008_000840.wav\n"
     ]
    },
    {
     "name": "stderr",
     "output_type": "stream",
     "text": [
      "Processing files:  26%|██▌       | 5059/19777 [04:17<14:40, 16.71it/s]"
     ]
    },
    {
     "name": "stdout",
     "output_type": "stream",
     "text": [
      "✓ Processed: 0008_000842.wav\n",
      "✓ Processed: 0008_000846.wav\n",
      "✓ Processed: 0008_000850.wav\n",
      "✓ Processed: 0008_000852.wav\n"
     ]
    },
    {
     "name": "stderr",
     "output_type": "stream",
     "text": [
      "Processing files:  26%|██▌       | 5061/19777 [04:18<14:54, 16.46it/s]"
     ]
    },
    {
     "name": "stdout",
     "output_type": "stream",
     "text": [
      "✓ Processed: 0008_000853.wav\n",
      "✓ Processed: 0008_000856.wav\n",
      "✓ Processed: 0008_000857.wav\n",
      "✓ Processed: 0008_000858.wav\n"
     ]
    },
    {
     "name": "stderr",
     "output_type": "stream",
     "text": [
      "Processing files:  26%|██▌       | 5066/19777 [04:18<13:44, 17.84it/s]"
     ]
    },
    {
     "name": "stdout",
     "output_type": "stream",
     "text": [
      "✓ Processed: 0008_000863.wav\n",
      "✓ Processed: 0008_000866.wav\n",
      "✓ Processed: 0008_000867.wav\n",
      "✓ Processed: 0008_000868.wav\n",
      "✓ Processed: 0008_000869.wav\n"
     ]
    },
    {
     "name": "stderr",
     "output_type": "stream",
     "text": [
      "Processing files:  26%|██▌       | 5070/19777 [04:18<13:41, 17.90it/s]"
     ]
    },
    {
     "name": "stdout",
     "output_type": "stream",
     "text": [
      "✓ Processed: 0008_000870.wav\n",
      "✓ Processed: 0008_000871.wav\n",
      "✓ Processed: 0008_000872.wav\n",
      "✓ Processed: 0008_000873.wav\n"
     ]
    },
    {
     "name": "stderr",
     "output_type": "stream",
     "text": [
      "Processing files:  26%|██▌       | 5074/19777 [04:18<13:46, 17.78it/s]"
     ]
    },
    {
     "name": "stdout",
     "output_type": "stream",
     "text": [
      "✓ Processed: 0008_000874.wav\n",
      "✓ Processed: 0008_000875.wav\n",
      "✓ Processed: 0008_000876.wav\n",
      "✓ Processed: 0008_000881.wav\n"
     ]
    },
    {
     "name": "stderr",
     "output_type": "stream",
     "text": [
      "Processing files:  26%|██▌       | 5078/19777 [04:18<14:24, 17.00it/s]"
     ]
    },
    {
     "name": "stdout",
     "output_type": "stream",
     "text": [
      "✓ Processed: 0008_000882.wav\n",
      "✓ Processed: 0008_000883.wav\n",
      "✓ Processed: 0008_000885.wav\n",
      "✓ Processed: 0008_000886.wav\n"
     ]
    },
    {
     "name": "stderr",
     "output_type": "stream",
     "text": [
      "Processing files:  26%|██▌       | 5082/19777 [04:19<14:09, 17.30it/s]"
     ]
    },
    {
     "name": "stdout",
     "output_type": "stream",
     "text": [
      "✓ Processed: 0008_000887.wav\n",
      "✓ Processed: 0008_000890.wav\n",
      "✓ Processed: 0008_000891.wav\n",
      "✓ Processed: 0008_000896.wav\n"
     ]
    },
    {
     "name": "stderr",
     "output_type": "stream",
     "text": [
      "Processing files:  26%|██▌       | 5086/19777 [04:19<13:36, 18.00it/s]"
     ]
    },
    {
     "name": "stdout",
     "output_type": "stream",
     "text": [
      "✓ Processed: 0008_000897.wav\n",
      "✓ Processed: 0008_000902.wav\n",
      "✓ Processed: 0008_000904.wav\n",
      "✓ Processed: 0008_000910.wav\n"
     ]
    },
    {
     "name": "stderr",
     "output_type": "stream",
     "text": [
      "Processing files:  26%|██▌       | 5090/19777 [04:19<13:40, 17.89it/s]"
     ]
    },
    {
     "name": "stdout",
     "output_type": "stream",
     "text": [
      "✓ Processed: 0008_000914.wav\n",
      "✓ Processed: 0008_000916.wav\n",
      "✓ Processed: 0008_000918.wav\n",
      "✓ Processed: 0008_000919.wav\n"
     ]
    },
    {
     "name": "stderr",
     "output_type": "stream",
     "text": [
      "Processing files:  26%|██▌       | 5094/19777 [04:19<13:40, 17.88it/s]"
     ]
    },
    {
     "name": "stdout",
     "output_type": "stream",
     "text": [
      "✓ Processed: 0008_000920.wav\n",
      "✓ Processed: 0008_000922.wav\n",
      "✓ Processed: 0008_000924.wav\n",
      "✓ Processed: 0008_000925.wav\n"
     ]
    },
    {
     "name": "stderr",
     "output_type": "stream",
     "text": [
      "Processing files:  26%|██▌       | 5098/19777 [04:20<13:37, 17.95it/s]"
     ]
    },
    {
     "name": "stdout",
     "output_type": "stream",
     "text": [
      "✓ Processed: 0008_000927.wav\n",
      "✓ Processed: 0008_000929.wav\n",
      "✓ Processed: 0008_000931.wav\n",
      "✓ Processed: 0008_000932.wav\n"
     ]
    },
    {
     "name": "stderr",
     "output_type": "stream",
     "text": [
      "Processing files:  26%|██▌       | 5102/19777 [04:20<13:29, 18.13it/s]"
     ]
    },
    {
     "name": "stdout",
     "output_type": "stream",
     "text": [
      "✓ Processed: 0008_000934.wav\n",
      "✓ Processed: 0008_000935.wav\n",
      "✓ Processed: 0008_000937.wav\n",
      "✓ Processed: 0008_000938.wav\n"
     ]
    },
    {
     "name": "stderr",
     "output_type": "stream",
     "text": [
      "Processing files:  26%|██▌       | 5106/19777 [04:20<13:21, 18.31it/s]"
     ]
    },
    {
     "name": "stdout",
     "output_type": "stream",
     "text": [
      "✓ Processed: 0008_000941.wav\n",
      "✓ Processed: 0008_000943.wav\n",
      "✓ Processed: 0008_000944.wav\n",
      "✓ Processed: 0008_000945.wav\n"
     ]
    },
    {
     "name": "stderr",
     "output_type": "stream",
     "text": [
      "Processing files:  26%|██▌       | 5110/19777 [04:20<14:08, 17.29it/s]"
     ]
    },
    {
     "name": "stdout",
     "output_type": "stream",
     "text": [
      "✓ Processed: 0008_000947.wav\n",
      "✓ Processed: 0008_000948.wav\n",
      "✓ Processed: 0008_000950.wav\n",
      "✓ Processed: 0008_000951.wav\n"
     ]
    },
    {
     "name": "stderr",
     "output_type": "stream",
     "text": [
      "Processing files:  26%|██▌       | 5115/19777 [04:20<13:18, 18.37it/s]"
     ]
    },
    {
     "name": "stdout",
     "output_type": "stream",
     "text": [
      "✓ Processed: 0008_000952.wav\n",
      "✓ Processed: 0008_000953.wav\n",
      "✓ Processed: 0008_000956.wav\n",
      "✓ Processed: 0008_000957.wav\n"
     ]
    },
    {
     "name": "stderr",
     "output_type": "stream",
     "text": [
      "Processing files:  26%|██▌       | 5119/19777 [04:21<13:21, 18.30it/s]"
     ]
    },
    {
     "name": "stdout",
     "output_type": "stream",
     "text": [
      "✓ Processed: 0008_000958.wav\n",
      "✓ Processed: 0008_000962.wav\n",
      "✓ Processed: 0008_000963.wav\n",
      "✓ Processed: 0008_000964.wav\n"
     ]
    },
    {
     "name": "stderr",
     "output_type": "stream",
     "text": [
      "Processing files:  26%|██▌       | 5122/19777 [04:21<13:16, 18.40it/s]"
     ]
    },
    {
     "name": "stdout",
     "output_type": "stream",
     "text": [
      "✓ Processed: 0008_000968.wav\n",
      "✓ Processed: 0008_000970.wav\n",
      "✓ Processed: 0008_000972.wav\n",
      "✓ Processed: 0008_000974.wav\n"
     ]
    },
    {
     "name": "stderr",
     "output_type": "stream",
     "text": [
      "Processing files:  26%|██▌       | 5126/19777 [04:21<13:19, 18.33it/s]"
     ]
    },
    {
     "name": "stdout",
     "output_type": "stream",
     "text": [
      "✓ Processed: 0008_000976.wav\n",
      "✓ Processed: 0008_000977.wav\n",
      "✓ Processed: 0008_000979.wav\n",
      "✓ Processed: 0008_000980.wav\n"
     ]
    },
    {
     "name": "stderr",
     "output_type": "stream",
     "text": [
      "Processing files:  26%|██▌       | 5129/19777 [04:21<13:23, 18.23it/s]"
     ]
    },
    {
     "name": "stdout",
     "output_type": "stream",
     "text": [
      "✓ Processed: 0008_000982.wav\n",
      "✓ Processed: 0008_000983.wav\n",
      "✓ Processed: 0008_000984.wav\n"
     ]
    },
    {
     "name": "stderr",
     "output_type": "stream",
     "text": [
      "Processing files:  26%|██▌       | 5135/19777 [04:22<13:48, 17.68it/s]"
     ]
    },
    {
     "name": "stdout",
     "output_type": "stream",
     "text": [
      "✓ Processed: 0008_000987.wav\n",
      "✓ Processed: 0008_000988.wav\n",
      "✓ Processed: 0008_000990.wav\n",
      "✓ Processed: 0008_000991.wav\n"
     ]
    },
    {
     "name": "stderr",
     "output_type": "stream",
     "text": [
      "Processing files:  26%|██▌       | 5137/19777 [04:22<13:50, 17.63it/s]"
     ]
    },
    {
     "name": "stdout",
     "output_type": "stream",
     "text": [
      "✓ Processed: 0008_000992.wav\n",
      "✓ Processed: 0008_000993.wav\n",
      "✓ Processed: 0008_000994.wav\n",
      "✓ Processed: 0008_000995.wav\n"
     ]
    },
    {
     "name": "stderr",
     "output_type": "stream",
     "text": [
      "Processing files:  26%|██▌       | 5141/19777 [04:22<13:35, 17.95it/s]"
     ]
    },
    {
     "name": "stdout",
     "output_type": "stream",
     "text": [
      "✓ Processed: 0008_000998.wav\n",
      "✓ Processed: 0008_000999.wav\n",
      "✓ Processed: 0008_001000.wav\n",
      "✓ Processed: 0008_001002.wav\n"
     ]
    },
    {
     "name": "stderr",
     "output_type": "stream",
     "text": [
      "Processing files:  26%|██▌       | 5145/19777 [04:22<13:22, 18.24it/s]"
     ]
    },
    {
     "name": "stdout",
     "output_type": "stream",
     "text": [
      "✓ Processed: 0008_001003.wav\n",
      "✓ Processed: 0008_001004.wav\n",
      "✓ Processed: 0008_001005.wav\n",
      "✓ Processed: 0008_001006.wav\n"
     ]
    },
    {
     "name": "stderr",
     "output_type": "stream",
     "text": [
      "Processing files:  26%|██▌       | 5149/19777 [04:22<13:15, 18.40it/s]"
     ]
    },
    {
     "name": "stdout",
     "output_type": "stream",
     "text": [
      "✓ Processed: 0008_001007.wav\n",
      "✓ Processed: 0008_001008.wav\n",
      "✓ Processed: 0008_001016.wav\n",
      "✓ Processed: 0008_001018.wav\n"
     ]
    },
    {
     "name": "stderr",
     "output_type": "stream",
     "text": [
      "Processing files:  26%|██▌       | 5153/19777 [04:23<15:01, 16.23it/s]"
     ]
    },
    {
     "name": "stdout",
     "output_type": "stream",
     "text": [
      "✓ Processed: 0008_001019.wav\n",
      "✓ Processed: 0008_001020.wav\n",
      "✓ Processed: 0008_001021.wav\n",
      "✓ Processed: 0008_001023.wav\n"
     ]
    },
    {
     "name": "stderr",
     "output_type": "stream",
     "text": [
      "Processing files:  26%|██▌       | 5158/19777 [04:23<13:55, 17.50it/s]"
     ]
    },
    {
     "name": "stdout",
     "output_type": "stream",
     "text": [
      "✓ Processed: 0008_001026.wav\n",
      "✓ Processed: 0008_001027.wav\n",
      "✓ Processed: 0008_001029.wav\n",
      "✓ Processed: 0008_001032.wav\n"
     ]
    },
    {
     "name": "stderr",
     "output_type": "stream",
     "text": [
      "Processing files:  26%|██▌       | 5162/19777 [04:23<13:46, 17.68it/s]"
     ]
    },
    {
     "name": "stdout",
     "output_type": "stream",
     "text": [
      "✓ Processed: 0008_001033.wav\n",
      "✓ Processed: 0008_001034.wav\n",
      "✓ Processed: 0008_001035.wav\n",
      "✓ Processed: 0008_001036.wav\n"
     ]
    },
    {
     "name": "stderr",
     "output_type": "stream",
     "text": [
      "Processing files:  26%|██▌       | 5166/19777 [04:23<13:53, 17.52it/s]"
     ]
    },
    {
     "name": "stdout",
     "output_type": "stream",
     "text": [
      "✓ Processed: 0008_001037.wav\n",
      "✓ Processed: 0008_001038.wav\n",
      "✓ Processed: 0008_001042.wav\n",
      "✓ Processed: 0008_001043.wav\n"
     ]
    },
    {
     "name": "stderr",
     "output_type": "stream",
     "text": [
      "Processing files:  26%|██▌       | 5170/19777 [04:24<13:45, 17.70it/s]"
     ]
    },
    {
     "name": "stdout",
     "output_type": "stream",
     "text": [
      "✓ Processed: 0008_001044.wav\n",
      "✓ Processed: 0008_001045.wav\n",
      "✓ Processed: 0008_001046.wav\n",
      "✓ Processed: 0008_001047.wav\n"
     ]
    },
    {
     "name": "stderr",
     "output_type": "stream",
     "text": [
      "Processing files:  26%|██▌       | 5172/19777 [04:24<13:33, 17.94it/s]"
     ]
    },
    {
     "name": "stdout",
     "output_type": "stream",
     "text": [
      "✓ Processed: 0008_001049.wav\n",
      "✓ Processed: 0009_000705.wav\n",
      "✓ Processed: 0009_000706.wav\n"
     ]
    },
    {
     "name": "stderr",
     "output_type": "stream",
     "text": [
      "Processing files:  26%|██▌       | 5176/19777 [04:24<14:19, 17.00it/s]"
     ]
    },
    {
     "name": "stdout",
     "output_type": "stream",
     "text": [
      "✓ Processed: 0009_000707.wav\n",
      "✓ Processed: 0009_000709.wav\n",
      "✓ Processed: 0009_000710.wav\n",
      "✓ Processed: 0009_000714.wav\n"
     ]
    },
    {
     "name": "stderr",
     "output_type": "stream",
     "text": [
      "Processing files:  26%|██▌       | 5180/19777 [04:24<13:37, 17.85it/s]"
     ]
    },
    {
     "name": "stdout",
     "output_type": "stream",
     "text": [
      "✓ Processed: 0009_000716.wav\n",
      "✓ Processed: 0009_000717.wav\n",
      "✓ Processed: 0009_000718.wav\n",
      "✓ Processed: 0009_000719.wav\n"
     ]
    },
    {
     "name": "stderr",
     "output_type": "stream",
     "text": [
      "Processing files:  26%|██▌       | 5184/19777 [04:24<13:37, 17.86it/s]"
     ]
    },
    {
     "name": "stdout",
     "output_type": "stream",
     "text": [
      "✓ Processed: 0009_000720.wav\n",
      "✓ Processed: 0009_000721.wav\n",
      "✓ Processed: 0009_000723.wav\n",
      "✓ Processed: 0009_000724.wav\n"
     ]
    },
    {
     "name": "stderr",
     "output_type": "stream",
     "text": [
      "Processing files:  26%|██▌       | 5188/19777 [04:25<13:24, 18.13it/s]"
     ]
    },
    {
     "name": "stdout",
     "output_type": "stream",
     "text": [
      "✓ Processed: 0009_000725.wav\n",
      "✓ Processed: 0009_000727.wav\n",
      "✓ Processed: 0009_000730.wav\n",
      "✓ Processed: 0009_000731.wav\n"
     ]
    },
    {
     "name": "stderr",
     "output_type": "stream",
     "text": [
      "Processing files:  26%|██▋       | 5192/19777 [04:25<14:54, 16.31it/s]"
     ]
    },
    {
     "name": "stdout",
     "output_type": "stream",
     "text": [
      "✓ Processed: 0009_000732.wav\n",
      "✓ Processed: 0009_000733.wav\n",
      "✓ Processed: 0009_000734.wav\n"
     ]
    },
    {
     "name": "stderr",
     "output_type": "stream",
     "text": [
      "Processing files:  26%|██▋       | 5194/19777 [04:25<15:15, 15.92it/s]"
     ]
    },
    {
     "name": "stdout",
     "output_type": "stream",
     "text": [
      "✓ Processed: 0009_000735.wav\n",
      "✓ Processed: 0009_000739.wav\n",
      "✓ Processed: 0009_000740.wav\n"
     ]
    },
    {
     "name": "stderr",
     "output_type": "stream",
     "text": [
      "Processing files:  26%|██▋       | 5198/19777 [04:25<14:56, 16.26it/s]"
     ]
    },
    {
     "name": "stdout",
     "output_type": "stream",
     "text": [
      "✓ Processed: 0009_000742.wav\n",
      "✓ Processed: 0009_000743.wav\n",
      "✓ Processed: 0009_000746.wav\n",
      "✓ Processed: 0009_000748.wav\n",
      "✓ Processed: 0009_000749.wav\n"
     ]
    },
    {
     "name": "stderr",
     "output_type": "stream",
     "text": [
      "Processing files:  26%|██▋       | 5203/19777 [04:26<13:32, 17.94it/s]"
     ]
    },
    {
     "name": "stdout",
     "output_type": "stream",
     "text": [
      "✓ Processed: 0009_000750.wav\n",
      "✓ Processed: 0009_000751.wav\n",
      "✓ Processed: 0009_000752.wav\n",
      "✓ Processed: 0009_000753.wav\n"
     ]
    },
    {
     "name": "stderr",
     "output_type": "stream",
     "text": [
      "Processing files:  26%|██▋       | 5207/19777 [04:26<13:10, 18.44it/s]"
     ]
    },
    {
     "name": "stdout",
     "output_type": "stream",
     "text": [
      "✓ Processed: 0009_000754.wav\n",
      "✓ Processed: 0009_000755.wav\n",
      "✓ Processed: 0009_000756.wav\n",
      "✓ Processed: 0009_000758.wav\n",
      "✓ Processed: 0009_000763.wav\n"
     ]
    },
    {
     "name": "stderr",
     "output_type": "stream",
     "text": [
      "Processing files:  26%|██▋       | 5212/19777 [04:26<13:02, 18.62it/s]"
     ]
    },
    {
     "name": "stdout",
     "output_type": "stream",
     "text": [
      "✓ Processed: 0009_000764.wav\n",
      "✓ Processed: 0009_000766.wav\n",
      "✓ Processed: 0009_000767.wav\n",
      "✓ Processed: 0009_000768.wav\n"
     ]
    },
    {
     "name": "stderr",
     "output_type": "stream",
     "text": [
      "Processing files:  26%|██▋       | 5216/19777 [04:26<13:39, 17.78it/s]"
     ]
    },
    {
     "name": "stdout",
     "output_type": "stream",
     "text": [
      "✓ Processed: 0009_000769.wav\n",
      "✓ Processed: 0009_000770.wav\n",
      "✓ Processed: 0009_000772.wav\n",
      "✓ Processed: 0009_000777.wav\n"
     ]
    },
    {
     "name": "stderr",
     "output_type": "stream",
     "text": [
      "Processing files:  26%|██▋       | 5220/19777 [04:26<14:01, 17.30it/s]"
     ]
    },
    {
     "name": "stdout",
     "output_type": "stream",
     "text": [
      "✓ Processed: 0009_000778.wav\n",
      "✓ Processed: 0009_000779.wav\n",
      "✓ Processed: 0009_000780.wav\n",
      "✓ Processed: 0009_000781.wav\n"
     ]
    },
    {
     "name": "stderr",
     "output_type": "stream",
     "text": [
      "Processing files:  26%|██▋       | 5224/19777 [04:27<13:39, 17.76it/s]"
     ]
    },
    {
     "name": "stdout",
     "output_type": "stream",
     "text": [
      "✓ Processed: 0009_000785.wav\n",
      "✓ Processed: 0009_000787.wav\n",
      "✓ Processed: 0009_000788.wav\n",
      "✓ Processed: 0009_000789.wav\n"
     ]
    },
    {
     "name": "stderr",
     "output_type": "stream",
     "text": [
      "Processing files:  26%|██▋       | 5229/19777 [04:27<13:07, 18.46it/s]"
     ]
    },
    {
     "name": "stdout",
     "output_type": "stream",
     "text": [
      "✓ Processed: 0009_000791.wav\n",
      "✓ Processed: 0009_000792.wav\n",
      "✓ Processed: 0009_000794.wav\n",
      "✓ Processed: 0009_000796.wav\n"
     ]
    },
    {
     "name": "stderr",
     "output_type": "stream",
     "text": [
      "Processing files:  26%|██▋       | 5232/19777 [04:27<12:45, 18.99it/s]"
     ]
    },
    {
     "name": "stdout",
     "output_type": "stream",
     "text": [
      "✓ Processed: 0009_000797.wav\n",
      "✓ Processed: 0009_000798.wav\n",
      "✓ Processed: 0009_000800.wav\n",
      "✓ Processed: 0009_000803.wav\n"
     ]
    },
    {
     "name": "stderr",
     "output_type": "stream",
     "text": [
      "Processing files:  26%|██▋       | 5236/19777 [04:27<12:37, 19.20it/s]"
     ]
    },
    {
     "name": "stdout",
     "output_type": "stream",
     "text": [
      "✓ Processed: 0009_000804.wav\n",
      "✓ Processed: 0009_000807.wav\n",
      "✓ Processed: 0009_000808.wav\n",
      "✓ Processed: 0009_000811.wav\n",
      "✓ Processed: 0009_000813.wav\n"
     ]
    },
    {
     "name": "stderr",
     "output_type": "stream",
     "text": [
      "Processing files:  27%|██▋       | 5242/19777 [04:28<12:16, 19.74it/s]"
     ]
    },
    {
     "name": "stdout",
     "output_type": "stream",
     "text": [
      "✓ Processed: 0009_000814.wav\n",
      "✓ Processed: 0009_000816.wav\n",
      "✓ Processed: 0009_000818.wav\n",
      "✓ Processed: 0009_000819.wav\n"
     ]
    },
    {
     "name": "stderr",
     "output_type": "stream",
     "text": [
      "Processing files:  27%|██▋       | 5245/19777 [04:28<12:10, 19.90it/s]"
     ]
    },
    {
     "name": "stdout",
     "output_type": "stream",
     "text": [
      "✓ Processed: 0009_000821.wav\n",
      "✓ Processed: 0009_000823.wav\n",
      "✓ Processed: 0009_000824.wav\n",
      "✓ Processed: 0009_000825.wav\n"
     ]
    },
    {
     "name": "stderr",
     "output_type": "stream",
     "text": [
      "Processing files:  27%|██▋       | 5249/19777 [04:28<12:40, 19.11it/s]"
     ]
    },
    {
     "name": "stdout",
     "output_type": "stream",
     "text": [
      "✓ Processed: 0009_000829.wav\n",
      "✓ Processed: 0009_000830.wav\n",
      "✓ Processed: 0009_000833.wav\n",
      "✓ Processed: 0009_000834.wav\n",
      "✓ Processed: 0009_000838.wav\n"
     ]
    },
    {
     "name": "stderr",
     "output_type": "stream",
     "text": [
      "Processing files:  27%|██▋       | 5255/19777 [04:28<12:22, 19.56it/s]"
     ]
    },
    {
     "name": "stdout",
     "output_type": "stream",
     "text": [
      "✓ Processed: 0009_000839.wav\n",
      "✓ Processed: 0009_000840.wav\n",
      "✓ Processed: 0009_000843.wav\n",
      "✓ Processed: 0009_000845.wav\n",
      "✓ Processed: 0009_000848.wav\n"
     ]
    },
    {
     "name": "stderr",
     "output_type": "stream",
     "text": [
      "Processing files:  27%|██▋       | 5261/19777 [04:29<12:04, 20.03it/s]"
     ]
    },
    {
     "name": "stdout",
     "output_type": "stream",
     "text": [
      "✓ Processed: 0009_000849.wav\n",
      "✓ Processed: 0009_000850.wav\n",
      "✓ Processed: 0009_000852.wav\n",
      "✓ Processed: 0009_000853.wav\n"
     ]
    },
    {
     "name": "stderr",
     "output_type": "stream",
     "text": [
      "Processing files:  27%|██▋       | 5263/19777 [04:29<12:19, 19.64it/s]"
     ]
    },
    {
     "name": "stdout",
     "output_type": "stream",
     "text": [
      "✓ Processed: 0009_000854.wav\n",
      "✓ Processed: 0009_000855.wav\n",
      "✓ Processed: 0009_000856.wav\n",
      "✓ Processed: 0009_000858.wav\n"
     ]
    },
    {
     "name": "stderr",
     "output_type": "stream",
     "text": [
      "Processing files:  27%|██▋       | 5268/19777 [04:29<12:09, 19.89it/s]"
     ]
    },
    {
     "name": "stdout",
     "output_type": "stream",
     "text": [
      "✓ Processed: 0009_000859.wav\n",
      "✓ Processed: 0009_000861.wav\n",
      "✓ Processed: 0009_000862.wav\n",
      "✓ Processed: 0009_000863.wav\n",
      "✓ Processed: 0009_000865.wav\n"
     ]
    },
    {
     "name": "stderr",
     "output_type": "stream",
     "text": [
      "Processing files:  27%|██▋       | 5272/19777 [04:29<12:48, 18.89it/s]"
     ]
    },
    {
     "name": "stdout",
     "output_type": "stream",
     "text": [
      "✓ Processed: 0009_000867.wav\n",
      "✓ Processed: 0009_000868.wav\n",
      "✓ Processed: 0009_000870.wav\n",
      "✓ Processed: 0009_000871.wav\n"
     ]
    },
    {
     "name": "stderr",
     "output_type": "stream",
     "text": [
      "Processing files:  27%|██▋       | 5276/19777 [04:29<12:42, 19.02it/s]"
     ]
    },
    {
     "name": "stdout",
     "output_type": "stream",
     "text": [
      "✓ Processed: 0009_000872.wav\n",
      "✓ Processed: 0009_000874.wav\n",
      "✓ Processed: 0009_000876.wav\n",
      "✓ Processed: 0009_000877.wav\n"
     ]
    },
    {
     "name": "stderr",
     "output_type": "stream",
     "text": [
      "Processing files:  27%|██▋       | 5281/19777 [04:30<12:36, 19.17it/s]"
     ]
    },
    {
     "name": "stdout",
     "output_type": "stream",
     "text": [
      "✓ Processed: 0009_000883.wav\n",
      "✓ Processed: 0009_000887.wav\n",
      "✓ Processed: 0009_000888.wav\n",
      "✓ Processed: 0009_000891.wav\n"
     ]
    },
    {
     "name": "stderr",
     "output_type": "stream",
     "text": [
      "Processing files:  27%|██▋       | 5285/19777 [04:30<12:33, 19.22it/s]"
     ]
    },
    {
     "name": "stdout",
     "output_type": "stream",
     "text": [
      "✓ Processed: 0009_000894.wav\n",
      "✓ Processed: 0009_000896.wav\n",
      "✓ Processed: 0009_000897.wav\n",
      "✓ Processed: 0009_000898.wav\n",
      "✓ Processed: 0009_000900.wav\n"
     ]
    },
    {
     "name": "stderr",
     "output_type": "stream",
     "text": [
      "Processing files:  27%|██▋       | 5290/19777 [04:30<12:35, 19.18it/s]"
     ]
    },
    {
     "name": "stdout",
     "output_type": "stream",
     "text": [
      "✓ Processed: 0009_000901.wav\n",
      "✓ Processed: 0009_000902.wav\n",
      "✓ Processed: 0009_000904.wav\n",
      "✓ Processed: 0009_000905.wav\n"
     ]
    },
    {
     "name": "stderr",
     "output_type": "stream",
     "text": [
      "Processing files:  27%|██▋       | 5294/19777 [04:30<13:28, 17.91it/s]"
     ]
    },
    {
     "name": "stdout",
     "output_type": "stream",
     "text": [
      "✓ Processed: 0009_000907.wav\n",
      "✓ Processed: 0009_000910.wav\n",
      "✓ Processed: 0009_000911.wav\n"
     ]
    },
    {
     "name": "stderr",
     "output_type": "stream",
     "text": [
      "Processing files:  27%|██▋       | 5296/19777 [04:30<13:28, 17.92it/s]"
     ]
    },
    {
     "name": "stdout",
     "output_type": "stream",
     "text": [
      "✓ Processed: 0009_000913.wav\n",
      "✓ Processed: 0009_000915.wav\n",
      "✓ Processed: 0009_000916.wav\n",
      "✓ Processed: 0009_000918.wav\n"
     ]
    },
    {
     "name": "stderr",
     "output_type": "stream",
     "text": [
      "Processing files:  27%|██▋       | 5300/19777 [04:31<12:55, 18.68it/s]"
     ]
    },
    {
     "name": "stdout",
     "output_type": "stream",
     "text": [
      "✓ Processed: 0009_000919.wav\n",
      "✓ Processed: 0009_000920.wav\n",
      "✓ Processed: 0009_000921.wav\n",
      "✓ Processed: 0009_000926.wav\n",
      "✓ Processed: 0009_000927.wav\n"
     ]
    },
    {
     "name": "stderr",
     "output_type": "stream",
     "text": [
      "Processing files:  27%|██▋       | 5305/19777 [04:31<12:38, 19.09it/s]"
     ]
    },
    {
     "name": "stdout",
     "output_type": "stream",
     "text": [
      "✓ Processed: 0009_000929.wav\n",
      "✓ Processed: 0009_000931.wav\n",
      "✓ Processed: 0009_000934.wav\n",
      "✓ Processed: 0009_000935.wav\n"
     ]
    },
    {
     "name": "stderr",
     "output_type": "stream",
     "text": [
      "Processing files:  27%|██▋       | 5309/19777 [04:31<12:57, 18.60it/s]"
     ]
    },
    {
     "name": "stdout",
     "output_type": "stream",
     "text": [
      "✓ Processed: 0009_000936.wav\n",
      "✓ Processed: 0009_000938.wav\n",
      "✓ Processed: 0009_000939.wav\n",
      "✓ Processed: 0009_000940.wav\n"
     ]
    },
    {
     "name": "stderr",
     "output_type": "stream",
     "text": [
      "Processing files:  27%|██▋       | 5314/19777 [04:31<12:34, 19.16it/s]"
     ]
    },
    {
     "name": "stdout",
     "output_type": "stream",
     "text": [
      "✓ Processed: 0009_000941.wav\n",
      "✓ Processed: 0009_000942.wav\n",
      "✓ Processed: 0009_000945.wav\n",
      "✓ Processed: 0009_000946.wav\n"
     ]
    },
    {
     "name": "stderr",
     "output_type": "stream",
     "text": [
      "Processing files:  27%|██▋       | 5318/19777 [04:32<12:41, 18.98it/s]"
     ]
    },
    {
     "name": "stdout",
     "output_type": "stream",
     "text": [
      "✓ Processed: 0009_000947.wav\n",
      "✓ Processed: 0009_000948.wav\n",
      "✓ Processed: 0009_000949.wav\n",
      "✓ Processed: 0009_000950.wav\n"
     ]
    },
    {
     "name": "stderr",
     "output_type": "stream",
     "text": [
      "Processing files:  27%|██▋       | 5320/19777 [04:32<13:03, 18.45it/s]"
     ]
    },
    {
     "name": "stdout",
     "output_type": "stream",
     "text": [
      "✓ Processed: 0009_000952.wav\n",
      "✓ Processed: 0009_000953.wav\n",
      "✓ Processed: 0009_000957.wav\n"
     ]
    },
    {
     "name": "stderr",
     "output_type": "stream",
     "text": [
      "Processing files:  27%|██▋       | 5325/19777 [04:32<13:09, 18.31it/s]"
     ]
    },
    {
     "name": "stdout",
     "output_type": "stream",
     "text": [
      "✓ Processed: 0009_000959.wav\n",
      "✓ Processed: 0009_000960.wav\n",
      "✓ Processed: 0009_000962.wav\n",
      "✓ Processed: 0009_000963.wav\n",
      "✓ Processed: 0009_000964.wav\n"
     ]
    },
    {
     "name": "stderr",
     "output_type": "stream",
     "text": [
      "Processing files:  27%|██▋       | 5330/19777 [04:32<12:17, 19.58it/s]"
     ]
    },
    {
     "name": "stdout",
     "output_type": "stream",
     "text": [
      "✓ Processed: 0009_000966.wav\n",
      "✓ Processed: 0009_000968.wav\n",
      "✓ Processed: 0009_000969.wav\n",
      "✓ Processed: 0009_000970.wav\n",
      "✓ Processed: 0009_000971.wav\n"
     ]
    },
    {
     "name": "stderr",
     "output_type": "stream",
     "text": [
      "Processing files:  27%|██▋       | 5334/19777 [04:32<12:40, 18.98it/s]"
     ]
    },
    {
     "name": "stdout",
     "output_type": "stream",
     "text": [
      "✓ Processed: 0009_000972.wav\n",
      "✓ Processed: 0009_000973.wav\n",
      "✓ Processed: 0009_000974.wav\n",
      "✓ Processed: 0009_000979.wav\n"
     ]
    },
    {
     "name": "stderr",
     "output_type": "stream",
     "text": [
      "Processing files:  27%|██▋       | 5338/19777 [04:33<12:52, 18.70it/s]"
     ]
    },
    {
     "name": "stdout",
     "output_type": "stream",
     "text": [
      "✓ Processed: 0009_000980.wav\n",
      "✓ Processed: 0009_000982.wav\n",
      "✓ Processed: 0009_000984.wav\n",
      "✓ Processed: 0009_000985.wav\n"
     ]
    },
    {
     "name": "stderr",
     "output_type": "stream",
     "text": [
      "Processing files:  27%|██▋       | 5341/19777 [04:33<12:35, 19.11it/s]"
     ]
    },
    {
     "name": "stdout",
     "output_type": "stream",
     "text": [
      "✓ Processed: 0009_000986.wav\n",
      "✓ Processed: 0009_000987.wav\n",
      "✓ Processed: 0009_000988.wav\n",
      "✓ Processed: 0009_000989.wav\n"
     ]
    },
    {
     "name": "stderr",
     "output_type": "stream",
     "text": [
      "Processing files:  27%|██▋       | 5346/19777 [04:33<13:34, 17.72it/s]"
     ]
    },
    {
     "name": "stdout",
     "output_type": "stream",
     "text": [
      "✓ Processed: 0009_000992.wav\n",
      "✓ Processed: 0009_000993.wav\n",
      "✓ Processed: 0009_000994.wav\n",
      "✓ Processed: 0009_000998.wav\n"
     ]
    },
    {
     "name": "stderr",
     "output_type": "stream",
     "text": [
      "Processing files:  27%|██▋       | 5351/19777 [04:33<12:42, 18.92it/s]"
     ]
    },
    {
     "name": "stdout",
     "output_type": "stream",
     "text": [
      "✓ Processed: 0009_000999.wav\n",
      "✓ Processed: 0009_001000.wav\n",
      "✓ Processed: 0009_001005.wav\n",
      "✓ Processed: 0009_001006.wav\n"
     ]
    },
    {
     "name": "stderr",
     "output_type": "stream",
     "text": [
      "Processing files:  27%|██▋       | 5356/19777 [04:34<12:19, 19.51it/s]"
     ]
    },
    {
     "name": "stdout",
     "output_type": "stream",
     "text": [
      "✓ Processed: 0009_001007.wav\n",
      "✓ Processed: 0009_001008.wav\n",
      "✓ Processed: 0009_001010.wav\n",
      "✓ Processed: 0009_001011.wav\n"
     ]
    },
    {
     "name": "stderr",
     "output_type": "stream",
     "text": [
      "Processing files:  27%|██▋       | 5359/19777 [04:34<12:31, 19.19it/s]"
     ]
    },
    {
     "name": "stdout",
     "output_type": "stream",
     "text": [
      "✓ Processed: 0009_001013.wav\n",
      "✓ Processed: 0009_001014.wav\n",
      "✓ Processed: 0009_001015.wav\n",
      "✓ Processed: 0009_001016.wav\n"
     ]
    },
    {
     "name": "stderr",
     "output_type": "stream",
     "text": [
      "Processing files:  27%|██▋       | 5363/19777 [04:34<12:25, 19.33it/s]"
     ]
    },
    {
     "name": "stdout",
     "output_type": "stream",
     "text": [
      "✓ Processed: 0009_001017.wav\n",
      "✓ Processed: 0009_001019.wav\n",
      "✓ Processed: 0009_001020.wav\n",
      "✓ Processed: 0009_001021.wav\n"
     ]
    },
    {
     "name": "stderr",
     "output_type": "stream",
     "text": [
      "Processing files:  27%|██▋       | 5366/19777 [04:34<12:16, 19.55it/s]"
     ]
    },
    {
     "name": "stdout",
     "output_type": "stream",
     "text": [
      "✓ Processed: 0009_001022.wav\n",
      "✓ Processed: 0009_001023.wav\n",
      "✓ Processed: 0009_001025.wav\n",
      "✓ Processed: 0009_001026.wav\n"
     ]
    },
    {
     "name": "stderr",
     "output_type": "stream",
     "text": [
      "Processing files:  27%|██▋       | 5371/19777 [04:34<12:41, 18.91it/s]"
     ]
    },
    {
     "name": "stdout",
     "output_type": "stream",
     "text": [
      "✓ Processed: 0009_001031.wav\n",
      "✓ Processed: 0009_001033.wav\n",
      "✓ Processed: 0009_001035.wav\n",
      "✓ Processed: 0009_001037.wav\n"
     ]
    },
    {
     "name": "stderr",
     "output_type": "stream",
     "text": [
      "Processing files:  27%|██▋       | 5375/19777 [04:35<12:48, 18.75it/s]"
     ]
    },
    {
     "name": "stdout",
     "output_type": "stream",
     "text": [
      "✓ Processed: 0009_001038.wav\n",
      "✓ Processed: 0009_001042.wav\n",
      "✓ Processed: 0009_001043.wav\n",
      "✓ Processed: 0009_001045.wav\n",
      "✓ Processed: 0009_001046.wav\n"
     ]
    },
    {
     "name": "stderr",
     "output_type": "stream",
     "text": [
      "Processing files:  27%|██▋       | 5380/19777 [04:35<12:30, 19.18it/s]"
     ]
    },
    {
     "name": "stdout",
     "output_type": "stream",
     "text": [
      "✓ Processed: 0009_001047.wav\n",
      "✓ Processed: 0009_001048.wav\n",
      "✓ Processed: 0010_000703.wav\n",
      "✓ Processed: 0010_000704.wav\n"
     ]
    },
    {
     "name": "stderr",
     "output_type": "stream",
     "text": [
      "Processing files:  27%|██▋       | 5384/19777 [04:35<12:18, 19.49it/s]"
     ]
    },
    {
     "name": "stdout",
     "output_type": "stream",
     "text": [
      "✓ Processed: 0010_000706.wav\n",
      "✓ Processed: 0010_000707.wav\n",
      "✓ Processed: 0010_000708.wav\n",
      "✓ Processed: 0010_000709.wav\n"
     ]
    },
    {
     "name": "stderr",
     "output_type": "stream",
     "text": [
      "Processing files:  27%|██▋       | 5388/19777 [04:35<12:54, 18.58it/s]"
     ]
    },
    {
     "name": "stdout",
     "output_type": "stream",
     "text": [
      "✓ Processed: 0010_000711.wav\n",
      "✓ Processed: 0010_000712.wav\n",
      "✓ Processed: 0010_000714.wav\n",
      "✓ Processed: 0010_000718.wav\n"
     ]
    },
    {
     "name": "stderr",
     "output_type": "stream",
     "text": [
      "Processing files:  27%|██▋       | 5390/19777 [04:35<12:47, 18.73it/s]"
     ]
    },
    {
     "name": "stdout",
     "output_type": "stream",
     "text": [
      "✓ Processed: 0010_000719.wav\n",
      "✓ Processed: 0010_000721.wav\n",
      "✓ Processed: 0010_000724.wav\n"
     ]
    },
    {
     "name": "stderr",
     "output_type": "stream",
     "text": [
      "Processing files:  27%|██▋       | 5394/19777 [04:36<13:41, 17.52it/s]"
     ]
    },
    {
     "name": "stdout",
     "output_type": "stream",
     "text": [
      "✓ Processed: 0010_000726.wav\n",
      "✓ Processed: 0010_000728.wav\n",
      "✓ Processed: 0010_000729.wav\n",
      "✓ Processed: 0010_000730.wav\n"
     ]
    },
    {
     "name": "stderr",
     "output_type": "stream",
     "text": [
      "Processing files:  27%|██▋       | 5398/19777 [04:36<13:21, 17.95it/s]"
     ]
    },
    {
     "name": "stdout",
     "output_type": "stream",
     "text": [
      "✓ Processed: 0010_000733.wav\n",
      "✓ Processed: 0010_000734.wav\n",
      "✓ Processed: 0010_000735.wav\n",
      "✓ Processed: 0010_000737.wav\n"
     ]
    },
    {
     "name": "stderr",
     "output_type": "stream",
     "text": [
      "Processing files:  27%|██▋       | 5402/19777 [04:36<13:15, 18.08it/s]"
     ]
    },
    {
     "name": "stdout",
     "output_type": "stream",
     "text": [
      "✓ Processed: 0010_000739.wav\n",
      "✓ Processed: 0010_000741.wav\n",
      "✓ Processed: 0010_000744.wav\n",
      "✓ Processed: 0010_000746.wav\n"
     ]
    },
    {
     "name": "stderr",
     "output_type": "stream",
     "text": [
      "Processing files:  27%|██▋       | 5406/19777 [04:36<13:02, 18.37it/s]"
     ]
    },
    {
     "name": "stdout",
     "output_type": "stream",
     "text": [
      "✓ Processed: 0010_000747.wav\n",
      "✓ Processed: 0010_000750.wav\n",
      "✓ Processed: 0010_000752.wav\n",
      "✓ Processed: 0010_000757.wav\n"
     ]
    },
    {
     "name": "stderr",
     "output_type": "stream",
     "text": [
      "Processing files:  27%|██▋       | 5410/19777 [04:37<13:07, 18.25it/s]"
     ]
    },
    {
     "name": "stdout",
     "output_type": "stream",
     "text": [
      "✓ Processed: 0010_000758.wav\n",
      "✓ Processed: 0010_000759.wav\n",
      "✓ Processed: 0010_000760.wav\n",
      "✓ Processed: 0010_000764.wav\n"
     ]
    },
    {
     "name": "stderr",
     "output_type": "stream",
     "text": [
      "Processing files:  27%|██▋       | 5415/19777 [04:37<13:00, 18.40it/s]"
     ]
    },
    {
     "name": "stdout",
     "output_type": "stream",
     "text": [
      "✓ Processed: 0010_000767.wav\n",
      "✓ Processed: 0010_000770.wav\n",
      "✓ Processed: 0010_000771.wav\n",
      "✓ Processed: 0010_000772.wav\n"
     ]
    },
    {
     "name": "stderr",
     "output_type": "stream",
     "text": [
      "Processing files:  27%|██▋       | 5419/19777 [04:37<13:53, 17.23it/s]"
     ]
    },
    {
     "name": "stdout",
     "output_type": "stream",
     "text": [
      "✓ Processed: 0010_000777.wav\n",
      "✓ Processed: 0010_000778.wav\n",
      "✓ Processed: 0010_000780.wav\n",
      "✓ Processed: 0010_000781.wav\n"
     ]
    },
    {
     "name": "stderr",
     "output_type": "stream",
     "text": [
      "Processing files:  27%|██▋       | 5422/19777 [04:37<13:22, 17.90it/s]"
     ]
    },
    {
     "name": "stdout",
     "output_type": "stream",
     "text": [
      "✓ Processed: 0010_000783.wav\n",
      "✓ Processed: 0010_000784.wav\n",
      "✓ Processed: 0010_000785.wav\n",
      "✓ Processed: 0010_000786.wav\n"
     ]
    },
    {
     "name": "stderr",
     "output_type": "stream",
     "text": [
      "Processing files:  27%|██▋       | 5426/19777 [04:37<13:30, 17.71it/s]"
     ]
    },
    {
     "name": "stdout",
     "output_type": "stream",
     "text": [
      "✓ Processed: 0010_000787.wav\n",
      "✓ Processed: 0010_000789.wav\n",
      "✓ Processed: 0010_000790.wav\n",
      "✓ Processed: 0010_000793.wav\n"
     ]
    },
    {
     "name": "stderr",
     "output_type": "stream",
     "text": [
      "Processing files:  27%|██▋       | 5430/19777 [04:38<13:31, 17.67it/s]"
     ]
    },
    {
     "name": "stdout",
     "output_type": "stream",
     "text": [
      "✓ Processed: 0010_000794.wav\n",
      "✓ Processed: 0010_000795.wav\n",
      "✓ Processed: 0010_000796.wav\n",
      "✓ Processed: 0010_000797.wav\n"
     ]
    },
    {
     "name": "stderr",
     "output_type": "stream",
     "text": [
      "Processing files:  27%|██▋       | 5435/19777 [04:38<13:07, 18.20it/s]"
     ]
    },
    {
     "name": "stdout",
     "output_type": "stream",
     "text": [
      "✓ Processed: 0010_000798.wav\n",
      "✓ Processed: 0010_000799.wav\n",
      "✓ Processed: 0010_000802.wav\n",
      "✓ Processed: 0010_000803.wav\n"
     ]
    },
    {
     "name": "stderr",
     "output_type": "stream",
     "text": [
      "Processing files:  28%|██▊       | 5439/19777 [04:38<13:14, 18.05it/s]"
     ]
    },
    {
     "name": "stdout",
     "output_type": "stream",
     "text": [
      "✓ Processed: 0010_000805.wav\n",
      "✓ Processed: 0010_000806.wav\n",
      "✓ Processed: 0010_000807.wav\n",
      "✓ Processed: 0010_000813.wav\n"
     ]
    },
    {
     "name": "stderr",
     "output_type": "stream",
     "text": [
      "Processing files:  28%|██▊       | 5441/19777 [04:38<13:27, 17.76it/s]"
     ]
    },
    {
     "name": "stdout",
     "output_type": "stream",
     "text": [
      "✓ Processed: 0010_000815.wav\n",
      "✓ Processed: 0010_000817.wav\n",
      "✓ Processed: 0010_000819.wav\n"
     ]
    },
    {
     "name": "stderr",
     "output_type": "stream",
     "text": [
      "Processing files:  28%|██▊       | 5445/19777 [04:38<14:04, 16.96it/s]"
     ]
    },
    {
     "name": "stdout",
     "output_type": "stream",
     "text": [
      "✓ Processed: 0010_000821.wav\n",
      "✓ Processed: 0010_000822.wav\n",
      "✓ Processed: 0010_000826.wav\n",
      "✓ Processed: 0010_000827.wav\n"
     ]
    },
    {
     "name": "stderr",
     "output_type": "stream",
     "text": [
      "Processing files:  28%|██▊       | 5449/19777 [04:39<13:41, 17.44it/s]"
     ]
    },
    {
     "name": "stdout",
     "output_type": "stream",
     "text": [
      "✓ Processed: 0010_000828.wav\n",
      "✓ Processed: 0010_000829.wav\n",
      "✓ Processed: 0010_000830.wav\n",
      "✓ Processed: 0010_000831.wav\n"
     ]
    },
    {
     "name": "stderr",
     "output_type": "stream",
     "text": [
      "Processing files:  28%|██▊       | 5454/19777 [04:39<13:12, 18.07it/s]"
     ]
    },
    {
     "name": "stdout",
     "output_type": "stream",
     "text": [
      "✓ Processed: 0010_000832.wav\n",
      "✓ Processed: 0010_000833.wav\n",
      "✓ Processed: 0010_000834.wav\n",
      "✓ Processed: 0010_000836.wav\n"
     ]
    },
    {
     "name": "stderr",
     "output_type": "stream",
     "text": [
      "Processing files:  28%|██▊       | 5458/19777 [04:39<12:56, 18.45it/s]"
     ]
    },
    {
     "name": "stdout",
     "output_type": "stream",
     "text": [
      "✓ Processed: 0010_000842.wav\n",
      "✓ Processed: 0010_000844.wav\n",
      "✓ Processed: 0010_000845.wav\n",
      "✓ Processed: 0010_000846.wav\n"
     ]
    },
    {
     "name": "stderr",
     "output_type": "stream",
     "text": [
      "Processing files:  28%|██▊       | 5462/19777 [04:39<12:51, 18.55it/s]"
     ]
    },
    {
     "name": "stdout",
     "output_type": "stream",
     "text": [
      "✓ Processed: 0010_000847.wav\n",
      "✓ Processed: 0010_000848.wav\n",
      "✓ Processed: 0010_000849.wav\n",
      "✓ Processed: 0010_000852.wav\n"
     ]
    },
    {
     "name": "stderr",
     "output_type": "stream",
     "text": [
      "Processing files:  28%|██▊       | 5464/19777 [04:40<12:37, 18.89it/s]"
     ]
    },
    {
     "name": "stdout",
     "output_type": "stream",
     "text": [
      "✓ Processed: 0010_000855.wav\n",
      "✓ Processed: 0010_000856.wav\n",
      "✓ Processed: 0010_000858.wav\n"
     ]
    },
    {
     "name": "stderr",
     "output_type": "stream",
     "text": [
      "Processing files:  28%|██▊       | 5470/19777 [04:40<13:02, 18.28it/s]"
     ]
    },
    {
     "name": "stdout",
     "output_type": "stream",
     "text": [
      "✓ Processed: 0010_000859.wav\n",
      "✓ Processed: 0010_000861.wav\n",
      "✓ Processed: 0010_000862.wav\n",
      "✓ Processed: 0010_000865.wav\n"
     ]
    },
    {
     "name": "stderr",
     "output_type": "stream",
     "text": [
      "Processing files:  28%|██▊       | 5472/19777 [04:40<13:03, 18.27it/s]"
     ]
    },
    {
     "name": "stdout",
     "output_type": "stream",
     "text": [
      "✓ Processed: 0010_000866.wav\n",
      "✓ Processed: 0010_000868.wav\n",
      "✓ Processed: 0010_000874.wav\n",
      "✓ Processed: 0010_000875.wav\n"
     ]
    },
    {
     "name": "stderr",
     "output_type": "stream",
     "text": [
      "Processing files:  28%|██▊       | 5477/19777 [04:40<12:58, 18.36it/s]"
     ]
    },
    {
     "name": "stdout",
     "output_type": "stream",
     "text": [
      "✓ Processed: 0010_000876.wav\n",
      "✓ Processed: 0010_000877.wav\n",
      "✓ Processed: 0010_000879.wav\n",
      "✓ Processed: 0010_000883.wav\n"
     ]
    },
    {
     "name": "stderr",
     "output_type": "stream",
     "text": [
      "Processing files:  28%|██▊       | 5481/19777 [04:40<13:12, 18.04it/s]"
     ]
    },
    {
     "name": "stdout",
     "output_type": "stream",
     "text": [
      "✓ Processed: 0010_000884.wav\n",
      "✓ Processed: 0010_000885.wav\n",
      "✓ Processed: 0010_000886.wav\n",
      "✓ Processed: 0010_000887.wav\n",
      "✓ Processed: 0010_000889.wav\n"
     ]
    },
    {
     "name": "stderr",
     "output_type": "stream",
     "text": [
      "Processing files:  28%|██▊       | 5486/19777 [04:41<12:49, 18.58it/s]"
     ]
    },
    {
     "name": "stdout",
     "output_type": "stream",
     "text": [
      "✓ Processed: 0010_000891.wav\n",
      "✓ Processed: 0010_000892.wav\n",
      "✓ Processed: 0010_000893.wav\n",
      "✓ Processed: 0010_000894.wav\n"
     ]
    },
    {
     "name": "stderr",
     "output_type": "stream",
     "text": [
      "Processing files:  28%|██▊       | 5488/19777 [04:41<12:58, 18.35it/s]"
     ]
    },
    {
     "name": "stdout",
     "output_type": "stream",
     "text": [
      "✓ Processed: 0010_000896.wav\n",
      "✓ Processed: 0010_000899.wav\n",
      "✓ Processed: 0010_000901.wav\n"
     ]
    },
    {
     "name": "stderr",
     "output_type": "stream",
     "text": [
      "Processing files:  28%|██▊       | 5492/19777 [04:41<13:57, 17.05it/s]"
     ]
    },
    {
     "name": "stdout",
     "output_type": "stream",
     "text": [
      "✓ Processed: 0010_000903.wav\n",
      "✓ Processed: 0010_000904.wav\n",
      "✓ Processed: 0010_000905.wav\n",
      "✓ Processed: 0010_000907.wav\n"
     ]
    },
    {
     "name": "stderr",
     "output_type": "stream",
     "text": [
      "Processing files:  28%|██▊       | 5496/19777 [04:41<13:32, 17.57it/s]"
     ]
    },
    {
     "name": "stdout",
     "output_type": "stream",
     "text": [
      "✓ Processed: 0010_000908.wav\n",
      "✓ Processed: 0010_000909.wav\n",
      "✓ Processed: 0010_000910.wav\n",
      "✓ Processed: 0010_000912.wav\n"
     ]
    },
    {
     "name": "stderr",
     "output_type": "stream",
     "text": [
      "Processing files:  28%|██▊       | 5500/19777 [04:42<13:05, 18.18it/s]"
     ]
    },
    {
     "name": "stdout",
     "output_type": "stream",
     "text": [
      "✓ Processed: 0010_000914.wav\n",
      "✓ Processed: 0010_000915.wav\n",
      "✓ Processed: 0010_000916.wav\n",
      "✓ Processed: 0010_000917.wav\n"
     ]
    },
    {
     "name": "stderr",
     "output_type": "stream",
     "text": [
      "Processing files:  28%|██▊       | 5506/19777 [04:42<12:41, 18.73it/s]"
     ]
    },
    {
     "name": "stdout",
     "output_type": "stream",
     "text": [
      "✓ Processed: 0010_000918.wav\n",
      "✓ Processed: 0010_000919.wav\n",
      "✓ Processed: 0010_000920.wav\n",
      "✓ Processed: 0010_000921.wav\n"
     ]
    },
    {
     "name": "stderr",
     "output_type": "stream",
     "text": [
      "Processing files:  28%|██▊       | 5508/19777 [04:42<12:43, 18.70it/s]"
     ]
    },
    {
     "name": "stdout",
     "output_type": "stream",
     "text": [
      "✓ Processed: 0010_000923.wav\n",
      "✓ Processed: 0010_000926.wav\n",
      "✓ Processed: 0010_000927.wav\n",
      "✓ Processed: 0010_000929.wav\n"
     ]
    },
    {
     "name": "stderr",
     "output_type": "stream",
     "text": [
      "Processing files:  28%|██▊       | 5512/19777 [04:42<12:41, 18.73it/s]"
     ]
    },
    {
     "name": "stdout",
     "output_type": "stream",
     "text": [
      "✓ Processed: 0010_000930.wav\n",
      "✓ Processed: 0010_000933.wav\n",
      "✓ Processed: 0010_000936.wav\n",
      "✓ Processed: 0010_000937.wav\n"
     ]
    },
    {
     "name": "stderr",
     "output_type": "stream",
     "text": [
      "Processing files:  28%|██▊       | 5516/19777 [04:42<13:54, 17.09it/s]"
     ]
    },
    {
     "name": "stdout",
     "output_type": "stream",
     "text": [
      "✓ Processed: 0010_000940.wav\n",
      "✓ Processed: 0010_000941.wav\n",
      "✓ Processed: 0010_000942.wav\n",
      "✓ Processed: 0010_000944.wav\n"
     ]
    },
    {
     "name": "stderr",
     "output_type": "stream",
     "text": [
      "Processing files:  28%|██▊       | 5521/19777 [04:43<12:43, 18.68it/s]"
     ]
    },
    {
     "name": "stdout",
     "output_type": "stream",
     "text": [
      "✓ Processed: 0010_000945.wav\n",
      "✓ Processed: 0010_000946.wav\n",
      "✓ Processed: 0010_000955.wav\n",
      "✓ Processed: 0010_000956.wav\n"
     ]
    },
    {
     "name": "stderr",
     "output_type": "stream",
     "text": [
      "Processing files:  28%|██▊       | 5525/19777 [04:43<12:43, 18.66it/s]"
     ]
    },
    {
     "name": "stdout",
     "output_type": "stream",
     "text": [
      "✓ Processed: 0010_000957.wav\n",
      "✓ Processed: 0010_000960.wav\n",
      "✓ Processed: 0010_000962.wav\n",
      "✓ Processed: 0010_000964.wav\n",
      "✓ Processed: 0010_000968.wav\n"
     ]
    },
    {
     "name": "stderr",
     "output_type": "stream",
     "text": [
      "Processing files:  28%|██▊       | 5529/19777 [04:43<12:37, 18.80it/s]"
     ]
    },
    {
     "name": "stdout",
     "output_type": "stream",
     "text": [
      "✓ Processed: 0010_000970.wav\n",
      "✓ Processed: 0010_000971.wav\n",
      "✓ Processed: 0010_000974.wav\n",
      "✓ Processed: 0010_000975.wav\n"
     ]
    },
    {
     "name": "stderr",
     "output_type": "stream",
     "text": [
      "Processing files:  28%|██▊       | 5533/19777 [04:43<12:32, 18.92it/s]"
     ]
    },
    {
     "name": "stdout",
     "output_type": "stream",
     "text": [
      "✓ Processed: 0010_000977.wav\n",
      "✓ Processed: 0010_000979.wav\n",
      "✓ Processed: 0010_000980.wav\n",
      "✓ Processed: 0010_000982.wav\n"
     ]
    },
    {
     "name": "stderr",
     "output_type": "stream",
     "text": [
      "Processing files:  28%|██▊       | 5537/19777 [04:44<12:39, 18.75it/s]"
     ]
    },
    {
     "name": "stdout",
     "output_type": "stream",
     "text": [
      "✓ Processed: 0010_000983.wav\n",
      "✓ Processed: 0010_000984.wav\n",
      "✓ Processed: 0010_000986.wav\n",
      "✓ Processed: 0010_000988.wav\n"
     ]
    },
    {
     "name": "stderr",
     "output_type": "stream",
     "text": [
      "Processing files:  28%|██▊       | 5541/19777 [04:44<13:59, 16.95it/s]"
     ]
    },
    {
     "name": "stdout",
     "output_type": "stream",
     "text": [
      "✓ Processed: 0010_000989.wav\n",
      "✓ Processed: 0010_000993.wav\n",
      "✓ Processed: 0010_000995.wav\n",
      "✓ Processed: 0010_000998.wav\n"
     ]
    },
    {
     "name": "stderr",
     "output_type": "stream",
     "text": [
      "Processing files:  28%|██▊       | 5547/19777 [04:44<12:49, 18.48it/s]"
     ]
    },
    {
     "name": "stdout",
     "output_type": "stream",
     "text": [
      "✓ Processed: 0010_001000.wav\n",
      "✓ Processed: 0010_001001.wav\n",
      "✓ Processed: 0010_001002.wav\n",
      "✓ Processed: 0010_001004.wav\n"
     ]
    },
    {
     "name": "stderr",
     "output_type": "stream",
     "text": [
      "Processing files:  28%|██▊       | 5549/19777 [04:44<12:55, 18.35it/s]"
     ]
    },
    {
     "name": "stdout",
     "output_type": "stream",
     "text": [
      "✓ Processed: 0010_001006.wav\n",
      "✓ Processed: 0010_001008.wav\n",
      "✓ Processed: 0010_001012.wav\n",
      "✓ Processed: 0010_001013.wav\n"
     ]
    },
    {
     "name": "stderr",
     "output_type": "stream",
     "text": [
      "Processing files:  28%|██▊       | 5553/19777 [04:44<14:15, 16.62it/s]"
     ]
    },
    {
     "name": "stdout",
     "output_type": "stream",
     "text": [
      "✓ Processed: 0010_001015.wav\n",
      "✓ Processed: 0010_001018.wav\n",
      "✓ Processed: 0010_001019.wav\n",
      "✓ Processed: 0010_001020.wav\n"
     ]
    },
    {
     "name": "stderr",
     "output_type": "stream",
     "text": [
      "Processing files:  28%|██▊       | 5558/19777 [04:45<12:50, 18.45it/s]"
     ]
    },
    {
     "name": "stdout",
     "output_type": "stream",
     "text": [
      "✓ Processed: 0010_001021.wav\n",
      "✓ Processed: 0010_001023.wav\n",
      "✓ Processed: 0010_001026.wav\n",
      "✓ Processed: 0010_001028.wav\n"
     ]
    },
    {
     "name": "stderr",
     "output_type": "stream",
     "text": [
      "Processing files:  28%|██▊       | 5560/19777 [04:45<13:14, 17.88it/s]"
     ]
    },
    {
     "name": "stdout",
     "output_type": "stream",
     "text": [
      "✓ Processed: 0010_001030.wav\n",
      "✓ Processed: 0010_001032.wav\n",
      "✓ Processed: 0010_001033.wav\n",
      "✓ Processed: 0010_001034.wav\n"
     ]
    },
    {
     "name": "stderr",
     "output_type": "stream",
     "text": [
      "Processing files:  28%|██▊       | 5565/19777 [04:45<14:21, 16.49it/s]"
     ]
    },
    {
     "name": "stdout",
     "output_type": "stream",
     "text": [
      "✓ Processed: 0010_001037.wav\n",
      "✓ Processed: 0010_001038.wav\n",
      "✓ Processed: 0010_001040.wav\n"
     ]
    },
    {
     "name": "stderr",
     "output_type": "stream",
     "text": [
      "Processing files:  28%|██▊       | 5569/19777 [04:45<13:33, 17.47it/s]"
     ]
    },
    {
     "name": "stdout",
     "output_type": "stream",
     "text": [
      "✓ Processed: 0010_001041.wav\n",
      "✓ Processed: 0010_001042.wav\n",
      "✓ Processed: 0010_001043.wav\n",
      "✓ Processed: 0010_001045.wav\n"
     ]
    },
    {
     "name": "stderr",
     "output_type": "stream",
     "text": [
      "Processing files:  28%|██▊       | 5573/19777 [04:46<13:09, 17.99it/s]"
     ]
    },
    {
     "name": "stdout",
     "output_type": "stream",
     "text": [
      "✓ Processed: 0010_001046.wav\n",
      "✓ Processed: 0010_001048.wav\n",
      "✓ Processed: 0011_000702.wav\n",
      "✓ Processed: 0011_000703.wav\n"
     ]
    },
    {
     "name": "stderr",
     "output_type": "stream",
     "text": [
      "Processing files:  28%|██▊       | 5577/19777 [04:46<13:12, 17.91it/s]"
     ]
    },
    {
     "name": "stdout",
     "output_type": "stream",
     "text": [
      "✓ Processed: 0011_000704.wav\n",
      "✓ Processed: 0011_000707.wav\n",
      "✓ Processed: 0011_000708.wav\n",
      "✓ Processed: 0011_000710.wav\n"
     ]
    },
    {
     "name": "stderr",
     "output_type": "stream",
     "text": [
      "Processing files:  28%|██▊       | 5581/19777 [04:46<12:57, 18.26it/s]"
     ]
    },
    {
     "name": "stdout",
     "output_type": "stream",
     "text": [
      "✓ Processed: 0011_000711.wav\n",
      "✓ Processed: 0011_000712.wav\n",
      "✓ Processed: 0011_000713.wav\n",
      "✓ Processed: 0011_000714.wav\n",
      "✓ Processed: 0011_000715.wav\n"
     ]
    },
    {
     "name": "stderr",
     "output_type": "stream",
     "text": [
      "Processing files:  28%|██▊       | 5585/19777 [04:46<12:50, 18.41it/s]"
     ]
    },
    {
     "name": "stdout",
     "output_type": "stream",
     "text": [
      "✓ Processed: 0011_000720.wav\n",
      "✓ Processed: 0011_000721.wav\n",
      "✓ Processed: 0011_000722.wav\n",
      "✓ Processed: 0011_000725.wav\n"
     ]
    },
    {
     "name": "stderr",
     "output_type": "stream",
     "text": [
      "Processing files:  28%|██▊       | 5589/19777 [04:47<15:59, 14.79it/s]"
     ]
    },
    {
     "name": "stdout",
     "output_type": "stream",
     "text": [
      "✓ Processed: 0011_000726.wav\n",
      "✓ Processed: 0011_000728.wav\n",
      "✓ Processed: 0011_000731.wav\n"
     ]
    },
    {
     "name": "stderr",
     "output_type": "stream",
     "text": [
      "Processing files:  28%|██▊       | 5591/19777 [04:47<14:53, 15.87it/s]"
     ]
    },
    {
     "name": "stdout",
     "output_type": "stream",
     "text": [
      "✓ Processed: 0011_000734.wav\n",
      "✓ Processed: 0011_000736.wav\n",
      "✓ Processed: 0011_000737.wav\n",
      "✓ Processed: 0011_000739.wav\n"
     ]
    },
    {
     "name": "stderr",
     "output_type": "stream",
     "text": [
      "Processing files:  28%|██▊       | 5596/19777 [04:47<13:27, 17.57it/s]"
     ]
    },
    {
     "name": "stdout",
     "output_type": "stream",
     "text": [
      "✓ Processed: 0011_000744.wav\n",
      "✓ Processed: 0011_000745.wav\n",
      "✓ Processed: 0011_000747.wav\n",
      "✓ Processed: 0011_000748.wav\n"
     ]
    },
    {
     "name": "stderr",
     "output_type": "stream",
     "text": [
      "Processing files:  28%|██▊       | 5600/19777 [04:47<12:50, 18.40it/s]"
     ]
    },
    {
     "name": "stdout",
     "output_type": "stream",
     "text": [
      "✓ Processed: 0011_000750.wav\n",
      "✓ Processed: 0011_000751.wav\n",
      "✓ Processed: 0011_000752.wav\n",
      "✓ Processed: 0011_000754.wav\n"
     ]
    },
    {
     "name": "stderr",
     "output_type": "stream",
     "text": [
      "Processing files:  28%|██▊       | 5604/19777 [04:47<12:34, 18.78it/s]"
     ]
    },
    {
     "name": "stdout",
     "output_type": "stream",
     "text": [
      "✓ Processed: 0011_000756.wav\n",
      "✓ Processed: 0011_000757.wav\n",
      "✓ Processed: 0011_000758.wav\n",
      "✓ Processed: 0011_000759.wav\n"
     ]
    },
    {
     "name": "stderr",
     "output_type": "stream",
     "text": [
      "Processing files:  28%|██▊       | 5608/19777 [04:48<12:46, 18.48it/s]"
     ]
    },
    {
     "name": "stdout",
     "output_type": "stream",
     "text": [
      "✓ Processed: 0011_000760.wav\n",
      "✓ Processed: 0011_000764.wav\n",
      "✓ Processed: 0011_000765.wav\n",
      "✓ Processed: 0011_000767.wav\n"
     ]
    },
    {
     "name": "stderr",
     "output_type": "stream",
     "text": [
      "Processing files:  28%|██▊       | 5613/19777 [04:48<12:35, 18.74it/s]"
     ]
    },
    {
     "name": "stdout",
     "output_type": "stream",
     "text": [
      "✓ Processed: 0011_000770.wav\n",
      "✓ Processed: 0011_000771.wav\n",
      "✓ Processed: 0011_000772.wav\n",
      "✓ Processed: 0011_000773.wav\n",
      "✓ Processed: 0011_000774.wav\n"
     ]
    },
    {
     "name": "stderr",
     "output_type": "stream",
     "text": [
      "Processing files:  28%|██▊       | 5617/19777 [04:48<13:38, 17.30it/s]"
     ]
    },
    {
     "name": "stdout",
     "output_type": "stream",
     "text": [
      "✓ Processed: 0011_000776.wav\n",
      "✓ Processed: 0011_000777.wav\n",
      "✓ Processed: 0011_000779.wav\n",
      "✓ Processed: 0011_000780.wav\n"
     ]
    },
    {
     "name": "stderr",
     "output_type": "stream",
     "text": [
      "Processing files:  28%|██▊       | 5622/19777 [04:48<13:00, 18.13it/s]"
     ]
    },
    {
     "name": "stdout",
     "output_type": "stream",
     "text": [
      "✓ Processed: 0011_000782.wav\n",
      "✓ Processed: 0011_000783.wav\n",
      "✓ Processed: 0011_000787.wav\n",
      "✓ Processed: 0011_000788.wav\n"
     ]
    },
    {
     "name": "stderr",
     "output_type": "stream",
     "text": [
      "Processing files:  28%|██▊       | 5626/19777 [04:49<12:45, 18.48it/s]"
     ]
    },
    {
     "name": "stdout",
     "output_type": "stream",
     "text": [
      "✓ Processed: 0011_000789.wav\n",
      "✓ Processed: 0011_000794.wav\n",
      "✓ Processed: 0011_000796.wav\n",
      "✓ Processed: 0011_000797.wav\n"
     ]
    },
    {
     "name": "stderr",
     "output_type": "stream",
     "text": [
      "Processing files:  28%|██▊       | 5628/19777 [04:49<12:39, 18.64it/s]"
     ]
    },
    {
     "name": "stdout",
     "output_type": "stream",
     "text": [
      "✓ Processed: 0011_000798.wav\n",
      "✓ Processed: 0011_000799.wav\n",
      "✓ Processed: 0011_000800.wav\n",
      "✓ Processed: 0011_000801.wav\n"
     ]
    },
    {
     "name": "stderr",
     "output_type": "stream",
     "text": [
      "Processing files:  28%|██▊       | 5633/19777 [04:49<12:18, 19.15it/s]"
     ]
    },
    {
     "name": "stdout",
     "output_type": "stream",
     "text": [
      "✓ Processed: 0011_000802.wav\n",
      "✓ Processed: 0011_000803.wav\n",
      "✓ Processed: 0011_000804.wav\n",
      "✓ Processed: 0011_000807.wav\n"
     ]
    },
    {
     "name": "stderr",
     "output_type": "stream",
     "text": [
      "Processing files:  29%|██▊       | 5637/19777 [04:49<12:35, 18.73it/s]"
     ]
    },
    {
     "name": "stdout",
     "output_type": "stream",
     "text": [
      "✓ Processed: 0011_000809.wav\n",
      "✓ Processed: 0011_000814.wav\n",
      "✓ Processed: 0011_000816.wav\n",
      "✓ Processed: 0011_000817.wav\n"
     ]
    },
    {
     "name": "stderr",
     "output_type": "stream",
     "text": [
      "Processing files:  29%|██▊       | 5640/19777 [04:49<12:31, 18.82it/s]"
     ]
    },
    {
     "name": "stdout",
     "output_type": "stream",
     "text": [
      "✓ Processed: 0011_000818.wav\n",
      "✓ Processed: 0011_000819.wav\n",
      "✓ Processed: 0011_000820.wav\n"
     ]
    },
    {
     "name": "stderr",
     "output_type": "stream",
     "text": [
      "Processing files:  29%|██▊       | 5644/19777 [04:50<13:49, 17.05it/s]"
     ]
    },
    {
     "name": "stdout",
     "output_type": "stream",
     "text": [
      "✓ Processed: 0011_000823.wav\n",
      "✓ Processed: 0011_000832.wav\n",
      "✓ Processed: 0011_000834.wav\n",
      "✓ Processed: 0011_000835.wav\n"
     ]
    },
    {
     "name": "stderr",
     "output_type": "stream",
     "text": [
      "Processing files:  29%|██▊       | 5648/19777 [04:50<13:05, 17.99it/s]"
     ]
    },
    {
     "name": "stdout",
     "output_type": "stream",
     "text": [
      "✓ Processed: 0011_000839.wav\n",
      "✓ Processed: 0011_000840.wav\n",
      "✓ Processed: 0011_000850.wav\n",
      "✓ Processed: 0011_000851.wav\n"
     ]
    },
    {
     "name": "stderr",
     "output_type": "stream",
     "text": [
      "Processing files:  29%|██▊       | 5652/19777 [04:50<13:02, 18.06it/s]"
     ]
    },
    {
     "name": "stdout",
     "output_type": "stream",
     "text": [
      "✓ Processed: 0011_000856.wav\n",
      "✓ Processed: 0011_000857.wav\n",
      "✓ Processed: 0011_000858.wav\n",
      "✓ Processed: 0011_000859.wav\n"
     ]
    },
    {
     "name": "stderr",
     "output_type": "stream",
     "text": [
      "Processing files:  29%|██▊       | 5656/19777 [04:50<13:03, 18.02it/s]"
     ]
    },
    {
     "name": "stdout",
     "output_type": "stream",
     "text": [
      "✓ Processed: 0011_000860.wav\n",
      "✓ Processed: 0011_000861.wav\n",
      "✓ Processed: 0011_000863.wav\n",
      "✓ Processed: 0011_000866.wav\n"
     ]
    },
    {
     "name": "stderr",
     "output_type": "stream",
     "text": [
      "Processing files:  29%|██▊       | 5661/19777 [04:50<12:40, 18.57it/s]"
     ]
    },
    {
     "name": "stdout",
     "output_type": "stream",
     "text": [
      "✓ Processed: 0011_000867.wav\n",
      "✓ Processed: 0011_000869.wav\n",
      "✓ Processed: 0011_000870.wav\n",
      "✓ Processed: 0011_000872.wav\n"
     ]
    },
    {
     "name": "stderr",
     "output_type": "stream",
     "text": [
      "Processing files:  29%|██▊       | 5663/19777 [04:51<13:04, 17.98it/s]"
     ]
    },
    {
     "name": "stdout",
     "output_type": "stream",
     "text": [
      "✓ Processed: 0011_000874.wav\n",
      "✓ Processed: 0011_000876.wav\n",
      "✓ Processed: 0011_000878.wav\n"
     ]
    },
    {
     "name": "stderr",
     "output_type": "stream",
     "text": [
      "Processing files:  29%|██▊       | 5667/19777 [04:51<13:15, 17.74it/s]"
     ]
    },
    {
     "name": "stdout",
     "output_type": "stream",
     "text": [
      "✓ Processed: 0011_000881.wav\n",
      "✓ Processed: 0011_000883.wav\n",
      "✓ Processed: 0011_000885.wav\n",
      "✓ Processed: 0011_000887.wav\n"
     ]
    },
    {
     "name": "stderr",
     "output_type": "stream",
     "text": [
      "Processing files:  29%|██▊       | 5671/19777 [04:51<13:09, 17.87it/s]"
     ]
    },
    {
     "name": "stdout",
     "output_type": "stream",
     "text": [
      "✓ Processed: 0011_000888.wav\n",
      "✓ Processed: 0011_000890.wav\n",
      "✓ Processed: 0011_000897.wav\n",
      "✓ Processed: 0011_000899.wav\n"
     ]
    },
    {
     "name": "stderr",
     "output_type": "stream",
     "text": [
      "Processing files:  29%|██▊       | 5675/19777 [04:51<13:03, 17.99it/s]"
     ]
    },
    {
     "name": "stdout",
     "output_type": "stream",
     "text": [
      "✓ Processed: 0011_000901.wav\n",
      "✓ Processed: 0011_000902.wav\n",
      "✓ Processed: 0011_000903.wav\n",
      "✓ Processed: 0011_000906.wav\n"
     ]
    },
    {
     "name": "stderr",
     "output_type": "stream",
     "text": [
      "Processing files:  29%|██▊       | 5679/19777 [04:51<12:35, 18.67it/s]"
     ]
    },
    {
     "name": "stdout",
     "output_type": "stream",
     "text": [
      "✓ Processed: 0011_000907.wav\n",
      "✓ Processed: 0011_000909.wav\n",
      "✓ Processed: 0011_000910.wav\n",
      "✓ Processed: 0011_000911.wav\n",
      "✓ Processed: 0011_000912.wav\n"
     ]
    },
    {
     "name": "stderr",
     "output_type": "stream",
     "text": [
      "Processing files:  29%|██▉       | 5686/19777 [04:52<12:30, 18.77it/s]"
     ]
    },
    {
     "name": "stdout",
     "output_type": "stream",
     "text": [
      "✓ Processed: 0011_000914.wav\n",
      "✓ Processed: 0011_000915.wav\n",
      "✓ Processed: 0011_000917.wav\n",
      "✓ Processed: 0011_000918.wav\n"
     ]
    },
    {
     "name": "stderr",
     "output_type": "stream",
     "text": [
      "Processing files:  29%|██▉       | 5688/19777 [04:52<13:07, 17.89it/s]"
     ]
    },
    {
     "name": "stdout",
     "output_type": "stream",
     "text": [
      "✓ Processed: 0011_000919.wav\n",
      "✓ Processed: 0011_000924.wav\n",
      "✓ Processed: 0011_000925.wav\n"
     ]
    },
    {
     "name": "stderr",
     "output_type": "stream",
     "text": [
      "Processing files:  29%|██▉       | 5690/19777 [04:52<14:36, 16.07it/s]"
     ]
    },
    {
     "name": "stdout",
     "output_type": "stream",
     "text": [
      "✓ Processed: 0011_000926.wav\n",
      "✓ Processed: 0011_000927.wav\n",
      "✓ Processed: 0011_000932.wav\n",
      "✓ Processed: 0011_000934.wav\n"
     ]
    },
    {
     "name": "stderr",
     "output_type": "stream",
     "text": [
      "Processing files:  29%|██▉       | 5695/19777 [04:52<13:11, 17.79it/s]"
     ]
    },
    {
     "name": "stdout",
     "output_type": "stream",
     "text": [
      "✓ Processed: 0011_000936.wav\n",
      "✓ Processed: 0011_000937.wav\n",
      "✓ Processed: 0011_000938.wav\n",
      "✓ Processed: 0011_000939.wav\n"
     ]
    },
    {
     "name": "stderr",
     "output_type": "stream",
     "text": [
      "Processing files:  29%|██▉       | 5700/19777 [04:53<12:37, 18.58it/s]"
     ]
    },
    {
     "name": "stdout",
     "output_type": "stream",
     "text": [
      "✓ Processed: 0011_000940.wav\n",
      "✓ Processed: 0011_000941.wav\n",
      "✓ Processed: 0011_000943.wav\n",
      "✓ Processed: 0011_000944.wav\n",
      "✓ Processed: 0011_000947.wav\n"
     ]
    },
    {
     "name": "stderr",
     "output_type": "stream",
     "text": [
      "Processing files:  29%|██▉       | 5704/19777 [04:53<12:21, 18.97it/s]"
     ]
    },
    {
     "name": "stdout",
     "output_type": "stream",
     "text": [
      "✓ Processed: 0011_000949.wav\n",
      "✓ Processed: 0011_000952.wav\n",
      "✓ Processed: 0011_000954.wav\n",
      "✓ Processed: 0011_000956.wav\n",
      "✓ Processed: 0011_000957.wav\n"
     ]
    },
    {
     "name": "stderr",
     "output_type": "stream",
     "text": [
      "Processing files:  29%|██▉       | 5709/19777 [04:53<12:07, 19.34it/s]"
     ]
    },
    {
     "name": "stdout",
     "output_type": "stream",
     "text": [
      "✓ Processed: 0011_000959.wav\n",
      "✓ Processed: 0011_000960.wav\n",
      "✓ Processed: 0011_000961.wav\n",
      "✓ Processed: 0011_000962.wav\n"
     ]
    },
    {
     "name": "stderr",
     "output_type": "stream",
     "text": [
      "Processing files:  29%|██▉       | 5713/19777 [04:53<14:06, 16.62it/s]"
     ]
    },
    {
     "name": "stdout",
     "output_type": "stream",
     "text": [
      "✓ Processed: 0011_000963.wav\n",
      "✓ Processed: 0011_000964.wav\n",
      "✓ Processed: 0011_000966.wav\n"
     ]
    },
    {
     "name": "stderr",
     "output_type": "stream",
     "text": [
      "Processing files:  29%|██▉       | 5717/19777 [04:54<13:27, 17.41it/s]"
     ]
    },
    {
     "name": "stdout",
     "output_type": "stream",
     "text": [
      "✓ Processed: 0011_000967.wav\n",
      "✓ Processed: 0011_000969.wav\n",
      "✓ Processed: 0011_000971.wav\n",
      "✓ Processed: 0011_000973.wav\n"
     ]
    },
    {
     "name": "stderr",
     "output_type": "stream",
     "text": [
      "Processing files:  29%|██▉       | 5722/19777 [04:54<12:34, 18.63it/s]"
     ]
    },
    {
     "name": "stdout",
     "output_type": "stream",
     "text": [
      "✓ Processed: 0011_000974.wav\n",
      "✓ Processed: 0011_000979.wav\n",
      "✓ Processed: 0011_000981.wav\n",
      "✓ Processed: 0011_000982.wav\n"
     ]
    },
    {
     "name": "stderr",
     "output_type": "stream",
     "text": [
      "Processing files:  29%|██▉       | 5724/19777 [04:54<12:47, 18.30it/s]"
     ]
    },
    {
     "name": "stdout",
     "output_type": "stream",
     "text": [
      "✓ Processed: 0011_000983.wav\n",
      "✓ Processed: 0011_000984.wav\n",
      "✓ Processed: 0011_000986.wav\n",
      "✓ Processed: 0011_000987.wav\n"
     ]
    },
    {
     "name": "stderr",
     "output_type": "stream",
     "text": [
      "Processing files:  29%|██▉       | 5730/19777 [04:54<12:26, 18.83it/s]"
     ]
    },
    {
     "name": "stdout",
     "output_type": "stream",
     "text": [
      "✓ Processed: 0011_000989.wav\n",
      "✓ Processed: 0011_000990.wav\n",
      "✓ Processed: 0011_000993.wav\n",
      "✓ Processed: 0011_000995.wav\n"
     ]
    },
    {
     "name": "stderr",
     "output_type": "stream",
     "text": [
      "Processing files:  29%|██▉       | 5732/19777 [04:54<12:25, 18.84it/s]"
     ]
    },
    {
     "name": "stdout",
     "output_type": "stream",
     "text": [
      "✓ Processed: 0011_001001.wav\n",
      "✓ Processed: 0011_001002.wav\n",
      "✓ Processed: 0011_001003.wav\n",
      "✓ Processed: 0011_001004.wav\n"
     ]
    },
    {
     "name": "stderr",
     "output_type": "stream",
     "text": [
      "Processing files:  29%|██▉       | 5736/19777 [04:55<13:49, 16.92it/s]"
     ]
    },
    {
     "name": "stdout",
     "output_type": "stream",
     "text": [
      "✓ Processed: 0011_001005.wav\n",
      "✓ Processed: 0011_001006.wav\n",
      "✓ Processed: 0011_001008.wav\n",
      "✓ Processed: 0011_001011.wav\n"
     ]
    },
    {
     "name": "stderr",
     "output_type": "stream",
     "text": [
      "Processing files:  29%|██▉       | 5741/19777 [04:55<12:53, 18.16it/s]"
     ]
    },
    {
     "name": "stdout",
     "output_type": "stream",
     "text": [
      "✓ Processed: 0011_001013.wav\n",
      "✓ Processed: 0011_001015.wav\n",
      "✓ Processed: 0011_001016.wav\n",
      "✓ Processed: 0011_001017.wav\n"
     ]
    },
    {
     "name": "stderr",
     "output_type": "stream",
     "text": [
      "Processing files:  29%|██▉       | 5745/19777 [04:55<12:41, 18.43it/s]"
     ]
    },
    {
     "name": "stdout",
     "output_type": "stream",
     "text": [
      "✓ Processed: 0011_001018.wav\n",
      "✓ Processed: 0011_001019.wav\n",
      "✓ Processed: 0011_001021.wav\n",
      "✓ Processed: 0011_001023.wav\n"
     ]
    },
    {
     "name": "stderr",
     "output_type": "stream",
     "text": [
      "Processing files:  29%|██▉       | 5750/19777 [04:55<12:04, 19.37it/s]"
     ]
    },
    {
     "name": "stdout",
     "output_type": "stream",
     "text": [
      "✓ Processed: 0011_001024.wav\n",
      "✓ Processed: 0011_001025.wav\n",
      "✓ Processed: 0011_001026.wav\n",
      "✓ Processed: 0011_001028.wav\n"
     ]
    },
    {
     "name": "stderr",
     "output_type": "stream",
     "text": [
      "Processing files:  29%|██▉       | 5752/19777 [04:55<12:24, 18.84it/s]"
     ]
    },
    {
     "name": "stdout",
     "output_type": "stream",
     "text": [
      "✓ Processed: 0011_001030.wav\n",
      "✓ Processed: 0011_001031.wav\n",
      "✓ Processed: 0011_001032.wav\n",
      "✓ Processed: 0011_001033.wav\n"
     ]
    },
    {
     "name": "stderr",
     "output_type": "stream",
     "text": [
      "Processing files:  29%|██▉       | 5756/19777 [04:56<13:45, 16.99it/s]"
     ]
    },
    {
     "name": "stdout",
     "output_type": "stream",
     "text": [
      "✓ Processed: 0011_001035.wav\n",
      "✓ Processed: 0011_001036.wav\n",
      "✓ Processed: 0011_001039.wav\n"
     ]
    },
    {
     "name": "stderr",
     "output_type": "stream",
     "text": [
      "Processing files:  29%|██▉       | 5761/19777 [04:56<12:33, 18.59it/s]"
     ]
    },
    {
     "name": "stdout",
     "output_type": "stream",
     "text": [
      "✓ Processed: 0011_001041.wav\n",
      "✓ Processed: 0011_001042.wav\n",
      "✓ Processed: 0011_001043.wav\n",
      "✓ Processed: 0011_001044.wav\n"
     ]
    },
    {
     "name": "stderr",
     "output_type": "stream",
     "text": [
      "Processing files:  29%|██▉       | 5763/19777 [04:56<12:22, 18.86it/s]"
     ]
    },
    {
     "name": "stdout",
     "output_type": "stream",
     "text": [
      "✓ Processed: 0011_001045.wav\n",
      "✓ Processed: 0011_001049.wav\n",
      "✓ Processed: 0011_001050.wav\n",
      "✓ Processed: 0012_000703.wav\n"
     ]
    },
    {
     "name": "stderr",
     "output_type": "stream",
     "text": [
      "Processing files:  29%|██▉       | 5767/19777 [04:56<12:29, 18.68it/s]"
     ]
    },
    {
     "name": "stdout",
     "output_type": "stream",
     "text": [
      "✓ Processed: 0012_000704.wav\n",
      "✓ Processed: 0012_000705.wav\n",
      "✓ Processed: 0012_000706.wav\n",
      "✓ Processed: 0012_000707.wav\n"
     ]
    },
    {
     "name": "stderr",
     "output_type": "stream",
     "text": [
      "Processing files:  29%|██▉       | 5771/19777 [04:56<12:44, 18.33it/s]"
     ]
    },
    {
     "name": "stdout",
     "output_type": "stream",
     "text": [
      "✓ Processed: 0012_000708.wav\n",
      "✓ Processed: 0012_000710.wav\n",
      "✓ Processed: 0012_000711.wav\n",
      "✓ Processed: 0012_000712.wav\n"
     ]
    },
    {
     "name": "stderr",
     "output_type": "stream",
     "text": [
      "Processing files:  29%|██▉       | 5775/19777 [04:57<13:42, 17.02it/s]"
     ]
    },
    {
     "name": "stdout",
     "output_type": "stream",
     "text": [
      "✓ Processed: 0012_000713.wav\n",
      "✓ Processed: 0012_000716.wav\n",
      "✓ Processed: 0012_000717.wav\n",
      "✓ Processed: 0012_000718.wav\n"
     ]
    },
    {
     "name": "stderr",
     "output_type": "stream",
     "text": [
      "Processing files:  29%|██▉       | 5779/19777 [04:57<13:12, 17.66it/s]"
     ]
    },
    {
     "name": "stdout",
     "output_type": "stream",
     "text": [
      "✓ Processed: 0012_000719.wav\n",
      "✓ Processed: 0012_000720.wav\n",
      "✓ Processed: 0012_000721.wav\n",
      "✓ Processed: 0012_000723.wav\n"
     ]
    },
    {
     "name": "stderr",
     "output_type": "stream",
     "text": [
      "Processing files:  29%|██▉       | 5783/19777 [04:57<13:05, 17.83it/s]"
     ]
    },
    {
     "name": "stdout",
     "output_type": "stream",
     "text": [
      "✓ Processed: 0012_000724.wav\n",
      "✓ Processed: 0012_000730.wav\n",
      "✓ Processed: 0012_000731.wav\n",
      "✓ Processed: 0012_000733.wav\n"
     ]
    },
    {
     "name": "stderr",
     "output_type": "stream",
     "text": [
      "Processing files:  29%|██▉       | 5787/19777 [04:57<12:48, 18.20it/s]"
     ]
    },
    {
     "name": "stdout",
     "output_type": "stream",
     "text": [
      "✓ Processed: 0012_000738.wav\n",
      "✓ Processed: 0012_000740.wav\n",
      "✓ Processed: 0012_000742.wav\n",
      "✓ Processed: 0012_000743.wav\n"
     ]
    },
    {
     "name": "stderr",
     "output_type": "stream",
     "text": [
      "Processing files:  29%|██▉       | 5791/19777 [04:58<12:39, 18.42it/s]"
     ]
    },
    {
     "name": "stdout",
     "output_type": "stream",
     "text": [
      "✓ Processed: 0012_000744.wav\n",
      "✓ Processed: 0012_000745.wav\n",
      "✓ Processed: 0012_000749.wav\n",
      "✓ Processed: 0012_000750.wav\n"
     ]
    },
    {
     "name": "stderr",
     "output_type": "stream",
     "text": [
      "Processing files:  29%|██▉       | 5795/19777 [04:58<12:33, 18.55it/s]"
     ]
    },
    {
     "name": "stdout",
     "output_type": "stream",
     "text": [
      "✓ Processed: 0012_000751.wav\n",
      "✓ Processed: 0012_000753.wav\n",
      "✓ Processed: 0012_000755.wav\n",
      "✓ Processed: 0012_000758.wav\n"
     ]
    },
    {
     "name": "stderr",
     "output_type": "stream",
     "text": [
      "Processing files:  29%|██▉       | 5799/19777 [04:58<12:34, 18.54it/s]"
     ]
    },
    {
     "name": "stdout",
     "output_type": "stream",
     "text": [
      "✓ Processed: 0012_000760.wav\n",
      "✓ Processed: 0012_000761.wav\n",
      "✓ Processed: 0012_000762.wav\n",
      "✓ Processed: 0012_000763.wav\n"
     ]
    },
    {
     "name": "stderr",
     "output_type": "stream",
     "text": [
      "Processing files:  29%|██▉       | 5803/19777 [04:58<12:21, 18.83it/s]"
     ]
    },
    {
     "name": "stdout",
     "output_type": "stream",
     "text": [
      "✓ Processed: 0012_000764.wav\n",
      "✓ Processed: 0012_000765.wav\n",
      "✓ Processed: 0012_000767.wav\n"
     ]
    },
    {
     "name": "stderr",
     "output_type": "stream",
     "text": [
      "Processing files:  29%|██▉       | 5807/19777 [04:59<13:54, 16.74it/s]"
     ]
    },
    {
     "name": "stdout",
     "output_type": "stream",
     "text": [
      "✓ Processed: 0012_000768.wav\n",
      "✓ Processed: 0012_000769.wav\n",
      "✓ Processed: 0012_000770.wav\n",
      "✓ Processed: 0012_000772.wav\n"
     ]
    },
    {
     "name": "stderr",
     "output_type": "stream",
     "text": [
      "Processing files:  29%|██▉       | 5811/19777 [04:59<13:02, 17.85it/s]"
     ]
    },
    {
     "name": "stdout",
     "output_type": "stream",
     "text": [
      "✓ Processed: 0012_000774.wav\n",
      "✓ Processed: 0012_000775.wav\n",
      "✓ Processed: 0012_000778.wav\n",
      "✓ Processed: 0012_000779.wav\n"
     ]
    },
    {
     "name": "stderr",
     "output_type": "stream",
     "text": [
      "Processing files:  29%|██▉       | 5815/19777 [04:59<12:29, 18.62it/s]"
     ]
    },
    {
     "name": "stdout",
     "output_type": "stream",
     "text": [
      "✓ Processed: 0012_000780.wav\n",
      "✓ Processed: 0012_000785.wav\n",
      "✓ Processed: 0012_000786.wav\n",
      "✓ Processed: 0012_000787.wav\n"
     ]
    },
    {
     "name": "stderr",
     "output_type": "stream",
     "text": [
      "Processing files:  29%|██▉       | 5819/19777 [04:59<12:24, 18.74it/s]"
     ]
    },
    {
     "name": "stdout",
     "output_type": "stream",
     "text": [
      "✓ Processed: 0012_000788.wav\n",
      "✓ Processed: 0012_000789.wav\n",
      "✓ Processed: 0012_000792.wav\n",
      "✓ Processed: 0012_000793.wav\n"
     ]
    },
    {
     "name": "stderr",
     "output_type": "stream",
     "text": [
      "Processing files:  29%|██▉       | 5823/19777 [04:59<13:16, 17.51it/s]"
     ]
    },
    {
     "name": "stdout",
     "output_type": "stream",
     "text": [
      "✓ Processed: 0012_000794.wav\n",
      "✓ Processed: 0012_000795.wav\n",
      "✓ Processed: 0012_000796.wav\n",
      "✓ Processed: 0012_000797.wav\n"
     ]
    },
    {
     "name": "stderr",
     "output_type": "stream",
     "text": [
      "Processing files:  29%|██▉       | 5825/19777 [04:59<13:05, 17.76it/s]"
     ]
    },
    {
     "name": "stdout",
     "output_type": "stream",
     "text": [
      "✓ Processed: 0012_000798.wav\n",
      "✓ Processed: 0012_000799.wav\n",
      "✓ Processed: 0012_000802.wav\n",
      "✓ Processed: 0012_000804.wav\n"
     ]
    },
    {
     "name": "stderr",
     "output_type": "stream",
     "text": [
      "Processing files:  29%|██▉       | 5831/19777 [05:00<12:30, 18.59it/s]"
     ]
    },
    {
     "name": "stdout",
     "output_type": "stream",
     "text": [
      "✓ Processed: 0012_000808.wav\n",
      "✓ Processed: 0012_000809.wav\n",
      "✓ Processed: 0012_000810.wav\n",
      "✓ Processed: 0012_000811.wav\n"
     ]
    },
    {
     "name": "stderr",
     "output_type": "stream",
     "text": [
      "Processing files:  30%|██▉       | 5835/19777 [05:00<12:15, 18.96it/s]"
     ]
    },
    {
     "name": "stdout",
     "output_type": "stream",
     "text": [
      "✓ Processed: 0012_000812.wav\n",
      "✓ Processed: 0012_000814.wav\n",
      "✓ Processed: 0012_000815.wav\n",
      "✓ Processed: 0012_000817.wav\n",
      "✓ Processed: 0012_000819.wav\n"
     ]
    },
    {
     "name": "stderr",
     "output_type": "stream",
     "text": [
      "Processing files:  30%|██▉       | 5841/19777 [05:00<12:16, 18.92it/s]"
     ]
    },
    {
     "name": "stdout",
     "output_type": "stream",
     "text": [
      "✓ Processed: 0012_000822.wav\n",
      "✓ Processed: 0012_000824.wav\n",
      "✓ Processed: 0012_000825.wav\n",
      "✓ Processed: 0012_000826.wav\n"
     ]
    },
    {
     "name": "stderr",
     "output_type": "stream",
     "text": [
      "Processing files:  30%|██▉       | 5843/19777 [05:00<12:19, 18.85it/s]"
     ]
    },
    {
     "name": "stdout",
     "output_type": "stream",
     "text": [
      "✓ Processed: 0012_000827.wav\n",
      "✓ Processed: 0012_000828.wav\n",
      "✓ Processed: 0012_000830.wav\n",
      "✓ Processed: 0012_000833.wav\n"
     ]
    },
    {
     "name": "stderr",
     "output_type": "stream",
     "text": [
      "Processing files:  30%|██▉       | 5847/19777 [05:01<13:12, 17.57it/s]"
     ]
    },
    {
     "name": "stdout",
     "output_type": "stream",
     "text": [
      "✓ Processed: 0012_000834.wav\n",
      "✓ Processed: 0012_000835.wav\n",
      "✓ Processed: 0012_000836.wav\n",
      "✓ Processed: 0012_000837.wav\n"
     ]
    },
    {
     "name": "stderr",
     "output_type": "stream",
     "text": [
      "Processing files:  30%|██▉       | 5852/19777 [05:01<12:43, 18.23it/s]"
     ]
    },
    {
     "name": "stdout",
     "output_type": "stream",
     "text": [
      "✓ Processed: 0012_000838.wav\n",
      "✓ Processed: 0012_000839.wav\n",
      "✓ Processed: 0012_000841.wav\n",
      "✓ Processed: 0012_000842.wav\n",
      "✓ Processed: 0012_000844.wav\n"
     ]
    },
    {
     "name": "stderr",
     "output_type": "stream",
     "text": [
      "Processing files:  30%|██▉       | 5856/19777 [05:01<12:27, 18.62it/s]"
     ]
    },
    {
     "name": "stdout",
     "output_type": "stream",
     "text": [
      "✓ Processed: 0012_000845.wav\n",
      "✓ Processed: 0012_000848.wav\n",
      "✓ Processed: 0012_000849.wav\n",
      "✓ Processed: 0012_000850.wav\n"
     ]
    },
    {
     "name": "stderr",
     "output_type": "stream",
     "text": [
      "Processing files:  30%|██▉       | 5861/19777 [05:01<12:00, 19.31it/s]"
     ]
    },
    {
     "name": "stdout",
     "output_type": "stream",
     "text": [
      "✓ Processed: 0012_000851.wav\n",
      "✓ Processed: 0012_000852.wav\n",
      "✓ Processed: 0012_000853.wav\n",
      "✓ Processed: 0012_000854.wav\n"
     ]
    },
    {
     "name": "stderr",
     "output_type": "stream",
     "text": [
      "Processing files:  30%|██▉       | 5865/19777 [05:02<12:20, 18.79it/s]"
     ]
    },
    {
     "name": "stdout",
     "output_type": "stream",
     "text": [
      "✓ Processed: 0012_000855.wav\n",
      "✓ Processed: 0012_000857.wav\n",
      "✓ Processed: 0012_000858.wav\n",
      "✓ Processed: 0012_000859.wav\n",
      "✓ Processed: 0012_000861.wav\n"
     ]
    },
    {
     "name": "stderr",
     "output_type": "stream",
     "text": [
      "Processing files:  30%|██▉       | 5869/19777 [05:02<13:04, 17.73it/s]"
     ]
    },
    {
     "name": "stdout",
     "output_type": "stream",
     "text": [
      "✓ Processed: 0012_000862.wav\n",
      "✓ Processed: 0012_000868.wav\n",
      "✓ Processed: 0012_000869.wav\n",
      "✓ Processed: 0012_000874.wav\n"
     ]
    },
    {
     "name": "stderr",
     "output_type": "stream",
     "text": [
      "Processing files:  30%|██▉       | 5873/19777 [05:02<12:48, 18.09it/s]"
     ]
    },
    {
     "name": "stdout",
     "output_type": "stream",
     "text": [
      "✓ Processed: 0012_000877.wav\n",
      "✓ Processed: 0012_000878.wav\n",
      "✓ Processed: 0012_000879.wav\n",
      "✓ Processed: 0012_000881.wav\n"
     ]
    },
    {
     "name": "stderr",
     "output_type": "stream",
     "text": [
      "Processing files:  30%|██▉       | 5877/19777 [05:02<12:23, 18.70it/s]"
     ]
    },
    {
     "name": "stdout",
     "output_type": "stream",
     "text": [
      "✓ Processed: 0012_000882.wav\n",
      "✓ Processed: 0012_000884.wav\n",
      "✓ Processed: 0012_000886.wav\n",
      "✓ Processed: 0012_000888.wav\n"
     ]
    },
    {
     "name": "stderr",
     "output_type": "stream",
     "text": [
      "Processing files:  30%|██▉       | 5881/19777 [05:02<12:27, 18.59it/s]"
     ]
    },
    {
     "name": "stdout",
     "output_type": "stream",
     "text": [
      "✓ Processed: 0012_000890.wav\n",
      "✓ Processed: 0012_000892.wav\n",
      "✓ Processed: 0012_000893.wav\n",
      "✓ Processed: 0012_000895.wav\n"
     ]
    },
    {
     "name": "stderr",
     "output_type": "stream",
     "text": [
      "Processing files:  30%|██▉       | 5885/19777 [05:03<12:35, 18.38it/s]"
     ]
    },
    {
     "name": "stdout",
     "output_type": "stream",
     "text": [
      "✓ Processed: 0012_000899.wav\n",
      "✓ Processed: 0012_000902.wav\n",
      "✓ Processed: 0012_000904.wav\n",
      "✓ Processed: 0012_000907.wav\n"
     ]
    },
    {
     "name": "stderr",
     "output_type": "stream",
     "text": [
      "Processing files:  30%|██▉       | 5889/19777 [05:03<13:29, 17.16it/s]"
     ]
    },
    {
     "name": "stdout",
     "output_type": "stream",
     "text": [
      "✓ Processed: 0012_000908.wav\n",
      "✓ Processed: 0012_000909.wav\n",
      "✓ Processed: 0012_000911.wav\n",
      "✓ Processed: 0012_000914.wav\n"
     ]
    },
    {
     "name": "stderr",
     "output_type": "stream",
     "text": [
      "Processing files:  30%|██▉       | 5893/19777 [05:03<13:00, 17.80it/s]"
     ]
    },
    {
     "name": "stdout",
     "output_type": "stream",
     "text": [
      "✓ Processed: 0012_000916.wav\n",
      "✓ Processed: 0012_000917.wav\n",
      "✓ Processed: 0012_000918.wav\n",
      "✓ Processed: 0012_000919.wav\n"
     ]
    },
    {
     "name": "stderr",
     "output_type": "stream",
     "text": [
      "Processing files:  30%|██▉       | 5897/19777 [05:03<12:40, 18.24it/s]"
     ]
    },
    {
     "name": "stdout",
     "output_type": "stream",
     "text": [
      "✓ Processed: 0012_000920.wav\n",
      "✓ Processed: 0012_000921.wav\n",
      "✓ Processed: 0012_000922.wav\n",
      "✓ Processed: 0012_000923.wav\n"
     ]
    },
    {
     "name": "stderr",
     "output_type": "stream",
     "text": [
      "Processing files:  30%|██▉       | 5901/19777 [05:04<12:41, 18.23it/s]"
     ]
    },
    {
     "name": "stdout",
     "output_type": "stream",
     "text": [
      "✓ Processed: 0012_000924.wav\n",
      "✓ Processed: 0012_000925.wav\n",
      "✓ Processed: 0012_000927.wav\n",
      "✓ Processed: 0012_000931.wav\n"
     ]
    },
    {
     "name": "stderr",
     "output_type": "stream",
     "text": [
      "Processing files:  30%|██▉       | 5905/19777 [05:04<12:31, 18.46it/s]"
     ]
    },
    {
     "name": "stdout",
     "output_type": "stream",
     "text": [
      "✓ Processed: 0012_000934.wav\n",
      "✓ Processed: 0012_000935.wav\n",
      "✓ Processed: 0012_000936.wav\n",
      "✓ Processed: 0012_000937.wav\n"
     ]
    },
    {
     "name": "stderr",
     "output_type": "stream",
     "text": [
      "Processing files:  30%|██▉       | 5909/19777 [05:04<12:50, 18.00it/s]"
     ]
    },
    {
     "name": "stdout",
     "output_type": "stream",
     "text": [
      "✓ Processed: 0012_000938.wav\n",
      "✓ Processed: 0012_000939.wav\n",
      "✓ Processed: 0012_000941.wav\n",
      "✓ Processed: 0012_000945.wav\n",
      "✓ Processed: 0012_000946.wav\n"
     ]
    },
    {
     "name": "stderr",
     "output_type": "stream",
     "text": [
      "Processing files:  30%|██▉       | 5914/19777 [05:04<12:35, 18.36it/s]"
     ]
    },
    {
     "name": "stdout",
     "output_type": "stream",
     "text": [
      "✓ Processed: 0012_000947.wav\n",
      "✓ Processed: 0012_000949.wav\n",
      "✓ Processed: 0012_000953.wav\n",
      "✓ Processed: 0012_000954.wav\n"
     ]
    },
    {
     "name": "stderr",
     "output_type": "stream",
     "text": [
      "Processing files:  30%|██▉       | 5918/19777 [05:05<12:35, 18.35it/s]"
     ]
    },
    {
     "name": "stdout",
     "output_type": "stream",
     "text": [
      "✓ Processed: 0012_000955.wav\n",
      "✓ Processed: 0012_000956.wav\n",
      "✓ Processed: 0012_000958.wav\n",
      "✓ Processed: 0012_000959.wav\n"
     ]
    },
    {
     "name": "stderr",
     "output_type": "stream",
     "text": [
      "Processing files:  30%|██▉       | 5922/19777 [05:05<12:20, 18.71it/s]"
     ]
    },
    {
     "name": "stdout",
     "output_type": "stream",
     "text": [
      "✓ Processed: 0012_000960.wav\n",
      "✓ Processed: 0012_000963.wav\n",
      "✓ Processed: 0012_000966.wav\n",
      "✓ Processed: 0012_000967.wav\n"
     ]
    },
    {
     "name": "stderr",
     "output_type": "stream",
     "text": [
      "Processing files:  30%|██▉       | 5926/19777 [05:05<12:32, 18.42it/s]"
     ]
    },
    {
     "name": "stdout",
     "output_type": "stream",
     "text": [
      "✓ Processed: 0012_000968.wav\n",
      "✓ Processed: 0012_000970.wav\n",
      "✓ Processed: 0012_000971.wav\n",
      "✓ Processed: 0012_000973.wav\n"
     ]
    },
    {
     "name": "stderr",
     "output_type": "stream",
     "text": [
      "Processing files:  30%|██▉       | 5931/19777 [05:05<12:07, 19.02it/s]"
     ]
    },
    {
     "name": "stdout",
     "output_type": "stream",
     "text": [
      "✓ Processed: 0012_000975.wav\n",
      "✓ Processed: 0012_000976.wav\n",
      "✓ Processed: 0012_000978.wav\n",
      "✓ Processed: 0012_000979.wav\n"
     ]
    },
    {
     "name": "stderr",
     "output_type": "stream",
     "text": [
      "Processing files:  30%|███       | 5935/19777 [05:05<12:50, 17.97it/s]"
     ]
    },
    {
     "name": "stdout",
     "output_type": "stream",
     "text": [
      "✓ Processed: 0012_000981.wav\n",
      "✓ Processed: 0012_000984.wav\n",
      "✓ Processed: 0012_000985.wav\n",
      "✓ Processed: 0012_000986.wav\n"
     ]
    },
    {
     "name": "stderr",
     "output_type": "stream",
     "text": [
      "Processing files:  30%|███       | 5939/19777 [05:06<12:34, 18.35it/s]"
     ]
    },
    {
     "name": "stdout",
     "output_type": "stream",
     "text": [
      "✓ Processed: 0012_000989.wav\n",
      "✓ Processed: 0012_000990.wav\n",
      "✓ Processed: 0012_000991.wav\n",
      "✓ Processed: 0012_000995.wav\n"
     ]
    },
    {
     "name": "stderr",
     "output_type": "stream",
     "text": [
      "Processing files:  30%|███       | 5943/19777 [05:06<12:16, 18.79it/s]"
     ]
    },
    {
     "name": "stdout",
     "output_type": "stream",
     "text": [
      "✓ Processed: 0012_000996.wav\n",
      "✓ Processed: 0012_001000.wav\n",
      "✓ Processed: 0012_001001.wav\n",
      "✓ Processed: 0012_001003.wav\n",
      "✓ Processed: 0012_001004.wav\n"
     ]
    },
    {
     "name": "stderr",
     "output_type": "stream",
     "text": [
      "Processing files:  30%|███       | 5947/19777 [05:06<12:21, 18.64it/s]"
     ]
    },
    {
     "name": "stdout",
     "output_type": "stream",
     "text": [
      "✓ Processed: 0012_001006.wav\n",
      "✓ Processed: 0012_001007.wav\n",
      "✓ Processed: 0012_001009.wav\n",
      "✓ Processed: 0012_001011.wav\n"
     ]
    },
    {
     "name": "stderr",
     "output_type": "stream",
     "text": [
      "Processing files:  30%|███       | 5951/19777 [05:06<12:20, 18.67it/s]"
     ]
    },
    {
     "name": "stdout",
     "output_type": "stream",
     "text": [
      "✓ Processed: 0012_001014.wav\n",
      "✓ Processed: 0012_001016.wav\n",
      "✓ Processed: 0012_001017.wav\n",
      "✓ Processed: 0012_001018.wav\n"
     ]
    },
    {
     "name": "stderr",
     "output_type": "stream",
     "text": [
      "Processing files:  30%|███       | 5955/19777 [05:07<12:29, 18.45it/s]"
     ]
    },
    {
     "name": "stdout",
     "output_type": "stream",
     "text": [
      "✓ Processed: 0012_001019.wav\n",
      "✓ Processed: 0012_001020.wav\n",
      "✓ Processed: 0012_001025.wav\n",
      "✓ Processed: 0012_001026.wav\n"
     ]
    },
    {
     "name": "stderr",
     "output_type": "stream",
     "text": [
      "Processing files:  30%|███       | 5958/19777 [05:07<12:14, 18.82it/s]"
     ]
    },
    {
     "name": "stdout",
     "output_type": "stream",
     "text": [
      "✓ Processed: 0012_001027.wav\n",
      "✓ Processed: 0012_001031.wav\n",
      "✓ Processed: 0012_001032.wav\n",
      "✓ Processed: 0012_001036.wav\n"
     ]
    },
    {
     "name": "stderr",
     "output_type": "stream",
     "text": [
      "Processing files:  30%|███       | 5963/19777 [05:07<12:13, 18.82it/s]"
     ]
    },
    {
     "name": "stdout",
     "output_type": "stream",
     "text": [
      "✓ Processed: 0012_001037.wav\n",
      "✓ Processed: 0012_001038.wav\n",
      "✓ Processed: 0012_001040.wav\n",
      "✓ Processed: 0012_001042.wav\n"
     ]
    },
    {
     "name": "stderr",
     "output_type": "stream",
     "text": [
      "Processing files:  30%|███       | 5967/19777 [05:07<12:20, 18.65it/s]"
     ]
    },
    {
     "name": "stdout",
     "output_type": "stream",
     "text": [
      "✓ Processed: 0012_001045.wav\n",
      "✓ Processed: 0012_001046.wav\n",
      "✓ Processed: 0012_001049.wav\n",
      "✓ Processed: 0012_001050.wav\n"
     ]
    },
    {
     "name": "stderr",
     "output_type": "stream",
     "text": [
      "Processing files:  30%|███       | 5972/19777 [05:07<12:30, 18.39it/s]"
     ]
    },
    {
     "name": "stdout",
     "output_type": "stream",
     "text": [
      "✓ Processed: 0013_000701.wav\n",
      "✓ Processed: 0013_000702.wav\n",
      "✓ Processed: 0013_000704.wav\n",
      "✓ Processed: 0013_000705.wav\n"
     ]
    },
    {
     "name": "stderr",
     "output_type": "stream",
     "text": [
      "Processing files:  30%|███       | 5976/19777 [05:08<12:40, 18.16it/s]"
     ]
    },
    {
     "name": "stdout",
     "output_type": "stream",
     "text": [
      "✓ Processed: 0013_000706.wav\n",
      "✓ Processed: 0013_000707.wav\n",
      "✓ Processed: 0013_000709.wav\n",
      "✓ Processed: 0013_000710.wav\n"
     ]
    },
    {
     "name": "stderr",
     "output_type": "stream",
     "text": [
      "Processing files:  30%|███       | 5980/19777 [05:08<12:35, 18.27it/s]"
     ]
    },
    {
     "name": "stdout",
     "output_type": "stream",
     "text": [
      "✓ Processed: 0013_000713.wav\n",
      "✓ Processed: 0013_000714.wav\n",
      "✓ Processed: 0013_000719.wav\n",
      "✓ Processed: 0013_000720.wav\n"
     ]
    },
    {
     "name": "stderr",
     "output_type": "stream",
     "text": [
      "Processing files:  30%|███       | 5984/19777 [05:08<12:14, 18.79it/s]"
     ]
    },
    {
     "name": "stdout",
     "output_type": "stream",
     "text": [
      "✓ Processed: 0013_000726.wav\n",
      "✓ Processed: 0013_000728.wav\n",
      "✓ Processed: 0013_000729.wav\n",
      "✓ Processed: 0013_000730.wav\n"
     ]
    },
    {
     "name": "stderr",
     "output_type": "stream",
     "text": [
      "Processing files:  30%|███       | 5988/19777 [05:08<12:14, 18.78it/s]"
     ]
    },
    {
     "name": "stdout",
     "output_type": "stream",
     "text": [
      "✓ Processed: 0013_000734.wav\n",
      "✓ Processed: 0013_000736.wav\n",
      "✓ Processed: 0013_000738.wav\n",
      "✓ Processed: 0013_000741.wav\n"
     ]
    },
    {
     "name": "stderr",
     "output_type": "stream",
     "text": [
      "Processing files:  30%|███       | 5992/19777 [05:09<12:33, 18.28it/s]"
     ]
    },
    {
     "name": "stdout",
     "output_type": "stream",
     "text": [
      "✓ Processed: 0013_000743.wav\n",
      "✓ Processed: 0013_000744.wav\n",
      "✓ Processed: 0013_000747.wav\n",
      "✓ Processed: 0013_000748.wav\n"
     ]
    },
    {
     "name": "stderr",
     "output_type": "stream",
     "text": [
      "Processing files:  30%|███       | 5996/19777 [05:09<12:27, 18.43it/s]"
     ]
    },
    {
     "name": "stdout",
     "output_type": "stream",
     "text": [
      "✓ Processed: 0013_000749.wav\n",
      "✓ Processed: 0013_000750.wav\n",
      "✓ Processed: 0013_000751.wav\n",
      "✓ Processed: 0013_000752.wav\n"
     ]
    },
    {
     "name": "stderr",
     "output_type": "stream",
     "text": [
      "Processing files:  30%|███       | 6000/19777 [05:09<12:23, 18.52it/s]"
     ]
    },
    {
     "name": "stdout",
     "output_type": "stream",
     "text": [
      "✓ Processed: 0013_000753.wav\n",
      "✓ Processed: 0013_000754.wav\n",
      "✓ Processed: 0013_000756.wav\n",
      "✓ Processed: 0013_000759.wav\n"
     ]
    },
    {
     "name": "stderr",
     "output_type": "stream",
     "text": [
      "Processing files:  30%|███       | 6002/19777 [05:09<12:32, 18.32it/s]"
     ]
    },
    {
     "name": "stdout",
     "output_type": "stream",
     "text": [
      "✓ Processed: 0013_000760.wav\n",
      "✓ Processed: 0013_000761.wav\n",
      "✓ Processed: 0013_000762.wav\n",
      "✓ Processed: 0013_000764.wav\n"
     ]
    },
    {
     "name": "stderr",
     "output_type": "stream",
     "text": [
      "Processing files:  30%|███       | 6007/19777 [05:09<12:06, 18.96it/s]"
     ]
    },
    {
     "name": "stdout",
     "output_type": "stream",
     "text": [
      "✓ Processed: 0013_000765.wav\n",
      "✓ Processed: 0013_000766.wav\n",
      "✓ Processed: 0013_000767.wav\n",
      "✓ Processed: 0013_000768.wav\n"
     ]
    },
    {
     "name": "stderr",
     "output_type": "stream",
     "text": [
      "Processing files:  30%|███       | 6012/19777 [05:10<12:07, 18.91it/s]"
     ]
    },
    {
     "name": "stdout",
     "output_type": "stream",
     "text": [
      "✓ Processed: 0013_000769.wav\n",
      "✓ Processed: 0013_000770.wav\n",
      "✓ Processed: 0013_000771.wav\n",
      "✓ Processed: 0013_000773.wav\n"
     ]
    },
    {
     "name": "stderr",
     "output_type": "stream",
     "text": [
      "Processing files:  30%|███       | 6016/19777 [05:10<12:02, 19.04it/s]"
     ]
    },
    {
     "name": "stdout",
     "output_type": "stream",
     "text": [
      "✓ Processed: 0013_000774.wav\n",
      "✓ Processed: 0013_000776.wav\n",
      "✓ Processed: 0013_000778.wav\n",
      "✓ Processed: 0013_000782.wav\n"
     ]
    },
    {
     "name": "stderr",
     "output_type": "stream",
     "text": [
      "Processing files:  30%|███       | 6020/19777 [05:10<12:09, 18.86it/s]"
     ]
    },
    {
     "name": "stdout",
     "output_type": "stream",
     "text": [
      "✓ Processed: 0013_000783.wav\n",
      "✓ Processed: 0013_000784.wav\n",
      "✓ Processed: 0013_000787.wav\n",
      "✓ Processed: 0013_000790.wav\n"
     ]
    },
    {
     "name": "stderr",
     "output_type": "stream",
     "text": [
      "Processing files:  30%|███       | 6024/19777 [05:10<12:15, 18.71it/s]"
     ]
    },
    {
     "name": "stdout",
     "output_type": "stream",
     "text": [
      "✓ Processed: 0013_000792.wav\n",
      "✓ Processed: 0013_000793.wav\n",
      "✓ Processed: 0013_000794.wav\n",
      "✓ Processed: 0013_000796.wav\n"
     ]
    },
    {
     "name": "stderr",
     "output_type": "stream",
     "text": [
      "Processing files:  30%|███       | 6027/19777 [05:10<11:44, 19.51it/s]"
     ]
    },
    {
     "name": "stdout",
     "output_type": "stream",
     "text": [
      "✓ Processed: 0013_000798.wav\n",
      "✓ Processed: 0013_000799.wav\n",
      "✓ Processed: 0013_000800.wav\n",
      "✓ Processed: 0013_000801.wav\n"
     ]
    },
    {
     "name": "stderr",
     "output_type": "stream",
     "text": [
      "Processing files:  30%|███       | 6031/19777 [05:11<12:23, 18.49it/s]"
     ]
    },
    {
     "name": "stdout",
     "output_type": "stream",
     "text": [
      "✓ Processed: 0013_000802.wav\n",
      "✓ Processed: 0013_000803.wav\n",
      "✓ Processed: 0013_000804.wav\n",
      "✓ Processed: 0013_000806.wav\n"
     ]
    },
    {
     "name": "stderr",
     "output_type": "stream",
     "text": [
      "Processing files:  31%|███       | 6035/19777 [05:11<12:08, 18.86it/s]"
     ]
    },
    {
     "name": "stdout",
     "output_type": "stream",
     "text": [
      "✓ Processed: 0013_000807.wav\n",
      "✓ Processed: 0013_000809.wav\n",
      "✓ Processed: 0013_000813.wav\n",
      "✓ Processed: 0013_000815.wav\n",
      "✓ Processed: 0013_000818.wav\n"
     ]
    },
    {
     "name": "stderr",
     "output_type": "stream",
     "text": [
      "Processing files:  31%|███       | 6040/19777 [05:11<11:58, 19.13it/s]"
     ]
    },
    {
     "name": "stdout",
     "output_type": "stream",
     "text": [
      "✓ Processed: 0013_000819.wav\n",
      "✓ Processed: 0013_000820.wav\n",
      "✓ Processed: 0013_000821.wav\n",
      "✓ Processed: 0013_000823.wav\n"
     ]
    },
    {
     "name": "stderr",
     "output_type": "stream",
     "text": [
      "Processing files:  31%|███       | 6044/19777 [05:11<12:09, 18.83it/s]"
     ]
    },
    {
     "name": "stdout",
     "output_type": "stream",
     "text": [
      "✓ Processed: 0013_000824.wav\n",
      "✓ Processed: 0013_000825.wav\n",
      "✓ Processed: 0013_000826.wav\n",
      "✓ Processed: 0013_000827.wav\n"
     ]
    },
    {
     "name": "stderr",
     "output_type": "stream",
     "text": [
      "Processing files:  31%|███       | 6050/19777 [05:12<12:01, 19.03it/s]"
     ]
    },
    {
     "name": "stdout",
     "output_type": "stream",
     "text": [
      "✓ Processed: 0013_000828.wav\n",
      "✓ Processed: 0013_000831.wav\n",
      "✓ Processed: 0013_000833.wav\n",
      "✓ Processed: 0013_000834.wav\n"
     ]
    },
    {
     "name": "stderr",
     "output_type": "stream",
     "text": [
      "Processing files:  31%|███       | 6052/19777 [05:12<12:02, 19.00it/s]"
     ]
    },
    {
     "name": "stdout",
     "output_type": "stream",
     "text": [
      "✓ Processed: 0013_000835.wav\n",
      "✓ Processed: 0013_000836.wav\n",
      "✓ Processed: 0013_000839.wav\n",
      "✓ Processed: 0013_000840.wav\n"
     ]
    },
    {
     "name": "stderr",
     "output_type": "stream",
     "text": [
      "Processing files:  31%|███       | 6056/19777 [05:12<12:29, 18.31it/s]"
     ]
    },
    {
     "name": "stdout",
     "output_type": "stream",
     "text": [
      "✓ Processed: 0013_000841.wav\n",
      "✓ Processed: 0013_000843.wav\n",
      "✓ Processed: 0013_000844.wav\n",
      "✓ Processed: 0013_000846.wav\n"
     ]
    },
    {
     "name": "stderr",
     "output_type": "stream",
     "text": [
      "Processing files:  31%|███       | 6060/19777 [05:12<12:11, 18.75it/s]"
     ]
    },
    {
     "name": "stdout",
     "output_type": "stream",
     "text": [
      "✓ Processed: 0013_000847.wav\n",
      "✓ Processed: 0013_000848.wav\n",
      "✓ Processed: 0013_000850.wav\n",
      "✓ Processed: 0013_000853.wav\n"
     ]
    },
    {
     "name": "stderr",
     "output_type": "stream",
     "text": [
      "Processing files:  31%|███       | 6065/19777 [05:12<11:52, 19.24it/s]"
     ]
    },
    {
     "name": "stdout",
     "output_type": "stream",
     "text": [
      "✓ Processed: 0013_000855.wav\n",
      "✓ Processed: 0013_000856.wav\n",
      "✓ Processed: 0013_000857.wav\n",
      "✓ Processed: 0013_000861.wav\n"
     ]
    },
    {
     "name": "stderr",
     "output_type": "stream",
     "text": [
      "Processing files:  31%|███       | 6069/19777 [05:13<11:59, 19.06it/s]"
     ]
    },
    {
     "name": "stdout",
     "output_type": "stream",
     "text": [
      "✓ Processed: 0013_000864.wav\n",
      "✓ Processed: 0013_000865.wav\n",
      "✓ Processed: 0013_000867.wav\n",
      "✓ Processed: 0013_000868.wav\n"
     ]
    },
    {
     "name": "stderr",
     "output_type": "stream",
     "text": [
      "Processing files:  31%|███       | 6073/19777 [05:13<11:58, 19.06it/s]"
     ]
    },
    {
     "name": "stdout",
     "output_type": "stream",
     "text": [
      "✓ Processed: 0013_000870.wav\n",
      "✓ Processed: 0013_000871.wav\n",
      "✓ Processed: 0013_000872.wav\n",
      "✓ Processed: 0013_000873.wav\n"
     ]
    },
    {
     "name": "stderr",
     "output_type": "stream",
     "text": [
      "Processing files:  31%|███       | 6077/19777 [05:13<11:56, 19.12it/s]"
     ]
    },
    {
     "name": "stdout",
     "output_type": "stream",
     "text": [
      "✓ Processed: 0013_000874.wav\n",
      "✓ Processed: 0013_000876.wav\n",
      "✓ Processed: 0013_000877.wav\n",
      "✓ Processed: 0013_000879.wav\n"
     ]
    },
    {
     "name": "stderr",
     "output_type": "stream",
     "text": [
      "Processing files:  31%|███       | 6082/19777 [05:13<11:55, 19.14it/s]"
     ]
    },
    {
     "name": "stdout",
     "output_type": "stream",
     "text": [
      "✓ Processed: 0013_000882.wav\n",
      "✓ Processed: 0013_000883.wav\n",
      "✓ Processed: 0013_000884.wav\n",
      "✓ Processed: 0013_000886.wav\n"
     ]
    },
    {
     "name": "stderr",
     "output_type": "stream",
     "text": [
      "Processing files:  31%|███       | 6084/19777 [05:13<12:12, 18.70it/s]"
     ]
    },
    {
     "name": "stdout",
     "output_type": "stream",
     "text": [
      "✓ Processed: 0013_000887.wav\n",
      "✓ Processed: 0013_000888.wav\n",
      "✓ Processed: 0013_000889.wav\n",
      "✓ Processed: 0013_000890.wav\n"
     ]
    },
    {
     "name": "stderr",
     "output_type": "stream",
     "text": [
      "Processing files:  31%|███       | 6088/19777 [05:14<13:34, 16.81it/s]"
     ]
    },
    {
     "name": "stdout",
     "output_type": "stream",
     "text": [
      "✓ Processed: 0013_000892.wav\n",
      "✓ Processed: 0013_000894.wav\n",
      "✓ Processed: 0013_000896.wav\n",
      "✓ Processed: 0013_000897.wav\n"
     ]
    },
    {
     "name": "stderr",
     "output_type": "stream",
     "text": [
      "Processing files:  31%|███       | 6092/19777 [05:14<13:08, 17.36it/s]"
     ]
    },
    {
     "name": "stdout",
     "output_type": "stream",
     "text": [
      "✓ Processed: 0013_000898.wav\n",
      "✓ Processed: 0013_000899.wav\n",
      "✓ Processed: 0013_000900.wav\n",
      "✓ Processed: 0013_000901.wav\n"
     ]
    },
    {
     "name": "stderr",
     "output_type": "stream",
     "text": [
      "Processing files:  31%|███       | 6096/19777 [05:14<12:46, 17.85it/s]"
     ]
    },
    {
     "name": "stdout",
     "output_type": "stream",
     "text": [
      "✓ Processed: 0013_000906.wav\n",
      "✓ Processed: 0013_000907.wav\n",
      "✓ Processed: 0013_000908.wav\n",
      "✓ Processed: 0013_000911.wav\n"
     ]
    },
    {
     "name": "stderr",
     "output_type": "stream",
     "text": [
      "Processing files:  31%|███       | 6100/19777 [05:14<12:48, 17.79it/s]"
     ]
    },
    {
     "name": "stdout",
     "output_type": "stream",
     "text": [
      "✓ Processed: 0013_000912.wav\n",
      "✓ Processed: 0013_000913.wav\n",
      "✓ Processed: 0013_000914.wav\n",
      "✓ Processed: 0013_000915.wav\n"
     ]
    },
    {
     "name": "stderr",
     "output_type": "stream",
     "text": [
      "Processing files:  31%|███       | 6104/19777 [05:15<12:28, 18.27it/s]"
     ]
    },
    {
     "name": "stdout",
     "output_type": "stream",
     "text": [
      "✓ Processed: 0013_000916.wav\n",
      "✓ Processed: 0013_000919.wav\n",
      "✓ Processed: 0013_000920.wav\n",
      "✓ Processed: 0013_000923.wav\n"
     ]
    },
    {
     "name": "stderr",
     "output_type": "stream",
     "text": [
      "Processing files:  31%|███       | 6109/19777 [05:15<12:09, 18.74it/s]"
     ]
    },
    {
     "name": "stdout",
     "output_type": "stream",
     "text": [
      "✓ Processed: 0013_000924.wav\n",
      "✓ Processed: 0013_000925.wav\n",
      "✓ Processed: 0013_000926.wav\n",
      "✓ Processed: 0013_000927.wav\n"
     ]
    },
    {
     "name": "stderr",
     "output_type": "stream",
     "text": [
      "Processing files:  31%|███       | 6111/19777 [05:15<12:20, 18.45it/s]"
     ]
    },
    {
     "name": "stdout",
     "output_type": "stream",
     "text": [
      "✓ Processed: 0013_000928.wav\n",
      "✓ Processed: 0013_000929.wav\n",
      "✓ Processed: 0013_000931.wav\n",
      "✓ Processed: 0013_000932.wav\n"
     ]
    },
    {
     "name": "stderr",
     "output_type": "stream",
     "text": [
      "Processing files:  31%|███       | 6116/19777 [05:15<11:56, 19.05it/s]"
     ]
    },
    {
     "name": "stdout",
     "output_type": "stream",
     "text": [
      "✓ Processed: 0013_000933.wav\n",
      "✓ Processed: 0013_000934.wav\n",
      "✓ Processed: 0013_000938.wav\n",
      "✓ Processed: 0013_000939.wav\n"
     ]
    },
    {
     "name": "stderr",
     "output_type": "stream",
     "text": [
      "Processing files:  31%|███       | 6120/19777 [05:15<12:16, 18.54it/s]"
     ]
    },
    {
     "name": "stdout",
     "output_type": "stream",
     "text": [
      "✓ Processed: 0013_000943.wav\n",
      "✓ Processed: 0013_000946.wav\n",
      "✓ Processed: 0013_000951.wav\n",
      "✓ Processed: 0013_000952.wav\n"
     ]
    },
    {
     "name": "stderr",
     "output_type": "stream",
     "text": [
      "Processing files:  31%|███       | 6126/19777 [05:16<12:20, 18.45it/s]"
     ]
    },
    {
     "name": "stdout",
     "output_type": "stream",
     "text": [
      "✓ Processed: 0013_000953.wav\n",
      "✓ Processed: 0013_000955.wav\n",
      "✓ Processed: 0013_000956.wav\n",
      "✓ Processed: 0013_000961.wav\n"
     ]
    },
    {
     "name": "stderr",
     "output_type": "stream",
     "text": [
      "Processing files:  31%|███       | 6128/19777 [05:16<12:16, 18.54it/s]"
     ]
    },
    {
     "name": "stdout",
     "output_type": "stream",
     "text": [
      "✓ Processed: 0013_000962.wav\n",
      "✓ Processed: 0013_000965.wav\n",
      "✓ Processed: 0013_000966.wav\n",
      "✓ Processed: 0013_000967.wav\n"
     ]
    },
    {
     "name": "stderr",
     "output_type": "stream",
     "text": [
      "Processing files:  31%|███       | 6132/19777 [05:16<12:20, 18.43it/s]"
     ]
    },
    {
     "name": "stdout",
     "output_type": "stream",
     "text": [
      "✓ Processed: 0013_000970.wav\n",
      "✓ Processed: 0013_000971.wav\n",
      "✓ Processed: 0013_000974.wav\n",
      "✓ Processed: 0013_000975.wav\n"
     ]
    },
    {
     "name": "stderr",
     "output_type": "stream",
     "text": [
      "Processing files:  31%|███       | 6136/19777 [05:16<12:02, 18.87it/s]"
     ]
    },
    {
     "name": "stdout",
     "output_type": "stream",
     "text": [
      "✓ Processed: 0013_000977.wav\n",
      "✓ Processed: 0013_000980.wav\n",
      "✓ Processed: 0013_000981.wav\n",
      "✓ Processed: 0013_000982.wav\n"
     ]
    },
    {
     "name": "stderr",
     "output_type": "stream",
     "text": [
      "Processing files:  31%|███       | 6140/19777 [05:16<12:05, 18.80it/s]"
     ]
    },
    {
     "name": "stdout",
     "output_type": "stream",
     "text": [
      "✓ Processed: 0013_000983.wav\n",
      "✓ Processed: 0013_000984.wav\n",
      "✓ Processed: 0013_000985.wav\n",
      "✓ Processed: 0013_000986.wav\n"
     ]
    },
    {
     "name": "stderr",
     "output_type": "stream",
     "text": [
      "Processing files:  31%|███       | 6145/19777 [05:17<11:59, 18.93it/s]"
     ]
    },
    {
     "name": "stdout",
     "output_type": "stream",
     "text": [
      "✓ Processed: 0013_000987.wav\n",
      "✓ Processed: 0013_000988.wav\n",
      "✓ Processed: 0013_000989.wav\n",
      "✓ Processed: 0013_000990.wav\n"
     ]
    },
    {
     "name": "stderr",
     "output_type": "stream",
     "text": [
      "Processing files:  31%|███       | 6149/19777 [05:17<12:05, 18.79it/s]"
     ]
    },
    {
     "name": "stdout",
     "output_type": "stream",
     "text": [
      "✓ Processed: 0013_000991.wav\n",
      "✓ Processed: 0013_000993.wav\n",
      "✓ Processed: 0013_000994.wav\n",
      "✓ Processed: 0013_000996.wav\n"
     ]
    },
    {
     "name": "stderr",
     "output_type": "stream",
     "text": [
      "Processing files:  31%|███       | 6153/19777 [05:17<12:05, 18.78it/s]"
     ]
    },
    {
     "name": "stdout",
     "output_type": "stream",
     "text": [
      "✓ Processed: 0013_000997.wav\n",
      "✓ Processed: 0013_000998.wav\n",
      "✓ Processed: 0013_000999.wav\n",
      "✓ Processed: 0013_001001.wav\n"
     ]
    },
    {
     "name": "stderr",
     "output_type": "stream",
     "text": [
      "Processing files:  31%|███       | 6157/19777 [05:17<12:21, 18.37it/s]"
     ]
    },
    {
     "name": "stdout",
     "output_type": "stream",
     "text": [
      "✓ Processed: 0013_001005.wav\n",
      "✓ Processed: 0013_001006.wav\n",
      "✓ Processed: 0013_001009.wav\n",
      "✓ Processed: 0013_001010.wav\n"
     ]
    },
    {
     "name": "stderr",
     "output_type": "stream",
     "text": [
      "Processing files:  31%|███       | 6162/19777 [05:18<11:47, 19.26it/s]"
     ]
    },
    {
     "name": "stdout",
     "output_type": "stream",
     "text": [
      "✓ Processed: 0013_001011.wav\n",
      "✓ Processed: 0013_001016.wav\n",
      "✓ Processed: 0013_001017.wav\n",
      "✓ Processed: 0013_001022.wav\n"
     ]
    },
    {
     "name": "stderr",
     "output_type": "stream",
     "text": [
      "Processing files:  31%|███       | 6164/19777 [05:18<11:42, 19.38it/s]"
     ]
    },
    {
     "name": "stdout",
     "output_type": "stream",
     "text": [
      "✓ Processed: 0013_001025.wav\n",
      "✓ Processed: 0013_001027.wav\n",
      "✓ Processed: 0013_001033.wav\n",
      "✓ Processed: 0013_001034.wav\n"
     ]
    },
    {
     "name": "stderr",
     "output_type": "stream",
     "text": [
      "Processing files:  31%|███       | 6168/19777 [05:18<12:38, 17.94it/s]"
     ]
    },
    {
     "name": "stdout",
     "output_type": "stream",
     "text": [
      "✓ Processed: 0013_001038.wav\n",
      "✓ Processed: 0013_001039.wav\n",
      "✓ Processed: 0013_001040.wav\n",
      "✓ Processed: 0013_001041.wav\n"
     ]
    },
    {
     "name": "stderr",
     "output_type": "stream",
     "text": [
      "Processing files:  31%|███       | 6172/19777 [05:18<12:27, 18.20it/s]"
     ]
    },
    {
     "name": "stdout",
     "output_type": "stream",
     "text": [
      "✓ Processed: 0013_001050.wav\n",
      "✓ Processed: 0014_000702.wav\n",
      "✓ Processed: 0014_000703.wav\n",
      "✓ Processed: 0014_000704.wav\n"
     ]
    },
    {
     "name": "stderr",
     "output_type": "stream",
     "text": [
      "Processing files:  31%|███       | 6177/19777 [05:18<11:39, 19.44it/s]"
     ]
    },
    {
     "name": "stdout",
     "output_type": "stream",
     "text": [
      "✓ Processed: 0014_000705.wav\n",
      "✓ Processed: 0014_000707.wav\n",
      "✓ Processed: 0014_000708.wav\n",
      "✓ Processed: 0014_000714.wav\n",
      "✓ Processed: 0014_000715.wav\n"
     ]
    },
    {
     "name": "stderr",
     "output_type": "stream",
     "text": [
      "Processing files:  31%|███▏      | 6183/19777 [05:19<12:06, 18.72it/s]"
     ]
    },
    {
     "name": "stdout",
     "output_type": "stream",
     "text": [
      "✓ Processed: 0014_000718.wav\n",
      "✓ Processed: 0014_000720.wav\n",
      "✓ Processed: 0014_000721.wav\n",
      "✓ Processed: 0014_000722.wav\n"
     ]
    },
    {
     "name": "stderr",
     "output_type": "stream",
     "text": [
      "Processing files:  31%|███▏      | 6185/19777 [05:19<12:13, 18.54it/s]"
     ]
    },
    {
     "name": "stdout",
     "output_type": "stream",
     "text": [
      "✓ Processed: 0014_000723.wav\n",
      "✓ Processed: 0014_000725.wav\n",
      "✓ Processed: 0014_000729.wav\n",
      "✓ Processed: 0014_000730.wav\n"
     ]
    },
    {
     "name": "stderr",
     "output_type": "stream",
     "text": [
      "Processing files:  31%|███▏      | 6190/19777 [05:19<11:59, 18.88it/s]"
     ]
    },
    {
     "name": "stdout",
     "output_type": "stream",
     "text": [
      "✓ Processed: 0014_000732.wav\n",
      "✓ Processed: 0014_000739.wav\n",
      "✓ Processed: 0014_000741.wav\n",
      "✓ Processed: 0014_000742.wav\n"
     ]
    },
    {
     "name": "stderr",
     "output_type": "stream",
     "text": [
      "Processing files:  31%|███▏      | 6194/19777 [05:19<12:17, 18.43it/s]"
     ]
    },
    {
     "name": "stdout",
     "output_type": "stream",
     "text": [
      "✓ Processed: 0014_000746.wav\n",
      "✓ Processed: 0014_000747.wav\n",
      "✓ Processed: 0014_000750.wav\n",
      "✓ Processed: 0014_000752.wav\n"
     ]
    },
    {
     "name": "stderr",
     "output_type": "stream",
     "text": [
      "Processing files:  31%|███▏      | 6198/19777 [05:20<11:57, 18.93it/s]"
     ]
    },
    {
     "name": "stdout",
     "output_type": "stream",
     "text": [
      "✓ Processed: 0014_000755.wav\n",
      "✓ Processed: 0014_000756.wav\n",
      "✓ Processed: 0014_000757.wav\n",
      "✓ Processed: 0014_000759.wav\n",
      "✓ Processed: 0014_000761.wav\n"
     ]
    },
    {
     "name": "stderr",
     "output_type": "stream",
     "text": [
      "Processing files:  31%|███▏      | 6202/19777 [05:20<12:03, 18.75it/s]"
     ]
    },
    {
     "name": "stdout",
     "output_type": "stream",
     "text": [
      "✓ Processed: 0014_000762.wav\n",
      "✓ Processed: 0014_000764.wav\n",
      "✓ Processed: 0014_000769.wav\n",
      "✓ Processed: 0014_000770.wav\n"
     ]
    },
    {
     "name": "stderr",
     "output_type": "stream",
     "text": [
      "Processing files:  31%|███▏      | 6206/19777 [05:20<12:05, 18.70it/s]"
     ]
    },
    {
     "name": "stdout",
     "output_type": "stream",
     "text": [
      "✓ Processed: 0014_000771.wav\n",
      "✓ Processed: 0014_000772.wav\n",
      "✓ Processed: 0014_000773.wav\n",
      "✓ Processed: 0014_000774.wav\n"
     ]
    },
    {
     "name": "stderr",
     "output_type": "stream",
     "text": [
      "Processing files:  31%|███▏      | 6210/19777 [05:20<12:14, 18.48it/s]"
     ]
    },
    {
     "name": "stdout",
     "output_type": "stream",
     "text": [
      "✓ Processed: 0014_000775.wav\n",
      "✓ Processed: 0014_000776.wav\n",
      "✓ Processed: 0014_000778.wav\n",
      "✓ Processed: 0014_000779.wav\n",
      "✓ Processed: 0014_000782.wav\n"
     ]
    },
    {
     "name": "stderr",
     "output_type": "stream",
     "text": [
      "Processing files:  31%|███▏      | 6215/19777 [05:20<12:06, 18.66it/s]"
     ]
    },
    {
     "name": "stdout",
     "output_type": "stream",
     "text": [
      "✓ Processed: 0014_000785.wav\n",
      "✓ Processed: 0014_000786.wav\n",
      "✓ Processed: 0014_000787.wav\n",
      "✓ Processed: 0014_000788.wav\n",
      "✓ Processed: 0014_000790.wav\n"
     ]
    },
    {
     "name": "stderr",
     "output_type": "stream",
     "text": [
      "Processing files:  31%|███▏      | 6220/19777 [05:21<12:11, 18.53it/s]"
     ]
    },
    {
     "name": "stdout",
     "output_type": "stream",
     "text": [
      "✓ Processed: 0014_000791.wav\n",
      "✓ Processed: 0014_000792.wav\n",
      "✓ Processed: 0014_000793.wav\n",
      "✓ Processed: 0014_000795.wav\n"
     ]
    },
    {
     "name": "stderr",
     "output_type": "stream",
     "text": [
      "Processing files:  31%|███▏      | 6224/19777 [05:21<12:23, 18.23it/s]"
     ]
    },
    {
     "name": "stdout",
     "output_type": "stream",
     "text": [
      "✓ Processed: 0014_000796.wav\n",
      "✓ Processed: 0014_000799.wav\n",
      "✓ Processed: 0014_000801.wav\n",
      "✓ Processed: 0014_000804.wav\n"
     ]
    },
    {
     "name": "stderr",
     "output_type": "stream",
     "text": [
      "Processing files:  31%|███▏      | 6228/19777 [05:21<12:00, 18.80it/s]"
     ]
    },
    {
     "name": "stdout",
     "output_type": "stream",
     "text": [
      "✓ Processed: 0014_000806.wav\n",
      "✓ Processed: 0014_000807.wav\n",
      "✓ Processed: 0014_000811.wav\n",
      "✓ Processed: 0014_000812.wav\n"
     ]
    },
    {
     "name": "stderr",
     "output_type": "stream",
     "text": [
      "Processing files:  32%|███▏      | 6234/19777 [05:21<12:06, 18.65it/s]"
     ]
    },
    {
     "name": "stdout",
     "output_type": "stream",
     "text": [
      "✓ Processed: 0014_000815.wav\n",
      "✓ Processed: 0014_000821.wav\n",
      "✓ Processed: 0014_000823.wav\n",
      "✓ Processed: 0014_000824.wav\n"
     ]
    },
    {
     "name": "stderr",
     "output_type": "stream",
     "text": [
      "Processing files:  32%|███▏      | 6236/19777 [05:22<12:08, 18.59it/s]"
     ]
    },
    {
     "name": "stdout",
     "output_type": "stream",
     "text": [
      "✓ Processed: 0014_000825.wav\n",
      "✓ Processed: 0014_000827.wav\n",
      "✓ Processed: 0014_000829.wav\n",
      "✓ Processed: 0014_000831.wav\n"
     ]
    },
    {
     "name": "stderr",
     "output_type": "stream",
     "text": [
      "Processing files:  32%|███▏      | 6240/19777 [05:22<12:16, 18.38it/s]"
     ]
    },
    {
     "name": "stdout",
     "output_type": "stream",
     "text": [
      "✓ Processed: 0014_000833.wav\n",
      "✓ Processed: 0014_000835.wav\n",
      "✓ Processed: 0014_000836.wav\n",
      "✓ Processed: 0014_000837.wav\n",
      "✓ Processed: 0014_000841.wav\n"
     ]
    },
    {
     "name": "stderr",
     "output_type": "stream",
     "text": [
      "Processing files:  32%|███▏      | 6245/19777 [05:22<12:01, 18.75it/s]"
     ]
    },
    {
     "name": "stdout",
     "output_type": "stream",
     "text": [
      "✓ Processed: 0014_000842.wav\n",
      "✓ Processed: 0014_000843.wav\n",
      "✓ Processed: 0014_000847.wav\n"
     ]
    },
    {
     "name": "stderr",
     "output_type": "stream",
     "text": [
      "Processing files:  32%|███▏      | 6249/19777 [05:22<14:13, 15.86it/s]"
     ]
    },
    {
     "name": "stdout",
     "output_type": "stream",
     "text": [
      "✓ Processed: 0014_000848.wav\n",
      "✓ Processed: 0014_000849.wav\n",
      "✓ Processed: 0014_000853.wav\n",
      "✓ Processed: 0014_000854.wav\n"
     ]
    },
    {
     "name": "stderr",
     "output_type": "stream",
     "text": [
      "Processing files:  32%|███▏      | 6253/19777 [05:23<12:50, 17.56it/s]"
     ]
    },
    {
     "name": "stdout",
     "output_type": "stream",
     "text": [
      "✓ Processed: 0014_000855.wav\n",
      "✓ Processed: 0014_000856.wav\n",
      "✓ Processed: 0014_000857.wav\n",
      "✓ Processed: 0014_000858.wav\n"
     ]
    },
    {
     "name": "stderr",
     "output_type": "stream",
     "text": [
      "Processing files:  32%|███▏      | 6257/19777 [05:23<12:33, 17.95it/s]"
     ]
    },
    {
     "name": "stdout",
     "output_type": "stream",
     "text": [
      "✓ Processed: 0014_000861.wav\n",
      "✓ Processed: 0014_000862.wav\n",
      "✓ Processed: 0014_000863.wav\n",
      "✓ Processed: 0014_000864.wav\n"
     ]
    },
    {
     "name": "stderr",
     "output_type": "stream",
     "text": [
      "Processing files:  32%|███▏      | 6261/19777 [05:23<12:14, 18.40it/s]"
     ]
    },
    {
     "name": "stdout",
     "output_type": "stream",
     "text": [
      "✓ Processed: 0014_000867.wav\n",
      "✓ Processed: 0014_000870.wav\n",
      "✓ Processed: 0014_000872.wav\n",
      "✓ Processed: 0014_000873.wav\n"
     ]
    },
    {
     "name": "stderr",
     "output_type": "stream",
     "text": [
      "Processing files:  32%|███▏      | 6265/19777 [05:23<12:08, 18.55it/s]"
     ]
    },
    {
     "name": "stdout",
     "output_type": "stream",
     "text": [
      "✓ Processed: 0014_000874.wav\n",
      "✓ Processed: 0014_000878.wav\n",
      "✓ Processed: 0014_000879.wav\n",
      "✓ Processed: 0014_000882.wav\n"
     ]
    },
    {
     "name": "stderr",
     "output_type": "stream",
     "text": [
      "Processing files:  32%|███▏      | 6269/19777 [05:23<11:57, 18.82it/s]"
     ]
    },
    {
     "name": "stdout",
     "output_type": "stream",
     "text": [
      "✓ Processed: 0014_000883.wav\n",
      "✓ Processed: 0014_000884.wav\n",
      "✓ Processed: 0014_000886.wav\n",
      "✓ Processed: 0014_000887.wav\n"
     ]
    },
    {
     "name": "stderr",
     "output_type": "stream",
     "text": [
      "Processing files:  32%|███▏      | 6271/19777 [05:24<12:12, 18.44it/s]"
     ]
    },
    {
     "name": "stdout",
     "output_type": "stream",
     "text": [
      "✓ Processed: 0014_000890.wav\n",
      "✓ Processed: 0014_000895.wav\n",
      "✓ Processed: 0014_000896.wav\n"
     ]
    },
    {
     "name": "stderr",
     "output_type": "stream",
     "text": [
      "Processing files:  32%|███▏      | 6275/19777 [05:24<13:04, 17.22it/s]"
     ]
    },
    {
     "name": "stdout",
     "output_type": "stream",
     "text": [
      "✓ Processed: 0014_000897.wav\n",
      "✓ Processed: 0014_000898.wav\n",
      "✓ Processed: 0014_000899.wav\n",
      "✓ Processed: 0014_000900.wav\n"
     ]
    },
    {
     "name": "stderr",
     "output_type": "stream",
     "text": [
      "Processing files:  32%|███▏      | 6279/19777 [05:24<12:29, 18.00it/s]"
     ]
    },
    {
     "name": "stdout",
     "output_type": "stream",
     "text": [
      "✓ Processed: 0014_000901.wav\n",
      "✓ Processed: 0014_000903.wav\n",
      "✓ Processed: 0014_000904.wav\n",
      "✓ Processed: 0014_000905.wav\n"
     ]
    },
    {
     "name": "stderr",
     "output_type": "stream",
     "text": [
      "Processing files:  32%|███▏      | 6284/19777 [05:24<11:39, 19.28it/s]"
     ]
    },
    {
     "name": "stdout",
     "output_type": "stream",
     "text": [
      "✓ Processed: 0014_000907.wav\n",
      "✓ Processed: 0014_000909.wav\n",
      "✓ Processed: 0014_000911.wav\n",
      "✓ Processed: 0014_000912.wav\n",
      "✓ Processed: 0014_000913.wav\n"
     ]
    },
    {
     "name": "stderr",
     "output_type": "stream",
     "text": [
      "Processing files:  32%|███▏      | 6289/19777 [05:25<11:30, 19.52it/s]"
     ]
    },
    {
     "name": "stdout",
     "output_type": "stream",
     "text": [
      "✓ Processed: 0014_000915.wav\n",
      "✓ Processed: 0014_000916.wav\n",
      "✓ Processed: 0014_000917.wav\n",
      "✓ Processed: 0014_000918.wav\n",
      "✓ Processed: 0014_000920.wav\n"
     ]
    },
    {
     "name": "stderr",
     "output_type": "stream",
     "text": [
      "Processing files:  32%|███▏      | 6294/19777 [05:25<11:41, 19.23it/s]"
     ]
    },
    {
     "name": "stdout",
     "output_type": "stream",
     "text": [
      "✓ Processed: 0014_000922.wav\n",
      "✓ Processed: 0014_000924.wav\n",
      "✓ Processed: 0014_000925.wav\n",
      "✓ Processed: 0014_000926.wav\n"
     ]
    },
    {
     "name": "stderr",
     "output_type": "stream",
     "text": [
      "Processing files:  32%|███▏      | 6298/19777 [05:25<12:07, 18.52it/s]"
     ]
    },
    {
     "name": "stdout",
     "output_type": "stream",
     "text": [
      "✓ Processed: 0014_000927.wav\n",
      "✓ Processed: 0014_000929.wav\n",
      "✓ Processed: 0014_000931.wav\n",
      "✓ Processed: 0014_000933.wav\n",
      "✓ Processed: 0014_000936.wav\n"
     ]
    },
    {
     "name": "stderr",
     "output_type": "stream",
     "text": [
      "Processing files:  32%|███▏      | 6304/19777 [05:25<12:00, 18.71it/s]"
     ]
    },
    {
     "name": "stdout",
     "output_type": "stream",
     "text": [
      "✓ Processed: 0014_000938.wav\n",
      "✓ Processed: 0014_000940.wav\n",
      "✓ Processed: 0014_000942.wav\n",
      "✓ Processed: 0014_000943.wav\n"
     ]
    },
    {
     "name": "stderr",
     "output_type": "stream",
     "text": [
      "Processing files:  32%|███▏      | 6306/19777 [05:25<12:05, 18.58it/s]"
     ]
    },
    {
     "name": "stdout",
     "output_type": "stream",
     "text": [
      "✓ Processed: 0014_000947.wav\n",
      "✓ Processed: 0014_000948.wav\n",
      "✓ Processed: 0014_000953.wav\n",
      "✓ Processed: 0014_000955.wav\n"
     ]
    },
    {
     "name": "stderr",
     "output_type": "stream",
     "text": [
      "Processing files:  32%|███▏      | 6311/19777 [05:26<11:47, 19.03it/s]"
     ]
    },
    {
     "name": "stdout",
     "output_type": "stream",
     "text": [
      "✓ Processed: 0014_000956.wav\n",
      "✓ Processed: 0014_000958.wav\n",
      "✓ Processed: 0014_000960.wav\n",
      "✓ Processed: 0014_000961.wav\n",
      "✓ Processed: 0014_000965.wav\n"
     ]
    },
    {
     "name": "stderr",
     "output_type": "stream",
     "text": [
      "Processing files:  32%|███▏      | 6316/19777 [05:26<11:41, 19.19it/s]"
     ]
    },
    {
     "name": "stdout",
     "output_type": "stream",
     "text": [
      "✓ Processed: 0014_000966.wav\n",
      "✓ Processed: 0014_000967.wav\n",
      "✓ Processed: 0014_000968.wav\n",
      "✓ Processed: 0014_000971.wav\n"
     ]
    },
    {
     "name": "stderr",
     "output_type": "stream",
     "text": [
      "Processing files:  32%|███▏      | 6320/19777 [05:26<11:43, 19.12it/s]"
     ]
    },
    {
     "name": "stdout",
     "output_type": "stream",
     "text": [
      "✓ Processed: 0014_000974.wav\n",
      "✓ Processed: 0014_000977.wav\n",
      "✓ Processed: 0014_000978.wav\n",
      "✓ Processed: 0014_000980.wav\n"
     ]
    },
    {
     "name": "stderr",
     "output_type": "stream",
     "text": [
      "Processing files:  32%|███▏      | 6323/19777 [05:26<11:36, 19.32it/s]"
     ]
    },
    {
     "name": "stdout",
     "output_type": "stream",
     "text": [
      "✓ Processed: 0014_000981.wav\n",
      "✓ Processed: 0014_000982.wav\n",
      "✓ Processed: 0014_000986.wav\n",
      "✓ Processed: 0014_000988.wav\n"
     ]
    },
    {
     "name": "stderr",
     "output_type": "stream",
     "text": [
      "Processing files:  32%|███▏      | 6329/19777 [05:27<11:35, 19.34it/s]"
     ]
    },
    {
     "name": "stdout",
     "output_type": "stream",
     "text": [
      "✓ Processed: 0014_000990.wav\n",
      "✓ Processed: 0014_000991.wav\n",
      "✓ Processed: 0014_000992.wav\n",
      "✓ Processed: 0014_000994.wav\n"
     ]
    },
    {
     "name": "stderr",
     "output_type": "stream",
     "text": [
      "Processing files:  32%|███▏      | 6331/19777 [05:27<11:29, 19.51it/s]"
     ]
    },
    {
     "name": "stdout",
     "output_type": "stream",
     "text": [
      "✓ Processed: 0014_000995.wav\n",
      "✓ Processed: 0014_000996.wav\n",
      "✓ Processed: 0014_000997.wav\n",
      "✓ Processed: 0014_001000.wav\n",
      "✓ Processed: 0014_001001.wav\n"
     ]
    },
    {
     "name": "stderr",
     "output_type": "stream",
     "text": [
      "Processing files:  32%|███▏      | 6336/19777 [05:27<11:41, 19.16it/s]"
     ]
    },
    {
     "name": "stdout",
     "output_type": "stream",
     "text": [
      "✓ Processed: 0014_001002.wav\n",
      "✓ Processed: 0014_001004.wav\n",
      "✓ Processed: 0014_001005.wav\n",
      "✓ Processed: 0014_001006.wav\n",
      "\n",
      "Processing interrupted by user.\n"
     ]
    },
    {
     "name": "stderr",
     "output_type": "stream",
     "text": [
      "Processing files:  32%|███▏      | 6337/19777 [05:40<11:41, 19.16it/s]"
     ]
    }
   ],
   "source": [
    "import os\n",
    "import numpy as np\n",
    "import librosa\n",
    "import soundfile as sf\n",
    "from typing import Tuple, List\n",
    "from pathlib import Path\n",
    "from tqdm import tqdm\n",
    "from scipy.signal import butter, filtfilt  # Thêm thư viện cho lọc nhiễu\n",
    "\n",
    "class AudioPreprocessor:\n",
    "    def __init__(self, \n",
    "                 target_sr: int = 16000,\n",
    "                 target_duration: float = 3.0,\n",
    "                 target_dbfs: float = -20):\n",
    "        self.target_sr = target_sr\n",
    "        self.target_duration = target_duration\n",
    "        self.target_dbfs = target_dbfs\n",
    "        \n",
    "    def load_audio(self, file_path: str) -> Tuple[np.ndarray, int]:\n",
    "        \"\"\"Load and standardize audio format\"\"\"\n",
    "        # Load audio with target sample rate and convert to mono\n",
    "        audio, sr = librosa.load(file_path, sr=self.target_sr, mono=True)\n",
    "        return audio, sr\n",
    "    \n",
    "    def butter_highpass(self, cutoff, fs, order=5):\n",
    "        \"\"\"Thiết kế bộ lọc highpass\"\"\"\n",
    "        nyq = 0.5 * fs\n",
    "        normal_cutoff = cutoff / nyq\n",
    "        b, a = butter(order, normal_cutoff, btype='high', analog=False)\n",
    "        return b, a\n",
    "\n",
    "    def reduce_noise(self, audio: np.ndarray) -> np.ndarray:\n",
    "        \"\"\"Loại bỏ nhiễu và khoảng lặng\"\"\"\n",
    "        # Cắt khoảng lặng\n",
    "        audio_trimmed, _ = librosa.effects.trim(audio, top_db=20)\n",
    "        \n",
    "        # Lọc tần số thấp sử dụng bộ lọc Butterworth\n",
    "        b, a = self.butter_highpass(cutoff=20, fs=self.target_sr)\n",
    "        audio_filtered = filtfilt(b, a, audio_trimmed)\n",
    "        \n",
    "        return audio_filtered\n",
    "    \n",
    "    def normalize_duration(self, audio: np.ndarray) -> np.ndarray:\n",
    "        \"\"\"chuẩn hóa độ dài\"\"\"\n",
    "        target_length = int(self.target_sr * self.target_duration)\n",
    "        \n",
    "        if len(audio) > target_length:\n",
    "            # Cắt bớt\n",
    "            audio = audio[:target_length]\n",
    "        else:\n",
    "            # Thêm 0\n",
    "            padding = target_length - len(audio)\n",
    "            audio = np.pad(audio, (0, padding), mode='constant')\n",
    "            \n",
    "        return audio\n",
    "    \n",
    "    def normalize_amplitude(self, audio: np.ndarray) -> np.ndarray:\n",
    "        \"\"\"Chuẩn hóa biên độ về [-1,1]\"\"\"\n",
    "        audio = audio / np.max(np.abs(audio))\n",
    "        return audio\n",
    "    \n",
    "    def augment_audio(self, audio: np.ndarray) -> List[np.ndarray]:\n",
    "        \"\"\"Tạo dữ liệu tăng cường\"\"\"\n",
    "        augmented = []\n",
    "        \n",
    "        # Thay đổi tốc độ\n",
    "        audio_stretch = librosa.effects.time_stretch(audio, rate=0.9)\n",
    "        augmented.append(audio_stretch)\n",
    "        \n",
    "        # Thay đổi cao độ\n",
    "        audio_pitch = librosa.effects.pitch_shift(\n",
    "            audio,\n",
    "            sr=self.target_sr,\n",
    "            n_steps=2)\n",
    "        augmented.append(audio_pitch)\n",
    "        \n",
    "        return augmented\n",
    "    \n",
    "    def process_file(self, file_path: str, output_dir: str, augment: bool = False):\n",
    "        \"\"\"Xử lý một file âm thanh\"\"\"\n",
    "        # Lấy tên file \n",
    "        filename = os.path.basename(file_path)\n",
    "        \n",
    "        # Nạp âm thanh\n",
    "        audio, sr = self.load_audio(file_path)\n",
    "        \n",
    "        # Áp dụng các bước xử lý \n",
    "        audio = self.reduce_noise(audio)\n",
    "        audio = self.normalize_duration(audio)\n",
    "        audio = self.normalize_amplitude(audio)\n",
    "        \n",
    "        # Lưu file đã xử lý\n",
    "        output_path = os.path.join(output_dir, f\"processed_{filename}\")\n",
    "        sf.write(output_path, audio, sr)\n",
    "        \n",
    "        # Tạo dữ liệu tăng cường nếu cần \n",
    "        if augment:\n",
    "            augmented = self.augment_audio(audio)\n",
    "            for i, aug_audio in enumerate(augmented):\n",
    "                aug_path = os.path.join(output_dir, f\"aug{i+1}_{filename}\")\n",
    "                sf.write(aug_path, aug_audio, sr)\n",
    "\n",
    "    def process_directory(self, input_base_dir: str, output_base_dir: str, augment: bool = True):\n",
    "        \"\"\"Process all audio files in the emotion directories\"\"\"\n",
    "        # Create output base directory\n",
    "        os.makedirs(output_base_dir, exist_ok=True)\n",
    "        \n",
    "        # Get list of emotion folders from filesystem\n",
    "        emotion_dirs = ['angry', 'happy', 'neutral', 'sad', 'surprise', 'fear', 'disgust']\n",
    "        \n",
    "        #count total files for progress tracking \n",
    "        total_files = 0\n",
    "        for emotion in emotion_dirs:\n",
    "            input_dir = os.path.join(input_base_dir, emotion)\n",
    "            if os.path.exists(input_dir):\n",
    "                files = [f for f in os.listdir(input_dir) if f.endswith(('.wav', '.mp3'))]\n",
    "                total_files += len(files)\n",
    "            \n",
    "        print(f\"Total files to process: {total_files}\")\n",
    "\n",
    "        #Initialize processed bar\n",
    "        pbar = tqdm(total=total_files, desc=\"Processing files\")\n",
    "        for emotion in emotion_dirs:\n",
    "            input_dir = os.path.join(input_base_dir, emotion)\n",
    "            output_dir = os.path.join(output_base_dir, emotion)\n",
    "            \n",
    "            # Skip if emotion folder doesn't exist\n",
    "            if not os.path.exists(input_dir):\n",
    "                print(f\"Skipping {emotion} - directory not found\")\n",
    "                continue\n",
    "                \n",
    "            # Create output directory for this emotion\n",
    "            os.makedirs(output_dir, exist_ok=True)\n",
    "            \n",
    "            # Process each file in the emotion directory\n",
    "            files = [f for f in os.listdir(input_dir) if f.endswith(('.wav', '.mp3'))]\n",
    "            \n",
    "            print(f\"\\nProcessing {emotion} files: {len(files)} files found\")\n",
    "            for file in files:\n",
    "                try:\n",
    "                    input_path = os.path.join(input_dir, file)\n",
    "                    self.process_file(input_path, output_dir, augment=augment)\n",
    "                    pbar.update(1)\n",
    "                    print(f\"✓ Processed: {file}\")\n",
    "                except Exception as e:\n",
    "                    print(f\"✗ Error processing {file}: {str(e)}\")\n",
    "                    continue\n",
    "        pbar.close()\n",
    "\n",
    "if __name__ == \"__main__\":\n",
    "    # Install required package if not present \n",
    "\n",
    "    try:\n",
    "        from tqdm import tqdm\n",
    "    except ImportError:\n",
    "        import pip\n",
    "        pip.main(['install', 'tqdm'])\n",
    "        from tqdm import tqdm\n",
    "\n",
    "    # Khởi tạo đường dẫn \n",
    "    project_root = \"D:\\\\filebailam\\\\CD3_Giongnoi\\\\code_speech\"\n",
    "    \n",
    "    # Setup input/output directories\n",
    "    input_dir = os.path.join(project_root, \"data\", \"Emotion\")\n",
    "    output_dir = os.path.join(project_root, \"data\", \"processed\")\n",
    "    \n",
    "    print(f\"Input directory: {input_dir}\")\n",
    "    print(f\"Output directory: {output_dir}\")\n",
    "    \n",
    "\n",
    "    try:\n",
    "        # Initialize preprocessor\n",
    "        preprocessor = AudioPreprocessor(\n",
    "            target_sr=16000,      # 16kHz sample rate\n",
    "            target_duration=3.0,   # 3 seconds duration\n",
    "            target_dbfs=-20       # -20 dBFS target level\n",
    "        )\n",
    "        \n",
    "        # Process all files\n",
    "        preprocessor.process_directory(input_dir, output_dir, augment=True)\n",
    "        print(\"\\nProcessing complete!\")\n",
    "    except KeyboardInterrupt:\n",
    "        print(\"\\nProcessing interrupted by user.\")\n",
    "    except Exception as e:\n",
    "        print(f\"\\nAn error occurred: {str(e)}\")"
   ]
  },
  {
   "cell_type": "code",
   "execution_count": null,
   "id": "4b63cf1e",
   "metadata": {},
   "outputs": [],
   "source": [
    "## thử nghiệm quy trình "
   ]
  }
 ],
 "metadata": {
  "kernelspec": {
   "display_name": "Python 3",
   "language": "python",
   "name": "python3"
  },
  "language_info": {
   "codemirror_mode": {
    "name": "ipython",
    "version": 3
   },
   "file_extension": ".py",
   "mimetype": "text/x-python",
   "name": "python",
   "nbconvert_exporter": "python",
   "pygments_lexer": "ipython3",
   "version": "3.11.9"
  }
 },
 "nbformat": 4,
 "nbformat_minor": 5
}
